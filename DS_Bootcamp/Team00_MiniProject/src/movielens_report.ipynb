{
 "cells": [
  {
   "cell_type": "code",
   "execution_count": 2,
   "id": "701b0eaa",
   "metadata": {},
   "outputs": [
    {
     "name": "stdout",
     "output_type": "stream",
     "text": [
      "Shape 'links_subset.csv': (1000, 3)\n"
     ]
    }
   ],
   "source": [
    "from movielens_analysis import Links\n",
    "import itertools\n",
    "\n",
    "with open(\"data/links.csv\", \"r\", encoding=\"utf-8\") as f:\n",
    "    header = next(f)\n",
    "    links_first_1000 = list(itertools.islice(f, 1000))\n",
    "\n",
    "with open(\"data/links_subset.csv\", \"w\", encoding=\"utf-8\") as f:\n",
    "    f.write(header)\n",
    "    f.writelines(links_first_1000)\n",
    "\n",
    "links = Links(\"data/links_subset.csv\")\n",
    "\n",
    "rows, cols = len(links.links), len(links.links[0])\n",
    "print(f\"Shape 'links_subset.csv': ({rows}, {cols})\")"
   ]
  },
  {
   "cell_type": "code",
   "execution_count": 3,
   "id": "f02d8d94",
   "metadata": {},
   "outputs": [
    {
     "data": {
      "text/plain": [
       "[[5, 'Father of the Bride Part II', '1995', 106, 6.1],\n",
       " [4, 'Waiting to Exhale', '1995', 124, 6],\n",
       " [3, 'Grumpier Old Men', '1995', 101, 6.7],\n",
       " [2, 'Jumanji', '1995', 104, 7.1],\n",
       " [1, 'Toy Story', '1995', 81, 8.3]]"
      ]
     },
     "execution_count": 3,
     "metadata": {},
     "output_type": "execute_result"
    }
   ],
   "source": [
    "movie_ids=[1, 2, 3, 4, 5]\n",
    "fields=[\"Title\", \"Year\", \"Runtime\", \"imdbRating\"]\n",
    "imdb_data = links.get_imdb(movie_ids, fields)\n",
    "imdb_data"
   ]
  },
  {
   "cell_type": "code",
   "execution_count": 4,
   "id": "2b90119f",
   "metadata": {},
   "outputs": [
    {
     "name": "stdout",
     "output_type": "stream",
     "text": [
      "6.12 s ± 568 ms per loop (mean ± std. dev. of 7 runs, 1 loop each)\n"
     ]
    }
   ],
   "source": [
    "%timeit links.get_imdb(movie_ids, fields)"
   ]
  },
  {
   "cell_type": "code",
   "execution_count": 5,
   "id": "b82dd37c",
   "metadata": {},
   "outputs": [
    {
     "name": "stdout",
     "output_type": "stream",
     "text": [
      "[5, 'Father of the Bride Part II', '1995', 106, 6.1]\n",
      "[4, 'Waiting to Exhale', '1995', 124, 6]\n",
      "[3, 'Grumpier Old Men', '1995', 101, 6.7]\n",
      "[2, 'Jumanji', '1995', 104, 7.1]\n",
      "[1, 'Toy Story', '1995', 81, 8.3]\n"
     ]
    }
   ],
   "source": [
    "for row in imdb_data:\n",
    "    print(row)"
   ]
  },
  {
   "cell_type": "code",
   "execution_count": 8,
   "id": "769384bd",
   "metadata": {},
   "outputs": [],
   "source": [
    "limit=10\n",
    "top_directors_data = links.top_directors(n=10, limit=limit)"
   ]
  },
  {
   "cell_type": "code",
   "execution_count": 9,
   "id": "91c55834",
   "metadata": {},
   "outputs": [
    {
     "name": "stdout",
     "output_type": "stream",
     "text": [
      "13.3 s ± 1.54 s per loop (mean ± std. dev. of 2 runs, 1 loop each)\n"
     ]
    }
   ],
   "source": [
    "%timeit -r 2 links.top_directors(n=10, limit=limit)"
   ]
  },
  {
   "cell_type": "code",
   "execution_count": null,
   "id": "c665e0f0",
   "metadata": {},
   "outputs": [
    {
     "name": "stdout",
     "output_type": "stream",
     "text": [
      "Martin Scorsese: 2\n",
      "Robert Rodriguez: 2\n",
      "John Lasseter: 1\n",
      "Joe Johnston: 1\n",
      "Howard Deutch: 1\n",
      "Forest Whitaker: 1\n",
      "Charles Shyer: 1\n",
      "Michael Mann: 1\n",
      "Sydney Pollack: 1\n",
      "Peter Hewitt: 1\n"
     ]
    }
   ],
   "source": [
    "for name, count in top_directors_data.items():\n",
    "    print(f\"{name}: {count}\")"
   ]
  },
  {
   "cell_type": "code",
   "execution_count": null,
   "id": "d6b6920b",
   "metadata": {},
   "outputs": [],
   "source": [
    "limit=100\n",
    "most_expensive_data = links.most_expensive(n=10, limit=limit)"
   ]
  },
  {
   "cell_type": "code",
   "execution_count": null,
   "id": "57bce429",
   "metadata": {},
   "outputs": [
    {
     "name": "stdout",
     "output_type": "stream",
     "text": [
      "2min 57s ± 22.7 s per loop (mean ± std. dev. of 2 runs, 1 loop each)\n"
     ]
    }
   ],
   "source": [
    "%timeit -r 2 links.most_expensive(n=10, limit=limit)"
   ]
  },
  {
   "cell_type": "code",
   "execution_count": null,
   "id": "abddae93",
   "metadata": {},
   "outputs": [
    {
     "name": "stdout",
     "output_type": "stream",
     "text": [
      "Cutthroat Island: $98,000,000\n",
      "Braveheart: $72,000,000\n",
      "Money Train: $68,000,000\n",
      "Jumanji: $65,000,000\n",
      "The American President: $62,000,000\n",
      "Heat: $60,000,000\n",
      "GoldenEye: $60,000,000\n",
      "Sabrina: $58,000,000\n",
      "Pocahontas: $55,000,000\n",
      "Casino: $52,000,000\n"
     ]
    }
   ],
   "source": [
    "for title, budget in most_expensive_data.items():\n",
    "    print(f\"{title}: ${budget:,}\")"
   ]
  },
  {
   "cell_type": "code",
   "execution_count": null,
   "id": "a2d4b286",
   "metadata": {},
   "outputs": [],
   "source": [
    "limit=100\n",
    "most_profitable_data = links.most_profitable(n=10, limit=limit)"
   ]
  },
  {
   "cell_type": "code",
   "execution_count": null,
   "id": "808424ed",
   "metadata": {},
   "outputs": [
    {
     "name": "stdout",
     "output_type": "stream",
     "text": [
      "2min 26s ± 457 ms per loop (mean ± std. dev. of 2 runs, 1 loop each)\n"
     ]
    }
   ],
   "source": [
    "%timeit -r 2 links.most_profitable(n=10, limit=limit)"
   ]
  },
  {
   "cell_type": "code",
   "execution_count": null,
   "id": "42b170d5",
   "metadata": {},
   "outputs": [
    {
     "name": "stdout",
     "output_type": "stream",
     "text": [
      "Toy Story: $364,436,586\n",
      "Se7en: $295,981,827\n",
      "GoldenEye: $292,194,034\n",
      "Pocahontas: $291,079,773\n",
      "Babe: $224,134,910\n",
      "Jumanji: $197,821,940\n",
      "Ace Ventura: When Nature Calls: $182,385,533\n",
      "The Bridges of Madison County: $158,016,617\n",
      "Keiner liebt mich: $158,016,617\n",
      "Dangerous Minds: $156,519,401\n"
     ]
    }
   ],
   "source": [
    "for title, profit in most_profitable_data.items():\n",
    "    print(f\"{title}: ${profit:,}\")"
   ]
  },
  {
   "cell_type": "code",
   "execution_count": null,
   "id": "739c44bb",
   "metadata": {},
   "outputs": [],
   "source": [
    "limit=100\n",
    "longest_data = links.longest(n=10, limit=limit)"
   ]
  },
  {
   "cell_type": "code",
   "execution_count": null,
   "id": "6d2ebe34",
   "metadata": {},
   "outputs": [
    {
     "name": "stdout",
     "output_type": "stream",
     "text": [
      "Uvays Bakoev\n",
      "3min 1s ± 22.9 s per loop (mean ± std. dev. of 2 runs, 1 loop each)\n"
     ]
    }
   ],
   "source": [
    "%timeit -r 2 links.longest(n=10, limit=limit)"
   ]
  },
  {
   "cell_type": "code",
   "execution_count": null,
   "id": "a27f5518",
   "metadata": {},
   "outputs": [
    {
     "name": "stdout",
     "output_type": "stream",
     "text": [
      "Nixon: 192\n",
      "Casino: 178\n",
      "Braveheart: 178\n",
      "Les misérables: 175\n",
      "Heat: 170\n",
      "Mr. Holland&apos;s Opus: 144\n",
      "Sense and Sensibility: 136\n",
      "The Bridges of Madison County: 135\n",
      "Assassins: 133\n",
      "GoldenEye: 130\n"
     ]
    }
   ],
   "source": [
    "for title, runtime in longest_data.items():\n",
    "    print(f\"{title}: {runtime}\")"
   ]
  },
  {
   "cell_type": "code",
   "execution_count": null,
   "id": "c5037f79",
   "metadata": {},
   "outputs": [],
   "source": [
    "limit = 100\n",
    "top_cost_per_minute_data = links.top_cost_per_minute(n=10, limit=limit)"
   ]
  },
  {
   "cell_type": "code",
   "execution_count": null,
   "id": "9fd5fad1",
   "metadata": {},
   "outputs": [
    {
     "name": "stdout",
     "output_type": "stream",
     "text": [
      "2min 40s ± 5.24 s per loop (mean ± std. dev. of 2 runs, 1 loop each)\n"
     ]
    }
   ],
   "source": [
    "%timeit -r 2 links.top_cost_per_minute(n=10, limit=limit)"
   ]
  },
  {
   "cell_type": "code",
   "execution_count": null,
   "id": "16d39efa",
   "metadata": {},
   "outputs": [
    {
     "name": "stdout",
     "output_type": "stream",
     "text": [
      "Cutthroat Island: $790,322.58\n",
      "Pocahontas: $679,012.35\n",
      "Jumanji: $625,000.00\n",
      "Money Train: $618,181.82\n",
      "Fair Game: $549,450.55\n",
      "The American President: $543,859.65\n",
      "The Indian in the Cupboard: $468,750.00\n",
      "Broken Arrow: $462,962.96\n",
      "GoldenEye: $461,538.46\n",
      "Sabrina: $456,692.91\n"
     ]
    }
   ],
   "source": [
    "for title, cost in top_cost_per_minute_data.items():\n",
    "    print(f\"{title}: ${cost:,.2f}\")"
   ]
  },
  {
   "cell_type": "code",
   "execution_count": null,
   "id": "b405fdab",
   "metadata": {},
   "outputs": [
    {
     "name": "stdout",
     "output_type": "stream",
     "text": [
      "Shape 'movies_subset.csv': (1000, 3)\n"
     ]
    }
   ],
   "source": [
    "from movielens_analysis import Movies\n",
    "import itertools\n",
    "\n",
    "with open(\"data/movies.csv\", \"r\", encoding=\"utf-8\") as f:\n",
    "    header = next(f)\n",
    "    movies_first_1000 = list(itertools.islice(f, 1000))\n",
    "\n",
    "with open(\"data/movies_subset.csv\", \"w\", encoding=\"utf-8\") as f:\n",
    "    f.write(header)\n",
    "    f.writelines(movies_first_1000)\n",
    "\n",
    "movies = Movies(\"data/movies_subset.csv\")\n",
    "\n",
    "rows, cols = len(movies.movies), len(movies.movies[0])\n",
    "print(f\"Shape 'movies_subset.csv': ({rows}, {cols})\")"
   ]
  },
  {
   "cell_type": "code",
   "execution_count": null,
   "id": "58e128a8",
   "metadata": {},
   "outputs": [],
   "source": [
    "dist_by_release_data = movies.dist_by_release()"
   ]
  },
  {
   "cell_type": "code",
   "execution_count": null,
   "id": "8ef9b2a5",
   "metadata": {},
   "outputs": [
    {
     "name": "stdout",
     "output_type": "stream",
     "text": [
      "705 μs ± 41.3 μs per loop (mean ± std. dev. of 7 runs, 1,000 loops each)\n"
     ]
    }
   ],
   "source": [
    "%timeit movies.dist_by_release()"
   ]
  },
  {
   "cell_type": "code",
   "execution_count": null,
   "id": "31336a98",
   "metadata": {},
   "outputs": [
    {
     "name": "stdout",
     "output_type": "stream",
     "text": [
      "1995: 224\n",
      "1994: 184\n",
      "1996: 181\n",
      "1993: 101\n",
      "1992: 23\n",
      "1990: 15\n",
      "1991: 15\n",
      "1989: 14\n",
      "1986: 9\n",
      "1982: 8\n"
     ]
    }
   ],
   "source": [
    "for key, value in list(dist_by_release_data.items())[:10]:\n",
    "    print(f\"{key}: {value}\")"
   ]
  },
  {
   "cell_type": "code",
   "execution_count": null,
   "id": "3d13ce3d",
   "metadata": {},
   "outputs": [],
   "source": [
    "dist_by_genres_data = movies.dist_by_genres()"
   ]
  },
  {
   "cell_type": "code",
   "execution_count": null,
   "id": "894b49ed",
   "metadata": {},
   "outputs": [
    {
     "name": "stdout",
     "output_type": "stream",
     "text": [
      "561 μs ± 5.47 μs per loop (mean ± std. dev. of 7 runs, 1,000 loops each)\n"
     ]
    }
   ],
   "source": [
    "%timeit movies.dist_by_genres()"
   ]
  },
  {
   "cell_type": "code",
   "execution_count": null,
   "id": "9dfe61ff",
   "metadata": {},
   "outputs": [
    {
     "name": "stdout",
     "output_type": "stream",
     "text": [
      "Drama: 507\n",
      "Comedy: 365\n",
      "Romance: 208\n",
      "Thriller: 179\n",
      "Action: 158\n",
      "Adventure: 126\n",
      "Crime: 122\n",
      "Children: 100\n",
      "Fantasy: 69\n",
      "Sci-Fi: 69\n"
     ]
    }
   ],
   "source": [
    "for key, value in list(dist_by_genres_data.items())[:10]:\n",
    "    print(f\"{key}: {value}\")"
   ]
  },
  {
   "cell_type": "code",
   "execution_count": null,
   "id": "430e88ba",
   "metadata": {},
   "outputs": [],
   "source": [
    "title_length_distribution = movies.dist_by_title_length()"
   ]
  },
  {
   "cell_type": "code",
   "execution_count": null,
   "id": "797ef714",
   "metadata": {},
   "outputs": [
    {
     "name": "stdout",
     "output_type": "stream",
     "text": [
      "380 μs ± 6.57 μs per loop (mean ± std. dev. of 7 runs, 1,000 loops each)\n"
     ]
    }
   ],
   "source": [
    "%timeit movies.dist_by_title_length()"
   ]
  },
  {
   "cell_type": "code",
   "execution_count": null,
   "id": "22ea4ec4",
   "metadata": {},
   "outputs": [
    {
     "name": "stdout",
     "output_type": "stream",
     "text": [
      "Title Length: 19 - Count: 62\n",
      "Title Length: 23 - Count: 55\n",
      "Title Length: 17 - Count: 54\n",
      "Title Length: 21 - Count: 50\n",
      "Title Length: 16 - Count: 49\n",
      "Title Length: 18 - Count: 44\n",
      "Title Length: 20 - Count: 44\n",
      "Title Length: 24 - Count: 43\n",
      "Title Length: 25 - Count: 43\n",
      "Title Length: 14 - Count: 40\n"
     ]
    }
   ],
   "source": [
    "for length, count in list(title_length_distribution.items())[:10]:\n",
    "    print(f\"Title Length: {length} - Count: {count}\")"
   ]
  },
  {
   "cell_type": "code",
   "execution_count": null,
   "id": "044df793",
   "metadata": {},
   "outputs": [
    {
     "name": "stdout",
     "output_type": "stream",
     "text": [
      "Shape 'ratings_subset.csv': (1000, 4)\n"
     ]
    }
   ],
   "source": [
    "from movielens_analysis import Ratings\n",
    "import itertools\n",
    "\n",
    "with open(\"data/ratings.csv\", \"r\", encoding=\"utf-8\") as f:\n",
    "    header = next(f)\n",
    "    ratings_first_1000 = list(itertools.islice(f, 1000))\n",
    "\n",
    "with open(\"data/ratings_subset.csv\", \"w\", encoding=\"utf-8\") as f:\n",
    "    f.write(header)\n",
    "    f.writelines(ratings_first_1000)\n",
    "\n",
    "ratings = Ratings(\"ratings_subset.csv\")\n",
    "\n",
    "rows, cols = len(ratings.data), len(ratings.data[0])\n",
    "print(f\"Shape 'ratings_subset.csv': ({rows}, {cols})\")"
   ]
  },
  {
   "cell_type": "code",
   "execution_count": null,
   "id": "c3acc866",
   "metadata": {},
   "outputs": [
    {
     "name": "stdout",
     "output_type": "stream",
     "text": [
      "Cutthroat Island (1995)\n",
      "Cutthroat Island (1995)\n",
      "Cutthroat Island (1995)\n",
      "Cutthroat Island (1995)\n",
      "Cutthroat Island (1995)\n",
      "Cutthroat Island (1995)\n",
      "Cutthroat Island (1995)\n",
      "Cutthroat Island (1995)\n",
      "Cutthroat Island (1995)\n",
      "Cutthroat Island (1995)\n",
      "Cutthroat Island (1995)\n",
      "Cutthroat Island (1995)\n",
      "Cutthroat Island (1995)\n"
     ]
    }
   ],
   "source": [
    "target_movie_ids = [15]\n",
    "\n",
    "ratings = Ratings(\"ratings.csv\")\n",
    "movies = Ratings.Movies(ratings, \"data/movies.csv\")\n",
    "\n",
    "for entry in ratings.data:\n",
    "    if entry['movieId'] in target_movie_ids:\n",
    "        movie_id = entry['movieId']\n",
    "        print(movies.movie_titles.get(movie_id, \"Название не найдено\"))\n"
   ]
  },
  {
   "cell_type": "code",
   "execution_count": null,
   "id": "58712316",
   "metadata": {},
   "outputs": [],
   "source": [
    "mean = movies.mean\n",
    "median = movies.median"
   ]
  },
  {
   "cell_type": "code",
   "execution_count": null,
   "id": "c678373e",
   "metadata": {},
   "outputs": [
    {
     "name": "stdout",
     "output_type": "stream",
     "text": [
      "4.53 ms ± 189 μs per loop (mean ± std. dev. of 7 runs, 100 loops each)\n"
     ]
    }
   ],
   "source": [
    "%timeit movies.load_movie_titles(\"data/movies.csv\")"
   ]
  },
  {
   "cell_type": "code",
   "execution_count": null,
   "id": "87ce8501",
   "metadata": {},
   "outputs": [
    {
     "name": "stdout",
     "output_type": "stream",
     "text": [
      "3.5\n"
     ]
    }
   ],
   "source": [
    "values = [2,3,4,5]\n",
    "mean_test = mean(values)\n",
    "print(mean_test)"
   ]
  },
  {
   "cell_type": "code",
   "execution_count": null,
   "id": "cf24c3a3",
   "metadata": {},
   "outputs": [
    {
     "name": "stdout",
     "output_type": "stream",
     "text": [
      "117 ns ± 4.85 ns per loop (mean ± std. dev. of 7 runs, 10,000,000 loops each)\n"
     ]
    }
   ],
   "source": [
    "%timeit movies.mean(values)"
   ]
  },
  {
   "cell_type": "code",
   "execution_count": null,
   "id": "0c4ac914",
   "metadata": {},
   "outputs": [
    {
     "name": "stdout",
     "output_type": "stream",
     "text": [
      "3.5\n"
     ]
    }
   ],
   "source": [
    "median_test = median(values)\n",
    "print(median_test)"
   ]
  },
  {
   "cell_type": "code",
   "execution_count": null,
   "id": "54bde286",
   "metadata": {},
   "outputs": [
    {
     "name": "stdout",
     "output_type": "stream",
     "text": [
      "{1996: 6040, 1997: 1916, 1998: 507, 1999: 2439, 2000: 10061, 2001: 3922, 2002: 3478, 2003: 4014, 2004: 3279, 2005: 5813, 2006: 4059, 2007: 7111, 2008: 4348, 2009: 4163, 2010: 2301, 2011: 1690, 2012: 4657, 2013: 1664, 2014: 1439, 2015: 6616, 2016: 6702, 2017: 8199, 2018: 6418}\n"
     ]
    }
   ],
   "source": [
    "print(movies.dist_by_year())"
   ]
  },
  {
   "cell_type": "code",
   "execution_count": null,
   "id": "ea89f03b",
   "metadata": {},
   "outputs": [
    {
     "name": "stdout",
     "output_type": "stream",
     "text": [
      "33 ns ± 0.391 ns per loop (mean ± std. dev. of 7 runs, 10,000,000 loops each)\n"
     ]
    }
   ],
   "source": [
    "%timeit movies.dist_by_year"
   ]
  },
  {
   "cell_type": "code",
   "execution_count": null,
   "id": "072ff8a5",
   "metadata": {},
   "outputs": [
    {
     "data": {
      "text/plain": [
       "{0.5: 1370,\n",
       " 1.0: 2811,\n",
       " 1.5: 1791,\n",
       " 2.0: 7551,\n",
       " 2.5: 5550,\n",
       " 3.0: 20047,\n",
       " 3.5: 13136,\n",
       " 4.0: 26818,\n",
       " 4.5: 8551,\n",
       " 5.0: 13211}"
      ]
     },
     "execution_count": 68,
     "metadata": {},
     "output_type": "execute_result"
    }
   ],
   "source": [
    "movies.dist_by_rating()"
   ]
  },
  {
   "cell_type": "code",
   "execution_count": null,
   "id": "48b9014b",
   "metadata": {},
   "outputs": [
    {
     "name": "stdout",
     "output_type": "stream",
     "text": [
      "31.4 ns ± 0.264 ns per loop (mean ± std. dev. of 7 runs, 10,000,000 loops each)\n"
     ]
    }
   ],
   "source": [
    "%timeit movies.dist_by_rating"
   ]
  },
  {
   "cell_type": "code",
   "execution_count": null,
   "id": "6a28a3b8",
   "metadata": {},
   "outputs": [
    {
     "data": {
      "text/plain": [
       "{'Forrest Gump (1994)': 329,\n",
       " '\"Shawshank Redemption': 317,\n",
       " 'Pulp Fiction (1994)': 307,\n",
       " '\"Silence of the Lambs': 279,\n",
       " '\"Matrix': 278,\n",
       " 'Star Wars: Episode IV - A New Hope (1977)': 251,\n",
       " 'Jurassic Park (1993)': 238,\n",
       " 'Braveheart (1995)': 237,\n",
       " 'Terminator 2: Judgment Day (1991)': 224,\n",
       " \"Schindler's List (1993)\": 220}"
      ]
     },
     "execution_count": 70,
     "metadata": {},
     "output_type": "execute_result"
    }
   ],
   "source": [
    "movies.top_by_num_of_ratings(10)"
   ]
  },
  {
   "cell_type": "code",
   "execution_count": null,
   "id": "a8871972",
   "metadata": {},
   "outputs": [
    {
     "name": "stdout",
     "output_type": "stream",
     "text": [
      "13.6 ms ± 1.17 ms per loop (mean ± std. dev. of 7 runs, 10 loops each)\n"
     ]
    }
   ],
   "source": [
    "%timeit movies.top_by_num_of_ratings(10)"
   ]
  },
  {
   "cell_type": "code",
   "execution_count": null,
   "id": "9cd10f0a",
   "metadata": {},
   "outputs": [
    {
     "data": {
      "text/plain": [
       "{'The Jinx: The Life and Deaths of Robert Durst (2015)': 5.0,\n",
       " 'Galaxy of Terror (Quest) (1981)': 5.0,\n",
       " 'Alien Contamination (1980)': 5.0,\n",
       " \"I'm the One That I Want (2000)\": 5.0,\n",
       " 'Lesson Faust (1994)': 5.0,\n",
       " '\"Assignment': 5.0,\n",
       " 'Mephisto (1981)': 5.0,\n",
       " 'Black Mirror': 5.0,\n",
       " 'Dylan Moran: Monster (2004)': 5.0,\n",
       " 'Bill Hicks: Revelations (1993)': 5.0}"
      ]
     },
     "execution_count": 72,
     "metadata": {},
     "output_type": "execute_result"
    }
   ],
   "source": [
    "movies.top_by_ratings(10,mean)"
   ]
  },
  {
   "cell_type": "code",
   "execution_count": null,
   "id": "ec7a8525",
   "metadata": {},
   "outputs": [
    {
     "name": "stdout",
     "output_type": "stream",
     "text": [
      "22.2 ms ± 662 μs per loop (mean ± std. dev. of 7 runs, 10 loops each)\n"
     ]
    }
   ],
   "source": [
    "%timeit movies.top_by_ratings(1000,mean)"
   ]
  },
  {
   "cell_type": "code",
   "execution_count": null,
   "id": "6418d8c0",
   "metadata": {},
   "outputs": [
    {
     "data": {
      "text/plain": [
       "{\"Ivan's Childhood (a.k.a. My Name is Ivan) (Ivanovo detstvo) (1962)\": 5.06,\n",
       " 'Fanny and Alexander (Fanny och Alexander) (1982)': 5.06,\n",
       " 'Troll 2 (1990)': 4.5,\n",
       " 'Lassie (1994)': 4.0,\n",
       " '\"Zed & Two Noughts': 4.0,\n",
       " 'Kwaidan (Kaidan) (1964)': 4.0,\n",
       " 'Emma (2009)': 4.0,\n",
       " 'Play Time (a.k.a. Playtime) (1967)': 3.72,\n",
       " '\"Room': 3.56,\n",
       " 'Peeping Tom (1960)': 3.5}"
      ]
     },
     "execution_count": 74,
     "metadata": {},
     "output_type": "execute_result"
    }
   ],
   "source": [
    "movies.top_controversial(10)"
   ]
  },
  {
   "cell_type": "code",
   "execution_count": null,
   "id": "0dd90bc7",
   "metadata": {},
   "outputs": [
    {
     "name": "stdout",
     "output_type": "stream",
     "text": [
      "32 ms ± 979 μs per loop (mean ± std. dev. of 7 runs, 10 loops each)\n"
     ]
    }
   ],
   "source": [
    "%timeit movies.top_controversial(10)"
   ]
  },
  {
   "cell_type": "code",
   "execution_count": null,
   "id": "4058dd0c",
   "metadata": {},
   "outputs": [
    {
     "name": "stdout",
     "output_type": "stream",
     "text": [
      "{20: 14, 21: 15, 22: 14, 23: 13, 24: 7, 25: 9, 26: 13, 27: 8, 28: 8, 29: 8, 30: 3, 31: 7, 32: 7, 33: 10, 34: 9, 35: 11, 36: 9, 37: 6, 38: 7, 39: 4, 40: 6, 41: 4, 42: 5, 43: 3, 44: 3, 45: 6, 46: 5, 47: 4, 48: 7, 50: 7, 51: 5, 52: 2, 53: 4, 54: 3, 55: 2, 56: 14, 57: 4, 58: 5, 59: 3, 60: 2, 61: 5, 62: 2, 63: 1, 64: 5, 65: 4, 66: 2, 67: 2, 68: 1, 69: 5, 70: 2, 71: 1, 72: 2, 73: 2, 74: 2, 75: 3, 76: 3, 77: 3, 78: 3, 80: 1, 81: 2, 82: 2, 83: 3, 84: 3, 85: 1, 86: 2, 87: 3, 88: 2, 89: 2, 90: 1, 92: 1, 93: 4, 94: 4, 95: 1, 97: 3, 98: 3, 100: 3, 101: 1, 102: 2, 103: 3, 105: 1, 106: 2, 107: 2, 108: 1, 109: 1, 110: 2, 111: 2, 112: 4, 113: 3, 114: 2, 115: 2, 118: 2, 119: 2, 120: 1, 121: 2, 122: 1, 123: 2, 126: 1, 127: 3, 128: 4, 129: 2, 130: 1, 131: 2, 133: 1, 134: 1, 135: 3, 138: 3, 139: 1, 140: 4, 141: 4, 148: 1, 150: 3, 152: 4, 154: 1, 155: 3, 156: 1, 157: 1, 161: 1, 163: 1, 164: 2, 165: 2, 167: 3, 168: 3, 173: 1, 174: 1, 176: 1, 177: 1, 179: 1, 180: 1, 181: 1, 185: 1, 186: 1, 187: 2, 188: 1, 189: 1, 190: 1, 191: 1, 194: 1, 196: 1, 200: 1, 201: 1, 202: 2, 204: 1, 207: 1, 208: 1, 210: 2, 213: 1, 215: 1, 216: 2, 217: 1, 221: 1, 223: 1, 226: 2, 227: 1, 230: 1, 231: 1, 232: 2, 233: 1, 236: 1, 237: 1, 242: 1, 247: 1, 248: 1, 250: 1, 255: 1, 258: 1, 260: 1, 265: 1, 267: 2, 269: 1, 270: 1, 271: 1, 273: 1, 275: 1, 277: 1, 279: 2, 289: 1, 291: 1, 292: 1, 293: 1, 294: 1, 299: 1, 300: 1, 306: 1, 310: 1, 311: 1, 314: 1, 331: 1, 334: 1, 340: 1, 345: 1, 347: 1, 359: 1, 360: 1, 363: 1, 366: 1, 371: 1, 377: 1, 383: 1, 385: 1, 386: 1, 397: 1, 398: 1, 399: 1, 400: 1, 403: 2, 411: 1, 436: 1, 437: 2, 440: 1, 443: 2, 446: 1, 455: 1, 458: 1, 465: 1, 467: 1, 469: 1, 474: 1, 476: 1, 500: 1, 502: 1, 505: 1, 507: 1, 517: 1, 518: 1, 520: 1, 528: 1, 570: 1, 575: 1, 578: 1, 600: 1, 608: 1, 613: 1, 635: 1, 646: 1, 648: 1, 677: 1, 703: 1, 722: 1, 728: 2, 763: 1, 831: 1, 836: 1, 862: 1, 879: 1, 904: 1, 939: 1, 943: 1, 975: 1, 977: 1, 1027: 1, 1046: 1, 1055: 1, 1115: 1, 1218: 1, 1260: 1, 1302: 1, 1346: 1, 1864: 1, 2108: 1, 2478: 1, 2698: 1}\n"
     ]
    }
   ],
   "source": [
    "users = Ratings.Users(ratings)\n",
    "print(users.dist_by_num_of_ratings())"
   ]
  },
  {
   "cell_type": "code",
   "execution_count": null,
   "id": "3acaf40c",
   "metadata": {},
   "outputs": [
    {
     "name": "stdout",
     "output_type": "stream",
     "text": [
      "80.2 μs ± 2.86 μs per loop (mean ± std. dev. of 7 runs, 10,000 loops each)\n"
     ]
    }
   ],
   "source": [
    "%timeit users.dist_by_num_of_ratings()"
   ]
  },
  {
   "cell_type": "code",
   "execution_count": null,
   "id": "70f05809",
   "metadata": {},
   "outputs": [
    {
     "data": {
      "text/plain": [
       "{3: 4.26,\n",
       " 461: 3.1,\n",
       " 55: 3.09,\n",
       " 259: 2.94,\n",
       " 329: 2.92,\n",
       " 502: 2.76,\n",
       " 175: 2.75,\n",
       " 598: 2.7,\n",
       " 393: 2.61,\n",
       " 138: 2.44}"
      ]
     },
     "execution_count": 78,
     "metadata": {},
     "output_type": "execute_result"
    }
   ],
   "source": [
    "users.top_controversial(10)"
   ]
  },
  {
   "cell_type": "code",
   "execution_count": null,
   "id": "5f701feb",
   "metadata": {},
   "outputs": [
    {
     "name": "stdout",
     "output_type": "stream",
     "text": [
      "9.03 ms ± 119 μs per loop (mean ± std. dev. of 7 runs, 100 loops each)\n"
     ]
    }
   ],
   "source": [
    "%timeit users.top_controversial(10)"
   ]
  },
  {
   "cell_type": "code",
   "execution_count": null,
   "id": "6d9a4144",
   "metadata": {},
   "outputs": [
    {
     "data": {
      "text/plain": [
       "{0.5: 1,\n",
       " 1.0: 1,\n",
       " 2.0: 8,\n",
       " 2.5: 7,\n",
       " 2.75: 3,\n",
       " 3.0: 111,\n",
       " 3.25: 6,\n",
       " 3.5: 94,\n",
       " 3.75: 5,\n",
       " 4.0: 298,\n",
       " 4.25: 2,\n",
       " 4.5: 40,\n",
       " 4.75: 1,\n",
       " 5.0: 33}"
      ]
     },
     "execution_count": 80,
     "metadata": {},
     "output_type": "execute_result"
    }
   ],
   "source": [
    "users.dist_by_rating(median)"
   ]
  },
  {
   "cell_type": "code",
   "execution_count": null,
   "id": "3c2c9b88",
   "metadata": {},
   "outputs": [
    {
     "name": "stdout",
     "output_type": "stream",
     "text": [
      "6.54 ms ± 570 μs per loop (mean ± std. dev. of 7 runs, 100 loops each)\n"
     ]
    }
   ],
   "source": [
    "%timeit users.dist_by_rating(median)"
   ]
  },
  {
   "cell_type": "code",
   "execution_count": null,
   "id": "de83ff82",
   "metadata": {},
   "outputs": [
    {
     "name": "stdout",
     "output_type": "stream",
     "text": [
      "Shape 'tags_subset.csv': (1000, 4)\n"
     ]
    }
   ],
   "source": [
    "from movielens_analysis import Tags\n",
    "import itertools\n",
    "\n",
    "with open(\"data/tags.csv\", \"r\", encoding=\"utf-8\") as f:\n",
    "    header = next(f)\n",
    "    tags_first_1000 = list(itertools.islice(f, 1000))\n",
    "\n",
    "with open(\"data/tags_subset.csv\", \"w\", encoding=\"utf-8\") as f:\n",
    "    f.write(header)\n",
    "    f.writelines(tags_first_1000)\n",
    "\n",
    "tags = Tags(\"tags_subset.csv\")\n",
    "\n",
    "rows, cols = len(tags.data), len(tags.data[0])\n",
    "print(f\"Shape 'tags_subset.csv': ({rows}, {cols})\")"
   ]
  },
  {
   "cell_type": "code",
   "execution_count": null,
   "id": "968353e2",
   "metadata": {},
   "outputs": [
    {
     "data": {
      "text/plain": [
       "{'Something for everyone in this one... saw it without and plan on seeing it with kids!': 16,\n",
       " 'the catholic church is the most corrupt organization in history': 10,\n",
       " 'villain nonexistent or not needed for good story': 8,\n",
       " 'It was melodramatic and kind of dumb': 7,\n",
       " 'stop using useless characters for filler': 6,\n",
       " 'r:disturbing violent content including rape': 6,\n",
       " 'Oscar (Best Music - Original Score)': 5,\n",
       " 'r:sustained strong stylized violence': 5,\n",
       " 'Oscar (Best Effects - Visual Effects)': 5,\n",
       " 'start of a beautiful friendship': 5}"
      ]
     },
     "execution_count": 82,
     "metadata": {},
     "output_type": "execute_result"
    }
   ],
   "source": [
    "tags = Tags(\"tags.csv\")\n",
    "tags.most_words(10)"
   ]
  },
  {
   "cell_type": "code",
   "execution_count": null,
   "id": "36f3c3d8",
   "metadata": {},
   "outputs": [
    {
     "name": "stdout",
     "output_type": "stream",
     "text": [
      "2.09 ms ± 24.2 μs per loop (mean ± std. dev. of 7 runs, 100 loops each)\n"
     ]
    }
   ],
   "source": [
    "%timeit tags.most_words(10)"
   ]
  },
  {
   "cell_type": "code",
   "execution_count": null,
   "id": "b5dc7d2c",
   "metadata": {},
   "outputs": [
    {
     "data": {
      "text/plain": [
       "['Something for everyone in this one... saw it without and plan on seeing it with kids!',\n",
       " 'the catholic church is the most corrupt organization in history',\n",
       " 'villain nonexistent or not needed for good story',\n",
       " 'r:disturbing violent content including rape',\n",
       " '06 Oscar Nominated Best Movie - Animation',\n",
       " 'stop using useless characters for filler',\n",
       " 'Academy award (Best Supporting Actress)',\n",
       " 'Oscar (Best Effects - Visual Effects)',\n",
       " 'r:sustained strong stylized violence',\n",
       " 'It was melodramatic and kind of dumb']"
      ]
     },
     "execution_count": 84,
     "metadata": {},
     "output_type": "execute_result"
    }
   ],
   "source": [
    "tags.longest(10)"
   ]
  },
  {
   "cell_type": "code",
   "execution_count": null,
   "id": "6063d279",
   "metadata": {},
   "outputs": [
    {
     "name": "stdout",
     "output_type": "stream",
     "text": [
      "362 μs ± 9.34 μs per loop (mean ± std. dev. of 7 runs, 1,000 loops each)\n"
     ]
    }
   ],
   "source": [
    "%timeit tags.longest(10)"
   ]
  },
  {
   "cell_type": "code",
   "execution_count": null,
   "id": "cab42c5d",
   "metadata": {},
   "outputs": [
    {
     "data": {
      "text/plain": [
       "{'In Netflix queue': 131,\n",
       " 'atmospheric': 36,\n",
       " 'superhero': 24,\n",
       " 'thought-provoking': 24,\n",
       " 'funny': 23,\n",
       " 'Disney': 23,\n",
       " 'surreal': 23,\n",
       " 'religion': 22,\n",
       " 'sci-fi': 21,\n",
       " 'dark comedy': 21}"
      ]
     },
     "execution_count": 86,
     "metadata": {},
     "output_type": "execute_result"
    }
   ],
   "source": [
    "tags.most_popular(10)"
   ]
  },
  {
   "cell_type": "code",
   "execution_count": null,
   "id": "6cfb17b6",
   "metadata": {},
   "outputs": [
    {
     "name": "stdout",
     "output_type": "stream",
     "text": [
      "576 μs ± 46.6 μs per loop (mean ± std. dev. of 7 runs, 1,000 loops each)\n"
     ]
    }
   ],
   "source": [
    "%timeit tags.most_popular(10)"
   ]
  },
  {
   "cell_type": "code",
   "execution_count": null,
   "id": "42dd89b5",
   "metadata": {},
   "outputs": [
    {
     "data": {
      "text/plain": [
       "['black and white',\n",
       " 'black comedy',\n",
       " 'black hole',\n",
       " 'black humor',\n",
       " 'black humour',\n",
       " 'black-and-white']"
      ]
     },
     "execution_count": 88,
     "metadata": {},
     "output_type": "execute_result"
    }
   ],
   "source": [
    "tags.tags_with('black')"
   ]
  },
  {
   "cell_type": "code",
   "execution_count": null,
   "id": "76e399b6",
   "metadata": {},
   "outputs": [
    {
     "name": "stdout",
     "output_type": "stream",
     "text": [
      "259 μs ± 8.69 μs per loop (mean ± std. dev. of 7 runs, 1,000 loops each)\n"
     ]
    }
   ],
   "source": [
    "%timeit tags.tags_with('black')"
   ]
  }
 ],
 "metadata": {
  "kernelspec": {
   "display_name": "Python 3",
   "language": "python",
   "name": "python3"
  },
  "language_info": {
   "codemirror_mode": {
    "name": "ipython",
    "version": 3
   },
   "file_extension": ".py",
   "mimetype": "text/x-python",
   "name": "python",
   "nbconvert_exporter": "python",
   "pygments_lexer": "ipython3",
   "version": "3.12.3"
  }
 },
 "nbformat": 4,
 "nbformat_minor": 5
}
