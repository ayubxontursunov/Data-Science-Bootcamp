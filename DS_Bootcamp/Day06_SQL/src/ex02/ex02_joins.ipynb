{
 "cells": [
  {
   "cell_type": "code",
   "execution_count": 1,
   "metadata": {},
   "outputs": [],
   "source": [
    "import pandas as pd\n",
    "import sqlite3"
   ]
  },
  {
   "cell_type": "code",
   "execution_count": 2,
   "metadata": {},
   "outputs": [],
   "source": [
    "DB_NAME = '../data/checking-logs.sqlite'\n",
    "\n",
    "conn = sqlite3.connect(DB_NAME)\n",
    "\n",
    "conn.execute(\"\"\"DROP TABLE IF EXISTS datamart;\"\"\")\n",
    "\n",
    "query =\"\"\"               \n",
    "CREATE TABLE datamart AS\n",
    "SELECT \n",
    "    checker.uid, \n",
    "    checker.labname, \n",
    "    MIN(checker.timestamp) AS first_commit_ts, \n",
    "    MIN(pageviews.datetime) AS first_view_ts \n",
    "FROM \n",
    "    checker\n",
    "LEFT JOIN \n",
    "    pageviews ON checker.uid = pageviews.uid\n",
    "WHERE \n",
    "    checker.uid LIKE 'user_%'\n",
    "    AND checker.status = 'ready'\n",
    "    AND checker.numTrials = 1\n",
    "    AND checker.labname IN ('laba04','laba04s','laba05','laba06','laba06s','project1')\n",
    "GROUP BY checker.uid, checker.labname;\n",
    "\"\"\"\n",
    "\n",
    "conn.execute(query)\n",
    "conn.commit()\n",
    "\n",
    "query_fetch = \"SELECT * FROM datamart;\"\n",
    "datamart = pd.read_sql_query(query_fetch, conn)\n",
    "# df = pd.read_sql_query(query_fetch,conn,parse_dates=['first_commit_ts','first_view_ts'])\n",
    "datamart['first_commit_ts'] = pd.to_datetime(datamart['first_commit_ts'])\n",
    "datamart['first_view_ts'] = pd.to_datetime(datamart['first_view_ts'])\n"
   ]
  },
  {
   "cell_type": "code",
   "execution_count": 3,
   "metadata": {},
   "outputs": [
    {
     "name": "stdout",
     "output_type": "stream",
     "text": [
      "<class 'pandas.core.frame.DataFrame'>\n",
      "RangeIndex: 140 entries, 0 to 139\n",
      "Data columns (total 4 columns):\n",
      " #   Column           Non-Null Count  Dtype         \n",
      "---  ------           --------------  -----         \n",
      " 0   uid              140 non-null    object        \n",
      " 1   labname          140 non-null    object        \n",
      " 2   first_commit_ts  140 non-null    datetime64[ns]\n",
      " 3   first_view_ts    59 non-null     datetime64[ns]\n",
      "dtypes: datetime64[ns](2), object(2)\n",
      "memory usage: 4.5+ KB\n"
     ]
    }
   ],
   "source": [
    "datamart.info()"
   ]
  },
  {
   "cell_type": "code",
   "execution_count": 4,
   "metadata": {},
   "outputs": [
    {
     "data": {
      "text/plain": [
       "uid                        object\n",
       "labname                    object\n",
       "first_commit_ts    datetime64[ns]\n",
       "first_view_ts      datetime64[ns]\n",
       "dtype: object"
      ]
     },
     "execution_count": 4,
     "metadata": {},
     "output_type": "execute_result"
    }
   ],
   "source": [
    "datamart.dtypes"
   ]
  },
  {
   "cell_type": "code",
   "execution_count": 5,
   "metadata": {},
   "outputs": [],
   "source": [
    "test = datamart[datamart['first_view_ts'].notnull()].copy()\n",
    "#test_users"
   ]
  },
  {
   "cell_type": "code",
   "execution_count": 6,
   "metadata": {},
   "outputs": [
    {
     "data": {
      "text/html": [
       "<div>\n",
       "<style scoped>\n",
       "    .dataframe tbody tr th:only-of-type {\n",
       "        vertical-align: middle;\n",
       "    }\n",
       "\n",
       "    .dataframe tbody tr th {\n",
       "        vertical-align: top;\n",
       "    }\n",
       "\n",
       "    .dataframe thead th {\n",
       "        text-align: right;\n",
       "    }\n",
       "</style>\n",
       "<table border=\"1\" class=\"dataframe\">\n",
       "  <thead>\n",
       "    <tr style=\"text-align: right;\">\n",
       "      <th></th>\n",
       "      <th>uid</th>\n",
       "      <th>labname</th>\n",
       "      <th>first_commit_ts</th>\n",
       "      <th>first_view_ts</th>\n",
       "    </tr>\n",
       "  </thead>\n",
       "  <tbody>\n",
       "    <tr>\n",
       "      <th>12</th>\n",
       "      <td>user_11</td>\n",
       "      <td>laba05</td>\n",
       "      <td>2020-05-03 21:06:55.970293</td>\n",
       "      <td>NaT</td>\n",
       "    </tr>\n",
       "    <tr>\n",
       "      <th>13</th>\n",
       "      <td>user_11</td>\n",
       "      <td>project1</td>\n",
       "      <td>2020-05-03 23:45:33.673409</td>\n",
       "      <td>NaT</td>\n",
       "    </tr>\n",
       "    <tr>\n",
       "      <th>14</th>\n",
       "      <td>user_12</td>\n",
       "      <td>laba04</td>\n",
       "      <td>2020-04-18 17:07:51.767358</td>\n",
       "      <td>NaT</td>\n",
       "    </tr>\n",
       "    <tr>\n",
       "      <th>15</th>\n",
       "      <td>user_12</td>\n",
       "      <td>laba04s</td>\n",
       "      <td>2020-04-26 15:42:38.070593</td>\n",
       "      <td>NaT</td>\n",
       "    </tr>\n",
       "    <tr>\n",
       "      <th>16</th>\n",
       "      <td>user_12</td>\n",
       "      <td>laba05</td>\n",
       "      <td>2020-05-03 08:39:25.174316</td>\n",
       "      <td>NaT</td>\n",
       "    </tr>\n",
       "    <tr>\n",
       "      <th>...</th>\n",
       "      <td>...</td>\n",
       "      <td>...</td>\n",
       "      <td>...</td>\n",
       "      <td>...</td>\n",
       "    </tr>\n",
       "    <tr>\n",
       "      <th>135</th>\n",
       "      <td>user_8</td>\n",
       "      <td>laba04s</td>\n",
       "      <td>2020-04-19 10:22:35.761944</td>\n",
       "      <td>NaT</td>\n",
       "    </tr>\n",
       "    <tr>\n",
       "      <th>136</th>\n",
       "      <td>user_8</td>\n",
       "      <td>laba05</td>\n",
       "      <td>2020-05-02 13:28:07.705193</td>\n",
       "      <td>NaT</td>\n",
       "    </tr>\n",
       "    <tr>\n",
       "      <th>137</th>\n",
       "      <td>user_8</td>\n",
       "      <td>laba06</td>\n",
       "      <td>2020-05-16 17:56:15.755553</td>\n",
       "      <td>NaT</td>\n",
       "    </tr>\n",
       "    <tr>\n",
       "      <th>138</th>\n",
       "      <td>user_8</td>\n",
       "      <td>laba06s</td>\n",
       "      <td>2020-05-16 20:01:07.900727</td>\n",
       "      <td>NaT</td>\n",
       "    </tr>\n",
       "    <tr>\n",
       "      <th>139</th>\n",
       "      <td>user_8</td>\n",
       "      <td>project1</td>\n",
       "      <td>2020-05-14 15:42:04.002981</td>\n",
       "      <td>NaT</td>\n",
       "    </tr>\n",
       "  </tbody>\n",
       "</table>\n",
       "<p>81 rows × 4 columns</p>\n",
       "</div>"
      ],
      "text/plain": [
       "         uid   labname            first_commit_ts first_view_ts\n",
       "12   user_11    laba05 2020-05-03 21:06:55.970293           NaT\n",
       "13   user_11  project1 2020-05-03 23:45:33.673409           NaT\n",
       "14   user_12    laba04 2020-04-18 17:07:51.767358           NaT\n",
       "15   user_12   laba04s 2020-04-26 15:42:38.070593           NaT\n",
       "16   user_12    laba05 2020-05-03 08:39:25.174316           NaT\n",
       "..       ...       ...                        ...           ...\n",
       "135   user_8   laba04s 2020-04-19 10:22:35.761944           NaT\n",
       "136   user_8    laba05 2020-05-02 13:28:07.705193           NaT\n",
       "137   user_8    laba06 2020-05-16 17:56:15.755553           NaT\n",
       "138   user_8   laba06s 2020-05-16 20:01:07.900727           NaT\n",
       "139   user_8  project1 2020-05-14 15:42:04.002981           NaT\n",
       "\n",
       "[81 rows x 4 columns]"
      ]
     },
     "execution_count": 6,
     "metadata": {},
     "output_type": "execute_result"
    }
   ],
   "source": [
    "control = datamart[datamart['first_view_ts'].isnull()].copy()\n",
    "control"
   ]
  },
  {
   "cell_type": "code",
   "execution_count": 7,
   "metadata": {},
   "outputs": [
    {
     "data": {
      "text/plain": [
       "Timestamp('2020-04-27 00:40:05.761783552')"
      ]
     },
     "execution_count": 7,
     "metadata": {},
     "output_type": "execute_result"
    }
   ],
   "source": [
    "avg_first_view_ts = test['first_view_ts'].mean()\n",
    "avg_first_view_ts"
   ]
  },
  {
   "cell_type": "code",
   "execution_count": 8,
   "metadata": {},
   "outputs": [
    {
     "data": {
      "text/html": [
       "<div>\n",
       "<style scoped>\n",
       "    .dataframe tbody tr th:only-of-type {\n",
       "        vertical-align: middle;\n",
       "    }\n",
       "\n",
       "    .dataframe tbody tr th {\n",
       "        vertical-align: top;\n",
       "    }\n",
       "\n",
       "    .dataframe thead th {\n",
       "        text-align: right;\n",
       "    }\n",
       "</style>\n",
       "<table border=\"1\" class=\"dataframe\">\n",
       "  <thead>\n",
       "    <tr style=\"text-align: right;\">\n",
       "      <th></th>\n",
       "      <th>uid</th>\n",
       "      <th>labname</th>\n",
       "      <th>first_commit_ts</th>\n",
       "      <th>first_view_ts</th>\n",
       "    </tr>\n",
       "  </thead>\n",
       "  <tbody>\n",
       "    <tr>\n",
       "      <th>12</th>\n",
       "      <td>user_11</td>\n",
       "      <td>laba05</td>\n",
       "      <td>2020-05-03 21:06:55.970293</td>\n",
       "      <td>2020-04-27 00:40:05.761783552</td>\n",
       "    </tr>\n",
       "    <tr>\n",
       "      <th>13</th>\n",
       "      <td>user_11</td>\n",
       "      <td>project1</td>\n",
       "      <td>2020-05-03 23:45:33.673409</td>\n",
       "      <td>2020-04-27 00:40:05.761783552</td>\n",
       "    </tr>\n",
       "    <tr>\n",
       "      <th>14</th>\n",
       "      <td>user_12</td>\n",
       "      <td>laba04</td>\n",
       "      <td>2020-04-18 17:07:51.767358</td>\n",
       "      <td>2020-04-27 00:40:05.761783552</td>\n",
       "    </tr>\n",
       "    <tr>\n",
       "      <th>15</th>\n",
       "      <td>user_12</td>\n",
       "      <td>laba04s</td>\n",
       "      <td>2020-04-26 15:42:38.070593</td>\n",
       "      <td>2020-04-27 00:40:05.761783552</td>\n",
       "    </tr>\n",
       "    <tr>\n",
       "      <th>16</th>\n",
       "      <td>user_12</td>\n",
       "      <td>laba05</td>\n",
       "      <td>2020-05-03 08:39:25.174316</td>\n",
       "      <td>2020-04-27 00:40:05.761783552</td>\n",
       "    </tr>\n",
       "    <tr>\n",
       "      <th>...</th>\n",
       "      <td>...</td>\n",
       "      <td>...</td>\n",
       "      <td>...</td>\n",
       "      <td>...</td>\n",
       "    </tr>\n",
       "    <tr>\n",
       "      <th>135</th>\n",
       "      <td>user_8</td>\n",
       "      <td>laba04s</td>\n",
       "      <td>2020-04-19 10:22:35.761944</td>\n",
       "      <td>2020-04-27 00:40:05.761783552</td>\n",
       "    </tr>\n",
       "    <tr>\n",
       "      <th>136</th>\n",
       "      <td>user_8</td>\n",
       "      <td>laba05</td>\n",
       "      <td>2020-05-02 13:28:07.705193</td>\n",
       "      <td>2020-04-27 00:40:05.761783552</td>\n",
       "    </tr>\n",
       "    <tr>\n",
       "      <th>137</th>\n",
       "      <td>user_8</td>\n",
       "      <td>laba06</td>\n",
       "      <td>2020-05-16 17:56:15.755553</td>\n",
       "      <td>2020-04-27 00:40:05.761783552</td>\n",
       "    </tr>\n",
       "    <tr>\n",
       "      <th>138</th>\n",
       "      <td>user_8</td>\n",
       "      <td>laba06s</td>\n",
       "      <td>2020-05-16 20:01:07.900727</td>\n",
       "      <td>2020-04-27 00:40:05.761783552</td>\n",
       "    </tr>\n",
       "    <tr>\n",
       "      <th>139</th>\n",
       "      <td>user_8</td>\n",
       "      <td>project1</td>\n",
       "      <td>2020-05-14 15:42:04.002981</td>\n",
       "      <td>2020-04-27 00:40:05.761783552</td>\n",
       "    </tr>\n",
       "  </tbody>\n",
       "</table>\n",
       "<p>81 rows × 4 columns</p>\n",
       "</div>"
      ],
      "text/plain": [
       "         uid   labname            first_commit_ts  \\\n",
       "12   user_11    laba05 2020-05-03 21:06:55.970293   \n",
       "13   user_11  project1 2020-05-03 23:45:33.673409   \n",
       "14   user_12    laba04 2020-04-18 17:07:51.767358   \n",
       "15   user_12   laba04s 2020-04-26 15:42:38.070593   \n",
       "16   user_12    laba05 2020-05-03 08:39:25.174316   \n",
       "..       ...       ...                        ...   \n",
       "135   user_8   laba04s 2020-04-19 10:22:35.761944   \n",
       "136   user_8    laba05 2020-05-02 13:28:07.705193   \n",
       "137   user_8    laba06 2020-05-16 17:56:15.755553   \n",
       "138   user_8   laba06s 2020-05-16 20:01:07.900727   \n",
       "139   user_8  project1 2020-05-14 15:42:04.002981   \n",
       "\n",
       "                    first_view_ts  \n",
       "12  2020-04-27 00:40:05.761783552  \n",
       "13  2020-04-27 00:40:05.761783552  \n",
       "14  2020-04-27 00:40:05.761783552  \n",
       "15  2020-04-27 00:40:05.761783552  \n",
       "16  2020-04-27 00:40:05.761783552  \n",
       "..                            ...  \n",
       "135 2020-04-27 00:40:05.761783552  \n",
       "136 2020-04-27 00:40:05.761783552  \n",
       "137 2020-04-27 00:40:05.761783552  \n",
       "138 2020-04-27 00:40:05.761783552  \n",
       "139 2020-04-27 00:40:05.761783552  \n",
       "\n",
       "[81 rows x 4 columns]"
      ]
     },
     "execution_count": 8,
     "metadata": {},
     "output_type": "execute_result"
    }
   ],
   "source": [
    "control['first_view_ts'] = control['first_view_ts'].fillna(avg_first_view_ts)\n",
    "control"
   ]
  },
  {
   "cell_type": "code",
   "execution_count": 9,
   "metadata": {},
   "outputs": [
    {
     "data": {
      "text/plain": [
       "<sqlite3.Cursor at 0x7b88d554abc0>"
      ]
     },
     "execution_count": 9,
     "metadata": {},
     "output_type": "execute_result"
    }
   ],
   "source": [
    "conn.execute(\"DROP TABLE IF EXISTS test;\")\n",
    "conn.execute(\"DROP TABLE IF EXISTS control;\")\n"
   ]
  },
  {
   "cell_type": "code",
   "execution_count": 10,
   "metadata": {},
   "outputs": [
    {
     "name": "stdout",
     "output_type": "stream",
     "text": [
      "<class 'pandas.core.frame.DataFrame'>\n",
      "Index: 59 entries, 0 to 114\n",
      "Data columns (total 4 columns):\n",
      " #   Column           Non-Null Count  Dtype         \n",
      "---  ------           --------------  -----         \n",
      " 0   uid              59 non-null     object        \n",
      " 1   labname          59 non-null     object        \n",
      " 2   first_commit_ts  59 non-null     datetime64[ns]\n",
      " 3   first_view_ts    59 non-null     datetime64[ns]\n",
      "dtypes: datetime64[ns](2), object(2)\n",
      "memory usage: 2.3+ KB\n"
     ]
    }
   ],
   "source": [
    "test.to_sql('test',conn, if_exists='replace',index=False)\n",
    "control.to_sql('control',conn,if_exists='replace',index=False)\n",
    "test.info()\n"
   ]
  },
  {
   "cell_type": "code",
   "execution_count": 11,
   "metadata": {},
   "outputs": [
    {
     "name": "stdout",
     "output_type": "stream",
     "text": [
      "<class 'pandas.core.frame.DataFrame'>\n",
      "Index: 81 entries, 12 to 139\n",
      "Data columns (total 4 columns):\n",
      " #   Column           Non-Null Count  Dtype         \n",
      "---  ------           --------------  -----         \n",
      " 0   uid              81 non-null     object        \n",
      " 1   labname          81 non-null     object        \n",
      " 2   first_commit_ts  81 non-null     datetime64[ns]\n",
      " 3   first_view_ts    81 non-null     datetime64[ns]\n",
      "dtypes: datetime64[ns](2), object(2)\n",
      "memory usage: 3.2+ KB\n"
     ]
    }
   ],
   "source": [
    "control.info()"
   ]
  },
  {
   "cell_type": "code",
   "execution_count": 12,
   "metadata": {},
   "outputs": [],
   "source": [
    "conn.commit()\n",
    "conn.close()"
   ]
  }
 ],
 "metadata": {
  "kernelspec": {
   "display_name": ".env",
   "language": "python",
   "name": "python3"
  },
  "language_info": {
   "codemirror_mode": {
    "name": "ipython",
    "version": 3
   },
   "file_extension": ".py",
   "mimetype": "text/x-python",
   "name": "python",
   "nbconvert_exporter": "python",
   "pygments_lexer": "ipython3",
   "version": "3.12.3"
  }
 },
 "nbformat": 4,
 "nbformat_minor": 2
}
