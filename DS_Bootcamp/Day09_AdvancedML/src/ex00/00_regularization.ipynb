{
 "cells": [
  {
   "cell_type": "markdown",
   "metadata": {},
   "source": [
    "# Day 09. Exercise 00\n",
    "# Regularization"
   ]
  },
  {
   "cell_type": "markdown",
   "metadata": {},
   "source": [
    "## 0. Imports"
   ]
  },
  {
   "cell_type": "code",
   "execution_count": 435,
   "metadata": {},
   "outputs": [],
   "source": [
    "import pandas as pd\n",
    "import numpy as np\n",
    "from sklearn.model_selection import train_test_split,cross_val_score,StratifiedKFold\n",
    "from sklearn.linear_model import LogisticRegression\n",
    "from sklearn.ensemble import RandomForestClassifier\n",
    "from sklearn.metrics import accuracy_score\n",
    "from sklearn.svm import SVC\n",
    "from sklearn.tree import DecisionTreeClassifier\n",
    "\n",
    "from sklearn.metrics import confusion_matrix\n",
    "import joblib"
   ]
  },
  {
   "cell_type": "markdown",
   "metadata": {},
   "source": [
    "## 1. Preprocessing"
   ]
  },
  {
   "cell_type": "markdown",
   "metadata": {},
   "source": [
    "1. Read the file `dayofweek.csv` that you used in the previous day to a dataframe.\n",
    "2. Using `train_test_split` with parameters `test_size=0.2`, `random_state=21` get `X_train`, `y_train`, `X_test`, `y_test`. Use the additional parameter `stratify`."
   ]
  },
  {
   "cell_type": "code",
   "execution_count": 436,
   "metadata": {},
   "outputs": [
    {
     "data": {
      "text/html": [
       "<div>\n",
       "<style scoped>\n",
       "    .dataframe tbody tr th:only-of-type {\n",
       "        vertical-align: middle;\n",
       "    }\n",
       "\n",
       "    .dataframe tbody tr th {\n",
       "        vertical-align: top;\n",
       "    }\n",
       "\n",
       "    .dataframe thead th {\n",
       "        text-align: right;\n",
       "    }\n",
       "</style>\n",
       "<table border=\"1\" class=\"dataframe\">\n",
       "  <thead>\n",
       "    <tr style=\"text-align: right;\">\n",
       "      <th></th>\n",
       "      <th>numTrials</th>\n",
       "      <th>hour</th>\n",
       "      <th>dayofweek</th>\n",
       "      <th>uid_user_0</th>\n",
       "      <th>uid_user_1</th>\n",
       "      <th>uid_user_10</th>\n",
       "      <th>uid_user_11</th>\n",
       "      <th>uid_user_12</th>\n",
       "      <th>uid_user_13</th>\n",
       "      <th>uid_user_14</th>\n",
       "      <th>...</th>\n",
       "      <th>labname_lab02</th>\n",
       "      <th>labname_lab03</th>\n",
       "      <th>labname_lab03s</th>\n",
       "      <th>labname_lab05s</th>\n",
       "      <th>labname_laba04</th>\n",
       "      <th>labname_laba04s</th>\n",
       "      <th>labname_laba05</th>\n",
       "      <th>labname_laba06</th>\n",
       "      <th>labname_laba06s</th>\n",
       "      <th>labname_project1</th>\n",
       "    </tr>\n",
       "  </thead>\n",
       "  <tbody>\n",
       "    <tr>\n",
       "      <th>0</th>\n",
       "      <td>-0.788667</td>\n",
       "      <td>-2.562352</td>\n",
       "      <td>4</td>\n",
       "      <td>0.0</td>\n",
       "      <td>0.0</td>\n",
       "      <td>0.0</td>\n",
       "      <td>0.0</td>\n",
       "      <td>0.0</td>\n",
       "      <td>0.0</td>\n",
       "      <td>0.0</td>\n",
       "      <td>...</td>\n",
       "      <td>0.0</td>\n",
       "      <td>0.0</td>\n",
       "      <td>0.0</td>\n",
       "      <td>0.0</td>\n",
       "      <td>0.0</td>\n",
       "      <td>0.0</td>\n",
       "      <td>0.0</td>\n",
       "      <td>0.0</td>\n",
       "      <td>0.0</td>\n",
       "      <td>1.0</td>\n",
       "    </tr>\n",
       "    <tr>\n",
       "      <th>1</th>\n",
       "      <td>-0.756764</td>\n",
       "      <td>-2.562352</td>\n",
       "      <td>4</td>\n",
       "      <td>0.0</td>\n",
       "      <td>0.0</td>\n",
       "      <td>0.0</td>\n",
       "      <td>0.0</td>\n",
       "      <td>0.0</td>\n",
       "      <td>0.0</td>\n",
       "      <td>0.0</td>\n",
       "      <td>...</td>\n",
       "      <td>0.0</td>\n",
       "      <td>0.0</td>\n",
       "      <td>0.0</td>\n",
       "      <td>0.0</td>\n",
       "      <td>0.0</td>\n",
       "      <td>0.0</td>\n",
       "      <td>0.0</td>\n",
       "      <td>0.0</td>\n",
       "      <td>0.0</td>\n",
       "      <td>1.0</td>\n",
       "    </tr>\n",
       "    <tr>\n",
       "      <th>2</th>\n",
       "      <td>-0.724861</td>\n",
       "      <td>-2.562352</td>\n",
       "      <td>4</td>\n",
       "      <td>0.0</td>\n",
       "      <td>0.0</td>\n",
       "      <td>0.0</td>\n",
       "      <td>0.0</td>\n",
       "      <td>0.0</td>\n",
       "      <td>0.0</td>\n",
       "      <td>0.0</td>\n",
       "      <td>...</td>\n",
       "      <td>0.0</td>\n",
       "      <td>0.0</td>\n",
       "      <td>0.0</td>\n",
       "      <td>0.0</td>\n",
       "      <td>0.0</td>\n",
       "      <td>0.0</td>\n",
       "      <td>0.0</td>\n",
       "      <td>0.0</td>\n",
       "      <td>0.0</td>\n",
       "      <td>1.0</td>\n",
       "    </tr>\n",
       "    <tr>\n",
       "      <th>3</th>\n",
       "      <td>-0.692958</td>\n",
       "      <td>-2.562352</td>\n",
       "      <td>4</td>\n",
       "      <td>0.0</td>\n",
       "      <td>0.0</td>\n",
       "      <td>0.0</td>\n",
       "      <td>0.0</td>\n",
       "      <td>0.0</td>\n",
       "      <td>0.0</td>\n",
       "      <td>0.0</td>\n",
       "      <td>...</td>\n",
       "      <td>0.0</td>\n",
       "      <td>0.0</td>\n",
       "      <td>0.0</td>\n",
       "      <td>0.0</td>\n",
       "      <td>0.0</td>\n",
       "      <td>0.0</td>\n",
       "      <td>0.0</td>\n",
       "      <td>0.0</td>\n",
       "      <td>0.0</td>\n",
       "      <td>1.0</td>\n",
       "    </tr>\n",
       "    <tr>\n",
       "      <th>4</th>\n",
       "      <td>-0.661055</td>\n",
       "      <td>-2.562352</td>\n",
       "      <td>4</td>\n",
       "      <td>0.0</td>\n",
       "      <td>0.0</td>\n",
       "      <td>0.0</td>\n",
       "      <td>0.0</td>\n",
       "      <td>0.0</td>\n",
       "      <td>0.0</td>\n",
       "      <td>0.0</td>\n",
       "      <td>...</td>\n",
       "      <td>0.0</td>\n",
       "      <td>0.0</td>\n",
       "      <td>0.0</td>\n",
       "      <td>0.0</td>\n",
       "      <td>0.0</td>\n",
       "      <td>0.0</td>\n",
       "      <td>0.0</td>\n",
       "      <td>0.0</td>\n",
       "      <td>0.0</td>\n",
       "      <td>1.0</td>\n",
       "    </tr>\n",
       "    <tr>\n",
       "      <th>...</th>\n",
       "      <td>...</td>\n",
       "      <td>...</td>\n",
       "      <td>...</td>\n",
       "      <td>...</td>\n",
       "      <td>...</td>\n",
       "      <td>...</td>\n",
       "      <td>...</td>\n",
       "      <td>...</td>\n",
       "      <td>...</td>\n",
       "      <td>...</td>\n",
       "      <td>...</td>\n",
       "      <td>...</td>\n",
       "      <td>...</td>\n",
       "      <td>...</td>\n",
       "      <td>...</td>\n",
       "      <td>...</td>\n",
       "      <td>...</td>\n",
       "      <td>...</td>\n",
       "      <td>...</td>\n",
       "      <td>...</td>\n",
       "      <td>...</td>\n",
       "    </tr>\n",
       "    <tr>\n",
       "      <th>1681</th>\n",
       "      <td>-0.533442</td>\n",
       "      <td>0.945382</td>\n",
       "      <td>3</td>\n",
       "      <td>0.0</td>\n",
       "      <td>0.0</td>\n",
       "      <td>0.0</td>\n",
       "      <td>0.0</td>\n",
       "      <td>0.0</td>\n",
       "      <td>0.0</td>\n",
       "      <td>0.0</td>\n",
       "      <td>...</td>\n",
       "      <td>0.0</td>\n",
       "      <td>0.0</td>\n",
       "      <td>0.0</td>\n",
       "      <td>0.0</td>\n",
       "      <td>0.0</td>\n",
       "      <td>0.0</td>\n",
       "      <td>0.0</td>\n",
       "      <td>0.0</td>\n",
       "      <td>1.0</td>\n",
       "      <td>0.0</td>\n",
       "    </tr>\n",
       "    <tr>\n",
       "      <th>1682</th>\n",
       "      <td>-0.629151</td>\n",
       "      <td>0.945382</td>\n",
       "      <td>3</td>\n",
       "      <td>0.0</td>\n",
       "      <td>1.0</td>\n",
       "      <td>0.0</td>\n",
       "      <td>0.0</td>\n",
       "      <td>0.0</td>\n",
       "      <td>0.0</td>\n",
       "      <td>0.0</td>\n",
       "      <td>...</td>\n",
       "      <td>0.0</td>\n",
       "      <td>0.0</td>\n",
       "      <td>0.0</td>\n",
       "      <td>0.0</td>\n",
       "      <td>0.0</td>\n",
       "      <td>0.0</td>\n",
       "      <td>0.0</td>\n",
       "      <td>0.0</td>\n",
       "      <td>1.0</td>\n",
       "      <td>0.0</td>\n",
       "    </tr>\n",
       "    <tr>\n",
       "      <th>1683</th>\n",
       "      <td>-0.597248</td>\n",
       "      <td>0.945382</td>\n",
       "      <td>3</td>\n",
       "      <td>0.0</td>\n",
       "      <td>1.0</td>\n",
       "      <td>0.0</td>\n",
       "      <td>0.0</td>\n",
       "      <td>0.0</td>\n",
       "      <td>0.0</td>\n",
       "      <td>0.0</td>\n",
       "      <td>...</td>\n",
       "      <td>0.0</td>\n",
       "      <td>0.0</td>\n",
       "      <td>0.0</td>\n",
       "      <td>0.0</td>\n",
       "      <td>0.0</td>\n",
       "      <td>0.0</td>\n",
       "      <td>0.0</td>\n",
       "      <td>0.0</td>\n",
       "      <td>1.0</td>\n",
       "      <td>0.0</td>\n",
       "    </tr>\n",
       "    <tr>\n",
       "      <th>1684</th>\n",
       "      <td>-0.565345</td>\n",
       "      <td>0.945382</td>\n",
       "      <td>3</td>\n",
       "      <td>0.0</td>\n",
       "      <td>1.0</td>\n",
       "      <td>0.0</td>\n",
       "      <td>0.0</td>\n",
       "      <td>0.0</td>\n",
       "      <td>0.0</td>\n",
       "      <td>0.0</td>\n",
       "      <td>...</td>\n",
       "      <td>0.0</td>\n",
       "      <td>0.0</td>\n",
       "      <td>0.0</td>\n",
       "      <td>0.0</td>\n",
       "      <td>0.0</td>\n",
       "      <td>0.0</td>\n",
       "      <td>0.0</td>\n",
       "      <td>0.0</td>\n",
       "      <td>1.0</td>\n",
       "      <td>0.0</td>\n",
       "    </tr>\n",
       "    <tr>\n",
       "      <th>1685</th>\n",
       "      <td>-0.533442</td>\n",
       "      <td>0.945382</td>\n",
       "      <td>3</td>\n",
       "      <td>0.0</td>\n",
       "      <td>1.0</td>\n",
       "      <td>0.0</td>\n",
       "      <td>0.0</td>\n",
       "      <td>0.0</td>\n",
       "      <td>0.0</td>\n",
       "      <td>0.0</td>\n",
       "      <td>...</td>\n",
       "      <td>0.0</td>\n",
       "      <td>0.0</td>\n",
       "      <td>0.0</td>\n",
       "      <td>0.0</td>\n",
       "      <td>0.0</td>\n",
       "      <td>0.0</td>\n",
       "      <td>0.0</td>\n",
       "      <td>0.0</td>\n",
       "      <td>1.0</td>\n",
       "      <td>0.0</td>\n",
       "    </tr>\n",
       "  </tbody>\n",
       "</table>\n",
       "<p>1686 rows × 44 columns</p>\n",
       "</div>"
      ],
      "text/plain": [
       "      numTrials      hour  dayofweek  uid_user_0  uid_user_1  uid_user_10  \\\n",
       "0     -0.788667 -2.562352          4         0.0         0.0          0.0   \n",
       "1     -0.756764 -2.562352          4         0.0         0.0          0.0   \n",
       "2     -0.724861 -2.562352          4         0.0         0.0          0.0   \n",
       "3     -0.692958 -2.562352          4         0.0         0.0          0.0   \n",
       "4     -0.661055 -2.562352          4         0.0         0.0          0.0   \n",
       "...         ...       ...        ...         ...         ...          ...   \n",
       "1681  -0.533442  0.945382          3         0.0         0.0          0.0   \n",
       "1682  -0.629151  0.945382          3         0.0         1.0          0.0   \n",
       "1683  -0.597248  0.945382          3         0.0         1.0          0.0   \n",
       "1684  -0.565345  0.945382          3         0.0         1.0          0.0   \n",
       "1685  -0.533442  0.945382          3         0.0         1.0          0.0   \n",
       "\n",
       "      uid_user_11  uid_user_12  uid_user_13  uid_user_14  ...  labname_lab02  \\\n",
       "0             0.0          0.0          0.0          0.0  ...            0.0   \n",
       "1             0.0          0.0          0.0          0.0  ...            0.0   \n",
       "2             0.0          0.0          0.0          0.0  ...            0.0   \n",
       "3             0.0          0.0          0.0          0.0  ...            0.0   \n",
       "4             0.0          0.0          0.0          0.0  ...            0.0   \n",
       "...           ...          ...          ...          ...  ...            ...   \n",
       "1681          0.0          0.0          0.0          0.0  ...            0.0   \n",
       "1682          0.0          0.0          0.0          0.0  ...            0.0   \n",
       "1683          0.0          0.0          0.0          0.0  ...            0.0   \n",
       "1684          0.0          0.0          0.0          0.0  ...            0.0   \n",
       "1685          0.0          0.0          0.0          0.0  ...            0.0   \n",
       "\n",
       "      labname_lab03  labname_lab03s  labname_lab05s  labname_laba04  \\\n",
       "0               0.0             0.0             0.0             0.0   \n",
       "1               0.0             0.0             0.0             0.0   \n",
       "2               0.0             0.0             0.0             0.0   \n",
       "3               0.0             0.0             0.0             0.0   \n",
       "4               0.0             0.0             0.0             0.0   \n",
       "...             ...             ...             ...             ...   \n",
       "1681            0.0             0.0             0.0             0.0   \n",
       "1682            0.0             0.0             0.0             0.0   \n",
       "1683            0.0             0.0             0.0             0.0   \n",
       "1684            0.0             0.0             0.0             0.0   \n",
       "1685            0.0             0.0             0.0             0.0   \n",
       "\n",
       "      labname_laba04s  labname_laba05  labname_laba06  labname_laba06s  \\\n",
       "0                 0.0             0.0             0.0              0.0   \n",
       "1                 0.0             0.0             0.0              0.0   \n",
       "2                 0.0             0.0             0.0              0.0   \n",
       "3                 0.0             0.0             0.0              0.0   \n",
       "4                 0.0             0.0             0.0              0.0   \n",
       "...               ...             ...             ...              ...   \n",
       "1681              0.0             0.0             0.0              1.0   \n",
       "1682              0.0             0.0             0.0              1.0   \n",
       "1683              0.0             0.0             0.0              1.0   \n",
       "1684              0.0             0.0             0.0              1.0   \n",
       "1685              0.0             0.0             0.0              1.0   \n",
       "\n",
       "      labname_project1  \n",
       "0                  1.0  \n",
       "1                  1.0  \n",
       "2                  1.0  \n",
       "3                  1.0  \n",
       "4                  1.0  \n",
       "...                ...  \n",
       "1681               0.0  \n",
       "1682               0.0  \n",
       "1683               0.0  \n",
       "1684               0.0  \n",
       "1685               0.0  \n",
       "\n",
       "[1686 rows x 44 columns]"
      ]
     },
     "execution_count": 436,
     "metadata": {},
     "output_type": "execute_result"
    }
   ],
   "source": [
    "df = pd.read_csv('../data/dayofweek.csv')\n",
    "df"
   ]
  },
  {
   "cell_type": "code",
   "execution_count": 437,
   "metadata": {},
   "outputs": [],
   "source": [
    "X = df.drop('dayofweek',axis=1).values\n",
    "y = df['dayofweek'].values\n"
   ]
  },
  {
   "cell_type": "code",
   "execution_count": 438,
   "metadata": {},
   "outputs": [],
   "source": [
    "X_train,X_test,y_train,y_test = train_test_split(X,y, test_size=0.2, random_state=21,stratify=y)"
   ]
  },
  {
   "cell_type": "code",
   "execution_count": null,
   "metadata": {},
   "outputs": [],
   "source": []
  },
  {
   "cell_type": "code",
   "execution_count": null,
   "metadata": {},
   "outputs": [],
   "source": []
  },
  {
   "cell_type": "markdown",
   "metadata": {},
   "source": [
    "## 2. Logreg regularization"
   ]
  },
  {
   "cell_type": "markdown",
   "metadata": {},
   "source": [
    "### a. Default regularization"
   ]
  },
  {
   "cell_type": "markdown",
   "metadata": {},
   "source": []
  },
  {
   "cell_type": "markdown",
   "metadata": {},
   "source": [
    "1. Train a baseline model with the only parameters `random_state=21`, `fit_intercept=False`.\n",
    "2. Use stratified K-fold cross-validation with `10` splits to evaluate the accuracy of the model\n",
    "\n",
    "\n",
    "The result of the code where you trained and evaluated the baseline model should be exactly like this (use `%%time` to get the info about how long it took to run the cell):\n",
    "\n",
    "```\n",
    "train -  0.62902   |   valid -  0.59259\n",
    "train -  0.64633   |   valid -  0.62963\n",
    "train -  0.63479   |   valid -  0.56296\n",
    "train -  0.65622   |   valid -  0.61481\n",
    "train -  0.63397   |   valid -  0.57778\n",
    "train -  0.64056   |   valid -  0.59259\n",
    "train -  0.64138   |   valid -  0.65926\n",
    "train -  0.65952   |   valid -  0.56296\n",
    "train -  0.64333   |   valid -  0.59701\n",
    "train -  0.63674   |   valid -  0.62687\n",
    "Average accuracy on crossval is 0.60165\n",
    "Std is 0.02943\n",
    "```"
   ]
  },
  {
   "cell_type": "code",
   "execution_count": 439,
   "metadata": {},
   "outputs": [
    {
     "name": "stdout",
     "output_type": "stream",
     "text": [
      "train -  0.64056   |   valid -  0.65926\n",
      "train -  0.63561   |   valid -  0.62222\n",
      "train -  0.64468   |   valid -  0.60000\n",
      "train -  0.64056   |   valid -  0.64444\n",
      "train -  0.65375   |   valid -  0.60741\n",
      "train -  0.62902   |   valid -  0.60000\n",
      "train -  0.66117   |   valid -  0.60000\n",
      "train -  0.63726   |   valid -  0.54074\n",
      "train -  0.63756   |   valid -  0.66418\n",
      "train -  0.64745   |   valid -  0.61194\n",
      "Average accuracy on crossval is 0.61502\n",
      "Std is 0.03399\n",
      "CPU times: user 2.71 s, sys: 2.98 ms, total: 2.71 s\n",
      "Wall time: 275 ms\n"
     ]
    }
   ],
   "source": [
    "%%time\n",
    "\n",
    "skf = StratifiedKFold(n_splits=10, shuffle=True, random_state=21)\n",
    "\n",
    "train_scores = []\n",
    "valid_scores = []\n",
    "\n",
    "for train_index, val_index in skf.split(X_train, y_train):\n",
    "    X_tr, X_val = X_train[train_index], X_train[val_index]\n",
    "    y_tr, y_val = y_train[train_index], y_train[val_index]\n",
    "    \n",
    "    model = LogisticRegression(random_state=21, fit_intercept=False)\n",
    "    model.fit(X_tr, y_tr)\n",
    "    \n",
    "    train_acc = accuracy_score(y_tr, model.predict(X_tr))\n",
    "    val_acc = accuracy_score(y_val, model.predict(X_val))\n",
    "    \n",
    "    train_scores.append(train_acc)\n",
    "    valid_scores.append(val_acc)\n",
    "    \n",
    "    print(f\"train -  {train_acc:.5f}   |   valid -  {val_acc:.5f}\")\n",
    "\n",
    "print(f\"Average accuracy on crossval is {np.mean(valid_scores):.5f}\")\n",
    "print(f\"Std is {np.std(valid_scores):.5f}\")\n"
   ]
  },
  {
   "cell_type": "markdown",
   "metadata": {},
   "source": [
    "### b. Optimizing regularization parameters"
   ]
  },
  {
   "cell_type": "markdown",
   "metadata": {},
   "source": [
    "1. In the cells below try different values of penalty: `none`, `l1`, `l2` – you can change the values of solver too."
   ]
  },
  {
   "cell_type": "code",
   "execution_count": 440,
   "metadata": {},
   "outputs": [
    {
     "name": "stdout",
     "output_type": "stream",
     "text": [
      "train - 0.64056   |   valid - 0.64179\n",
      "train - 0.63397   |   valid - 0.61194\n",
      "train - 0.64303   |   valid - 0.64179\n",
      "train - 0.64056   |   valid - 0.64179\n",
      "train - 0.65375   |   valid - 0.63433\n",
      "train - 0.62819   |   valid - 0.61194\n",
      "train - 0.66035   |   valid - 0.64179\n",
      "train - 0.63726   |   valid - 0.61940\n",
      "train - 0.63839   |   valid - 0.62687\n",
      "train - 0.64745   |   valid - 0.61194\n",
      "Average accuracy on crossval is 0.62836\n",
      "Std is 0.01284\n",
      "CPU times: user 954 ms, sys: 2.01 ms, total: 956 ms\n",
      "Wall time: 214 ms\n"
     ]
    }
   ],
   "source": [
    "%%time \n",
    "\n",
    "model = LogisticRegression(random_state=21,fit_intercept=False,penalty='l2',solver='newton-cg')\n",
    "skf = StratifiedKFold(n_splits=10,shuffle=True,random_state=21)\n",
    "\n",
    "\n",
    "valid_scores = []\n",
    "\n",
    "\n",
    "for train_index,valid_index in skf.split(X_train, y_train):\n",
    "    X_tr, X_val = X_train[train_index], X_train[val_index]\n",
    "    y_tr, y_val = y_train[train_index], y_train[val_index]\n",
    "\n",
    "    model.fit(X_tr,y_tr)\n",
    "    train_pred = model.predict(X_tr)\n",
    "    valid_pred = model.predict(X_val)\n",
    "\n",
    "    train_acc = accuracy_score(y_tr, train_pred)\n",
    "    val_acc = accuracy_score(y_val,valid_pred)\n",
    "    valid_scores.append(val_acc)\n",
    "\n",
    "    print(f\"train - {train_acc:.5f}   |   valid - {val_acc:.5f}\")\n",
    "\n",
    "print(f\"Average accuracy on crossval is {np.mean(valid_scores):.5f}\")\n",
    "print(f\"Std is {np.std(valid_scores):.5f}\")"
   ]
  },
  {
   "cell_type": "code",
   "execution_count": 441,
   "metadata": {},
   "outputs": [
    {
     "name": "stdout",
     "output_type": "stream",
     "text": [
      "train - 0.62242   |   valid - 0.63433\n",
      "train - 0.62242   |   valid - 0.62687\n",
      "train - 0.62242   |   valid - 0.62687\n",
      "train - 0.62737   |   valid - 0.64179\n",
      "train - 0.63397   |   valid - 0.61194\n",
      "train - 0.61913   |   valid - 0.61194\n",
      "train - 0.63974   |   valid - 0.64179\n",
      "train - 0.62737   |   valid - 0.61194\n",
      "train - 0.61367   |   valid - 0.61194\n",
      "train - 0.62768   |   valid - 0.57463\n",
      "Average accuracy on crossval is 0.61940\n",
      "Std is 0.01888\n",
      "CPU times: user 97.9 ms, sys: 999 μs, total: 98.9 ms\n",
      "Wall time: 98.1 ms\n"
     ]
    }
   ],
   "source": [
    "%%time \n",
    "\n",
    "model = LogisticRegression(random_state=21,fit_intercept=False,penalty='l1',solver='liblinear')\n",
    "skf = StratifiedKFold(n_splits=10,shuffle=True,random_state=21)\n",
    "\n",
    "\n",
    "valid_scores = []\n",
    "\n",
    "\n",
    "for train_index,valid_index in skf.split(X_train, y_train):\n",
    "    X_tr, X_val = X_train[train_index], X_train[val_index]\n",
    "    y_tr, y_val = y_train[train_index], y_train[val_index]\n",
    "\n",
    "    model.fit(X_tr,y_tr)\n",
    "    train_pred = model.predict(X_tr)\n",
    "    valid_pred = model.predict(X_val)\n",
    "\n",
    "    train_acc = accuracy_score(y_tr, train_pred)\n",
    "    val_acc = accuracy_score(y_val,valid_pred)\n",
    "    valid_scores.append(val_acc)\n",
    "\n",
    "    print(f\"train - {train_acc:.5f}   |   valid - {val_acc:.5f}\")\n",
    "\n",
    "print(f\"Average accuracy on crossval is {np.mean(valid_scores):.5f}\")\n",
    "print(f\"Std is {np.std(valid_scores):.5f}\")"
   ]
  },
  {
   "cell_type": "code",
   "execution_count": 442,
   "metadata": {},
   "outputs": [
    {
     "name": "stdout",
     "output_type": "stream",
     "text": [
      "train - 0.66035   |   valid - 0.64179\n",
      "train - 0.67189   |   valid - 0.63433\n",
      "train - 0.65787   |   valid - 0.61940\n",
      "train - 0.66117   |   valid - 0.64179\n",
      "train - 0.66777   |   valid - 0.63433\n",
      "train - 0.64716   |   valid - 0.61940\n",
      "train - 0.66859   |   valid - 0.64925\n",
      "train - 0.66529   |   valid - 0.62687\n",
      "train - 0.65980   |   valid - 0.63433\n",
      "train - 0.66969   |   valid - 0.62687\n",
      "Average accuracy on crossval is 0.63284\n",
      "Std is 0.00932\n",
      "CPU times: user 319 ms, sys: 2 ms, total: 321 ms\n",
      "Wall time: 320 ms\n"
     ]
    }
   ],
   "source": [
    "%%time \n",
    "\n",
    "model = LogisticRegression(random_state=21,fit_intercept=False,penalty=None,solver='newton-cg')\n",
    "skf = StratifiedKFold(n_splits=10,shuffle=True,random_state=21)\n",
    "\n",
    "\n",
    "valid_scores = []\n",
    "\n",
    "\n",
    "for train_index,valid_index in skf.split(X_train, y_train):\n",
    "    X_tr, X_val = X_train[train_index], X_train[val_index]\n",
    "    y_tr, y_val = y_train[train_index], y_train[val_index]\n",
    "\n",
    "    model.fit(X_tr,y_tr)\n",
    "    train_pred = model.predict(X_tr)\n",
    "    valid_pred = model.predict(X_val)\n",
    "\n",
    "    train_acc = accuracy_score(y_tr, train_pred)\n",
    "    val_acc = accuracy_score(y_val,valid_pred)\n",
    "    valid_scores.append(val_acc)\n",
    "\n",
    "    print(f\"train - {train_acc:.5f}   |   valid - {val_acc:.5f}\")\n",
    "\n",
    "print(f\"Average accuracy on crossval is {np.mean(valid_scores):.5f}\")\n",
    "print(f\"Std is {np.std(valid_scores):.5f}\")"
   ]
  },
  {
   "cell_type": "code",
   "execution_count": null,
   "metadata": {},
   "outputs": [],
   "source": []
  },
  {
   "cell_type": "markdown",
   "metadata": {},
   "source": [
    "## 3. SVM regularization"
   ]
  },
  {
   "cell_type": "markdown",
   "metadata": {},
   "source": [
    "### a. Default regularization"
   ]
  },
  {
   "cell_type": "markdown",
   "metadata": {},
   "source": [
    "1. Train a baseline model with the only parameters `probability=True`, `kernel='linear'`, `random_state=21`.\n",
    "2. Use stratified K-fold cross-validation with `10` splits to evaluate the accuracy of the model.\n",
    "3. The format of the result of the code where you trained and evaluated the baseline model should be similar to what you have got for the logreg."
   ]
  },
  {
   "cell_type": "code",
   "execution_count": 443,
   "metadata": {},
   "outputs": [
    {
     "name": "stdout",
     "output_type": "stream",
     "text": [
      "train - 0.70651   |   valid - 0.71642\n",
      "train - 0.68920   |   valid - 0.65672\n",
      "train - 0.69744   |   valid - 0.69403\n",
      "train - 0.68920   |   valid - 0.67910\n",
      "train - 0.69497   |   valid - 0.66418\n",
      "train - 0.68673   |   valid - 0.67164\n",
      "train - 0.69827   |   valid - 0.67164\n",
      "train - 0.70486   |   valid - 0.67164\n",
      "train - 0.68863   |   valid - 0.68657\n",
      "train - 0.71005   |   valid - 0.64179\n",
      "Average accuracy on crossval is 0.67537\n",
      "Std is 0.01953\n",
      "CPU times: user 1.65 s, sys: 1 ms, total: 1.65 s\n",
      "Wall time: 1.65 s\n"
     ]
    }
   ],
   "source": [
    "%%time \n",
    "\n",
    "model = SVC(probability=True,random_state=21,kernel='linear')\n",
    "skf = StratifiedKFold(n_splits=10,shuffle=True,random_state=21)\n",
    "\n",
    "val_scores = []\n",
    "\n",
    "for train_index,train_val in skf.split(X_train, y_train):\n",
    "    \n",
    "    X_tr, X_val = X_train[train_index], X_train[val_index]\n",
    "    y_tr, y_val = y_train[train_index], y_train[val_index]\n",
    "\n",
    "    model.fit(X_tr,y_tr)\n",
    "    train_pred = model.predict(X_tr)\n",
    "    valid_pred = model.predict(X_val)\n",
    "\n",
    "    train_acc = accuracy_score(y_tr, train_pred)\n",
    "    val_acc = accuracy_score(y_val,valid_pred)\n",
    "    val_scores.append(val_acc)\n",
    "\n",
    "    print(f\"train - {train_acc:.5f}   |   valid - {val_acc:.5f}\")\n",
    "\n",
    "print(f\"Average accuracy on crossval is {np.mean(val_scores):.5f}\")\n",
    "print(f\"Std is {np.std(val_scores):.5f}\")"
   ]
  },
  {
   "cell_type": "markdown",
   "metadata": {},
   "source": [
    "### b. Optimizing regularization parameters"
   ]
  },
  {
   "cell_type": "markdown",
   "metadata": {},
   "source": [
    "1. In the cells below try different values of the parameter `C`."
   ]
  },
  {
   "cell_type": "code",
   "execution_count": 444,
   "metadata": {},
   "outputs": [
    {
     "name": "stdout",
     "output_type": "stream",
     "text": [
      "\n",
      "Training model with C=0.1\n",
      "Average accuracy on crossval is 0.55787\n",
      "Std is 0.02522\n",
      "\n",
      "Training model with C=1\n",
      "Average accuracy on crossval is 0.65286\n",
      "Std is 0.03800\n",
      "\n",
      "Training model with C=10\n",
      "Average accuracy on crossval is 0.71814\n",
      "Std is 0.04026\n",
      "\n",
      "Training model with C=100\n",
      "Average accuracy on crossval is 0.75001\n",
      "Std is 0.02849\n",
      "\n",
      "Best C value: 100 with average accuracy: 0.75001\n",
      "CPU times: user 15.1 s, sys: 1e+03 ns, total: 15.1 s\n",
      "Wall time: 15.1 s\n"
     ]
    }
   ],
   "source": [
    "%%time\n",
    "\n",
    "C_values = [0.1, 1, 10,100]\n",
    "best_score = 0\n",
    "best_C = None\n",
    "\n",
    "for C in C_values:\n",
    "    print(f\"\\nTraining model with C={C}\")\n",
    "    model = SVC(probability=True, random_state=21, kernel='linear', C=C)\n",
    "    skf = StratifiedKFold(n_splits=10, shuffle=True, random_state=21)\n",
    "    \n",
    "    val_scores = []\n",
    "    \n",
    "    for train_index, val_index in skf.split(X_train, y_train):\n",
    "        X_tr, X_val = X_train[train_index], X_train[val_index]\n",
    "        y_tr, y_val = y_train[train_index], y_train[val_index]\n",
    "        \n",
    "        model.fit(X_tr, y_tr)\n",
    "        \n",
    "        train_pred = model.predict(X_tr)\n",
    "        val_pred = model.predict(X_val)\n",
    "        \n",
    "        train_acc = accuracy_score(y_tr, train_pred)\n",
    "        val_acc = accuracy_score(y_val, val_pred)\n",
    "        \n",
    "        val_scores.append(val_acc)\n",
    "        \n",
    "        # print(f\"train - {train_acc:.5f}   |   valid - {val_acc:.5f}\")\n",
    "    \n",
    "    avg_val = np.mean(val_scores)\n",
    "    std_val = np.std(val_scores)\n",
    "    \n",
    "    print(f\"Average accuracy on crossval is {avg_val:.5f}\")\n",
    "    print(f\"Std is {std_val:.5f}\")\n",
    "    \n",
    "    if avg_val > best_score:\n",
    "        best_score = avg_val\n",
    "        best_C = C\n",
    "\n",
    "print(f\"\\nBest C value: {best_C} with average accuracy: {best_score:.5f}\")"
   ]
  },
  {
   "cell_type": "code",
   "execution_count": null,
   "metadata": {},
   "outputs": [],
   "source": []
  },
  {
   "cell_type": "markdown",
   "metadata": {},
   "source": [
    "## 4. Tree"
   ]
  },
  {
   "cell_type": "markdown",
   "metadata": {},
   "source": [
    "### a. Default regularization"
   ]
  },
  {
   "cell_type": "markdown",
   "metadata": {},
   "source": [
    "1. Train a baseline model with the only parameter `max_depth=10` and `random_state=21`.\n",
    "2. Use stratified K-fold cross-validation with `10` splits to evaluate the accuracy of the model.\n",
    "3. The format of the result of the code where you trained and evaluated the baseline model should be similar to what you have got for the logreg."
   ]
  },
  {
   "cell_type": "code",
   "execution_count": null,
   "metadata": {},
   "outputs": [],
   "source": []
  },
  {
   "cell_type": "code",
   "execution_count": 445,
   "metadata": {},
   "outputs": [
    {
     "name": "stdout",
     "output_type": "stream",
     "text": [
      "train - 0.81039   |   valid - 0.80597\n",
      "train - 0.77741   |   valid - 0.73881\n",
      "train - 0.83347   |   valid - 0.79851\n",
      "train - 0.79720   |   valid - 0.79104\n",
      "train - 0.82440   |   valid - 0.81343\n",
      "train - 0.80379   |   valid - 0.76119\n",
      "train - 0.80709   |   valid - 0.81343\n",
      "train - 0.80132   |   valid - 0.79104\n",
      "train - 0.80807   |   valid - 0.79851\n",
      "train - 0.80478   |   valid - 0.76866\n",
      "Average accuracy on crossval is 0.78806\n",
      "Std is 0.02317\n",
      "CPU times: user 34.9 ms, sys: 2 ms, total: 36.9 ms\n",
      "Wall time: 36.2 ms\n"
     ]
    }
   ],
   "source": [
    "%%time \n",
    "\n",
    "model = DecisionTreeClassifier(max_depth=10,random_state=21)\n",
    "skf = StratifiedKFold(n_splits=10)\n",
    "\n",
    "val_scores = []\n",
    "\n",
    "for train_index,train_val in skf.split(X_train, y_train):\n",
    "    \n",
    "    X_tr, X_val = X_train[train_index], X_train[val_index]\n",
    "    y_tr, y_val = y_train[train_index], y_train[val_index]\n",
    "\n",
    "    model.fit(X_tr,y_tr)\n",
    "    train_pred = model.predict(X_tr)\n",
    "    valid_pred = model.predict(X_val)\n",
    "\n",
    "    train_acc = accuracy_score(y_tr, train_pred)\n",
    "    val_acc = accuracy_score(y_val,valid_pred)\n",
    "    val_scores.append(val_acc)\n",
    "\n",
    "    print(f\"train - {train_acc:.5f}   |   valid - {val_acc:.5f}\")\n",
    "\n",
    "print(f\"Average accuracy on crossval is {np.mean(val_scores):.5f}\")\n",
    "print(f\"Std is {np.std(val_scores):.5f}\")"
   ]
  },
  {
   "cell_type": "markdown",
   "metadata": {},
   "source": [
    "### b. Optimizing regularization parameters"
   ]
  },
  {
   "cell_type": "markdown",
   "metadata": {},
   "source": [
    "1. In the cells below try different values of the parameter `max_depth`.\n",
    "2. As a bonus, play with other regularization parameters trying to find the best combination."
   ]
  },
  {
   "cell_type": "code",
   "execution_count": 446,
   "metadata": {},
   "outputs": [
    {
     "name": "stdout",
     "output_type": "stream",
     "text": [
      "\n",
      "Training model with max_depth=10\n",
      "Average accuracy on crossval is 0.71963\n",
      "Std is 0.04791\n",
      "\n",
      "Training model with max_depth=20\n",
      "Average accuracy on crossval is 0.88798\n",
      "Std is 0.01862\n",
      "\n",
      "Training model with max_depth=30\n",
      "Average accuracy on crossval is 0.88797\n",
      "Std is 0.01840\n",
      "\n",
      "Training model with max_depth=100\n",
      "Average accuracy on crossval is 0.88797\n",
      "Std is 0.01840\n",
      "\n",
      "Best max_depth value: 20 with average accuracy: 0.88798\n",
      "CPU times: user 150 ms, sys: 0 ns, total: 150 ms\n",
      "Wall time: 149 ms\n"
     ]
    }
   ],
   "source": [
    "%%time\n",
    "\n",
    "max_depths = [10, 20, 30,100]\n",
    "best_score = 0\n",
    "best_C = None\n",
    "\n",
    "for depth in max_depths:\n",
    "    print(f\"\\nTraining model with max_depth={depth}\")\n",
    "    model = DecisionTreeClassifier(max_depth=depth,random_state=21)\n",
    "    skf = StratifiedKFold(n_splits=10, shuffle=True, random_state=21)\n",
    "    \n",
    "    val_scores = []\n",
    "    \n",
    "    for train_index, val_index in skf.split(X_train, y_train):\n",
    "        X_tr, X_val = X_train[train_index], X_train[val_index]\n",
    "        y_tr, y_val = y_train[train_index], y_train[val_index]\n",
    "        \n",
    "        model.fit(X_tr, y_tr)\n",
    "        \n",
    "        train_pred = model.predict(X_tr)\n",
    "        val_pred = model.predict(X_val)\n",
    "        \n",
    "        train_acc = accuracy_score(y_tr, train_pred)\n",
    "        val_acc = accuracy_score(y_val, val_pred)\n",
    "        \n",
    "        val_scores.append(val_acc)\n",
    "        \n",
    "        # print(f\"train - {train_acc:.5f}   |   valid - {val_acc:.5f}\")\n",
    "    \n",
    "    avg_val = np.mean(val_scores)\n",
    "    std_val = np.std(val_scores)\n",
    "    \n",
    "    print(f\"Average accuracy on crossval is {avg_val:.5f}\")\n",
    "    print(f\"Std is {std_val:.5f}\")\n",
    "    \n",
    "    if avg_val > best_score:\n",
    "        best_score = avg_val\n",
    "        best_C = depth\n",
    "\n",
    "print(f\"\\nBest max_depth value: {best_C} with average accuracy: {best_score:.5f}\")"
   ]
  },
  {
   "cell_type": "code",
   "execution_count": null,
   "metadata": {},
   "outputs": [],
   "source": []
  },
  {
   "cell_type": "code",
   "execution_count": null,
   "metadata": {},
   "outputs": [],
   "source": []
  },
  {
   "cell_type": "markdown",
   "metadata": {},
   "source": [
    "## 5. Random forest"
   ]
  },
  {
   "cell_type": "markdown",
   "metadata": {},
   "source": [
    "### a. Default regularization"
   ]
  },
  {
   "cell_type": "markdown",
   "metadata": {},
   "source": [
    "1. Train a baseline model with the only parameters `n_estimators=50`, `max_depth=14`, `random_state=21`.\n",
    "2. Use stratified K-fold cross-validation with `10` splits to evaluate the accuracy of the model.\n",
    "3. The format of the result of the code where you trained and evaluated the baseline model should be similar to what you have got for the logreg."
   ]
  },
  {
   "cell_type": "code",
   "execution_count": 447,
   "metadata": {},
   "outputs": [
    {
     "name": "stdout",
     "output_type": "stream",
     "text": [
      "train - 0.96455   |   valid - 0.94776\n",
      "train - 0.96208   |   valid - 0.93284\n",
      "train - 0.96785   |   valid - 0.94776\n",
      "train - 0.96455   |   valid - 0.96269\n",
      "train - 0.96538   |   valid - 0.94776\n",
      "train - 0.96538   |   valid - 0.93284\n",
      "train - 0.97115   |   valid - 0.97015\n",
      "train - 0.96867   |   valid - 0.96269\n",
      "train - 0.97364   |   valid - 0.96269\n",
      "train - 0.97941   |   valid - 0.96269\n",
      "Average accuracy on crossval is 0.95299\n",
      "Std is 0.01251\n",
      "CPU times: user 569 ms, sys: 1.99 ms, total: 571 ms\n",
      "Wall time: 572 ms\n"
     ]
    }
   ],
   "source": [
    "%%time \n",
    "\n",
    "model = RandomForestClassifier(n_estimators=50,max_depth=14,random_state=21)\n",
    "skf = StratifiedKFold(n_splits=10)\n",
    "\n",
    "val_scores = []\n",
    "\n",
    "for train_index,train_val in skf.split(X_train, y_train):\n",
    "    \n",
    "    X_tr, X_val = X_train[train_index], X_train[val_index]\n",
    "    y_tr, y_val = y_train[train_index], y_train[val_index]\n",
    "\n",
    "    model.fit(X_tr,y_tr)\n",
    "    train_pred = model.predict(X_tr)\n",
    "    valid_pred = model.predict(X_val)\n",
    "\n",
    "    train_acc = accuracy_score(y_tr, train_pred)\n",
    "    val_acc = accuracy_score(y_val,valid_pred)\n",
    "    val_scores.append(val_acc)\n",
    "\n",
    "    print(f\"train - {train_acc:.5f}   |   valid - {val_acc:.5f}\")\n",
    "\n",
    "print(f\"Average accuracy on crossval is {np.mean(val_scores):.5f}\")\n",
    "print(f\"Std is {np.std(val_scores):.5f}\")"
   ]
  },
  {
   "cell_type": "markdown",
   "metadata": {},
   "source": [
    "### b. Optimizing regularization parameters"
   ]
  },
  {
   "cell_type": "markdown",
   "metadata": {},
   "source": [
    "1. In the new cells try different values of the parameters `max_depth` and `n_estimators`.\n",
    "2. As a bonus, play with other regularization parameters trying to find the best combination."
   ]
  },
  {
   "cell_type": "code",
   "execution_count": 448,
   "metadata": {},
   "outputs": [
    {
     "name": "stdout",
     "output_type": "stream",
     "text": [
      "✅ Best Parameters Found:\n",
      "{'max_depth': 40, 'n_estimators': 60}\n",
      "🎯 Best Cross-Validated Accuracy: 0.94444\n"
     ]
    }
   ],
   "source": [
    "max_depths = [10,20,30,40,60]\n",
    "n_estimators = [20,40,60,80]\n",
    "\n",
    "best_score = 0\n",
    "best_params = {}\n",
    "\n",
    "for n_estimator in n_estimators:\n",
    "    for depth in max_depths:\n",
    "        val_scores = []\n",
    "        model = RandomForestClassifier(\n",
    "            max_depth=depth,\n",
    "            n_estimators = n_estimator,\n",
    "            random_state=21\n",
    "        )\n",
    "        skf = StratifiedKFold(n_splits=10,shuffle=True,random_state=21)\n",
    "\n",
    "        for train_index, val_index in skf.split(X_train, y_train):\n",
    "            X_tr, X_val = X[train_index], X[val_index]\n",
    "            y_tr, y_val = y[train_index], y[val_index]\n",
    "\n",
    "            model.fit(X_tr, y_tr)\n",
    "            val_pred = model.predict(X_val)\n",
    "            val_acc = accuracy_score(y_val, val_pred)\n",
    "            val_scores.append(val_acc)\n",
    "\n",
    "            avg_score = np.mean(val_scores)\n",
    "            # print(avg_score)\n",
    "            if avg_score > best_score:\n",
    "                best_score = avg_score\n",
    "                best_params = {\n",
    "                            \"max_depth\": depth,\n",
    "                            \"n_estimators\": n_estimator,\n",
    "\n",
    "                        }\n",
    "\n",
    "print(\"✅ Best Parameters Found:\")\n",
    "print(best_params)\n",
    "print(f\"🎯 Best Cross-Validated Accuracy: {best_score:.5f}\")\n"
   ]
  },
  {
   "cell_type": "code",
   "execution_count": null,
   "metadata": {},
   "outputs": [],
   "source": []
  },
  {
   "cell_type": "code",
   "execution_count": null,
   "metadata": {},
   "outputs": [],
   "source": []
  },
  {
   "cell_type": "markdown",
   "metadata": {},
   "source": [
    "## 6. Predictions"
   ]
  },
  {
   "cell_type": "markdown",
   "metadata": {},
   "source": [
    "1. Choose the best model and use it to make predictions for the test dataset.\n",
    "2. Calculate the final accuracy.\n",
    "3. Analyze: for which weekday your model makes the most errors (in % of the total number of samples of that class in your test dataset).\n",
    "4. Save the model."
   ]
  },
  {
   "cell_type": "code",
   "execution_count": 449,
   "metadata": {},
   "outputs": [
    {
     "data": {
      "text/plain": [
       "0.9260355029585798"
      ]
     },
     "execution_count": 449,
     "metadata": {},
     "output_type": "execute_result"
    }
   ],
   "source": [
    "best_model = RandomForestClassifier(max_depth=20,n_estimators=80,random_state=21)\n",
    "best_model.fit(X_train,y_train)\n",
    "y_pred = best_model.predict(X_test)\n",
    "accuracy =accuracy_score(y_pred,y_test)\n",
    "accuracy"
   ]
  },
  {
   "cell_type": "code",
   "execution_count": 450,
   "metadata": {},
   "outputs": [
    {
     "data": {
      "text/html": [
       "<div>\n",
       "<style scoped>\n",
       "    .dataframe tbody tr th:only-of-type {\n",
       "        vertical-align: middle;\n",
       "    }\n",
       "\n",
       "    .dataframe tbody tr th {\n",
       "        vertical-align: top;\n",
       "    }\n",
       "\n",
       "    .dataframe thead th {\n",
       "        text-align: right;\n",
       "    }\n",
       "</style>\n",
       "<table border=\"1\" class=\"dataframe\">\n",
       "  <thead>\n",
       "    <tr style=\"text-align: right;\">\n",
       "      <th></th>\n",
       "      <th>true</th>\n",
       "      <th>pred</th>\n",
       "    </tr>\n",
       "  </thead>\n",
       "  <tbody>\n",
       "    <tr>\n",
       "      <th>0</th>\n",
       "      <td>1</td>\n",
       "      <td>1</td>\n",
       "    </tr>\n",
       "    <tr>\n",
       "      <th>1</th>\n",
       "      <td>5</td>\n",
       "      <td>5</td>\n",
       "    </tr>\n",
       "    <tr>\n",
       "      <th>2</th>\n",
       "      <td>6</td>\n",
       "      <td>6</td>\n",
       "    </tr>\n",
       "    <tr>\n",
       "      <th>3</th>\n",
       "      <td>3</td>\n",
       "      <td>3</td>\n",
       "    </tr>\n",
       "    <tr>\n",
       "      <th>4</th>\n",
       "      <td>2</td>\n",
       "      <td>2</td>\n",
       "    </tr>\n",
       "    <tr>\n",
       "      <th>...</th>\n",
       "      <td>...</td>\n",
       "      <td>...</td>\n",
       "    </tr>\n",
       "    <tr>\n",
       "      <th>333</th>\n",
       "      <td>3</td>\n",
       "      <td>3</td>\n",
       "    </tr>\n",
       "    <tr>\n",
       "      <th>334</th>\n",
       "      <td>1</td>\n",
       "      <td>1</td>\n",
       "    </tr>\n",
       "    <tr>\n",
       "      <th>335</th>\n",
       "      <td>2</td>\n",
       "      <td>2</td>\n",
       "    </tr>\n",
       "    <tr>\n",
       "      <th>336</th>\n",
       "      <td>1</td>\n",
       "      <td>1</td>\n",
       "    </tr>\n",
       "    <tr>\n",
       "      <th>337</th>\n",
       "      <td>2</td>\n",
       "      <td>2</td>\n",
       "    </tr>\n",
       "  </tbody>\n",
       "</table>\n",
       "<p>338 rows × 2 columns</p>\n",
       "</div>"
      ],
      "text/plain": [
       "     true  pred\n",
       "0       1     1\n",
       "1       5     5\n",
       "2       6     6\n",
       "3       3     3\n",
       "4       2     2\n",
       "..    ...   ...\n",
       "333     3     3\n",
       "334     1     1\n",
       "335     2     2\n",
       "336     1     1\n",
       "337     2     2\n",
       "\n",
       "[338 rows x 2 columns]"
      ]
     },
     "execution_count": 450,
     "metadata": {},
     "output_type": "execute_result"
    }
   ],
   "source": [
    "results = pd.DataFrame({'true': y_test, 'pred': y_pred})\n",
    "results"
   ]
  },
  {
   "cell_type": "code",
   "execution_count": 459,
   "metadata": {},
   "outputs": [
    {
     "data": {
      "text/plain": [
       "true\n",
       "0    7\n",
       "1    6\n",
       "5    4\n",
       "4    3\n",
       "3    2\n",
       "2    2\n",
       "6    1\n",
       "Name: count, dtype: int64"
      ]
     },
     "execution_count": 459,
     "metadata": {},
     "output_type": "execute_result"
    }
   ],
   "source": [
    "\n",
    "weekday = {0: \"Monday\", 1: \"Tuesday\", 2: \"Wednesday\", 3: \"Thursday\",\n",
    "           4: \"Friday\", 5: \"Saturday\", 6: \"Sunday\"}\n",
    "\n",
    "\n",
    "errors = results[results['true'] != results['pred']]['true'].value_counts()\n",
    "totals = results['true'].value_counts()\n",
    "\n",
    "errors\n"
   ]
  },
  {
   "cell_type": "code",
   "execution_count": 455,
   "metadata": {},
   "outputs": [
    {
     "name": "stdout",
     "output_type": "stream",
     "text": [
      "Misclassification percentages per weekday:\n",
      "Monday: 25.93%\n",
      "Friday: 14.29%\n",
      "Tuesday: 10.91%\n",
      "Saturday: 7.41%\n",
      "Wednesday: 6.67%\n",
      "Thursday: 2.5%\n",
      "Sunday: 1.41%\n",
      "\n",
      "Weekday with most errors: Monday (25.93%)\n"
     ]
    }
   ],
   "source": [
    "error_percent = (errors / totals * 100).round(2).fillna(0)\n",
    "\n",
    "print(\"Misclassification percentages per weekday:\")\n",
    "for day_num in error_percent.sort_values(ascending=False).index:\n",
    "    print(f\"{weekday[day_num]}: {error_percent[day_num]}%\")\n",
    "\n",
    "worst_day = error_percent.idxmax()\n",
    "print(f\"\\nWeekday with most errors: {weekday[worst_day]} ({error_percent[worst_day]}%)\")"
   ]
  },
  {
   "cell_type": "code",
   "execution_count": 453,
   "metadata": {},
   "outputs": [
    {
     "data": {
      "text/plain": [
       "['../data/Randomforest_model.pkl']"
      ]
     },
     "execution_count": 453,
     "metadata": {},
     "output_type": "execute_result"
    }
   ],
   "source": [
    "joblib.dump(best_model,\"../data/Randomforest_model.pkl\")"
   ]
  },
  {
   "cell_type": "code",
   "execution_count": null,
   "metadata": {},
   "outputs": [],
   "source": []
  },
  {
   "cell_type": "code",
   "execution_count": null,
   "metadata": {},
   "outputs": [],
   "source": []
  },
  {
   "cell_type": "code",
   "execution_count": null,
   "metadata": {},
   "outputs": [],
   "source": []
  },
  {
   "cell_type": "code",
   "execution_count": null,
   "metadata": {},
   "outputs": [],
   "source": []
  },
  {
   "cell_type": "code",
   "execution_count": null,
   "metadata": {},
   "outputs": [],
   "source": []
  },
  {
   "cell_type": "code",
   "execution_count": null,
   "metadata": {},
   "outputs": [],
   "source": []
  },
  {
   "cell_type": "code",
   "execution_count": null,
   "metadata": {},
   "outputs": [],
   "source": []
  },
  {
   "cell_type": "code",
   "execution_count": null,
   "metadata": {},
   "outputs": [],
   "source": []
  }
 ],
 "metadata": {
  "kernelspec": {
   "display_name": "Python 3",
   "language": "python",
   "name": "python3"
  },
  "language_info": {
   "codemirror_mode": {
    "name": "ipython",
    "version": 3
   },
   "file_extension": ".py",
   "mimetype": "text/x-python",
   "name": "python",
   "nbconvert_exporter": "python",
   "pygments_lexer": "ipython3",
   "version": "3.12.3"
  }
 },
 "nbformat": 4,
 "nbformat_minor": 4
}
