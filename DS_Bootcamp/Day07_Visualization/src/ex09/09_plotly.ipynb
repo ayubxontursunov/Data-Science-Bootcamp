{
 "cells": [
  {
   "cell_type": "code",
   "execution_count": 60,
   "metadata": {},
   "outputs": [],
   "source": [
    "import pandas as pd\n",
    "import sqlite3\n",
    "import matplotlib.pyplot as plt\n",
    "import plotly.graph_objects as go\n",
    "import numpy as np"
   ]
  },
  {
   "cell_type": "code",
   "execution_count": 61,
   "metadata": {},
   "outputs": [],
   "source": [
    "DB = '../data/checking-logs.sqlite'"
   ]
  },
  {
   "cell_type": "code",
   "execution_count": 62,
   "metadata": {},
   "outputs": [
    {
     "data": {
      "text/html": [
       "<div>\n",
       "<style scoped>\n",
       "    .dataframe tbody tr th:only-of-type {\n",
       "        vertical-align: middle;\n",
       "    }\n",
       "\n",
       "    .dataframe tbody tr th {\n",
       "        vertical-align: top;\n",
       "    }\n",
       "\n",
       "    .dataframe thead th {\n",
       "        text-align: right;\n",
       "    }\n",
       "</style>\n",
       "<table border=\"1\" class=\"dataframe\">\n",
       "  <thead>\n",
       "    <tr style=\"text-align: right;\">\n",
       "      <th></th>\n",
       "      <th>uid</th>\n",
       "      <th>timestamp</th>\n",
       "      <th>numTrials</th>\n",
       "    </tr>\n",
       "  </thead>\n",
       "  <tbody>\n",
       "    <tr>\n",
       "      <th>44</th>\n",
       "      <td>user_25</td>\n",
       "      <td>2020-05-11</td>\n",
       "      <td>33</td>\n",
       "    </tr>\n",
       "    <tr>\n",
       "      <th>45</th>\n",
       "      <td>user_25</td>\n",
       "      <td>2020-05-12</td>\n",
       "      <td>54</td>\n",
       "    </tr>\n",
       "    <tr>\n",
       "      <th>46</th>\n",
       "      <td>user_25</td>\n",
       "      <td>2020-05-13</td>\n",
       "      <td>57</td>\n",
       "    </tr>\n",
       "    <tr>\n",
       "      <th>47</th>\n",
       "      <td>user_25</td>\n",
       "      <td>2020-05-14</td>\n",
       "      <td>77</td>\n",
       "    </tr>\n",
       "    <tr>\n",
       "      <th>48</th>\n",
       "      <td>user_26</td>\n",
       "      <td>2020-05-10</td>\n",
       "      <td>35</td>\n",
       "    </tr>\n",
       "    <tr>\n",
       "      <th>49</th>\n",
       "      <td>user_26</td>\n",
       "      <td>2020-05-13</td>\n",
       "      <td>52</td>\n",
       "    </tr>\n",
       "    <tr>\n",
       "      <th>50</th>\n",
       "      <td>user_26</td>\n",
       "      <td>2020-05-14</td>\n",
       "      <td>67</td>\n",
       "    </tr>\n",
       "    <tr>\n",
       "      <th>51</th>\n",
       "      <td>user_27</td>\n",
       "      <td>2020-05-14</td>\n",
       "      <td>8</td>\n",
       "    </tr>\n",
       "    <tr>\n",
       "      <th>52</th>\n",
       "      <td>user_28</td>\n",
       "      <td>2020-05-12</td>\n",
       "      <td>2</td>\n",
       "    </tr>\n",
       "    <tr>\n",
       "      <th>53</th>\n",
       "      <td>user_28</td>\n",
       "      <td>2020-05-13</td>\n",
       "      <td>20</td>\n",
       "    </tr>\n",
       "    <tr>\n",
       "      <th>54</th>\n",
       "      <td>user_28</td>\n",
       "      <td>2020-05-14</td>\n",
       "      <td>26</td>\n",
       "    </tr>\n",
       "    <tr>\n",
       "      <th>55</th>\n",
       "      <td>user_28</td>\n",
       "      <td>2020-05-15</td>\n",
       "      <td>27</td>\n",
       "    </tr>\n",
       "    <tr>\n",
       "      <th>56</th>\n",
       "      <td>user_29</td>\n",
       "      <td>2020-05-11</td>\n",
       "      <td>5</td>\n",
       "    </tr>\n",
       "    <tr>\n",
       "      <th>57</th>\n",
       "      <td>user_29</td>\n",
       "      <td>2020-05-12</td>\n",
       "      <td>18</td>\n",
       "    </tr>\n",
       "    <tr>\n",
       "      <th>58</th>\n",
       "      <td>user_29</td>\n",
       "      <td>2020-05-13</td>\n",
       "      <td>34</td>\n",
       "    </tr>\n",
       "    <tr>\n",
       "      <th>59</th>\n",
       "      <td>user_29</td>\n",
       "      <td>2020-05-14</td>\n",
       "      <td>35</td>\n",
       "    </tr>\n",
       "    <tr>\n",
       "      <th>60</th>\n",
       "      <td>user_3</td>\n",
       "      <td>2020-05-07</td>\n",
       "      <td>1</td>\n",
       "    </tr>\n",
       "    <tr>\n",
       "      <th>61</th>\n",
       "      <td>user_3</td>\n",
       "      <td>2020-05-08</td>\n",
       "      <td>28</td>\n",
       "    </tr>\n",
       "    <tr>\n",
       "      <th>62</th>\n",
       "      <td>user_3</td>\n",
       "      <td>2020-05-09</td>\n",
       "      <td>29</td>\n",
       "    </tr>\n",
       "    <tr>\n",
       "      <th>63</th>\n",
       "      <td>user_3</td>\n",
       "      <td>2020-05-10</td>\n",
       "      <td>31</td>\n",
       "    </tr>\n",
       "    <tr>\n",
       "      <th>64</th>\n",
       "      <td>user_3</td>\n",
       "      <td>2020-05-11</td>\n",
       "      <td>54</td>\n",
       "    </tr>\n",
       "    <tr>\n",
       "      <th>65</th>\n",
       "      <td>user_3</td>\n",
       "      <td>2020-05-12</td>\n",
       "      <td>56</td>\n",
       "    </tr>\n",
       "    <tr>\n",
       "      <th>66</th>\n",
       "      <td>user_3</td>\n",
       "      <td>2020-05-14</td>\n",
       "      <td>58</td>\n",
       "    </tr>\n",
       "    <tr>\n",
       "      <th>67</th>\n",
       "      <td>user_30</td>\n",
       "      <td>2020-04-22</td>\n",
       "      <td>1</td>\n",
       "    </tr>\n",
       "    <tr>\n",
       "      <th>68</th>\n",
       "      <td>user_30</td>\n",
       "      <td>2020-04-23</td>\n",
       "      <td>2</td>\n",
       "    </tr>\n",
       "    <tr>\n",
       "      <th>69</th>\n",
       "      <td>user_30</td>\n",
       "      <td>2020-05-03</td>\n",
       "      <td>4</td>\n",
       "    </tr>\n",
       "    <tr>\n",
       "      <th>70</th>\n",
       "      <td>user_30</td>\n",
       "      <td>2020-05-04</td>\n",
       "      <td>5</td>\n",
       "    </tr>\n",
       "    <tr>\n",
       "      <th>71</th>\n",
       "      <td>user_30</td>\n",
       "      <td>2020-05-07</td>\n",
       "      <td>12</td>\n",
       "    </tr>\n",
       "    <tr>\n",
       "      <th>72</th>\n",
       "      <td>user_30</td>\n",
       "      <td>2020-05-10</td>\n",
       "      <td>17</td>\n",
       "    </tr>\n",
       "    <tr>\n",
       "      <th>73</th>\n",
       "      <td>user_30</td>\n",
       "      <td>2020-05-14</td>\n",
       "      <td>19</td>\n",
       "    </tr>\n",
       "    <tr>\n",
       "      <th>74</th>\n",
       "      <td>user_31</td>\n",
       "      <td>2020-05-07</td>\n",
       "      <td>1</td>\n",
       "    </tr>\n",
       "    <tr>\n",
       "      <th>75</th>\n",
       "      <td>user_31</td>\n",
       "      <td>2020-05-09</td>\n",
       "      <td>4</td>\n",
       "    </tr>\n",
       "    <tr>\n",
       "      <th>76</th>\n",
       "      <td>user_31</td>\n",
       "      <td>2020-05-11</td>\n",
       "      <td>6</td>\n",
       "    </tr>\n",
       "    <tr>\n",
       "      <th>77</th>\n",
       "      <td>user_31</td>\n",
       "      <td>2020-05-14</td>\n",
       "      <td>8</td>\n",
       "    </tr>\n",
       "    <tr>\n",
       "      <th>78</th>\n",
       "      <td>user_4</td>\n",
       "      <td>2020-04-17</td>\n",
       "      <td>7</td>\n",
       "    </tr>\n",
       "    <tr>\n",
       "      <th>79</th>\n",
       "      <td>user_4</td>\n",
       "      <td>2020-04-19</td>\n",
       "      <td>11</td>\n",
       "    </tr>\n",
       "    <tr>\n",
       "      <th>80</th>\n",
       "      <td>user_4</td>\n",
       "      <td>2020-04-23</td>\n",
       "      <td>20</td>\n",
       "    </tr>\n",
       "    <tr>\n",
       "      <th>81</th>\n",
       "      <td>user_4</td>\n",
       "      <td>2020-04-24</td>\n",
       "      <td>27</td>\n",
       "    </tr>\n",
       "    <tr>\n",
       "      <th>82</th>\n",
       "      <td>user_4</td>\n",
       "      <td>2020-05-03</td>\n",
       "      <td>35</td>\n",
       "    </tr>\n",
       "    <tr>\n",
       "      <th>83</th>\n",
       "      <td>user_4</td>\n",
       "      <td>2020-05-04</td>\n",
       "      <td>48</td>\n",
       "    </tr>\n",
       "    <tr>\n",
       "      <th>84</th>\n",
       "      <td>user_4</td>\n",
       "      <td>2020-05-05</td>\n",
       "      <td>53</td>\n",
       "    </tr>\n",
       "    <tr>\n",
       "      <th>85</th>\n",
       "      <td>user_4</td>\n",
       "      <td>2020-05-07</td>\n",
       "      <td>71</td>\n",
       "    </tr>\n",
       "    <tr>\n",
       "      <th>86</th>\n",
       "      <td>user_4</td>\n",
       "      <td>2020-05-08</td>\n",
       "      <td>83</td>\n",
       "    </tr>\n",
       "    <tr>\n",
       "      <th>87</th>\n",
       "      <td>user_4</td>\n",
       "      <td>2020-05-11</td>\n",
       "      <td>87</td>\n",
       "    </tr>\n",
       "    <tr>\n",
       "      <th>88</th>\n",
       "      <td>user_4</td>\n",
       "      <td>2020-05-12</td>\n",
       "      <td>125</td>\n",
       "    </tr>\n",
       "    <tr>\n",
       "      <th>89</th>\n",
       "      <td>user_4</td>\n",
       "      <td>2020-05-13</td>\n",
       "      <td>137</td>\n",
       "    </tr>\n",
       "    <tr>\n",
       "      <th>90</th>\n",
       "      <td>user_4</td>\n",
       "      <td>2020-05-14</td>\n",
       "      <td>164</td>\n",
       "    </tr>\n",
       "    <tr>\n",
       "      <th>91</th>\n",
       "      <td>user_6</td>\n",
       "      <td>2020-05-13</td>\n",
       "      <td>1</td>\n",
       "    </tr>\n",
       "    <tr>\n",
       "      <th>92</th>\n",
       "      <td>user_6</td>\n",
       "      <td>2020-05-14</td>\n",
       "      <td>2</td>\n",
       "    </tr>\n",
       "    <tr>\n",
       "      <th>93</th>\n",
       "      <td>user_8</td>\n",
       "      <td>2020-05-14</td>\n",
       "      <td>8</td>\n",
       "    </tr>\n",
       "  </tbody>\n",
       "</table>\n",
       "</div>"
      ],
      "text/plain": [
       "        uid   timestamp  numTrials\n",
       "44  user_25  2020-05-11         33\n",
       "45  user_25  2020-05-12         54\n",
       "46  user_25  2020-05-13         57\n",
       "47  user_25  2020-05-14         77\n",
       "48  user_26  2020-05-10         35\n",
       "49  user_26  2020-05-13         52\n",
       "50  user_26  2020-05-14         67\n",
       "51  user_27  2020-05-14          8\n",
       "52  user_28  2020-05-12          2\n",
       "53  user_28  2020-05-13         20\n",
       "54  user_28  2020-05-14         26\n",
       "55  user_28  2020-05-15         27\n",
       "56  user_29  2020-05-11          5\n",
       "57  user_29  2020-05-12         18\n",
       "58  user_29  2020-05-13         34\n",
       "59  user_29  2020-05-14         35\n",
       "60   user_3  2020-05-07          1\n",
       "61   user_3  2020-05-08         28\n",
       "62   user_3  2020-05-09         29\n",
       "63   user_3  2020-05-10         31\n",
       "64   user_3  2020-05-11         54\n",
       "65   user_3  2020-05-12         56\n",
       "66   user_3  2020-05-14         58\n",
       "67  user_30  2020-04-22          1\n",
       "68  user_30  2020-04-23          2\n",
       "69  user_30  2020-05-03          4\n",
       "70  user_30  2020-05-04          5\n",
       "71  user_30  2020-05-07         12\n",
       "72  user_30  2020-05-10         17\n",
       "73  user_30  2020-05-14         19\n",
       "74  user_31  2020-05-07          1\n",
       "75  user_31  2020-05-09          4\n",
       "76  user_31  2020-05-11          6\n",
       "77  user_31  2020-05-14          8\n",
       "78   user_4  2020-04-17          7\n",
       "79   user_4  2020-04-19         11\n",
       "80   user_4  2020-04-23         20\n",
       "81   user_4  2020-04-24         27\n",
       "82   user_4  2020-05-03         35\n",
       "83   user_4  2020-05-04         48\n",
       "84   user_4  2020-05-05         53\n",
       "85   user_4  2020-05-07         71\n",
       "86   user_4  2020-05-08         83\n",
       "87   user_4  2020-05-11         87\n",
       "88   user_4  2020-05-12        125\n",
       "89   user_4  2020-05-13        137\n",
       "90   user_4  2020-05-14        164\n",
       "91   user_6  2020-05-13          1\n",
       "92   user_6  2020-05-14          2\n",
       "93   user_8  2020-05-14          8"
      ]
     },
     "execution_count": 62,
     "metadata": {},
     "output_type": "execute_result"
    }
   ],
   "source": [
    "conn = sqlite3.connect(DB)\n",
    "query = \"\"\"\n",
    "SELECT uid, timestamp, numTrials\n",
    "FROM checker\n",
    "WHERE\n",
    "    uid LIKE 'user_%' AND\n",
    "    status = 'ready' AND\n",
    "    labname = 'project1'\n",
    "\"\"\"\n",
    "data = pd.read_sql(query,conn)\n",
    "conn.close()\n",
    "data['timestamp'] = pd.to_datetime(data['timestamp']).dt.date\n",
    "data = data.groupby(['uid','timestamp']).max().reset_index()\n",
    "data = data.sort_values(['uid','timestamp'])\n",
    "data.tail(50)\n"
   ]
  },
  {
   "cell_type": "code",
   "execution_count": 63,
   "metadata": {},
   "outputs": [
    {
     "name": "stderr",
     "output_type": "stream",
     "text": [
      "/tmp/ipykernel_2802212/383670359.py:5: FutureWarning:\n",
      "\n",
      "Downcasting object dtype arrays on .fillna, .ffill, .bfill is deprecated and will change in a future version. Call result.infer_objects(copy=False) instead. To opt-in to the future behavior, set `pd.set_option('future.no_silent_downcasting', True)`\n",
      "\n"
     ]
    },
    {
     "data": {
      "text/html": [
       "<div>\n",
       "<style scoped>\n",
       "    .dataframe tbody tr th:only-of-type {\n",
       "        vertical-align: middle;\n",
       "    }\n",
       "\n",
       "    .dataframe tbody tr th {\n",
       "        vertical-align: top;\n",
       "    }\n",
       "\n",
       "    .dataframe thead th {\n",
       "        text-align: right;\n",
       "    }\n",
       "</style>\n",
       "<table border=\"1\" class=\"dataframe\">\n",
       "  <thead>\n",
       "    <tr style=\"text-align: right;\">\n",
       "      <th></th>\n",
       "      <th>2020-04-17</th>\n",
       "      <th>2020-04-18</th>\n",
       "      <th>2020-04-19</th>\n",
       "      <th>2020-04-22</th>\n",
       "      <th>2020-04-23</th>\n",
       "      <th>2020-04-24</th>\n",
       "      <th>2020-05-03</th>\n",
       "      <th>2020-05-04</th>\n",
       "      <th>2020-05-05</th>\n",
       "      <th>2020-05-06</th>\n",
       "      <th>2020-05-07</th>\n",
       "      <th>2020-05-08</th>\n",
       "      <th>2020-05-09</th>\n",
       "      <th>2020-05-10</th>\n",
       "      <th>2020-05-11</th>\n",
       "      <th>2020-05-12</th>\n",
       "      <th>2020-05-13</th>\n",
       "      <th>2020-05-14</th>\n",
       "      <th>2020-05-15</th>\n",
       "    </tr>\n",
       "  </thead>\n",
       "  <tbody>\n",
       "    <tr>\n",
       "      <th>user_1</th>\n",
       "      <td>0</td>\n",
       "      <td>0</td>\n",
       "      <td>0</td>\n",
       "      <td>0</td>\n",
       "      <td>0</td>\n",
       "      <td>0</td>\n",
       "      <td>0</td>\n",
       "      <td>0</td>\n",
       "      <td>0</td>\n",
       "      <td>0</td>\n",
       "      <td>0</td>\n",
       "      <td>0</td>\n",
       "      <td>0</td>\n",
       "      <td>0</td>\n",
       "      <td>0</td>\n",
       "      <td>0</td>\n",
       "      <td>0</td>\n",
       "      <td>11</td>\n",
       "      <td>0</td>\n",
       "    </tr>\n",
       "    <tr>\n",
       "      <th>user_10</th>\n",
       "      <td>0</td>\n",
       "      <td>0</td>\n",
       "      <td>0</td>\n",
       "      <td>0</td>\n",
       "      <td>0</td>\n",
       "      <td>0</td>\n",
       "      <td>0</td>\n",
       "      <td>0</td>\n",
       "      <td>0</td>\n",
       "      <td>0</td>\n",
       "      <td>0</td>\n",
       "      <td>0</td>\n",
       "      <td>0</td>\n",
       "      <td>0</td>\n",
       "      <td>0</td>\n",
       "      <td>7</td>\n",
       "      <td>21</td>\n",
       "      <td>59</td>\n",
       "      <td>0</td>\n",
       "    </tr>\n",
       "    <tr>\n",
       "      <th>user_11</th>\n",
       "      <td>0</td>\n",
       "      <td>0</td>\n",
       "      <td>0</td>\n",
       "      <td>0</td>\n",
       "      <td>0</td>\n",
       "      <td>0</td>\n",
       "      <td>1</td>\n",
       "      <td>0</td>\n",
       "      <td>0</td>\n",
       "      <td>0</td>\n",
       "      <td>0</td>\n",
       "      <td>0</td>\n",
       "      <td>0</td>\n",
       "      <td>0</td>\n",
       "      <td>0</td>\n",
       "      <td>0</td>\n",
       "      <td>0</td>\n",
       "      <td>0</td>\n",
       "      <td>0</td>\n",
       "    </tr>\n",
       "    <tr>\n",
       "      <th>user_12</th>\n",
       "      <td>0</td>\n",
       "      <td>0</td>\n",
       "      <td>0</td>\n",
       "      <td>0</td>\n",
       "      <td>0</td>\n",
       "      <td>0</td>\n",
       "      <td>0</td>\n",
       "      <td>0</td>\n",
       "      <td>0</td>\n",
       "      <td>0</td>\n",
       "      <td>0</td>\n",
       "      <td>0</td>\n",
       "      <td>0</td>\n",
       "      <td>0</td>\n",
       "      <td>0</td>\n",
       "      <td>0</td>\n",
       "      <td>0</td>\n",
       "      <td>4</td>\n",
       "      <td>0</td>\n",
       "    </tr>\n",
       "    <tr>\n",
       "      <th>user_13</th>\n",
       "      <td>0</td>\n",
       "      <td>0</td>\n",
       "      <td>0</td>\n",
       "      <td>0</td>\n",
       "      <td>0</td>\n",
       "      <td>0</td>\n",
       "      <td>0</td>\n",
       "      <td>0</td>\n",
       "      <td>0</td>\n",
       "      <td>0</td>\n",
       "      <td>0</td>\n",
       "      <td>0</td>\n",
       "      <td>0</td>\n",
       "      <td>0</td>\n",
       "      <td>2</td>\n",
       "      <td>30</td>\n",
       "      <td>0</td>\n",
       "      <td>32</td>\n",
       "      <td>0</td>\n",
       "    </tr>\n",
       "    <tr>\n",
       "      <th>user_14</th>\n",
       "      <td>0</td>\n",
       "      <td>0</td>\n",
       "      <td>0</td>\n",
       "      <td>0</td>\n",
       "      <td>0</td>\n",
       "      <td>0</td>\n",
       "      <td>0</td>\n",
       "      <td>0</td>\n",
       "      <td>1</td>\n",
       "      <td>0</td>\n",
       "      <td>0</td>\n",
       "      <td>0</td>\n",
       "      <td>18</td>\n",
       "      <td>25</td>\n",
       "      <td>49</td>\n",
       "      <td>92</td>\n",
       "      <td>0</td>\n",
       "      <td>99</td>\n",
       "      <td>0</td>\n",
       "    </tr>\n",
       "    <tr>\n",
       "      <th>user_15</th>\n",
       "      <td>0</td>\n",
       "      <td>0</td>\n",
       "      <td>0</td>\n",
       "      <td>0</td>\n",
       "      <td>0</td>\n",
       "      <td>0</td>\n",
       "      <td>0</td>\n",
       "      <td>0</td>\n",
       "      <td>0</td>\n",
       "      <td>0</td>\n",
       "      <td>0</td>\n",
       "      <td>0</td>\n",
       "      <td>0</td>\n",
       "      <td>0</td>\n",
       "      <td>0</td>\n",
       "      <td>0</td>\n",
       "      <td>0</td>\n",
       "      <td>3</td>\n",
       "      <td>0</td>\n",
       "    </tr>\n",
       "    <tr>\n",
       "      <th>user_16</th>\n",
       "      <td>0</td>\n",
       "      <td>0</td>\n",
       "      <td>0</td>\n",
       "      <td>0</td>\n",
       "      <td>0</td>\n",
       "      <td>0</td>\n",
       "      <td>0</td>\n",
       "      <td>0</td>\n",
       "      <td>0</td>\n",
       "      <td>0</td>\n",
       "      <td>0</td>\n",
       "      <td>0</td>\n",
       "      <td>0</td>\n",
       "      <td>0</td>\n",
       "      <td>0</td>\n",
       "      <td>3</td>\n",
       "      <td>0</td>\n",
       "      <td>10</td>\n",
       "      <td>0</td>\n",
       "    </tr>\n",
       "    <tr>\n",
       "      <th>user_17</th>\n",
       "      <td>0</td>\n",
       "      <td>1</td>\n",
       "      <td>0</td>\n",
       "      <td>0</td>\n",
       "      <td>0</td>\n",
       "      <td>0</td>\n",
       "      <td>0</td>\n",
       "      <td>0</td>\n",
       "      <td>0</td>\n",
       "      <td>0</td>\n",
       "      <td>0</td>\n",
       "      <td>0</td>\n",
       "      <td>0</td>\n",
       "      <td>0</td>\n",
       "      <td>0</td>\n",
       "      <td>3</td>\n",
       "      <td>0</td>\n",
       "      <td>6</td>\n",
       "      <td>0</td>\n",
       "    </tr>\n",
       "    <tr>\n",
       "      <th>user_18</th>\n",
       "      <td>0</td>\n",
       "      <td>0</td>\n",
       "      <td>0</td>\n",
       "      <td>0</td>\n",
       "      <td>0</td>\n",
       "      <td>0</td>\n",
       "      <td>0</td>\n",
       "      <td>0</td>\n",
       "      <td>0</td>\n",
       "      <td>0</td>\n",
       "      <td>0</td>\n",
       "      <td>0</td>\n",
       "      <td>0</td>\n",
       "      <td>0</td>\n",
       "      <td>7</td>\n",
       "      <td>0</td>\n",
       "      <td>8</td>\n",
       "      <td>31</td>\n",
       "      <td>0</td>\n",
       "    </tr>\n",
       "    <tr>\n",
       "      <th>user_19</th>\n",
       "      <td>0</td>\n",
       "      <td>0</td>\n",
       "      <td>0</td>\n",
       "      <td>0</td>\n",
       "      <td>0</td>\n",
       "      <td>0</td>\n",
       "      <td>0</td>\n",
       "      <td>0</td>\n",
       "      <td>0</td>\n",
       "      <td>0</td>\n",
       "      <td>0</td>\n",
       "      <td>0</td>\n",
       "      <td>0</td>\n",
       "      <td>0</td>\n",
       "      <td>0</td>\n",
       "      <td>0</td>\n",
       "      <td>0</td>\n",
       "      <td>25</td>\n",
       "      <td>29</td>\n",
       "    </tr>\n",
       "    <tr>\n",
       "      <th>user_2</th>\n",
       "      <td>0</td>\n",
       "      <td>0</td>\n",
       "      <td>0</td>\n",
       "      <td>0</td>\n",
       "      <td>0</td>\n",
       "      <td>0</td>\n",
       "      <td>0</td>\n",
       "      <td>0</td>\n",
       "      <td>57</td>\n",
       "      <td>58</td>\n",
       "      <td>0</td>\n",
       "      <td>0</td>\n",
       "      <td>0</td>\n",
       "      <td>62</td>\n",
       "      <td>74</td>\n",
       "      <td>78</td>\n",
       "      <td>93</td>\n",
       "      <td>95</td>\n",
       "      <td>0</td>\n",
       "    </tr>\n",
       "    <tr>\n",
       "      <th>user_20</th>\n",
       "      <td>0</td>\n",
       "      <td>0</td>\n",
       "      <td>0</td>\n",
       "      <td>0</td>\n",
       "      <td>0</td>\n",
       "      <td>0</td>\n",
       "      <td>0</td>\n",
       "      <td>0</td>\n",
       "      <td>0</td>\n",
       "      <td>0</td>\n",
       "      <td>0</td>\n",
       "      <td>0</td>\n",
       "      <td>0</td>\n",
       "      <td>0</td>\n",
       "      <td>11</td>\n",
       "      <td>0</td>\n",
       "      <td>0</td>\n",
       "      <td>54</td>\n",
       "      <td>0</td>\n",
       "    </tr>\n",
       "    <tr>\n",
       "      <th>user_21</th>\n",
       "      <td>0</td>\n",
       "      <td>0</td>\n",
       "      <td>0</td>\n",
       "      <td>0</td>\n",
       "      <td>0</td>\n",
       "      <td>0</td>\n",
       "      <td>0</td>\n",
       "      <td>0</td>\n",
       "      <td>0</td>\n",
       "      <td>0</td>\n",
       "      <td>0</td>\n",
       "      <td>0</td>\n",
       "      <td>0</td>\n",
       "      <td>7</td>\n",
       "      <td>0</td>\n",
       "      <td>0</td>\n",
       "      <td>0</td>\n",
       "      <td>9</td>\n",
       "      <td>0</td>\n",
       "    </tr>\n",
       "    <tr>\n",
       "      <th>user_22</th>\n",
       "      <td>0</td>\n",
       "      <td>0</td>\n",
       "      <td>0</td>\n",
       "      <td>0</td>\n",
       "      <td>0</td>\n",
       "      <td>0</td>\n",
       "      <td>1</td>\n",
       "      <td>0</td>\n",
       "      <td>0</td>\n",
       "      <td>0</td>\n",
       "      <td>0</td>\n",
       "      <td>0</td>\n",
       "      <td>0</td>\n",
       "      <td>0</td>\n",
       "      <td>0</td>\n",
       "      <td>0</td>\n",
       "      <td>0</td>\n",
       "      <td>2</td>\n",
       "      <td>0</td>\n",
       "    </tr>\n",
       "    <tr>\n",
       "      <th>user_24</th>\n",
       "      <td>0</td>\n",
       "      <td>0</td>\n",
       "      <td>0</td>\n",
       "      <td>0</td>\n",
       "      <td>0</td>\n",
       "      <td>0</td>\n",
       "      <td>0</td>\n",
       "      <td>0</td>\n",
       "      <td>0</td>\n",
       "      <td>0</td>\n",
       "      <td>0</td>\n",
       "      <td>0</td>\n",
       "      <td>0</td>\n",
       "      <td>0</td>\n",
       "      <td>0</td>\n",
       "      <td>0</td>\n",
       "      <td>9</td>\n",
       "      <td>34</td>\n",
       "      <td>0</td>\n",
       "    </tr>\n",
       "    <tr>\n",
       "      <th>user_25</th>\n",
       "      <td>0</td>\n",
       "      <td>0</td>\n",
       "      <td>0</td>\n",
       "      <td>0</td>\n",
       "      <td>0</td>\n",
       "      <td>0</td>\n",
       "      <td>0</td>\n",
       "      <td>0</td>\n",
       "      <td>0</td>\n",
       "      <td>0</td>\n",
       "      <td>0</td>\n",
       "      <td>5</td>\n",
       "      <td>27</td>\n",
       "      <td>29</td>\n",
       "      <td>33</td>\n",
       "      <td>54</td>\n",
       "      <td>57</td>\n",
       "      <td>77</td>\n",
       "      <td>0</td>\n",
       "    </tr>\n",
       "    <tr>\n",
       "      <th>user_26</th>\n",
       "      <td>0</td>\n",
       "      <td>0</td>\n",
       "      <td>0</td>\n",
       "      <td>0</td>\n",
       "      <td>0</td>\n",
       "      <td>0</td>\n",
       "      <td>0</td>\n",
       "      <td>0</td>\n",
       "      <td>0</td>\n",
       "      <td>0</td>\n",
       "      <td>0</td>\n",
       "      <td>0</td>\n",
       "      <td>0</td>\n",
       "      <td>35</td>\n",
       "      <td>0</td>\n",
       "      <td>0</td>\n",
       "      <td>52</td>\n",
       "      <td>67</td>\n",
       "      <td>0</td>\n",
       "    </tr>\n",
       "    <tr>\n",
       "      <th>user_27</th>\n",
       "      <td>0</td>\n",
       "      <td>0</td>\n",
       "      <td>0</td>\n",
       "      <td>0</td>\n",
       "      <td>0</td>\n",
       "      <td>0</td>\n",
       "      <td>0</td>\n",
       "      <td>0</td>\n",
       "      <td>0</td>\n",
       "      <td>0</td>\n",
       "      <td>0</td>\n",
       "      <td>0</td>\n",
       "      <td>0</td>\n",
       "      <td>0</td>\n",
       "      <td>0</td>\n",
       "      <td>0</td>\n",
       "      <td>0</td>\n",
       "      <td>8</td>\n",
       "      <td>0</td>\n",
       "    </tr>\n",
       "    <tr>\n",
       "      <th>user_28</th>\n",
       "      <td>0</td>\n",
       "      <td>0</td>\n",
       "      <td>0</td>\n",
       "      <td>0</td>\n",
       "      <td>0</td>\n",
       "      <td>0</td>\n",
       "      <td>0</td>\n",
       "      <td>0</td>\n",
       "      <td>0</td>\n",
       "      <td>0</td>\n",
       "      <td>0</td>\n",
       "      <td>0</td>\n",
       "      <td>0</td>\n",
       "      <td>0</td>\n",
       "      <td>0</td>\n",
       "      <td>2</td>\n",
       "      <td>20</td>\n",
       "      <td>26</td>\n",
       "      <td>27</td>\n",
       "    </tr>\n",
       "    <tr>\n",
       "      <th>user_29</th>\n",
       "      <td>0</td>\n",
       "      <td>0</td>\n",
       "      <td>0</td>\n",
       "      <td>0</td>\n",
       "      <td>0</td>\n",
       "      <td>0</td>\n",
       "      <td>0</td>\n",
       "      <td>0</td>\n",
       "      <td>0</td>\n",
       "      <td>0</td>\n",
       "      <td>0</td>\n",
       "      <td>0</td>\n",
       "      <td>0</td>\n",
       "      <td>0</td>\n",
       "      <td>5</td>\n",
       "      <td>18</td>\n",
       "      <td>34</td>\n",
       "      <td>35</td>\n",
       "      <td>0</td>\n",
       "    </tr>\n",
       "    <tr>\n",
       "      <th>user_3</th>\n",
       "      <td>0</td>\n",
       "      <td>0</td>\n",
       "      <td>0</td>\n",
       "      <td>0</td>\n",
       "      <td>0</td>\n",
       "      <td>0</td>\n",
       "      <td>0</td>\n",
       "      <td>0</td>\n",
       "      <td>0</td>\n",
       "      <td>0</td>\n",
       "      <td>1</td>\n",
       "      <td>28</td>\n",
       "      <td>29</td>\n",
       "      <td>31</td>\n",
       "      <td>54</td>\n",
       "      <td>56</td>\n",
       "      <td>0</td>\n",
       "      <td>58</td>\n",
       "      <td>0</td>\n",
       "    </tr>\n",
       "    <tr>\n",
       "      <th>user_30</th>\n",
       "      <td>0</td>\n",
       "      <td>0</td>\n",
       "      <td>0</td>\n",
       "      <td>1</td>\n",
       "      <td>2</td>\n",
       "      <td>0</td>\n",
       "      <td>4</td>\n",
       "      <td>5</td>\n",
       "      <td>0</td>\n",
       "      <td>0</td>\n",
       "      <td>12</td>\n",
       "      <td>0</td>\n",
       "      <td>0</td>\n",
       "      <td>17</td>\n",
       "      <td>0</td>\n",
       "      <td>0</td>\n",
       "      <td>0</td>\n",
       "      <td>19</td>\n",
       "      <td>0</td>\n",
       "    </tr>\n",
       "    <tr>\n",
       "      <th>user_31</th>\n",
       "      <td>0</td>\n",
       "      <td>0</td>\n",
       "      <td>0</td>\n",
       "      <td>0</td>\n",
       "      <td>0</td>\n",
       "      <td>0</td>\n",
       "      <td>0</td>\n",
       "      <td>0</td>\n",
       "      <td>0</td>\n",
       "      <td>0</td>\n",
       "      <td>1</td>\n",
       "      <td>0</td>\n",
       "      <td>4</td>\n",
       "      <td>0</td>\n",
       "      <td>6</td>\n",
       "      <td>0</td>\n",
       "      <td>0</td>\n",
       "      <td>8</td>\n",
       "      <td>0</td>\n",
       "    </tr>\n",
       "    <tr>\n",
       "      <th>user_4</th>\n",
       "      <td>7</td>\n",
       "      <td>0</td>\n",
       "      <td>11</td>\n",
       "      <td>0</td>\n",
       "      <td>20</td>\n",
       "      <td>27</td>\n",
       "      <td>35</td>\n",
       "      <td>48</td>\n",
       "      <td>53</td>\n",
       "      <td>0</td>\n",
       "      <td>71</td>\n",
       "      <td>83</td>\n",
       "      <td>0</td>\n",
       "      <td>0</td>\n",
       "      <td>87</td>\n",
       "      <td>125</td>\n",
       "      <td>137</td>\n",
       "      <td>164</td>\n",
       "      <td>0</td>\n",
       "    </tr>\n",
       "    <tr>\n",
       "      <th>user_6</th>\n",
       "      <td>0</td>\n",
       "      <td>0</td>\n",
       "      <td>0</td>\n",
       "      <td>0</td>\n",
       "      <td>0</td>\n",
       "      <td>0</td>\n",
       "      <td>0</td>\n",
       "      <td>0</td>\n",
       "      <td>0</td>\n",
       "      <td>0</td>\n",
       "      <td>0</td>\n",
       "      <td>0</td>\n",
       "      <td>0</td>\n",
       "      <td>0</td>\n",
       "      <td>0</td>\n",
       "      <td>0</td>\n",
       "      <td>1</td>\n",
       "      <td>2</td>\n",
       "      <td>0</td>\n",
       "    </tr>\n",
       "    <tr>\n",
       "      <th>user_8</th>\n",
       "      <td>0</td>\n",
       "      <td>0</td>\n",
       "      <td>0</td>\n",
       "      <td>0</td>\n",
       "      <td>0</td>\n",
       "      <td>0</td>\n",
       "      <td>0</td>\n",
       "      <td>0</td>\n",
       "      <td>0</td>\n",
       "      <td>0</td>\n",
       "      <td>0</td>\n",
       "      <td>0</td>\n",
       "      <td>0</td>\n",
       "      <td>0</td>\n",
       "      <td>0</td>\n",
       "      <td>0</td>\n",
       "      <td>0</td>\n",
       "      <td>8</td>\n",
       "      <td>0</td>\n",
       "    </tr>\n",
       "  </tbody>\n",
       "</table>\n",
       "</div>"
      ],
      "text/plain": [
       "         2020-04-17  2020-04-18  2020-04-19  2020-04-22  2020-04-23  \\\n",
       "user_1            0           0           0           0           0   \n",
       "user_10           0           0           0           0           0   \n",
       "user_11           0           0           0           0           0   \n",
       "user_12           0           0           0           0           0   \n",
       "user_13           0           0           0           0           0   \n",
       "user_14           0           0           0           0           0   \n",
       "user_15           0           0           0           0           0   \n",
       "user_16           0           0           0           0           0   \n",
       "user_17           0           1           0           0           0   \n",
       "user_18           0           0           0           0           0   \n",
       "user_19           0           0           0           0           0   \n",
       "user_2            0           0           0           0           0   \n",
       "user_20           0           0           0           0           0   \n",
       "user_21           0           0           0           0           0   \n",
       "user_22           0           0           0           0           0   \n",
       "user_24           0           0           0           0           0   \n",
       "user_25           0           0           0           0           0   \n",
       "user_26           0           0           0           0           0   \n",
       "user_27           0           0           0           0           0   \n",
       "user_28           0           0           0           0           0   \n",
       "user_29           0           0           0           0           0   \n",
       "user_3            0           0           0           0           0   \n",
       "user_30           0           0           0           1           2   \n",
       "user_31           0           0           0           0           0   \n",
       "user_4            7           0          11           0          20   \n",
       "user_6            0           0           0           0           0   \n",
       "user_8            0           0           0           0           0   \n",
       "\n",
       "         2020-04-24  2020-05-03  2020-05-04  2020-05-05  2020-05-06  \\\n",
       "user_1            0           0           0           0           0   \n",
       "user_10           0           0           0           0           0   \n",
       "user_11           0           1           0           0           0   \n",
       "user_12           0           0           0           0           0   \n",
       "user_13           0           0           0           0           0   \n",
       "user_14           0           0           0           1           0   \n",
       "user_15           0           0           0           0           0   \n",
       "user_16           0           0           0           0           0   \n",
       "user_17           0           0           0           0           0   \n",
       "user_18           0           0           0           0           0   \n",
       "user_19           0           0           0           0           0   \n",
       "user_2            0           0           0          57          58   \n",
       "user_20           0           0           0           0           0   \n",
       "user_21           0           0           0           0           0   \n",
       "user_22           0           1           0           0           0   \n",
       "user_24           0           0           0           0           0   \n",
       "user_25           0           0           0           0           0   \n",
       "user_26           0           0           0           0           0   \n",
       "user_27           0           0           0           0           0   \n",
       "user_28           0           0           0           0           0   \n",
       "user_29           0           0           0           0           0   \n",
       "user_3            0           0           0           0           0   \n",
       "user_30           0           4           5           0           0   \n",
       "user_31           0           0           0           0           0   \n",
       "user_4           27          35          48          53           0   \n",
       "user_6            0           0           0           0           0   \n",
       "user_8            0           0           0           0           0   \n",
       "\n",
       "         2020-05-07  2020-05-08  2020-05-09  2020-05-10  2020-05-11  \\\n",
       "user_1            0           0           0           0           0   \n",
       "user_10           0           0           0           0           0   \n",
       "user_11           0           0           0           0           0   \n",
       "user_12           0           0           0           0           0   \n",
       "user_13           0           0           0           0           2   \n",
       "user_14           0           0          18          25          49   \n",
       "user_15           0           0           0           0           0   \n",
       "user_16           0           0           0           0           0   \n",
       "user_17           0           0           0           0           0   \n",
       "user_18           0           0           0           0           7   \n",
       "user_19           0           0           0           0           0   \n",
       "user_2            0           0           0          62          74   \n",
       "user_20           0           0           0           0          11   \n",
       "user_21           0           0           0           7           0   \n",
       "user_22           0           0           0           0           0   \n",
       "user_24           0           0           0           0           0   \n",
       "user_25           0           5          27          29          33   \n",
       "user_26           0           0           0          35           0   \n",
       "user_27           0           0           0           0           0   \n",
       "user_28           0           0           0           0           0   \n",
       "user_29           0           0           0           0           5   \n",
       "user_3            1          28          29          31          54   \n",
       "user_30          12           0           0          17           0   \n",
       "user_31           1           0           4           0           6   \n",
       "user_4           71          83           0           0          87   \n",
       "user_6            0           0           0           0           0   \n",
       "user_8            0           0           0           0           0   \n",
       "\n",
       "         2020-05-12  2020-05-13  2020-05-14  2020-05-15  \n",
       "user_1            0           0          11           0  \n",
       "user_10           7          21          59           0  \n",
       "user_11           0           0           0           0  \n",
       "user_12           0           0           4           0  \n",
       "user_13          30           0          32           0  \n",
       "user_14          92           0          99           0  \n",
       "user_15           0           0           3           0  \n",
       "user_16           3           0          10           0  \n",
       "user_17           3           0           6           0  \n",
       "user_18           0           8          31           0  \n",
       "user_19           0           0          25          29  \n",
       "user_2           78          93          95           0  \n",
       "user_20           0           0          54           0  \n",
       "user_21           0           0           9           0  \n",
       "user_22           0           0           2           0  \n",
       "user_24           0           9          34           0  \n",
       "user_25          54          57          77           0  \n",
       "user_26           0          52          67           0  \n",
       "user_27           0           0           8           0  \n",
       "user_28           2          20          26          27  \n",
       "user_29          18          34          35           0  \n",
       "user_3           56           0          58           0  \n",
       "user_30           0           0          19           0  \n",
       "user_31           0           0           8           0  \n",
       "user_4          125         137         164           0  \n",
       "user_6            0           1           2           0  \n",
       "user_8            0           0           8           0  "
      ]
     },
     "execution_count": 63,
     "metadata": {},
     "output_type": "execute_result"
    }
   ],
   "source": [
    "date_range = pd.date_range(data['timestamp'].min(), data['timestamp'].max()).date\n",
    "# date_range\n",
    "users = data['uid'].unique()\n",
    "users\n",
    "pivot = pd.DataFrame(index=users,columns=date_range).fillna(0)\n",
    "\n",
    "for _,row in data.iterrows():\n",
    "    pivot.at[row['uid'],row['timestamp']] = row['numTrials']\n",
    "\n",
    "# pivot = pivot.cumsum(axis=1).astype(int)\n",
    "pivot = pivot.loc[:, (pivot != 0).any(axis=0)]\n",
    "pivot"
   ]
  },
  {
   "cell_type": "code",
   "execution_count": 64,
   "metadata": {},
   "outputs": [
    {
     "data": {
      "text/plain": [
       "[1, 2, 3]"
      ]
     },
     "execution_count": 64,
     "metadata": {},
     "output_type": "execute_result"
    }
   ],
   "source": [
    "\n",
    "dates = list(data.columns)\n",
    "x_values = list(range(1, len(dates)+1))\n",
    "x_values\n",
    "\n"
   ]
  },
  {
   "cell_type": "code",
   "execution_count": 65,
   "metadata": {},
   "outputs": [
    {
     "ename": "KeyError",
     "evalue": "'uid'",
     "output_type": "error",
     "traceback": [
      "\u001b[31m---------------------------------------------------------------------------\u001b[39m",
      "\u001b[31mKeyError\u001b[39m                                  Traceback (most recent call last)",
      "\u001b[36mFile \u001b[39m\u001b[32m~/Desktop/DS_Bootcamp/DS_Bootcamp.Day07.ID_886520-1/.venv/lib/python3.12/site-packages/pandas/core/indexes/base.py:3812\u001b[39m, in \u001b[36mIndex.get_loc\u001b[39m\u001b[34m(self, key)\u001b[39m\n\u001b[32m   3811\u001b[39m \u001b[38;5;28;01mtry\u001b[39;00m:\n\u001b[32m-> \u001b[39m\u001b[32m3812\u001b[39m     \u001b[38;5;28;01mreturn\u001b[39;00m \u001b[38;5;28;43mself\u001b[39;49m\u001b[43m.\u001b[49m\u001b[43m_engine\u001b[49m\u001b[43m.\u001b[49m\u001b[43mget_loc\u001b[49m\u001b[43m(\u001b[49m\u001b[43mcasted_key\u001b[49m\u001b[43m)\u001b[49m\n\u001b[32m   3813\u001b[39m \u001b[38;5;28;01mexcept\u001b[39;00m \u001b[38;5;167;01mKeyError\u001b[39;00m \u001b[38;5;28;01mas\u001b[39;00m err:\n",
      "\u001b[36mFile \u001b[39m\u001b[32mpandas/_libs/index.pyx:167\u001b[39m, in \u001b[36mpandas._libs.index.IndexEngine.get_loc\u001b[39m\u001b[34m()\u001b[39m\n",
      "\u001b[36mFile \u001b[39m\u001b[32mpandas/_libs/index.pyx:196\u001b[39m, in \u001b[36mpandas._libs.index.IndexEngine.get_loc\u001b[39m\u001b[34m()\u001b[39m\n",
      "\u001b[36mFile \u001b[39m\u001b[32mpandas/_libs/hashtable_class_helper.pxi:7088\u001b[39m, in \u001b[36mpandas._libs.hashtable.PyObjectHashTable.get_item\u001b[39m\u001b[34m()\u001b[39m\n",
      "\u001b[36mFile \u001b[39m\u001b[32mpandas/_libs/hashtable_class_helper.pxi:7096\u001b[39m, in \u001b[36mpandas._libs.hashtable.PyObjectHashTable.get_item\u001b[39m\u001b[34m()\u001b[39m\n",
      "\u001b[31mKeyError\u001b[39m: 'uid'",
      "\nThe above exception was the direct cause of the following exception:\n",
      "\u001b[31mKeyError\u001b[39m                                  Traceback (most recent call last)",
      "\u001b[36mCell\u001b[39m\u001b[36m \u001b[39m\u001b[32mIn[65]\u001b[39m\u001b[32m, line 7\u001b[39m\n\u001b[32m      2\u001b[39m initial_data = []\n\u001b[32m      4\u001b[39m \u001b[38;5;28;01mfor\u001b[39;00m user \u001b[38;5;129;01min\u001b[39;00m users:\n\u001b[32m      5\u001b[39m     initial_data.append(go.Scatter(\n\u001b[32m      6\u001b[39m         x = [x_values[\u001b[32m0\u001b[39m]],\n\u001b[32m----> \u001b[39m\u001b[32m7\u001b[39m         y = [\u001b[43mpivot\u001b[49m\u001b[43m.\u001b[49m\u001b[43mloc\u001b[49m\u001b[43m[\u001b[49m\u001b[43muser\u001b[49m\u001b[43m,\u001b[49m\u001b[43mdates\u001b[49m\u001b[43m[\u001b[49m\u001b[32;43m0\u001b[39;49m\u001b[43m]\u001b[49m\u001b[43m]\u001b[49m],\n\u001b[32m      8\u001b[39m         mode=\u001b[33m'\u001b[39m\u001b[33mlines+markers\u001b[39m\u001b[33m'\u001b[39m,\n\u001b[32m      9\u001b[39m         name = user\n\u001b[32m     10\u001b[39m     ))\n\u001b[32m     11\u001b[39m frames = []\n\u001b[32m     12\u001b[39m \u001b[38;5;28;01mfor\u001b[39;00m i \u001b[38;5;129;01min\u001b[39;00m \u001b[38;5;28mrange\u001b[39m(\u001b[32m1\u001b[39m,\u001b[38;5;28mlen\u001b[39m(dates)):\n",
      "\u001b[36mFile \u001b[39m\u001b[32m~/Desktop/DS_Bootcamp/DS_Bootcamp.Day07.ID_886520-1/.venv/lib/python3.12/site-packages/pandas/core/indexing.py:1183\u001b[39m, in \u001b[36m_LocationIndexer.__getitem__\u001b[39m\u001b[34m(self, key)\u001b[39m\n\u001b[32m   1181\u001b[39m     key = \u001b[38;5;28mtuple\u001b[39m(com.apply_if_callable(x, \u001b[38;5;28mself\u001b[39m.obj) \u001b[38;5;28;01mfor\u001b[39;00m x \u001b[38;5;129;01min\u001b[39;00m key)\n\u001b[32m   1182\u001b[39m     \u001b[38;5;28;01mif\u001b[39;00m \u001b[38;5;28mself\u001b[39m._is_scalar_access(key):\n\u001b[32m-> \u001b[39m\u001b[32m1183\u001b[39m         \u001b[38;5;28;01mreturn\u001b[39;00m \u001b[38;5;28;43mself\u001b[39;49m\u001b[43m.\u001b[49m\u001b[43mobj\u001b[49m\u001b[43m.\u001b[49m\u001b[43m_get_value\u001b[49m\u001b[43m(\u001b[49m\u001b[43m*\u001b[49m\u001b[43mkey\u001b[49m\u001b[43m,\u001b[49m\u001b[43m \u001b[49m\u001b[43mtakeable\u001b[49m\u001b[43m=\u001b[49m\u001b[38;5;28;43mself\u001b[39;49m\u001b[43m.\u001b[49m\u001b[43m_takeable\u001b[49m\u001b[43m)\u001b[49m\n\u001b[32m   1184\u001b[39m     \u001b[38;5;28;01mreturn\u001b[39;00m \u001b[38;5;28mself\u001b[39m._getitem_tuple(key)\n\u001b[32m   1185\u001b[39m \u001b[38;5;28;01melse\u001b[39;00m:\n\u001b[32m   1186\u001b[39m     \u001b[38;5;66;03m# we by definition only have the 0th axis\u001b[39;00m\n",
      "\u001b[36mFile \u001b[39m\u001b[32m~/Desktop/DS_Bootcamp/DS_Bootcamp.Day07.ID_886520-1/.venv/lib/python3.12/site-packages/pandas/core/frame.py:4219\u001b[39m, in \u001b[36mDataFrame._get_value\u001b[39m\u001b[34m(self, index, col, takeable)\u001b[39m\n\u001b[32m   4216\u001b[39m     series = \u001b[38;5;28mself\u001b[39m._ixs(col, axis=\u001b[32m1\u001b[39m)\n\u001b[32m   4217\u001b[39m     \u001b[38;5;28;01mreturn\u001b[39;00m series._values[index]\n\u001b[32m-> \u001b[39m\u001b[32m4219\u001b[39m series = \u001b[38;5;28;43mself\u001b[39;49m\u001b[43m.\u001b[49m\u001b[43m_get_item_cache\u001b[49m\u001b[43m(\u001b[49m\u001b[43mcol\u001b[49m\u001b[43m)\u001b[49m\n\u001b[32m   4220\u001b[39m engine = \u001b[38;5;28mself\u001b[39m.index._engine\n\u001b[32m   4222\u001b[39m \u001b[38;5;28;01mif\u001b[39;00m \u001b[38;5;129;01mnot\u001b[39;00m \u001b[38;5;28misinstance\u001b[39m(\u001b[38;5;28mself\u001b[39m.index, MultiIndex):\n\u001b[32m   4223\u001b[39m     \u001b[38;5;66;03m# CategoricalIndex: Trying to use the engine fastpath may give incorrect\u001b[39;00m\n\u001b[32m   4224\u001b[39m     \u001b[38;5;66;03m#  results if our categories are integers that dont match our codes\u001b[39;00m\n\u001b[32m   4225\u001b[39m     \u001b[38;5;66;03m# IntervalIndex: IntervalTree has no get_loc\u001b[39;00m\n",
      "\u001b[36mFile \u001b[39m\u001b[32m~/Desktop/DS_Bootcamp/DS_Bootcamp.Day07.ID_886520-1/.venv/lib/python3.12/site-packages/pandas/core/frame.py:4643\u001b[39m, in \u001b[36mDataFrame._get_item_cache\u001b[39m\u001b[34m(self, item)\u001b[39m\n\u001b[32m   4638\u001b[39m res = cache.get(item)\n\u001b[32m   4639\u001b[39m \u001b[38;5;28;01mif\u001b[39;00m res \u001b[38;5;129;01mis\u001b[39;00m \u001b[38;5;28;01mNone\u001b[39;00m:\n\u001b[32m   4640\u001b[39m     \u001b[38;5;66;03m# All places that call _get_item_cache have unique columns,\u001b[39;00m\n\u001b[32m   4641\u001b[39m     \u001b[38;5;66;03m#  pending resolution of GH#33047\u001b[39;00m\n\u001b[32m-> \u001b[39m\u001b[32m4643\u001b[39m     loc = \u001b[38;5;28;43mself\u001b[39;49m\u001b[43m.\u001b[49m\u001b[43mcolumns\u001b[49m\u001b[43m.\u001b[49m\u001b[43mget_loc\u001b[49m\u001b[43m(\u001b[49m\u001b[43mitem\u001b[49m\u001b[43m)\u001b[49m\n\u001b[32m   4644\u001b[39m     res = \u001b[38;5;28mself\u001b[39m._ixs(loc, axis=\u001b[32m1\u001b[39m)\n\u001b[32m   4646\u001b[39m     cache[item] = res\n",
      "\u001b[36mFile \u001b[39m\u001b[32m~/Desktop/DS_Bootcamp/DS_Bootcamp.Day07.ID_886520-1/.venv/lib/python3.12/site-packages/pandas/core/indexes/base.py:3819\u001b[39m, in \u001b[36mIndex.get_loc\u001b[39m\u001b[34m(self, key)\u001b[39m\n\u001b[32m   3814\u001b[39m     \u001b[38;5;28;01mif\u001b[39;00m \u001b[38;5;28misinstance\u001b[39m(casted_key, \u001b[38;5;28mslice\u001b[39m) \u001b[38;5;129;01mor\u001b[39;00m (\n\u001b[32m   3815\u001b[39m         \u001b[38;5;28misinstance\u001b[39m(casted_key, abc.Iterable)\n\u001b[32m   3816\u001b[39m         \u001b[38;5;129;01mand\u001b[39;00m \u001b[38;5;28many\u001b[39m(\u001b[38;5;28misinstance\u001b[39m(x, \u001b[38;5;28mslice\u001b[39m) \u001b[38;5;28;01mfor\u001b[39;00m x \u001b[38;5;129;01min\u001b[39;00m casted_key)\n\u001b[32m   3817\u001b[39m     ):\n\u001b[32m   3818\u001b[39m         \u001b[38;5;28;01mraise\u001b[39;00m InvalidIndexError(key)\n\u001b[32m-> \u001b[39m\u001b[32m3819\u001b[39m     \u001b[38;5;28;01mraise\u001b[39;00m \u001b[38;5;167;01mKeyError\u001b[39;00m(key) \u001b[38;5;28;01mfrom\u001b[39;00m\u001b[38;5;250m \u001b[39m\u001b[34;01merr\u001b[39;00m\n\u001b[32m   3820\u001b[39m \u001b[38;5;28;01mexcept\u001b[39;00m \u001b[38;5;167;01mTypeError\u001b[39;00m:\n\u001b[32m   3821\u001b[39m     \u001b[38;5;66;03m# If we have a listlike key, _check_indexing_error will raise\u001b[39;00m\n\u001b[32m   3822\u001b[39m     \u001b[38;5;66;03m#  InvalidIndexError. Otherwise we fall through and re-raise\u001b[39;00m\n\u001b[32m   3823\u001b[39m     \u001b[38;5;66;03m#  the TypeError.\u001b[39;00m\n\u001b[32m   3824\u001b[39m     \u001b[38;5;28mself\u001b[39m._check_indexing_error(key)\n",
      "\u001b[31mKeyError\u001b[39m: 'uid'"
     ]
    }
   ],
   "source": [
    "# prepare animation frames\n",
    "initial_data = []\n",
    "\n",
    "for user in users:\n",
    "    initial_data.append(go.Scatter(\n",
    "        x = [x_values[0]],\n",
    "        y = [pivot.loc[user,dates[0]]],\n",
    "        mode='lines+markers',\n",
    "        name = user\n",
    "    ))\n",
    "frames = []\n",
    "for i in range(1,len(dates)):\n",
    "    frame_data = []\n",
    "    for user in users:\n",
    "        frame_data.append(go.Scatter(\n",
    "            x = x_values[:i+1],\n",
    "            y = pivot.loc[user,dates[:i+1]],\n",
    "            mode = \"lines+markers\",\n",
    "            name = user\n",
    "        ))\n",
    "    frames.append(go.Frame(data=frame_data,name=str(i)))\n",
    "\n",
    "frames"
   ]
  },
  {
   "cell_type": "code",
   "execution_count": null,
   "metadata": {},
   "outputs": [
    {
     "data": {
      "application/vnd.plotly.v1+json": {
       "config": {
        "plotlyServerURL": "https://plot.ly"
       },
       "data": [
        {
         "mode": "lines+markers",
         "name": "user_1",
         "type": "scatter",
         "x": [
          1
         ],
         "y": [
          0
         ]
        },
        {
         "mode": "lines+markers",
         "name": "user_10",
         "type": "scatter",
         "x": [
          1
         ],
         "y": [
          0
         ]
        },
        {
         "mode": "lines+markers",
         "name": "user_11",
         "type": "scatter",
         "x": [
          1
         ],
         "y": [
          0
         ]
        },
        {
         "mode": "lines+markers",
         "name": "user_12",
         "type": "scatter",
         "x": [
          1
         ],
         "y": [
          0
         ]
        },
        {
         "mode": "lines+markers",
         "name": "user_13",
         "type": "scatter",
         "x": [
          1
         ],
         "y": [
          0
         ]
        },
        {
         "mode": "lines+markers",
         "name": "user_14",
         "type": "scatter",
         "x": [
          1
         ],
         "y": [
          0
         ]
        },
        {
         "mode": "lines+markers",
         "name": "user_15",
         "type": "scatter",
         "x": [
          1
         ],
         "y": [
          0
         ]
        },
        {
         "mode": "lines+markers",
         "name": "user_16",
         "type": "scatter",
         "x": [
          1
         ],
         "y": [
          0
         ]
        },
        {
         "mode": "lines+markers",
         "name": "user_17",
         "type": "scatter",
         "x": [
          1
         ],
         "y": [
          0
         ]
        },
        {
         "mode": "lines+markers",
         "name": "user_18",
         "type": "scatter",
         "x": [
          1
         ],
         "y": [
          0
         ]
        },
        {
         "mode": "lines+markers",
         "name": "user_19",
         "type": "scatter",
         "x": [
          1
         ],
         "y": [
          0
         ]
        },
        {
         "mode": "lines+markers",
         "name": "user_2",
         "type": "scatter",
         "x": [
          1
         ],
         "y": [
          0
         ]
        },
        {
         "mode": "lines+markers",
         "name": "user_20",
         "type": "scatter",
         "x": [
          1
         ],
         "y": [
          0
         ]
        },
        {
         "mode": "lines+markers",
         "name": "user_21",
         "type": "scatter",
         "x": [
          1
         ],
         "y": [
          0
         ]
        },
        {
         "mode": "lines+markers",
         "name": "user_22",
         "type": "scatter",
         "x": [
          1
         ],
         "y": [
          0
         ]
        },
        {
         "mode": "lines+markers",
         "name": "user_24",
         "type": "scatter",
         "x": [
          1
         ],
         "y": [
          0
         ]
        },
        {
         "mode": "lines+markers",
         "name": "user_25",
         "type": "scatter",
         "x": [
          1
         ],
         "y": [
          0
         ]
        },
        {
         "mode": "lines+markers",
         "name": "user_26",
         "type": "scatter",
         "x": [
          1
         ],
         "y": [
          0
         ]
        },
        {
         "mode": "lines+markers",
         "name": "user_27",
         "type": "scatter",
         "x": [
          1
         ],
         "y": [
          0
         ]
        },
        {
         "mode": "lines+markers",
         "name": "user_28",
         "type": "scatter",
         "x": [
          1
         ],
         "y": [
          0
         ]
        },
        {
         "mode": "lines+markers",
         "name": "user_29",
         "type": "scatter",
         "x": [
          1
         ],
         "y": [
          0
         ]
        },
        {
         "mode": "lines+markers",
         "name": "user_3",
         "type": "scatter",
         "x": [
          1
         ],
         "y": [
          0
         ]
        },
        {
         "mode": "lines+markers",
         "name": "user_30",
         "type": "scatter",
         "x": [
          1
         ],
         "y": [
          0
         ]
        },
        {
         "mode": "lines+markers",
         "name": "user_31",
         "type": "scatter",
         "x": [
          1
         ],
         "y": [
          0
         ]
        },
        {
         "mode": "lines+markers",
         "name": "user_4",
         "type": "scatter",
         "x": [
          1
         ],
         "y": [
          7
         ]
        },
        {
         "mode": "lines+markers",
         "name": "user_6",
         "type": "scatter",
         "x": [
          1
         ],
         "y": [
          0
         ]
        },
        {
         "mode": "lines+markers",
         "name": "user_8",
         "type": "scatter",
         "x": [
          1
         ],
         "y": [
          0
         ]
        }
       ],
       "frames": [
        {
         "data": [
          {
           "mode": "lines+markers",
           "name": "user_1",
           "type": "scatter",
           "x": [
            1,
            2
           ],
           "y": {
            "bdata": "AAA=",
            "dtype": "i1"
           }
          },
          {
           "mode": "lines+markers",
           "name": "user_10",
           "type": "scatter",
           "x": [
            1,
            2
           ],
           "y": {
            "bdata": "AAA=",
            "dtype": "i1"
           }
          },
          {
           "mode": "lines+markers",
           "name": "user_11",
           "type": "scatter",
           "x": [
            1,
            2
           ],
           "y": {
            "bdata": "AAA=",
            "dtype": "i1"
           }
          },
          {
           "mode": "lines+markers",
           "name": "user_12",
           "type": "scatter",
           "x": [
            1,
            2
           ],
           "y": {
            "bdata": "AAA=",
            "dtype": "i1"
           }
          },
          {
           "mode": "lines+markers",
           "name": "user_13",
           "type": "scatter",
           "x": [
            1,
            2
           ],
           "y": {
            "bdata": "AAA=",
            "dtype": "i1"
           }
          },
          {
           "mode": "lines+markers",
           "name": "user_14",
           "type": "scatter",
           "x": [
            1,
            2
           ],
           "y": {
            "bdata": "AAA=",
            "dtype": "i1"
           }
          },
          {
           "mode": "lines+markers",
           "name": "user_15",
           "type": "scatter",
           "x": [
            1,
            2
           ],
           "y": {
            "bdata": "AAA=",
            "dtype": "i1"
           }
          },
          {
           "mode": "lines+markers",
           "name": "user_16",
           "type": "scatter",
           "x": [
            1,
            2
           ],
           "y": {
            "bdata": "AAA=",
            "dtype": "i1"
           }
          },
          {
           "mode": "lines+markers",
           "name": "user_17",
           "type": "scatter",
           "x": [
            1,
            2
           ],
           "y": {
            "bdata": "AAE=",
            "dtype": "i1"
           }
          },
          {
           "mode": "lines+markers",
           "name": "user_18",
           "type": "scatter",
           "x": [
            1,
            2
           ],
           "y": {
            "bdata": "AAA=",
            "dtype": "i1"
           }
          },
          {
           "mode": "lines+markers",
           "name": "user_19",
           "type": "scatter",
           "x": [
            1,
            2
           ],
           "y": {
            "bdata": "AAA=",
            "dtype": "i1"
           }
          },
          {
           "mode": "lines+markers",
           "name": "user_2",
           "type": "scatter",
           "x": [
            1,
            2
           ],
           "y": {
            "bdata": "AAA=",
            "dtype": "i1"
           }
          },
          {
           "mode": "lines+markers",
           "name": "user_20",
           "type": "scatter",
           "x": [
            1,
            2
           ],
           "y": {
            "bdata": "AAA=",
            "dtype": "i1"
           }
          },
          {
           "mode": "lines+markers",
           "name": "user_21",
           "type": "scatter",
           "x": [
            1,
            2
           ],
           "y": {
            "bdata": "AAA=",
            "dtype": "i1"
           }
          },
          {
           "mode": "lines+markers",
           "name": "user_22",
           "type": "scatter",
           "x": [
            1,
            2
           ],
           "y": {
            "bdata": "AAA=",
            "dtype": "i1"
           }
          },
          {
           "mode": "lines+markers",
           "name": "user_24",
           "type": "scatter",
           "x": [
            1,
            2
           ],
           "y": {
            "bdata": "AAA=",
            "dtype": "i1"
           }
          },
          {
           "mode": "lines+markers",
           "name": "user_25",
           "type": "scatter",
           "x": [
            1,
            2
           ],
           "y": {
            "bdata": "AAA=",
            "dtype": "i1"
           }
          },
          {
           "mode": "lines+markers",
           "name": "user_26",
           "type": "scatter",
           "x": [
            1,
            2
           ],
           "y": {
            "bdata": "AAA=",
            "dtype": "i1"
           }
          },
          {
           "mode": "lines+markers",
           "name": "user_27",
           "type": "scatter",
           "x": [
            1,
            2
           ],
           "y": {
            "bdata": "AAA=",
            "dtype": "i1"
           }
          },
          {
           "mode": "lines+markers",
           "name": "user_28",
           "type": "scatter",
           "x": [
            1,
            2
           ],
           "y": {
            "bdata": "AAA=",
            "dtype": "i1"
           }
          },
          {
           "mode": "lines+markers",
           "name": "user_29",
           "type": "scatter",
           "x": [
            1,
            2
           ],
           "y": {
            "bdata": "AAA=",
            "dtype": "i1"
           }
          },
          {
           "mode": "lines+markers",
           "name": "user_3",
           "type": "scatter",
           "x": [
            1,
            2
           ],
           "y": {
            "bdata": "AAA=",
            "dtype": "i1"
           }
          },
          {
           "mode": "lines+markers",
           "name": "user_30",
           "type": "scatter",
           "x": [
            1,
            2
           ],
           "y": {
            "bdata": "AAA=",
            "dtype": "i1"
           }
          },
          {
           "mode": "lines+markers",
           "name": "user_31",
           "type": "scatter",
           "x": [
            1,
            2
           ],
           "y": {
            "bdata": "AAA=",
            "dtype": "i1"
           }
          },
          {
           "mode": "lines+markers",
           "name": "user_4",
           "type": "scatter",
           "x": [
            1,
            2
           ],
           "y": {
            "bdata": "BwA=",
            "dtype": "i1"
           }
          },
          {
           "mode": "lines+markers",
           "name": "user_6",
           "type": "scatter",
           "x": [
            1,
            2
           ],
           "y": {
            "bdata": "AAA=",
            "dtype": "i1"
           }
          },
          {
           "mode": "lines+markers",
           "name": "user_8",
           "type": "scatter",
           "x": [
            1,
            2
           ],
           "y": {
            "bdata": "AAA=",
            "dtype": "i1"
           }
          }
         ],
         "name": "1"
        },
        {
         "data": [
          {
           "mode": "lines+markers",
           "name": "user_1",
           "type": "scatter",
           "x": [
            1,
            2,
            3
           ],
           "y": {
            "bdata": "AAAA",
            "dtype": "i1"
           }
          },
          {
           "mode": "lines+markers",
           "name": "user_10",
           "type": "scatter",
           "x": [
            1,
            2,
            3
           ],
           "y": {
            "bdata": "AAAA",
            "dtype": "i1"
           }
          },
          {
           "mode": "lines+markers",
           "name": "user_11",
           "type": "scatter",
           "x": [
            1,
            2,
            3
           ],
           "y": {
            "bdata": "AAAA",
            "dtype": "i1"
           }
          },
          {
           "mode": "lines+markers",
           "name": "user_12",
           "type": "scatter",
           "x": [
            1,
            2,
            3
           ],
           "y": {
            "bdata": "AAAA",
            "dtype": "i1"
           }
          },
          {
           "mode": "lines+markers",
           "name": "user_13",
           "type": "scatter",
           "x": [
            1,
            2,
            3
           ],
           "y": {
            "bdata": "AAAA",
            "dtype": "i1"
           }
          },
          {
           "mode": "lines+markers",
           "name": "user_14",
           "type": "scatter",
           "x": [
            1,
            2,
            3
           ],
           "y": {
            "bdata": "AAAA",
            "dtype": "i1"
           }
          },
          {
           "mode": "lines+markers",
           "name": "user_15",
           "type": "scatter",
           "x": [
            1,
            2,
            3
           ],
           "y": {
            "bdata": "AAAA",
            "dtype": "i1"
           }
          },
          {
           "mode": "lines+markers",
           "name": "user_16",
           "type": "scatter",
           "x": [
            1,
            2,
            3
           ],
           "y": {
            "bdata": "AAAA",
            "dtype": "i1"
           }
          },
          {
           "mode": "lines+markers",
           "name": "user_17",
           "type": "scatter",
           "x": [
            1,
            2,
            3
           ],
           "y": {
            "bdata": "AAEA",
            "dtype": "i1"
           }
          },
          {
           "mode": "lines+markers",
           "name": "user_18",
           "type": "scatter",
           "x": [
            1,
            2,
            3
           ],
           "y": {
            "bdata": "AAAA",
            "dtype": "i1"
           }
          },
          {
           "mode": "lines+markers",
           "name": "user_19",
           "type": "scatter",
           "x": [
            1,
            2,
            3
           ],
           "y": {
            "bdata": "AAAA",
            "dtype": "i1"
           }
          },
          {
           "mode": "lines+markers",
           "name": "user_2",
           "type": "scatter",
           "x": [
            1,
            2,
            3
           ],
           "y": {
            "bdata": "AAAA",
            "dtype": "i1"
           }
          },
          {
           "mode": "lines+markers",
           "name": "user_20",
           "type": "scatter",
           "x": [
            1,
            2,
            3
           ],
           "y": {
            "bdata": "AAAA",
            "dtype": "i1"
           }
          },
          {
           "mode": "lines+markers",
           "name": "user_21",
           "type": "scatter",
           "x": [
            1,
            2,
            3
           ],
           "y": {
            "bdata": "AAAA",
            "dtype": "i1"
           }
          },
          {
           "mode": "lines+markers",
           "name": "user_22",
           "type": "scatter",
           "x": [
            1,
            2,
            3
           ],
           "y": {
            "bdata": "AAAA",
            "dtype": "i1"
           }
          },
          {
           "mode": "lines+markers",
           "name": "user_24",
           "type": "scatter",
           "x": [
            1,
            2,
            3
           ],
           "y": {
            "bdata": "AAAA",
            "dtype": "i1"
           }
          },
          {
           "mode": "lines+markers",
           "name": "user_25",
           "type": "scatter",
           "x": [
            1,
            2,
            3
           ],
           "y": {
            "bdata": "AAAA",
            "dtype": "i1"
           }
          },
          {
           "mode": "lines+markers",
           "name": "user_26",
           "type": "scatter",
           "x": [
            1,
            2,
            3
           ],
           "y": {
            "bdata": "AAAA",
            "dtype": "i1"
           }
          },
          {
           "mode": "lines+markers",
           "name": "user_27",
           "type": "scatter",
           "x": [
            1,
            2,
            3
           ],
           "y": {
            "bdata": "AAAA",
            "dtype": "i1"
           }
          },
          {
           "mode": "lines+markers",
           "name": "user_28",
           "type": "scatter",
           "x": [
            1,
            2,
            3
           ],
           "y": {
            "bdata": "AAAA",
            "dtype": "i1"
           }
          },
          {
           "mode": "lines+markers",
           "name": "user_29",
           "type": "scatter",
           "x": [
            1,
            2,
            3
           ],
           "y": {
            "bdata": "AAAA",
            "dtype": "i1"
           }
          },
          {
           "mode": "lines+markers",
           "name": "user_3",
           "type": "scatter",
           "x": [
            1,
            2,
            3
           ],
           "y": {
            "bdata": "AAAA",
            "dtype": "i1"
           }
          },
          {
           "mode": "lines+markers",
           "name": "user_30",
           "type": "scatter",
           "x": [
            1,
            2,
            3
           ],
           "y": {
            "bdata": "AAAA",
            "dtype": "i1"
           }
          },
          {
           "mode": "lines+markers",
           "name": "user_31",
           "type": "scatter",
           "x": [
            1,
            2,
            3
           ],
           "y": {
            "bdata": "AAAA",
            "dtype": "i1"
           }
          },
          {
           "mode": "lines+markers",
           "name": "user_4",
           "type": "scatter",
           "x": [
            1,
            2,
            3
           ],
           "y": {
            "bdata": "BwAL",
            "dtype": "i1"
           }
          },
          {
           "mode": "lines+markers",
           "name": "user_6",
           "type": "scatter",
           "x": [
            1,
            2,
            3
           ],
           "y": {
            "bdata": "AAAA",
            "dtype": "i1"
           }
          },
          {
           "mode": "lines+markers",
           "name": "user_8",
           "type": "scatter",
           "x": [
            1,
            2,
            3
           ],
           "y": {
            "bdata": "AAAA",
            "dtype": "i1"
           }
          }
         ],
         "name": "2"
        },
        {
         "data": [
          {
           "mode": "lines+markers",
           "name": "user_1",
           "type": "scatter",
           "x": [
            1,
            2,
            3,
            4
           ],
           "y": {
            "bdata": "AAAAAA==",
            "dtype": "i1"
           }
          },
          {
           "mode": "lines+markers",
           "name": "user_10",
           "type": "scatter",
           "x": [
            1,
            2,
            3,
            4
           ],
           "y": {
            "bdata": "AAAAAA==",
            "dtype": "i1"
           }
          },
          {
           "mode": "lines+markers",
           "name": "user_11",
           "type": "scatter",
           "x": [
            1,
            2,
            3,
            4
           ],
           "y": {
            "bdata": "AAAAAA==",
            "dtype": "i1"
           }
          },
          {
           "mode": "lines+markers",
           "name": "user_12",
           "type": "scatter",
           "x": [
            1,
            2,
            3,
            4
           ],
           "y": {
            "bdata": "AAAAAA==",
            "dtype": "i1"
           }
          },
          {
           "mode": "lines+markers",
           "name": "user_13",
           "type": "scatter",
           "x": [
            1,
            2,
            3,
            4
           ],
           "y": {
            "bdata": "AAAAAA==",
            "dtype": "i1"
           }
          },
          {
           "mode": "lines+markers",
           "name": "user_14",
           "type": "scatter",
           "x": [
            1,
            2,
            3,
            4
           ],
           "y": {
            "bdata": "AAAAAA==",
            "dtype": "i1"
           }
          },
          {
           "mode": "lines+markers",
           "name": "user_15",
           "type": "scatter",
           "x": [
            1,
            2,
            3,
            4
           ],
           "y": {
            "bdata": "AAAAAA==",
            "dtype": "i1"
           }
          },
          {
           "mode": "lines+markers",
           "name": "user_16",
           "type": "scatter",
           "x": [
            1,
            2,
            3,
            4
           ],
           "y": {
            "bdata": "AAAAAA==",
            "dtype": "i1"
           }
          },
          {
           "mode": "lines+markers",
           "name": "user_17",
           "type": "scatter",
           "x": [
            1,
            2,
            3,
            4
           ],
           "y": {
            "bdata": "AAEAAA==",
            "dtype": "i1"
           }
          },
          {
           "mode": "lines+markers",
           "name": "user_18",
           "type": "scatter",
           "x": [
            1,
            2,
            3,
            4
           ],
           "y": {
            "bdata": "AAAAAA==",
            "dtype": "i1"
           }
          },
          {
           "mode": "lines+markers",
           "name": "user_19",
           "type": "scatter",
           "x": [
            1,
            2,
            3,
            4
           ],
           "y": {
            "bdata": "AAAAAA==",
            "dtype": "i1"
           }
          },
          {
           "mode": "lines+markers",
           "name": "user_2",
           "type": "scatter",
           "x": [
            1,
            2,
            3,
            4
           ],
           "y": {
            "bdata": "AAAAAA==",
            "dtype": "i1"
           }
          },
          {
           "mode": "lines+markers",
           "name": "user_20",
           "type": "scatter",
           "x": [
            1,
            2,
            3,
            4
           ],
           "y": {
            "bdata": "AAAAAA==",
            "dtype": "i1"
           }
          },
          {
           "mode": "lines+markers",
           "name": "user_21",
           "type": "scatter",
           "x": [
            1,
            2,
            3,
            4
           ],
           "y": {
            "bdata": "AAAAAA==",
            "dtype": "i1"
           }
          },
          {
           "mode": "lines+markers",
           "name": "user_22",
           "type": "scatter",
           "x": [
            1,
            2,
            3,
            4
           ],
           "y": {
            "bdata": "AAAAAA==",
            "dtype": "i1"
           }
          },
          {
           "mode": "lines+markers",
           "name": "user_24",
           "type": "scatter",
           "x": [
            1,
            2,
            3,
            4
           ],
           "y": {
            "bdata": "AAAAAA==",
            "dtype": "i1"
           }
          },
          {
           "mode": "lines+markers",
           "name": "user_25",
           "type": "scatter",
           "x": [
            1,
            2,
            3,
            4
           ],
           "y": {
            "bdata": "AAAAAA==",
            "dtype": "i1"
           }
          },
          {
           "mode": "lines+markers",
           "name": "user_26",
           "type": "scatter",
           "x": [
            1,
            2,
            3,
            4
           ],
           "y": {
            "bdata": "AAAAAA==",
            "dtype": "i1"
           }
          },
          {
           "mode": "lines+markers",
           "name": "user_27",
           "type": "scatter",
           "x": [
            1,
            2,
            3,
            4
           ],
           "y": {
            "bdata": "AAAAAA==",
            "dtype": "i1"
           }
          },
          {
           "mode": "lines+markers",
           "name": "user_28",
           "type": "scatter",
           "x": [
            1,
            2,
            3,
            4
           ],
           "y": {
            "bdata": "AAAAAA==",
            "dtype": "i1"
           }
          },
          {
           "mode": "lines+markers",
           "name": "user_29",
           "type": "scatter",
           "x": [
            1,
            2,
            3,
            4
           ],
           "y": {
            "bdata": "AAAAAA==",
            "dtype": "i1"
           }
          },
          {
           "mode": "lines+markers",
           "name": "user_3",
           "type": "scatter",
           "x": [
            1,
            2,
            3,
            4
           ],
           "y": {
            "bdata": "AAAAAA==",
            "dtype": "i1"
           }
          },
          {
           "mode": "lines+markers",
           "name": "user_30",
           "type": "scatter",
           "x": [
            1,
            2,
            3,
            4
           ],
           "y": {
            "bdata": "AAAAAA==",
            "dtype": "i1"
           }
          },
          {
           "mode": "lines+markers",
           "name": "user_31",
           "type": "scatter",
           "x": [
            1,
            2,
            3,
            4
           ],
           "y": {
            "bdata": "AAAAAA==",
            "dtype": "i1"
           }
          },
          {
           "mode": "lines+markers",
           "name": "user_4",
           "type": "scatter",
           "x": [
            1,
            2,
            3,
            4
           ],
           "y": {
            "bdata": "BwALAA==",
            "dtype": "i1"
           }
          },
          {
           "mode": "lines+markers",
           "name": "user_6",
           "type": "scatter",
           "x": [
            1,
            2,
            3,
            4
           ],
           "y": {
            "bdata": "AAAAAA==",
            "dtype": "i1"
           }
          },
          {
           "mode": "lines+markers",
           "name": "user_8",
           "type": "scatter",
           "x": [
            1,
            2,
            3,
            4
           ],
           "y": {
            "bdata": "AAAAAA==",
            "dtype": "i1"
           }
          }
         ],
         "name": "3"
        },
        {
         "data": [
          {
           "mode": "lines+markers",
           "name": "user_1",
           "type": "scatter",
           "x": [
            1,
            2,
            3,
            4,
            5
           ],
           "y": {
            "bdata": "AAAAAAA=",
            "dtype": "i1"
           }
          },
          {
           "mode": "lines+markers",
           "name": "user_10",
           "type": "scatter",
           "x": [
            1,
            2,
            3,
            4,
            5
           ],
           "y": {
            "bdata": "AAAAAAA=",
            "dtype": "i1"
           }
          },
          {
           "mode": "lines+markers",
           "name": "user_11",
           "type": "scatter",
           "x": [
            1,
            2,
            3,
            4,
            5
           ],
           "y": {
            "bdata": "AAAAAAA=",
            "dtype": "i1"
           }
          },
          {
           "mode": "lines+markers",
           "name": "user_12",
           "type": "scatter",
           "x": [
            1,
            2,
            3,
            4,
            5
           ],
           "y": {
            "bdata": "AAAAAAA=",
            "dtype": "i1"
           }
          },
          {
           "mode": "lines+markers",
           "name": "user_13",
           "type": "scatter",
           "x": [
            1,
            2,
            3,
            4,
            5
           ],
           "y": {
            "bdata": "AAAAAAA=",
            "dtype": "i1"
           }
          },
          {
           "mode": "lines+markers",
           "name": "user_14",
           "type": "scatter",
           "x": [
            1,
            2,
            3,
            4,
            5
           ],
           "y": {
            "bdata": "AAAAAAA=",
            "dtype": "i1"
           }
          },
          {
           "mode": "lines+markers",
           "name": "user_15",
           "type": "scatter",
           "x": [
            1,
            2,
            3,
            4,
            5
           ],
           "y": {
            "bdata": "AAAAAAA=",
            "dtype": "i1"
           }
          },
          {
           "mode": "lines+markers",
           "name": "user_16",
           "type": "scatter",
           "x": [
            1,
            2,
            3,
            4,
            5
           ],
           "y": {
            "bdata": "AAAAAAA=",
            "dtype": "i1"
           }
          },
          {
           "mode": "lines+markers",
           "name": "user_17",
           "type": "scatter",
           "x": [
            1,
            2,
            3,
            4,
            5
           ],
           "y": {
            "bdata": "AAEAAAA=",
            "dtype": "i1"
           }
          },
          {
           "mode": "lines+markers",
           "name": "user_18",
           "type": "scatter",
           "x": [
            1,
            2,
            3,
            4,
            5
           ],
           "y": {
            "bdata": "AAAAAAA=",
            "dtype": "i1"
           }
          },
          {
           "mode": "lines+markers",
           "name": "user_19",
           "type": "scatter",
           "x": [
            1,
            2,
            3,
            4,
            5
           ],
           "y": {
            "bdata": "AAAAAAA=",
            "dtype": "i1"
           }
          },
          {
           "mode": "lines+markers",
           "name": "user_2",
           "type": "scatter",
           "x": [
            1,
            2,
            3,
            4,
            5
           ],
           "y": {
            "bdata": "AAAAAAA=",
            "dtype": "i1"
           }
          },
          {
           "mode": "lines+markers",
           "name": "user_20",
           "type": "scatter",
           "x": [
            1,
            2,
            3,
            4,
            5
           ],
           "y": {
            "bdata": "AAAAAAA=",
            "dtype": "i1"
           }
          },
          {
           "mode": "lines+markers",
           "name": "user_21",
           "type": "scatter",
           "x": [
            1,
            2,
            3,
            4,
            5
           ],
           "y": {
            "bdata": "AAAAAAA=",
            "dtype": "i1"
           }
          },
          {
           "mode": "lines+markers",
           "name": "user_22",
           "type": "scatter",
           "x": [
            1,
            2,
            3,
            4,
            5
           ],
           "y": {
            "bdata": "AAAAAAA=",
            "dtype": "i1"
           }
          },
          {
           "mode": "lines+markers",
           "name": "user_24",
           "type": "scatter",
           "x": [
            1,
            2,
            3,
            4,
            5
           ],
           "y": {
            "bdata": "AAAAAAA=",
            "dtype": "i1"
           }
          },
          {
           "mode": "lines+markers",
           "name": "user_25",
           "type": "scatter",
           "x": [
            1,
            2,
            3,
            4,
            5
           ],
           "y": {
            "bdata": "AAAAAAA=",
            "dtype": "i1"
           }
          },
          {
           "mode": "lines+markers",
           "name": "user_26",
           "type": "scatter",
           "x": [
            1,
            2,
            3,
            4,
            5
           ],
           "y": {
            "bdata": "AAAAAAA=",
            "dtype": "i1"
           }
          },
          {
           "mode": "lines+markers",
           "name": "user_27",
           "type": "scatter",
           "x": [
            1,
            2,
            3,
            4,
            5
           ],
           "y": {
            "bdata": "AAAAAAA=",
            "dtype": "i1"
           }
          },
          {
           "mode": "lines+markers",
           "name": "user_28",
           "type": "scatter",
           "x": [
            1,
            2,
            3,
            4,
            5
           ],
           "y": {
            "bdata": "AAAAAAA=",
            "dtype": "i1"
           }
          },
          {
           "mode": "lines+markers",
           "name": "user_29",
           "type": "scatter",
           "x": [
            1,
            2,
            3,
            4,
            5
           ],
           "y": {
            "bdata": "AAAAAAA=",
            "dtype": "i1"
           }
          },
          {
           "mode": "lines+markers",
           "name": "user_3",
           "type": "scatter",
           "x": [
            1,
            2,
            3,
            4,
            5
           ],
           "y": {
            "bdata": "AAAAAAA=",
            "dtype": "i1"
           }
          },
          {
           "mode": "lines+markers",
           "name": "user_30",
           "type": "scatter",
           "x": [
            1,
            2,
            3,
            4,
            5
           ],
           "y": {
            "bdata": "AAAAAAA=",
            "dtype": "i1"
           }
          },
          {
           "mode": "lines+markers",
           "name": "user_31",
           "type": "scatter",
           "x": [
            1,
            2,
            3,
            4,
            5
           ],
           "y": {
            "bdata": "AAAAAAA=",
            "dtype": "i1"
           }
          },
          {
           "mode": "lines+markers",
           "name": "user_4",
           "type": "scatter",
           "x": [
            1,
            2,
            3,
            4,
            5
           ],
           "y": {
            "bdata": "BwALAAA=",
            "dtype": "i1"
           }
          },
          {
           "mode": "lines+markers",
           "name": "user_6",
           "type": "scatter",
           "x": [
            1,
            2,
            3,
            4,
            5
           ],
           "y": {
            "bdata": "AAAAAAA=",
            "dtype": "i1"
           }
          },
          {
           "mode": "lines+markers",
           "name": "user_8",
           "type": "scatter",
           "x": [
            1,
            2,
            3,
            4,
            5
           ],
           "y": {
            "bdata": "AAAAAAA=",
            "dtype": "i1"
           }
          }
         ],
         "name": "4"
        },
        {
         "data": [
          {
           "mode": "lines+markers",
           "name": "user_1",
           "type": "scatter",
           "x": [
            1,
            2,
            3,
            4,
            5,
            6
           ],
           "y": {
            "bdata": "AAAAAAAA",
            "dtype": "i1"
           }
          },
          {
           "mode": "lines+markers",
           "name": "user_10",
           "type": "scatter",
           "x": [
            1,
            2,
            3,
            4,
            5,
            6
           ],
           "y": {
            "bdata": "AAAAAAAA",
            "dtype": "i1"
           }
          },
          {
           "mode": "lines+markers",
           "name": "user_11",
           "type": "scatter",
           "x": [
            1,
            2,
            3,
            4,
            5,
            6
           ],
           "y": {
            "bdata": "AAAAAAAA",
            "dtype": "i1"
           }
          },
          {
           "mode": "lines+markers",
           "name": "user_12",
           "type": "scatter",
           "x": [
            1,
            2,
            3,
            4,
            5,
            6
           ],
           "y": {
            "bdata": "AAAAAAAA",
            "dtype": "i1"
           }
          },
          {
           "mode": "lines+markers",
           "name": "user_13",
           "type": "scatter",
           "x": [
            1,
            2,
            3,
            4,
            5,
            6
           ],
           "y": {
            "bdata": "AAAAAAAA",
            "dtype": "i1"
           }
          },
          {
           "mode": "lines+markers",
           "name": "user_14",
           "type": "scatter",
           "x": [
            1,
            2,
            3,
            4,
            5,
            6
           ],
           "y": {
            "bdata": "AAAAAAAA",
            "dtype": "i1"
           }
          },
          {
           "mode": "lines+markers",
           "name": "user_15",
           "type": "scatter",
           "x": [
            1,
            2,
            3,
            4,
            5,
            6
           ],
           "y": {
            "bdata": "AAAAAAAA",
            "dtype": "i1"
           }
          },
          {
           "mode": "lines+markers",
           "name": "user_16",
           "type": "scatter",
           "x": [
            1,
            2,
            3,
            4,
            5,
            6
           ],
           "y": {
            "bdata": "AAAAAAAA",
            "dtype": "i1"
           }
          },
          {
           "mode": "lines+markers",
           "name": "user_17",
           "type": "scatter",
           "x": [
            1,
            2,
            3,
            4,
            5,
            6
           ],
           "y": {
            "bdata": "AAEAAAAA",
            "dtype": "i1"
           }
          },
          {
           "mode": "lines+markers",
           "name": "user_18",
           "type": "scatter",
           "x": [
            1,
            2,
            3,
            4,
            5,
            6
           ],
           "y": {
            "bdata": "AAAAAAAA",
            "dtype": "i1"
           }
          },
          {
           "mode": "lines+markers",
           "name": "user_19",
           "type": "scatter",
           "x": [
            1,
            2,
            3,
            4,
            5,
            6
           ],
           "y": {
            "bdata": "AAAAAAAA",
            "dtype": "i1"
           }
          },
          {
           "mode": "lines+markers",
           "name": "user_2",
           "type": "scatter",
           "x": [
            1,
            2,
            3,
            4,
            5,
            6
           ],
           "y": {
            "bdata": "AAAAAAAA",
            "dtype": "i1"
           }
          },
          {
           "mode": "lines+markers",
           "name": "user_20",
           "type": "scatter",
           "x": [
            1,
            2,
            3,
            4,
            5,
            6
           ],
           "y": {
            "bdata": "AAAAAAAA",
            "dtype": "i1"
           }
          },
          {
           "mode": "lines+markers",
           "name": "user_21",
           "type": "scatter",
           "x": [
            1,
            2,
            3,
            4,
            5,
            6
           ],
           "y": {
            "bdata": "AAAAAAAA",
            "dtype": "i1"
           }
          },
          {
           "mode": "lines+markers",
           "name": "user_22",
           "type": "scatter",
           "x": [
            1,
            2,
            3,
            4,
            5,
            6
           ],
           "y": {
            "bdata": "AAAAAAAA",
            "dtype": "i1"
           }
          },
          {
           "mode": "lines+markers",
           "name": "user_24",
           "type": "scatter",
           "x": [
            1,
            2,
            3,
            4,
            5,
            6
           ],
           "y": {
            "bdata": "AAAAAAAA",
            "dtype": "i1"
           }
          },
          {
           "mode": "lines+markers",
           "name": "user_25",
           "type": "scatter",
           "x": [
            1,
            2,
            3,
            4,
            5,
            6
           ],
           "y": {
            "bdata": "AAAAAAAA",
            "dtype": "i1"
           }
          },
          {
           "mode": "lines+markers",
           "name": "user_26",
           "type": "scatter",
           "x": [
            1,
            2,
            3,
            4,
            5,
            6
           ],
           "y": {
            "bdata": "AAAAAAAA",
            "dtype": "i1"
           }
          },
          {
           "mode": "lines+markers",
           "name": "user_27",
           "type": "scatter",
           "x": [
            1,
            2,
            3,
            4,
            5,
            6
           ],
           "y": {
            "bdata": "AAAAAAAA",
            "dtype": "i1"
           }
          },
          {
           "mode": "lines+markers",
           "name": "user_28",
           "type": "scatter",
           "x": [
            1,
            2,
            3,
            4,
            5,
            6
           ],
           "y": {
            "bdata": "AAAAAAAA",
            "dtype": "i1"
           }
          },
          {
           "mode": "lines+markers",
           "name": "user_29",
           "type": "scatter",
           "x": [
            1,
            2,
            3,
            4,
            5,
            6
           ],
           "y": {
            "bdata": "AAAAAAAA",
            "dtype": "i1"
           }
          },
          {
           "mode": "lines+markers",
           "name": "user_3",
           "type": "scatter",
           "x": [
            1,
            2,
            3,
            4,
            5,
            6
           ],
           "y": {
            "bdata": "AAAAAAAA",
            "dtype": "i1"
           }
          },
          {
           "mode": "lines+markers",
           "name": "user_30",
           "type": "scatter",
           "x": [
            1,
            2,
            3,
            4,
            5,
            6
           ],
           "y": {
            "bdata": "AAAAAAAB",
            "dtype": "i1"
           }
          },
          {
           "mode": "lines+markers",
           "name": "user_31",
           "type": "scatter",
           "x": [
            1,
            2,
            3,
            4,
            5,
            6
           ],
           "y": {
            "bdata": "AAAAAAAA",
            "dtype": "i1"
           }
          },
          {
           "mode": "lines+markers",
           "name": "user_4",
           "type": "scatter",
           "x": [
            1,
            2,
            3,
            4,
            5,
            6
           ],
           "y": {
            "bdata": "BwALAAAA",
            "dtype": "i1"
           }
          },
          {
           "mode": "lines+markers",
           "name": "user_6",
           "type": "scatter",
           "x": [
            1,
            2,
            3,
            4,
            5,
            6
           ],
           "y": {
            "bdata": "AAAAAAAA",
            "dtype": "i1"
           }
          },
          {
           "mode": "lines+markers",
           "name": "user_8",
           "type": "scatter",
           "x": [
            1,
            2,
            3,
            4,
            5,
            6
           ],
           "y": {
            "bdata": "AAAAAAAA",
            "dtype": "i1"
           }
          }
         ],
         "name": "5"
        },
        {
         "data": [
          {
           "mode": "lines+markers",
           "name": "user_1",
           "type": "scatter",
           "x": [
            1,
            2,
            3,
            4,
            5,
            6,
            7
           ],
           "y": {
            "bdata": "AAAAAAAAAA==",
            "dtype": "i1"
           }
          },
          {
           "mode": "lines+markers",
           "name": "user_10",
           "type": "scatter",
           "x": [
            1,
            2,
            3,
            4,
            5,
            6,
            7
           ],
           "y": {
            "bdata": "AAAAAAAAAA==",
            "dtype": "i1"
           }
          },
          {
           "mode": "lines+markers",
           "name": "user_11",
           "type": "scatter",
           "x": [
            1,
            2,
            3,
            4,
            5,
            6,
            7
           ],
           "y": {
            "bdata": "AAAAAAAAAA==",
            "dtype": "i1"
           }
          },
          {
           "mode": "lines+markers",
           "name": "user_12",
           "type": "scatter",
           "x": [
            1,
            2,
            3,
            4,
            5,
            6,
            7
           ],
           "y": {
            "bdata": "AAAAAAAAAA==",
            "dtype": "i1"
           }
          },
          {
           "mode": "lines+markers",
           "name": "user_13",
           "type": "scatter",
           "x": [
            1,
            2,
            3,
            4,
            5,
            6,
            7
           ],
           "y": {
            "bdata": "AAAAAAAAAA==",
            "dtype": "i1"
           }
          },
          {
           "mode": "lines+markers",
           "name": "user_14",
           "type": "scatter",
           "x": [
            1,
            2,
            3,
            4,
            5,
            6,
            7
           ],
           "y": {
            "bdata": "AAAAAAAAAA==",
            "dtype": "i1"
           }
          },
          {
           "mode": "lines+markers",
           "name": "user_15",
           "type": "scatter",
           "x": [
            1,
            2,
            3,
            4,
            5,
            6,
            7
           ],
           "y": {
            "bdata": "AAAAAAAAAA==",
            "dtype": "i1"
           }
          },
          {
           "mode": "lines+markers",
           "name": "user_16",
           "type": "scatter",
           "x": [
            1,
            2,
            3,
            4,
            5,
            6,
            7
           ],
           "y": {
            "bdata": "AAAAAAAAAA==",
            "dtype": "i1"
           }
          },
          {
           "mode": "lines+markers",
           "name": "user_17",
           "type": "scatter",
           "x": [
            1,
            2,
            3,
            4,
            5,
            6,
            7
           ],
           "y": {
            "bdata": "AAEAAAAAAA==",
            "dtype": "i1"
           }
          },
          {
           "mode": "lines+markers",
           "name": "user_18",
           "type": "scatter",
           "x": [
            1,
            2,
            3,
            4,
            5,
            6,
            7
           ],
           "y": {
            "bdata": "AAAAAAAAAA==",
            "dtype": "i1"
           }
          },
          {
           "mode": "lines+markers",
           "name": "user_19",
           "type": "scatter",
           "x": [
            1,
            2,
            3,
            4,
            5,
            6,
            7
           ],
           "y": {
            "bdata": "AAAAAAAAAA==",
            "dtype": "i1"
           }
          },
          {
           "mode": "lines+markers",
           "name": "user_2",
           "type": "scatter",
           "x": [
            1,
            2,
            3,
            4,
            5,
            6,
            7
           ],
           "y": {
            "bdata": "AAAAAAAAAA==",
            "dtype": "i1"
           }
          },
          {
           "mode": "lines+markers",
           "name": "user_20",
           "type": "scatter",
           "x": [
            1,
            2,
            3,
            4,
            5,
            6,
            7
           ],
           "y": {
            "bdata": "AAAAAAAAAA==",
            "dtype": "i1"
           }
          },
          {
           "mode": "lines+markers",
           "name": "user_21",
           "type": "scatter",
           "x": [
            1,
            2,
            3,
            4,
            5,
            6,
            7
           ],
           "y": {
            "bdata": "AAAAAAAAAA==",
            "dtype": "i1"
           }
          },
          {
           "mode": "lines+markers",
           "name": "user_22",
           "type": "scatter",
           "x": [
            1,
            2,
            3,
            4,
            5,
            6,
            7
           ],
           "y": {
            "bdata": "AAAAAAAAAA==",
            "dtype": "i1"
           }
          },
          {
           "mode": "lines+markers",
           "name": "user_24",
           "type": "scatter",
           "x": [
            1,
            2,
            3,
            4,
            5,
            6,
            7
           ],
           "y": {
            "bdata": "AAAAAAAAAA==",
            "dtype": "i1"
           }
          },
          {
           "mode": "lines+markers",
           "name": "user_25",
           "type": "scatter",
           "x": [
            1,
            2,
            3,
            4,
            5,
            6,
            7
           ],
           "y": {
            "bdata": "AAAAAAAAAA==",
            "dtype": "i1"
           }
          },
          {
           "mode": "lines+markers",
           "name": "user_26",
           "type": "scatter",
           "x": [
            1,
            2,
            3,
            4,
            5,
            6,
            7
           ],
           "y": {
            "bdata": "AAAAAAAAAA==",
            "dtype": "i1"
           }
          },
          {
           "mode": "lines+markers",
           "name": "user_27",
           "type": "scatter",
           "x": [
            1,
            2,
            3,
            4,
            5,
            6,
            7
           ],
           "y": {
            "bdata": "AAAAAAAAAA==",
            "dtype": "i1"
           }
          },
          {
           "mode": "lines+markers",
           "name": "user_28",
           "type": "scatter",
           "x": [
            1,
            2,
            3,
            4,
            5,
            6,
            7
           ],
           "y": {
            "bdata": "AAAAAAAAAA==",
            "dtype": "i1"
           }
          },
          {
           "mode": "lines+markers",
           "name": "user_29",
           "type": "scatter",
           "x": [
            1,
            2,
            3,
            4,
            5,
            6,
            7
           ],
           "y": {
            "bdata": "AAAAAAAAAA==",
            "dtype": "i1"
           }
          },
          {
           "mode": "lines+markers",
           "name": "user_3",
           "type": "scatter",
           "x": [
            1,
            2,
            3,
            4,
            5,
            6,
            7
           ],
           "y": {
            "bdata": "AAAAAAAAAA==",
            "dtype": "i1"
           }
          },
          {
           "mode": "lines+markers",
           "name": "user_30",
           "type": "scatter",
           "x": [
            1,
            2,
            3,
            4,
            5,
            6,
            7
           ],
           "y": {
            "bdata": "AAAAAAABAg==",
            "dtype": "i1"
           }
          },
          {
           "mode": "lines+markers",
           "name": "user_31",
           "type": "scatter",
           "x": [
            1,
            2,
            3,
            4,
            5,
            6,
            7
           ],
           "y": {
            "bdata": "AAAAAAAAAA==",
            "dtype": "i1"
           }
          },
          {
           "mode": "lines+markers",
           "name": "user_4",
           "type": "scatter",
           "x": [
            1,
            2,
            3,
            4,
            5,
            6,
            7
           ],
           "y": {
            "bdata": "BwALAAAAFA==",
            "dtype": "i1"
           }
          },
          {
           "mode": "lines+markers",
           "name": "user_6",
           "type": "scatter",
           "x": [
            1,
            2,
            3,
            4,
            5,
            6,
            7
           ],
           "y": {
            "bdata": "AAAAAAAAAA==",
            "dtype": "i1"
           }
          },
          {
           "mode": "lines+markers",
           "name": "user_8",
           "type": "scatter",
           "x": [
            1,
            2,
            3,
            4,
            5,
            6,
            7
           ],
           "y": {
            "bdata": "AAAAAAAAAA==",
            "dtype": "i1"
           }
          }
         ],
         "name": "6"
        },
        {
         "data": [
          {
           "mode": "lines+markers",
           "name": "user_1",
           "type": "scatter",
           "x": [
            1,
            2,
            3,
            4,
            5,
            6,
            7,
            8
           ],
           "y": {
            "bdata": "AAAAAAAAAAA=",
            "dtype": "i1"
           }
          },
          {
           "mode": "lines+markers",
           "name": "user_10",
           "type": "scatter",
           "x": [
            1,
            2,
            3,
            4,
            5,
            6,
            7,
            8
           ],
           "y": {
            "bdata": "AAAAAAAAAAA=",
            "dtype": "i1"
           }
          },
          {
           "mode": "lines+markers",
           "name": "user_11",
           "type": "scatter",
           "x": [
            1,
            2,
            3,
            4,
            5,
            6,
            7,
            8
           ],
           "y": {
            "bdata": "AAAAAAAAAAA=",
            "dtype": "i1"
           }
          },
          {
           "mode": "lines+markers",
           "name": "user_12",
           "type": "scatter",
           "x": [
            1,
            2,
            3,
            4,
            5,
            6,
            7,
            8
           ],
           "y": {
            "bdata": "AAAAAAAAAAA=",
            "dtype": "i1"
           }
          },
          {
           "mode": "lines+markers",
           "name": "user_13",
           "type": "scatter",
           "x": [
            1,
            2,
            3,
            4,
            5,
            6,
            7,
            8
           ],
           "y": {
            "bdata": "AAAAAAAAAAA=",
            "dtype": "i1"
           }
          },
          {
           "mode": "lines+markers",
           "name": "user_14",
           "type": "scatter",
           "x": [
            1,
            2,
            3,
            4,
            5,
            6,
            7,
            8
           ],
           "y": {
            "bdata": "AAAAAAAAAAA=",
            "dtype": "i1"
           }
          },
          {
           "mode": "lines+markers",
           "name": "user_15",
           "type": "scatter",
           "x": [
            1,
            2,
            3,
            4,
            5,
            6,
            7,
            8
           ],
           "y": {
            "bdata": "AAAAAAAAAAA=",
            "dtype": "i1"
           }
          },
          {
           "mode": "lines+markers",
           "name": "user_16",
           "type": "scatter",
           "x": [
            1,
            2,
            3,
            4,
            5,
            6,
            7,
            8
           ],
           "y": {
            "bdata": "AAAAAAAAAAA=",
            "dtype": "i1"
           }
          },
          {
           "mode": "lines+markers",
           "name": "user_17",
           "type": "scatter",
           "x": [
            1,
            2,
            3,
            4,
            5,
            6,
            7,
            8
           ],
           "y": {
            "bdata": "AAEAAAAAAAA=",
            "dtype": "i1"
           }
          },
          {
           "mode": "lines+markers",
           "name": "user_18",
           "type": "scatter",
           "x": [
            1,
            2,
            3,
            4,
            5,
            6,
            7,
            8
           ],
           "y": {
            "bdata": "AAAAAAAAAAA=",
            "dtype": "i1"
           }
          },
          {
           "mode": "lines+markers",
           "name": "user_19",
           "type": "scatter",
           "x": [
            1,
            2,
            3,
            4,
            5,
            6,
            7,
            8
           ],
           "y": {
            "bdata": "AAAAAAAAAAA=",
            "dtype": "i1"
           }
          },
          {
           "mode": "lines+markers",
           "name": "user_2",
           "type": "scatter",
           "x": [
            1,
            2,
            3,
            4,
            5,
            6,
            7,
            8
           ],
           "y": {
            "bdata": "AAAAAAAAAAA=",
            "dtype": "i1"
           }
          },
          {
           "mode": "lines+markers",
           "name": "user_20",
           "type": "scatter",
           "x": [
            1,
            2,
            3,
            4,
            5,
            6,
            7,
            8
           ],
           "y": {
            "bdata": "AAAAAAAAAAA=",
            "dtype": "i1"
           }
          },
          {
           "mode": "lines+markers",
           "name": "user_21",
           "type": "scatter",
           "x": [
            1,
            2,
            3,
            4,
            5,
            6,
            7,
            8
           ],
           "y": {
            "bdata": "AAAAAAAAAAA=",
            "dtype": "i1"
           }
          },
          {
           "mode": "lines+markers",
           "name": "user_22",
           "type": "scatter",
           "x": [
            1,
            2,
            3,
            4,
            5,
            6,
            7,
            8
           ],
           "y": {
            "bdata": "AAAAAAAAAAA=",
            "dtype": "i1"
           }
          },
          {
           "mode": "lines+markers",
           "name": "user_24",
           "type": "scatter",
           "x": [
            1,
            2,
            3,
            4,
            5,
            6,
            7,
            8
           ],
           "y": {
            "bdata": "AAAAAAAAAAA=",
            "dtype": "i1"
           }
          },
          {
           "mode": "lines+markers",
           "name": "user_25",
           "type": "scatter",
           "x": [
            1,
            2,
            3,
            4,
            5,
            6,
            7,
            8
           ],
           "y": {
            "bdata": "AAAAAAAAAAA=",
            "dtype": "i1"
           }
          },
          {
           "mode": "lines+markers",
           "name": "user_26",
           "type": "scatter",
           "x": [
            1,
            2,
            3,
            4,
            5,
            6,
            7,
            8
           ],
           "y": {
            "bdata": "AAAAAAAAAAA=",
            "dtype": "i1"
           }
          },
          {
           "mode": "lines+markers",
           "name": "user_27",
           "type": "scatter",
           "x": [
            1,
            2,
            3,
            4,
            5,
            6,
            7,
            8
           ],
           "y": {
            "bdata": "AAAAAAAAAAA=",
            "dtype": "i1"
           }
          },
          {
           "mode": "lines+markers",
           "name": "user_28",
           "type": "scatter",
           "x": [
            1,
            2,
            3,
            4,
            5,
            6,
            7,
            8
           ],
           "y": {
            "bdata": "AAAAAAAAAAA=",
            "dtype": "i1"
           }
          },
          {
           "mode": "lines+markers",
           "name": "user_29",
           "type": "scatter",
           "x": [
            1,
            2,
            3,
            4,
            5,
            6,
            7,
            8
           ],
           "y": {
            "bdata": "AAAAAAAAAAA=",
            "dtype": "i1"
           }
          },
          {
           "mode": "lines+markers",
           "name": "user_3",
           "type": "scatter",
           "x": [
            1,
            2,
            3,
            4,
            5,
            6,
            7,
            8
           ],
           "y": {
            "bdata": "AAAAAAAAAAA=",
            "dtype": "i1"
           }
          },
          {
           "mode": "lines+markers",
           "name": "user_30",
           "type": "scatter",
           "x": [
            1,
            2,
            3,
            4,
            5,
            6,
            7,
            8
           ],
           "y": {
            "bdata": "AAAAAAABAgA=",
            "dtype": "i1"
           }
          },
          {
           "mode": "lines+markers",
           "name": "user_31",
           "type": "scatter",
           "x": [
            1,
            2,
            3,
            4,
            5,
            6,
            7,
            8
           ],
           "y": {
            "bdata": "AAAAAAAAAAA=",
            "dtype": "i1"
           }
          },
          {
           "mode": "lines+markers",
           "name": "user_4",
           "type": "scatter",
           "x": [
            1,
            2,
            3,
            4,
            5,
            6,
            7,
            8
           ],
           "y": {
            "bdata": "BwALAAAAFBs=",
            "dtype": "i1"
           }
          },
          {
           "mode": "lines+markers",
           "name": "user_6",
           "type": "scatter",
           "x": [
            1,
            2,
            3,
            4,
            5,
            6,
            7,
            8
           ],
           "y": {
            "bdata": "AAAAAAAAAAA=",
            "dtype": "i1"
           }
          },
          {
           "mode": "lines+markers",
           "name": "user_8",
           "type": "scatter",
           "x": [
            1,
            2,
            3,
            4,
            5,
            6,
            7,
            8
           ],
           "y": {
            "bdata": "AAAAAAAAAAA=",
            "dtype": "i1"
           }
          }
         ],
         "name": "7"
        },
        {
         "data": [
          {
           "mode": "lines+markers",
           "name": "user_1",
           "type": "scatter",
           "x": [
            1,
            2,
            3,
            4,
            5,
            6,
            7,
            8,
            9
           ],
           "y": {
            "bdata": "AAAAAAAAAAAA",
            "dtype": "i1"
           }
          },
          {
           "mode": "lines+markers",
           "name": "user_10",
           "type": "scatter",
           "x": [
            1,
            2,
            3,
            4,
            5,
            6,
            7,
            8,
            9
           ],
           "y": {
            "bdata": "AAAAAAAAAAAA",
            "dtype": "i1"
           }
          },
          {
           "mode": "lines+markers",
           "name": "user_11",
           "type": "scatter",
           "x": [
            1,
            2,
            3,
            4,
            5,
            6,
            7,
            8,
            9
           ],
           "y": {
            "bdata": "AAAAAAAAAAAA",
            "dtype": "i1"
           }
          },
          {
           "mode": "lines+markers",
           "name": "user_12",
           "type": "scatter",
           "x": [
            1,
            2,
            3,
            4,
            5,
            6,
            7,
            8,
            9
           ],
           "y": {
            "bdata": "AAAAAAAAAAAA",
            "dtype": "i1"
           }
          },
          {
           "mode": "lines+markers",
           "name": "user_13",
           "type": "scatter",
           "x": [
            1,
            2,
            3,
            4,
            5,
            6,
            7,
            8,
            9
           ],
           "y": {
            "bdata": "AAAAAAAAAAAA",
            "dtype": "i1"
           }
          },
          {
           "mode": "lines+markers",
           "name": "user_14",
           "type": "scatter",
           "x": [
            1,
            2,
            3,
            4,
            5,
            6,
            7,
            8,
            9
           ],
           "y": {
            "bdata": "AAAAAAAAAAAA",
            "dtype": "i1"
           }
          },
          {
           "mode": "lines+markers",
           "name": "user_15",
           "type": "scatter",
           "x": [
            1,
            2,
            3,
            4,
            5,
            6,
            7,
            8,
            9
           ],
           "y": {
            "bdata": "AAAAAAAAAAAA",
            "dtype": "i1"
           }
          },
          {
           "mode": "lines+markers",
           "name": "user_16",
           "type": "scatter",
           "x": [
            1,
            2,
            3,
            4,
            5,
            6,
            7,
            8,
            9
           ],
           "y": {
            "bdata": "AAAAAAAAAAAA",
            "dtype": "i1"
           }
          },
          {
           "mode": "lines+markers",
           "name": "user_17",
           "type": "scatter",
           "x": [
            1,
            2,
            3,
            4,
            5,
            6,
            7,
            8,
            9
           ],
           "y": {
            "bdata": "AAEAAAAAAAAA",
            "dtype": "i1"
           }
          },
          {
           "mode": "lines+markers",
           "name": "user_18",
           "type": "scatter",
           "x": [
            1,
            2,
            3,
            4,
            5,
            6,
            7,
            8,
            9
           ],
           "y": {
            "bdata": "AAAAAAAAAAAA",
            "dtype": "i1"
           }
          },
          {
           "mode": "lines+markers",
           "name": "user_19",
           "type": "scatter",
           "x": [
            1,
            2,
            3,
            4,
            5,
            6,
            7,
            8,
            9
           ],
           "y": {
            "bdata": "AAAAAAAAAAAA",
            "dtype": "i1"
           }
          },
          {
           "mode": "lines+markers",
           "name": "user_2",
           "type": "scatter",
           "x": [
            1,
            2,
            3,
            4,
            5,
            6,
            7,
            8,
            9
           ],
           "y": {
            "bdata": "AAAAAAAAAAAA",
            "dtype": "i1"
           }
          },
          {
           "mode": "lines+markers",
           "name": "user_20",
           "type": "scatter",
           "x": [
            1,
            2,
            3,
            4,
            5,
            6,
            7,
            8,
            9
           ],
           "y": {
            "bdata": "AAAAAAAAAAAA",
            "dtype": "i1"
           }
          },
          {
           "mode": "lines+markers",
           "name": "user_21",
           "type": "scatter",
           "x": [
            1,
            2,
            3,
            4,
            5,
            6,
            7,
            8,
            9
           ],
           "y": {
            "bdata": "AAAAAAAAAAAA",
            "dtype": "i1"
           }
          },
          {
           "mode": "lines+markers",
           "name": "user_22",
           "type": "scatter",
           "x": [
            1,
            2,
            3,
            4,
            5,
            6,
            7,
            8,
            9
           ],
           "y": {
            "bdata": "AAAAAAAAAAAA",
            "dtype": "i1"
           }
          },
          {
           "mode": "lines+markers",
           "name": "user_24",
           "type": "scatter",
           "x": [
            1,
            2,
            3,
            4,
            5,
            6,
            7,
            8,
            9
           ],
           "y": {
            "bdata": "AAAAAAAAAAAA",
            "dtype": "i1"
           }
          },
          {
           "mode": "lines+markers",
           "name": "user_25",
           "type": "scatter",
           "x": [
            1,
            2,
            3,
            4,
            5,
            6,
            7,
            8,
            9
           ],
           "y": {
            "bdata": "AAAAAAAAAAAA",
            "dtype": "i1"
           }
          },
          {
           "mode": "lines+markers",
           "name": "user_26",
           "type": "scatter",
           "x": [
            1,
            2,
            3,
            4,
            5,
            6,
            7,
            8,
            9
           ],
           "y": {
            "bdata": "AAAAAAAAAAAA",
            "dtype": "i1"
           }
          },
          {
           "mode": "lines+markers",
           "name": "user_27",
           "type": "scatter",
           "x": [
            1,
            2,
            3,
            4,
            5,
            6,
            7,
            8,
            9
           ],
           "y": {
            "bdata": "AAAAAAAAAAAA",
            "dtype": "i1"
           }
          },
          {
           "mode": "lines+markers",
           "name": "user_28",
           "type": "scatter",
           "x": [
            1,
            2,
            3,
            4,
            5,
            6,
            7,
            8,
            9
           ],
           "y": {
            "bdata": "AAAAAAAAAAAA",
            "dtype": "i1"
           }
          },
          {
           "mode": "lines+markers",
           "name": "user_29",
           "type": "scatter",
           "x": [
            1,
            2,
            3,
            4,
            5,
            6,
            7,
            8,
            9
           ],
           "y": {
            "bdata": "AAAAAAAAAAAA",
            "dtype": "i1"
           }
          },
          {
           "mode": "lines+markers",
           "name": "user_3",
           "type": "scatter",
           "x": [
            1,
            2,
            3,
            4,
            5,
            6,
            7,
            8,
            9
           ],
           "y": {
            "bdata": "AAAAAAAAAAAA",
            "dtype": "i1"
           }
          },
          {
           "mode": "lines+markers",
           "name": "user_30",
           "type": "scatter",
           "x": [
            1,
            2,
            3,
            4,
            5,
            6,
            7,
            8,
            9
           ],
           "y": {
            "bdata": "AAAAAAABAgAA",
            "dtype": "i1"
           }
          },
          {
           "mode": "lines+markers",
           "name": "user_31",
           "type": "scatter",
           "x": [
            1,
            2,
            3,
            4,
            5,
            6,
            7,
            8,
            9
           ],
           "y": {
            "bdata": "AAAAAAAAAAAA",
            "dtype": "i1"
           }
          },
          {
           "mode": "lines+markers",
           "name": "user_4",
           "type": "scatter",
           "x": [
            1,
            2,
            3,
            4,
            5,
            6,
            7,
            8,
            9
           ],
           "y": {
            "bdata": "BwALAAAAFBsA",
            "dtype": "i1"
           }
          },
          {
           "mode": "lines+markers",
           "name": "user_6",
           "type": "scatter",
           "x": [
            1,
            2,
            3,
            4,
            5,
            6,
            7,
            8,
            9
           ],
           "y": {
            "bdata": "AAAAAAAAAAAA",
            "dtype": "i1"
           }
          },
          {
           "mode": "lines+markers",
           "name": "user_8",
           "type": "scatter",
           "x": [
            1,
            2,
            3,
            4,
            5,
            6,
            7,
            8,
            9
           ],
           "y": {
            "bdata": "AAAAAAAAAAAA",
            "dtype": "i1"
           }
          }
         ],
         "name": "8"
        },
        {
         "data": [
          {
           "mode": "lines+markers",
           "name": "user_1",
           "type": "scatter",
           "x": [
            1,
            2,
            3,
            4,
            5,
            6,
            7,
            8,
            9,
            10
           ],
           "y": {
            "bdata": "AAAAAAAAAAAAAA==",
            "dtype": "i1"
           }
          },
          {
           "mode": "lines+markers",
           "name": "user_10",
           "type": "scatter",
           "x": [
            1,
            2,
            3,
            4,
            5,
            6,
            7,
            8,
            9,
            10
           ],
           "y": {
            "bdata": "AAAAAAAAAAAAAA==",
            "dtype": "i1"
           }
          },
          {
           "mode": "lines+markers",
           "name": "user_11",
           "type": "scatter",
           "x": [
            1,
            2,
            3,
            4,
            5,
            6,
            7,
            8,
            9,
            10
           ],
           "y": {
            "bdata": "AAAAAAAAAAAAAA==",
            "dtype": "i1"
           }
          },
          {
           "mode": "lines+markers",
           "name": "user_12",
           "type": "scatter",
           "x": [
            1,
            2,
            3,
            4,
            5,
            6,
            7,
            8,
            9,
            10
           ],
           "y": {
            "bdata": "AAAAAAAAAAAAAA==",
            "dtype": "i1"
           }
          },
          {
           "mode": "lines+markers",
           "name": "user_13",
           "type": "scatter",
           "x": [
            1,
            2,
            3,
            4,
            5,
            6,
            7,
            8,
            9,
            10
           ],
           "y": {
            "bdata": "AAAAAAAAAAAAAA==",
            "dtype": "i1"
           }
          },
          {
           "mode": "lines+markers",
           "name": "user_14",
           "type": "scatter",
           "x": [
            1,
            2,
            3,
            4,
            5,
            6,
            7,
            8,
            9,
            10
           ],
           "y": {
            "bdata": "AAAAAAAAAAAAAA==",
            "dtype": "i1"
           }
          },
          {
           "mode": "lines+markers",
           "name": "user_15",
           "type": "scatter",
           "x": [
            1,
            2,
            3,
            4,
            5,
            6,
            7,
            8,
            9,
            10
           ],
           "y": {
            "bdata": "AAAAAAAAAAAAAA==",
            "dtype": "i1"
           }
          },
          {
           "mode": "lines+markers",
           "name": "user_16",
           "type": "scatter",
           "x": [
            1,
            2,
            3,
            4,
            5,
            6,
            7,
            8,
            9,
            10
           ],
           "y": {
            "bdata": "AAAAAAAAAAAAAA==",
            "dtype": "i1"
           }
          },
          {
           "mode": "lines+markers",
           "name": "user_17",
           "type": "scatter",
           "x": [
            1,
            2,
            3,
            4,
            5,
            6,
            7,
            8,
            9,
            10
           ],
           "y": {
            "bdata": "AAEAAAAAAAAAAA==",
            "dtype": "i1"
           }
          },
          {
           "mode": "lines+markers",
           "name": "user_18",
           "type": "scatter",
           "x": [
            1,
            2,
            3,
            4,
            5,
            6,
            7,
            8,
            9,
            10
           ],
           "y": {
            "bdata": "AAAAAAAAAAAAAA==",
            "dtype": "i1"
           }
          },
          {
           "mode": "lines+markers",
           "name": "user_19",
           "type": "scatter",
           "x": [
            1,
            2,
            3,
            4,
            5,
            6,
            7,
            8,
            9,
            10
           ],
           "y": {
            "bdata": "AAAAAAAAAAAAAA==",
            "dtype": "i1"
           }
          },
          {
           "mode": "lines+markers",
           "name": "user_2",
           "type": "scatter",
           "x": [
            1,
            2,
            3,
            4,
            5,
            6,
            7,
            8,
            9,
            10
           ],
           "y": {
            "bdata": "AAAAAAAAAAAAAA==",
            "dtype": "i1"
           }
          },
          {
           "mode": "lines+markers",
           "name": "user_20",
           "type": "scatter",
           "x": [
            1,
            2,
            3,
            4,
            5,
            6,
            7,
            8,
            9,
            10
           ],
           "y": {
            "bdata": "AAAAAAAAAAAAAA==",
            "dtype": "i1"
           }
          },
          {
           "mode": "lines+markers",
           "name": "user_21",
           "type": "scatter",
           "x": [
            1,
            2,
            3,
            4,
            5,
            6,
            7,
            8,
            9,
            10
           ],
           "y": {
            "bdata": "AAAAAAAAAAAAAA==",
            "dtype": "i1"
           }
          },
          {
           "mode": "lines+markers",
           "name": "user_22",
           "type": "scatter",
           "x": [
            1,
            2,
            3,
            4,
            5,
            6,
            7,
            8,
            9,
            10
           ],
           "y": {
            "bdata": "AAAAAAAAAAAAAA==",
            "dtype": "i1"
           }
          },
          {
           "mode": "lines+markers",
           "name": "user_24",
           "type": "scatter",
           "x": [
            1,
            2,
            3,
            4,
            5,
            6,
            7,
            8,
            9,
            10
           ],
           "y": {
            "bdata": "AAAAAAAAAAAAAA==",
            "dtype": "i1"
           }
          },
          {
           "mode": "lines+markers",
           "name": "user_25",
           "type": "scatter",
           "x": [
            1,
            2,
            3,
            4,
            5,
            6,
            7,
            8,
            9,
            10
           ],
           "y": {
            "bdata": "AAAAAAAAAAAAAA==",
            "dtype": "i1"
           }
          },
          {
           "mode": "lines+markers",
           "name": "user_26",
           "type": "scatter",
           "x": [
            1,
            2,
            3,
            4,
            5,
            6,
            7,
            8,
            9,
            10
           ],
           "y": {
            "bdata": "AAAAAAAAAAAAAA==",
            "dtype": "i1"
           }
          },
          {
           "mode": "lines+markers",
           "name": "user_27",
           "type": "scatter",
           "x": [
            1,
            2,
            3,
            4,
            5,
            6,
            7,
            8,
            9,
            10
           ],
           "y": {
            "bdata": "AAAAAAAAAAAAAA==",
            "dtype": "i1"
           }
          },
          {
           "mode": "lines+markers",
           "name": "user_28",
           "type": "scatter",
           "x": [
            1,
            2,
            3,
            4,
            5,
            6,
            7,
            8,
            9,
            10
           ],
           "y": {
            "bdata": "AAAAAAAAAAAAAA==",
            "dtype": "i1"
           }
          },
          {
           "mode": "lines+markers",
           "name": "user_29",
           "type": "scatter",
           "x": [
            1,
            2,
            3,
            4,
            5,
            6,
            7,
            8,
            9,
            10
           ],
           "y": {
            "bdata": "AAAAAAAAAAAAAA==",
            "dtype": "i1"
           }
          },
          {
           "mode": "lines+markers",
           "name": "user_3",
           "type": "scatter",
           "x": [
            1,
            2,
            3,
            4,
            5,
            6,
            7,
            8,
            9,
            10
           ],
           "y": {
            "bdata": "AAAAAAAAAAAAAA==",
            "dtype": "i1"
           }
          },
          {
           "mode": "lines+markers",
           "name": "user_30",
           "type": "scatter",
           "x": [
            1,
            2,
            3,
            4,
            5,
            6,
            7,
            8,
            9,
            10
           ],
           "y": {
            "bdata": "AAAAAAABAgAAAA==",
            "dtype": "i1"
           }
          },
          {
           "mode": "lines+markers",
           "name": "user_31",
           "type": "scatter",
           "x": [
            1,
            2,
            3,
            4,
            5,
            6,
            7,
            8,
            9,
            10
           ],
           "y": {
            "bdata": "AAAAAAAAAAAAAA==",
            "dtype": "i1"
           }
          },
          {
           "mode": "lines+markers",
           "name": "user_4",
           "type": "scatter",
           "x": [
            1,
            2,
            3,
            4,
            5,
            6,
            7,
            8,
            9,
            10
           ],
           "y": {
            "bdata": "BwALAAAAFBsAAA==",
            "dtype": "i1"
           }
          },
          {
           "mode": "lines+markers",
           "name": "user_6",
           "type": "scatter",
           "x": [
            1,
            2,
            3,
            4,
            5,
            6,
            7,
            8,
            9,
            10
           ],
           "y": {
            "bdata": "AAAAAAAAAAAAAA==",
            "dtype": "i1"
           }
          },
          {
           "mode": "lines+markers",
           "name": "user_8",
           "type": "scatter",
           "x": [
            1,
            2,
            3,
            4,
            5,
            6,
            7,
            8,
            9,
            10
           ],
           "y": {
            "bdata": "AAAAAAAAAAAAAA==",
            "dtype": "i1"
           }
          }
         ],
         "name": "9"
        },
        {
         "data": [
          {
           "mode": "lines+markers",
           "name": "user_1",
           "type": "scatter",
           "x": [
            1,
            2,
            3,
            4,
            5,
            6,
            7,
            8,
            9,
            10,
            11
           ],
           "y": {
            "bdata": "AAAAAAAAAAAAAAA=",
            "dtype": "i1"
           }
          },
          {
           "mode": "lines+markers",
           "name": "user_10",
           "type": "scatter",
           "x": [
            1,
            2,
            3,
            4,
            5,
            6,
            7,
            8,
            9,
            10,
            11
           ],
           "y": {
            "bdata": "AAAAAAAAAAAAAAA=",
            "dtype": "i1"
           }
          },
          {
           "mode": "lines+markers",
           "name": "user_11",
           "type": "scatter",
           "x": [
            1,
            2,
            3,
            4,
            5,
            6,
            7,
            8,
            9,
            10,
            11
           ],
           "y": {
            "bdata": "AAAAAAAAAAAAAAA=",
            "dtype": "i1"
           }
          },
          {
           "mode": "lines+markers",
           "name": "user_12",
           "type": "scatter",
           "x": [
            1,
            2,
            3,
            4,
            5,
            6,
            7,
            8,
            9,
            10,
            11
           ],
           "y": {
            "bdata": "AAAAAAAAAAAAAAA=",
            "dtype": "i1"
           }
          },
          {
           "mode": "lines+markers",
           "name": "user_13",
           "type": "scatter",
           "x": [
            1,
            2,
            3,
            4,
            5,
            6,
            7,
            8,
            9,
            10,
            11
           ],
           "y": {
            "bdata": "AAAAAAAAAAAAAAA=",
            "dtype": "i1"
           }
          },
          {
           "mode": "lines+markers",
           "name": "user_14",
           "type": "scatter",
           "x": [
            1,
            2,
            3,
            4,
            5,
            6,
            7,
            8,
            9,
            10,
            11
           ],
           "y": {
            "bdata": "AAAAAAAAAAAAAAA=",
            "dtype": "i1"
           }
          },
          {
           "mode": "lines+markers",
           "name": "user_15",
           "type": "scatter",
           "x": [
            1,
            2,
            3,
            4,
            5,
            6,
            7,
            8,
            9,
            10,
            11
           ],
           "y": {
            "bdata": "AAAAAAAAAAAAAAA=",
            "dtype": "i1"
           }
          },
          {
           "mode": "lines+markers",
           "name": "user_16",
           "type": "scatter",
           "x": [
            1,
            2,
            3,
            4,
            5,
            6,
            7,
            8,
            9,
            10,
            11
           ],
           "y": {
            "bdata": "AAAAAAAAAAAAAAA=",
            "dtype": "i1"
           }
          },
          {
           "mode": "lines+markers",
           "name": "user_17",
           "type": "scatter",
           "x": [
            1,
            2,
            3,
            4,
            5,
            6,
            7,
            8,
            9,
            10,
            11
           ],
           "y": {
            "bdata": "AAEAAAAAAAAAAAA=",
            "dtype": "i1"
           }
          },
          {
           "mode": "lines+markers",
           "name": "user_18",
           "type": "scatter",
           "x": [
            1,
            2,
            3,
            4,
            5,
            6,
            7,
            8,
            9,
            10,
            11
           ],
           "y": {
            "bdata": "AAAAAAAAAAAAAAA=",
            "dtype": "i1"
           }
          },
          {
           "mode": "lines+markers",
           "name": "user_19",
           "type": "scatter",
           "x": [
            1,
            2,
            3,
            4,
            5,
            6,
            7,
            8,
            9,
            10,
            11
           ],
           "y": {
            "bdata": "AAAAAAAAAAAAAAA=",
            "dtype": "i1"
           }
          },
          {
           "mode": "lines+markers",
           "name": "user_2",
           "type": "scatter",
           "x": [
            1,
            2,
            3,
            4,
            5,
            6,
            7,
            8,
            9,
            10,
            11
           ],
           "y": {
            "bdata": "AAAAAAAAAAAAAAA=",
            "dtype": "i1"
           }
          },
          {
           "mode": "lines+markers",
           "name": "user_20",
           "type": "scatter",
           "x": [
            1,
            2,
            3,
            4,
            5,
            6,
            7,
            8,
            9,
            10,
            11
           ],
           "y": {
            "bdata": "AAAAAAAAAAAAAAA=",
            "dtype": "i1"
           }
          },
          {
           "mode": "lines+markers",
           "name": "user_21",
           "type": "scatter",
           "x": [
            1,
            2,
            3,
            4,
            5,
            6,
            7,
            8,
            9,
            10,
            11
           ],
           "y": {
            "bdata": "AAAAAAAAAAAAAAA=",
            "dtype": "i1"
           }
          },
          {
           "mode": "lines+markers",
           "name": "user_22",
           "type": "scatter",
           "x": [
            1,
            2,
            3,
            4,
            5,
            6,
            7,
            8,
            9,
            10,
            11
           ],
           "y": {
            "bdata": "AAAAAAAAAAAAAAA=",
            "dtype": "i1"
           }
          },
          {
           "mode": "lines+markers",
           "name": "user_24",
           "type": "scatter",
           "x": [
            1,
            2,
            3,
            4,
            5,
            6,
            7,
            8,
            9,
            10,
            11
           ],
           "y": {
            "bdata": "AAAAAAAAAAAAAAA=",
            "dtype": "i1"
           }
          },
          {
           "mode": "lines+markers",
           "name": "user_25",
           "type": "scatter",
           "x": [
            1,
            2,
            3,
            4,
            5,
            6,
            7,
            8,
            9,
            10,
            11
           ],
           "y": {
            "bdata": "AAAAAAAAAAAAAAA=",
            "dtype": "i1"
           }
          },
          {
           "mode": "lines+markers",
           "name": "user_26",
           "type": "scatter",
           "x": [
            1,
            2,
            3,
            4,
            5,
            6,
            7,
            8,
            9,
            10,
            11
           ],
           "y": {
            "bdata": "AAAAAAAAAAAAAAA=",
            "dtype": "i1"
           }
          },
          {
           "mode": "lines+markers",
           "name": "user_27",
           "type": "scatter",
           "x": [
            1,
            2,
            3,
            4,
            5,
            6,
            7,
            8,
            9,
            10,
            11
           ],
           "y": {
            "bdata": "AAAAAAAAAAAAAAA=",
            "dtype": "i1"
           }
          },
          {
           "mode": "lines+markers",
           "name": "user_28",
           "type": "scatter",
           "x": [
            1,
            2,
            3,
            4,
            5,
            6,
            7,
            8,
            9,
            10,
            11
           ],
           "y": {
            "bdata": "AAAAAAAAAAAAAAA=",
            "dtype": "i1"
           }
          },
          {
           "mode": "lines+markers",
           "name": "user_29",
           "type": "scatter",
           "x": [
            1,
            2,
            3,
            4,
            5,
            6,
            7,
            8,
            9,
            10,
            11
           ],
           "y": {
            "bdata": "AAAAAAAAAAAAAAA=",
            "dtype": "i1"
           }
          },
          {
           "mode": "lines+markers",
           "name": "user_3",
           "type": "scatter",
           "x": [
            1,
            2,
            3,
            4,
            5,
            6,
            7,
            8,
            9,
            10,
            11
           ],
           "y": {
            "bdata": "AAAAAAAAAAAAAAA=",
            "dtype": "i1"
           }
          },
          {
           "mode": "lines+markers",
           "name": "user_30",
           "type": "scatter",
           "x": [
            1,
            2,
            3,
            4,
            5,
            6,
            7,
            8,
            9,
            10,
            11
           ],
           "y": {
            "bdata": "AAAAAAABAgAAAAA=",
            "dtype": "i1"
           }
          },
          {
           "mode": "lines+markers",
           "name": "user_31",
           "type": "scatter",
           "x": [
            1,
            2,
            3,
            4,
            5,
            6,
            7,
            8,
            9,
            10,
            11
           ],
           "y": {
            "bdata": "AAAAAAAAAAAAAAA=",
            "dtype": "i1"
           }
          },
          {
           "mode": "lines+markers",
           "name": "user_4",
           "type": "scatter",
           "x": [
            1,
            2,
            3,
            4,
            5,
            6,
            7,
            8,
            9,
            10,
            11
           ],
           "y": {
            "bdata": "BwALAAAAFBsAAAA=",
            "dtype": "i1"
           }
          },
          {
           "mode": "lines+markers",
           "name": "user_6",
           "type": "scatter",
           "x": [
            1,
            2,
            3,
            4,
            5,
            6,
            7,
            8,
            9,
            10,
            11
           ],
           "y": {
            "bdata": "AAAAAAAAAAAAAAA=",
            "dtype": "i1"
           }
          },
          {
           "mode": "lines+markers",
           "name": "user_8",
           "type": "scatter",
           "x": [
            1,
            2,
            3,
            4,
            5,
            6,
            7,
            8,
            9,
            10,
            11
           ],
           "y": {
            "bdata": "AAAAAAAAAAAAAAA=",
            "dtype": "i1"
           }
          }
         ],
         "name": "10"
        },
        {
         "data": [
          {
           "mode": "lines+markers",
           "name": "user_1",
           "type": "scatter",
           "x": [
            1,
            2,
            3,
            4,
            5,
            6,
            7,
            8,
            9,
            10,
            11,
            12
           ],
           "y": {
            "bdata": "AAAAAAAAAAAAAAAA",
            "dtype": "i1"
           }
          },
          {
           "mode": "lines+markers",
           "name": "user_10",
           "type": "scatter",
           "x": [
            1,
            2,
            3,
            4,
            5,
            6,
            7,
            8,
            9,
            10,
            11,
            12
           ],
           "y": {
            "bdata": "AAAAAAAAAAAAAAAA",
            "dtype": "i1"
           }
          },
          {
           "mode": "lines+markers",
           "name": "user_11",
           "type": "scatter",
           "x": [
            1,
            2,
            3,
            4,
            5,
            6,
            7,
            8,
            9,
            10,
            11,
            12
           ],
           "y": {
            "bdata": "AAAAAAAAAAAAAAAA",
            "dtype": "i1"
           }
          },
          {
           "mode": "lines+markers",
           "name": "user_12",
           "type": "scatter",
           "x": [
            1,
            2,
            3,
            4,
            5,
            6,
            7,
            8,
            9,
            10,
            11,
            12
           ],
           "y": {
            "bdata": "AAAAAAAAAAAAAAAA",
            "dtype": "i1"
           }
          },
          {
           "mode": "lines+markers",
           "name": "user_13",
           "type": "scatter",
           "x": [
            1,
            2,
            3,
            4,
            5,
            6,
            7,
            8,
            9,
            10,
            11,
            12
           ],
           "y": {
            "bdata": "AAAAAAAAAAAAAAAA",
            "dtype": "i1"
           }
          },
          {
           "mode": "lines+markers",
           "name": "user_14",
           "type": "scatter",
           "x": [
            1,
            2,
            3,
            4,
            5,
            6,
            7,
            8,
            9,
            10,
            11,
            12
           ],
           "y": {
            "bdata": "AAAAAAAAAAAAAAAA",
            "dtype": "i1"
           }
          },
          {
           "mode": "lines+markers",
           "name": "user_15",
           "type": "scatter",
           "x": [
            1,
            2,
            3,
            4,
            5,
            6,
            7,
            8,
            9,
            10,
            11,
            12
           ],
           "y": {
            "bdata": "AAAAAAAAAAAAAAAA",
            "dtype": "i1"
           }
          },
          {
           "mode": "lines+markers",
           "name": "user_16",
           "type": "scatter",
           "x": [
            1,
            2,
            3,
            4,
            5,
            6,
            7,
            8,
            9,
            10,
            11,
            12
           ],
           "y": {
            "bdata": "AAAAAAAAAAAAAAAA",
            "dtype": "i1"
           }
          },
          {
           "mode": "lines+markers",
           "name": "user_17",
           "type": "scatter",
           "x": [
            1,
            2,
            3,
            4,
            5,
            6,
            7,
            8,
            9,
            10,
            11,
            12
           ],
           "y": {
            "bdata": "AAEAAAAAAAAAAAAA",
            "dtype": "i1"
           }
          },
          {
           "mode": "lines+markers",
           "name": "user_18",
           "type": "scatter",
           "x": [
            1,
            2,
            3,
            4,
            5,
            6,
            7,
            8,
            9,
            10,
            11,
            12
           ],
           "y": {
            "bdata": "AAAAAAAAAAAAAAAA",
            "dtype": "i1"
           }
          },
          {
           "mode": "lines+markers",
           "name": "user_19",
           "type": "scatter",
           "x": [
            1,
            2,
            3,
            4,
            5,
            6,
            7,
            8,
            9,
            10,
            11,
            12
           ],
           "y": {
            "bdata": "AAAAAAAAAAAAAAAA",
            "dtype": "i1"
           }
          },
          {
           "mode": "lines+markers",
           "name": "user_2",
           "type": "scatter",
           "x": [
            1,
            2,
            3,
            4,
            5,
            6,
            7,
            8,
            9,
            10,
            11,
            12
           ],
           "y": {
            "bdata": "AAAAAAAAAAAAAAAA",
            "dtype": "i1"
           }
          },
          {
           "mode": "lines+markers",
           "name": "user_20",
           "type": "scatter",
           "x": [
            1,
            2,
            3,
            4,
            5,
            6,
            7,
            8,
            9,
            10,
            11,
            12
           ],
           "y": {
            "bdata": "AAAAAAAAAAAAAAAA",
            "dtype": "i1"
           }
          },
          {
           "mode": "lines+markers",
           "name": "user_21",
           "type": "scatter",
           "x": [
            1,
            2,
            3,
            4,
            5,
            6,
            7,
            8,
            9,
            10,
            11,
            12
           ],
           "y": {
            "bdata": "AAAAAAAAAAAAAAAA",
            "dtype": "i1"
           }
          },
          {
           "mode": "lines+markers",
           "name": "user_22",
           "type": "scatter",
           "x": [
            1,
            2,
            3,
            4,
            5,
            6,
            7,
            8,
            9,
            10,
            11,
            12
           ],
           "y": {
            "bdata": "AAAAAAAAAAAAAAAA",
            "dtype": "i1"
           }
          },
          {
           "mode": "lines+markers",
           "name": "user_24",
           "type": "scatter",
           "x": [
            1,
            2,
            3,
            4,
            5,
            6,
            7,
            8,
            9,
            10,
            11,
            12
           ],
           "y": {
            "bdata": "AAAAAAAAAAAAAAAA",
            "dtype": "i1"
           }
          },
          {
           "mode": "lines+markers",
           "name": "user_25",
           "type": "scatter",
           "x": [
            1,
            2,
            3,
            4,
            5,
            6,
            7,
            8,
            9,
            10,
            11,
            12
           ],
           "y": {
            "bdata": "AAAAAAAAAAAAAAAA",
            "dtype": "i1"
           }
          },
          {
           "mode": "lines+markers",
           "name": "user_26",
           "type": "scatter",
           "x": [
            1,
            2,
            3,
            4,
            5,
            6,
            7,
            8,
            9,
            10,
            11,
            12
           ],
           "y": {
            "bdata": "AAAAAAAAAAAAAAAA",
            "dtype": "i1"
           }
          },
          {
           "mode": "lines+markers",
           "name": "user_27",
           "type": "scatter",
           "x": [
            1,
            2,
            3,
            4,
            5,
            6,
            7,
            8,
            9,
            10,
            11,
            12
           ],
           "y": {
            "bdata": "AAAAAAAAAAAAAAAA",
            "dtype": "i1"
           }
          },
          {
           "mode": "lines+markers",
           "name": "user_28",
           "type": "scatter",
           "x": [
            1,
            2,
            3,
            4,
            5,
            6,
            7,
            8,
            9,
            10,
            11,
            12
           ],
           "y": {
            "bdata": "AAAAAAAAAAAAAAAA",
            "dtype": "i1"
           }
          },
          {
           "mode": "lines+markers",
           "name": "user_29",
           "type": "scatter",
           "x": [
            1,
            2,
            3,
            4,
            5,
            6,
            7,
            8,
            9,
            10,
            11,
            12
           ],
           "y": {
            "bdata": "AAAAAAAAAAAAAAAA",
            "dtype": "i1"
           }
          },
          {
           "mode": "lines+markers",
           "name": "user_3",
           "type": "scatter",
           "x": [
            1,
            2,
            3,
            4,
            5,
            6,
            7,
            8,
            9,
            10,
            11,
            12
           ],
           "y": {
            "bdata": "AAAAAAAAAAAAAAAA",
            "dtype": "i1"
           }
          },
          {
           "mode": "lines+markers",
           "name": "user_30",
           "type": "scatter",
           "x": [
            1,
            2,
            3,
            4,
            5,
            6,
            7,
            8,
            9,
            10,
            11,
            12
           ],
           "y": {
            "bdata": "AAAAAAABAgAAAAAA",
            "dtype": "i1"
           }
          },
          {
           "mode": "lines+markers",
           "name": "user_31",
           "type": "scatter",
           "x": [
            1,
            2,
            3,
            4,
            5,
            6,
            7,
            8,
            9,
            10,
            11,
            12
           ],
           "y": {
            "bdata": "AAAAAAAAAAAAAAAA",
            "dtype": "i1"
           }
          },
          {
           "mode": "lines+markers",
           "name": "user_4",
           "type": "scatter",
           "x": [
            1,
            2,
            3,
            4,
            5,
            6,
            7,
            8,
            9,
            10,
            11,
            12
           ],
           "y": {
            "bdata": "BwALAAAAFBsAAAAA",
            "dtype": "i1"
           }
          },
          {
           "mode": "lines+markers",
           "name": "user_6",
           "type": "scatter",
           "x": [
            1,
            2,
            3,
            4,
            5,
            6,
            7,
            8,
            9,
            10,
            11,
            12
           ],
           "y": {
            "bdata": "AAAAAAAAAAAAAAAA",
            "dtype": "i1"
           }
          },
          {
           "mode": "lines+markers",
           "name": "user_8",
           "type": "scatter",
           "x": [
            1,
            2,
            3,
            4,
            5,
            6,
            7,
            8,
            9,
            10,
            11,
            12
           ],
           "y": {
            "bdata": "AAAAAAAAAAAAAAAA",
            "dtype": "i1"
           }
          }
         ],
         "name": "11"
        },
        {
         "data": [
          {
           "mode": "lines+markers",
           "name": "user_1",
           "type": "scatter",
           "x": [
            1,
            2,
            3,
            4,
            5,
            6,
            7,
            8,
            9,
            10,
            11,
            12,
            13
           ],
           "y": {
            "bdata": "AAAAAAAAAAAAAAAAAA==",
            "dtype": "i1"
           }
          },
          {
           "mode": "lines+markers",
           "name": "user_10",
           "type": "scatter",
           "x": [
            1,
            2,
            3,
            4,
            5,
            6,
            7,
            8,
            9,
            10,
            11,
            12,
            13
           ],
           "y": {
            "bdata": "AAAAAAAAAAAAAAAAAA==",
            "dtype": "i1"
           }
          },
          {
           "mode": "lines+markers",
           "name": "user_11",
           "type": "scatter",
           "x": [
            1,
            2,
            3,
            4,
            5,
            6,
            7,
            8,
            9,
            10,
            11,
            12,
            13
           ],
           "y": {
            "bdata": "AAAAAAAAAAAAAAAAAA==",
            "dtype": "i1"
           }
          },
          {
           "mode": "lines+markers",
           "name": "user_12",
           "type": "scatter",
           "x": [
            1,
            2,
            3,
            4,
            5,
            6,
            7,
            8,
            9,
            10,
            11,
            12,
            13
           ],
           "y": {
            "bdata": "AAAAAAAAAAAAAAAAAA==",
            "dtype": "i1"
           }
          },
          {
           "mode": "lines+markers",
           "name": "user_13",
           "type": "scatter",
           "x": [
            1,
            2,
            3,
            4,
            5,
            6,
            7,
            8,
            9,
            10,
            11,
            12,
            13
           ],
           "y": {
            "bdata": "AAAAAAAAAAAAAAAAAA==",
            "dtype": "i1"
           }
          },
          {
           "mode": "lines+markers",
           "name": "user_14",
           "type": "scatter",
           "x": [
            1,
            2,
            3,
            4,
            5,
            6,
            7,
            8,
            9,
            10,
            11,
            12,
            13
           ],
           "y": {
            "bdata": "AAAAAAAAAAAAAAAAAA==",
            "dtype": "i1"
           }
          },
          {
           "mode": "lines+markers",
           "name": "user_15",
           "type": "scatter",
           "x": [
            1,
            2,
            3,
            4,
            5,
            6,
            7,
            8,
            9,
            10,
            11,
            12,
            13
           ],
           "y": {
            "bdata": "AAAAAAAAAAAAAAAAAA==",
            "dtype": "i1"
           }
          },
          {
           "mode": "lines+markers",
           "name": "user_16",
           "type": "scatter",
           "x": [
            1,
            2,
            3,
            4,
            5,
            6,
            7,
            8,
            9,
            10,
            11,
            12,
            13
           ],
           "y": {
            "bdata": "AAAAAAAAAAAAAAAAAA==",
            "dtype": "i1"
           }
          },
          {
           "mode": "lines+markers",
           "name": "user_17",
           "type": "scatter",
           "x": [
            1,
            2,
            3,
            4,
            5,
            6,
            7,
            8,
            9,
            10,
            11,
            12,
            13
           ],
           "y": {
            "bdata": "AAEAAAAAAAAAAAAAAA==",
            "dtype": "i1"
           }
          },
          {
           "mode": "lines+markers",
           "name": "user_18",
           "type": "scatter",
           "x": [
            1,
            2,
            3,
            4,
            5,
            6,
            7,
            8,
            9,
            10,
            11,
            12,
            13
           ],
           "y": {
            "bdata": "AAAAAAAAAAAAAAAAAA==",
            "dtype": "i1"
           }
          },
          {
           "mode": "lines+markers",
           "name": "user_19",
           "type": "scatter",
           "x": [
            1,
            2,
            3,
            4,
            5,
            6,
            7,
            8,
            9,
            10,
            11,
            12,
            13
           ],
           "y": {
            "bdata": "AAAAAAAAAAAAAAAAAA==",
            "dtype": "i1"
           }
          },
          {
           "mode": "lines+markers",
           "name": "user_2",
           "type": "scatter",
           "x": [
            1,
            2,
            3,
            4,
            5,
            6,
            7,
            8,
            9,
            10,
            11,
            12,
            13
           ],
           "y": {
            "bdata": "AAAAAAAAAAAAAAAAAA==",
            "dtype": "i1"
           }
          },
          {
           "mode": "lines+markers",
           "name": "user_20",
           "type": "scatter",
           "x": [
            1,
            2,
            3,
            4,
            5,
            6,
            7,
            8,
            9,
            10,
            11,
            12,
            13
           ],
           "y": {
            "bdata": "AAAAAAAAAAAAAAAAAA==",
            "dtype": "i1"
           }
          },
          {
           "mode": "lines+markers",
           "name": "user_21",
           "type": "scatter",
           "x": [
            1,
            2,
            3,
            4,
            5,
            6,
            7,
            8,
            9,
            10,
            11,
            12,
            13
           ],
           "y": {
            "bdata": "AAAAAAAAAAAAAAAAAA==",
            "dtype": "i1"
           }
          },
          {
           "mode": "lines+markers",
           "name": "user_22",
           "type": "scatter",
           "x": [
            1,
            2,
            3,
            4,
            5,
            6,
            7,
            8,
            9,
            10,
            11,
            12,
            13
           ],
           "y": {
            "bdata": "AAAAAAAAAAAAAAAAAA==",
            "dtype": "i1"
           }
          },
          {
           "mode": "lines+markers",
           "name": "user_24",
           "type": "scatter",
           "x": [
            1,
            2,
            3,
            4,
            5,
            6,
            7,
            8,
            9,
            10,
            11,
            12,
            13
           ],
           "y": {
            "bdata": "AAAAAAAAAAAAAAAAAA==",
            "dtype": "i1"
           }
          },
          {
           "mode": "lines+markers",
           "name": "user_25",
           "type": "scatter",
           "x": [
            1,
            2,
            3,
            4,
            5,
            6,
            7,
            8,
            9,
            10,
            11,
            12,
            13
           ],
           "y": {
            "bdata": "AAAAAAAAAAAAAAAAAA==",
            "dtype": "i1"
           }
          },
          {
           "mode": "lines+markers",
           "name": "user_26",
           "type": "scatter",
           "x": [
            1,
            2,
            3,
            4,
            5,
            6,
            7,
            8,
            9,
            10,
            11,
            12,
            13
           ],
           "y": {
            "bdata": "AAAAAAAAAAAAAAAAAA==",
            "dtype": "i1"
           }
          },
          {
           "mode": "lines+markers",
           "name": "user_27",
           "type": "scatter",
           "x": [
            1,
            2,
            3,
            4,
            5,
            6,
            7,
            8,
            9,
            10,
            11,
            12,
            13
           ],
           "y": {
            "bdata": "AAAAAAAAAAAAAAAAAA==",
            "dtype": "i1"
           }
          },
          {
           "mode": "lines+markers",
           "name": "user_28",
           "type": "scatter",
           "x": [
            1,
            2,
            3,
            4,
            5,
            6,
            7,
            8,
            9,
            10,
            11,
            12,
            13
           ],
           "y": {
            "bdata": "AAAAAAAAAAAAAAAAAA==",
            "dtype": "i1"
           }
          },
          {
           "mode": "lines+markers",
           "name": "user_29",
           "type": "scatter",
           "x": [
            1,
            2,
            3,
            4,
            5,
            6,
            7,
            8,
            9,
            10,
            11,
            12,
            13
           ],
           "y": {
            "bdata": "AAAAAAAAAAAAAAAAAA==",
            "dtype": "i1"
           }
          },
          {
           "mode": "lines+markers",
           "name": "user_3",
           "type": "scatter",
           "x": [
            1,
            2,
            3,
            4,
            5,
            6,
            7,
            8,
            9,
            10,
            11,
            12,
            13
           ],
           "y": {
            "bdata": "AAAAAAAAAAAAAAAAAA==",
            "dtype": "i1"
           }
          },
          {
           "mode": "lines+markers",
           "name": "user_30",
           "type": "scatter",
           "x": [
            1,
            2,
            3,
            4,
            5,
            6,
            7,
            8,
            9,
            10,
            11,
            12,
            13
           ],
           "y": {
            "bdata": "AAAAAAABAgAAAAAAAA==",
            "dtype": "i1"
           }
          },
          {
           "mode": "lines+markers",
           "name": "user_31",
           "type": "scatter",
           "x": [
            1,
            2,
            3,
            4,
            5,
            6,
            7,
            8,
            9,
            10,
            11,
            12,
            13
           ],
           "y": {
            "bdata": "AAAAAAAAAAAAAAAAAA==",
            "dtype": "i1"
           }
          },
          {
           "mode": "lines+markers",
           "name": "user_4",
           "type": "scatter",
           "x": [
            1,
            2,
            3,
            4,
            5,
            6,
            7,
            8,
            9,
            10,
            11,
            12,
            13
           ],
           "y": {
            "bdata": "BwALAAAAFBsAAAAAAA==",
            "dtype": "i1"
           }
          },
          {
           "mode": "lines+markers",
           "name": "user_6",
           "type": "scatter",
           "x": [
            1,
            2,
            3,
            4,
            5,
            6,
            7,
            8,
            9,
            10,
            11,
            12,
            13
           ],
           "y": {
            "bdata": "AAAAAAAAAAAAAAAAAA==",
            "dtype": "i1"
           }
          },
          {
           "mode": "lines+markers",
           "name": "user_8",
           "type": "scatter",
           "x": [
            1,
            2,
            3,
            4,
            5,
            6,
            7,
            8,
            9,
            10,
            11,
            12,
            13
           ],
           "y": {
            "bdata": "AAAAAAAAAAAAAAAAAA==",
            "dtype": "i1"
           }
          }
         ],
         "name": "12"
        },
        {
         "data": [
          {
           "mode": "lines+markers",
           "name": "user_1",
           "type": "scatter",
           "x": [
            1,
            2,
            3,
            4,
            5,
            6,
            7,
            8,
            9,
            10,
            11,
            12,
            13,
            14
           ],
           "y": {
            "bdata": "AAAAAAAAAAAAAAAAAAA=",
            "dtype": "i1"
           }
          },
          {
           "mode": "lines+markers",
           "name": "user_10",
           "type": "scatter",
           "x": [
            1,
            2,
            3,
            4,
            5,
            6,
            7,
            8,
            9,
            10,
            11,
            12,
            13,
            14
           ],
           "y": {
            "bdata": "AAAAAAAAAAAAAAAAAAA=",
            "dtype": "i1"
           }
          },
          {
           "mode": "lines+markers",
           "name": "user_11",
           "type": "scatter",
           "x": [
            1,
            2,
            3,
            4,
            5,
            6,
            7,
            8,
            9,
            10,
            11,
            12,
            13,
            14
           ],
           "y": {
            "bdata": "AAAAAAAAAAAAAAAAAAA=",
            "dtype": "i1"
           }
          },
          {
           "mode": "lines+markers",
           "name": "user_12",
           "type": "scatter",
           "x": [
            1,
            2,
            3,
            4,
            5,
            6,
            7,
            8,
            9,
            10,
            11,
            12,
            13,
            14
           ],
           "y": {
            "bdata": "AAAAAAAAAAAAAAAAAAA=",
            "dtype": "i1"
           }
          },
          {
           "mode": "lines+markers",
           "name": "user_13",
           "type": "scatter",
           "x": [
            1,
            2,
            3,
            4,
            5,
            6,
            7,
            8,
            9,
            10,
            11,
            12,
            13,
            14
           ],
           "y": {
            "bdata": "AAAAAAAAAAAAAAAAAAA=",
            "dtype": "i1"
           }
          },
          {
           "mode": "lines+markers",
           "name": "user_14",
           "type": "scatter",
           "x": [
            1,
            2,
            3,
            4,
            5,
            6,
            7,
            8,
            9,
            10,
            11,
            12,
            13,
            14
           ],
           "y": {
            "bdata": "AAAAAAAAAAAAAAAAAAA=",
            "dtype": "i1"
           }
          },
          {
           "mode": "lines+markers",
           "name": "user_15",
           "type": "scatter",
           "x": [
            1,
            2,
            3,
            4,
            5,
            6,
            7,
            8,
            9,
            10,
            11,
            12,
            13,
            14
           ],
           "y": {
            "bdata": "AAAAAAAAAAAAAAAAAAA=",
            "dtype": "i1"
           }
          },
          {
           "mode": "lines+markers",
           "name": "user_16",
           "type": "scatter",
           "x": [
            1,
            2,
            3,
            4,
            5,
            6,
            7,
            8,
            9,
            10,
            11,
            12,
            13,
            14
           ],
           "y": {
            "bdata": "AAAAAAAAAAAAAAAAAAA=",
            "dtype": "i1"
           }
          },
          {
           "mode": "lines+markers",
           "name": "user_17",
           "type": "scatter",
           "x": [
            1,
            2,
            3,
            4,
            5,
            6,
            7,
            8,
            9,
            10,
            11,
            12,
            13,
            14
           ],
           "y": {
            "bdata": "AAEAAAAAAAAAAAAAAAA=",
            "dtype": "i1"
           }
          },
          {
           "mode": "lines+markers",
           "name": "user_18",
           "type": "scatter",
           "x": [
            1,
            2,
            3,
            4,
            5,
            6,
            7,
            8,
            9,
            10,
            11,
            12,
            13,
            14
           ],
           "y": {
            "bdata": "AAAAAAAAAAAAAAAAAAA=",
            "dtype": "i1"
           }
          },
          {
           "mode": "lines+markers",
           "name": "user_19",
           "type": "scatter",
           "x": [
            1,
            2,
            3,
            4,
            5,
            6,
            7,
            8,
            9,
            10,
            11,
            12,
            13,
            14
           ],
           "y": {
            "bdata": "AAAAAAAAAAAAAAAAAAA=",
            "dtype": "i1"
           }
          },
          {
           "mode": "lines+markers",
           "name": "user_2",
           "type": "scatter",
           "x": [
            1,
            2,
            3,
            4,
            5,
            6,
            7,
            8,
            9,
            10,
            11,
            12,
            13,
            14
           ],
           "y": {
            "bdata": "AAAAAAAAAAAAAAAAAAA=",
            "dtype": "i1"
           }
          },
          {
           "mode": "lines+markers",
           "name": "user_20",
           "type": "scatter",
           "x": [
            1,
            2,
            3,
            4,
            5,
            6,
            7,
            8,
            9,
            10,
            11,
            12,
            13,
            14
           ],
           "y": {
            "bdata": "AAAAAAAAAAAAAAAAAAA=",
            "dtype": "i1"
           }
          },
          {
           "mode": "lines+markers",
           "name": "user_21",
           "type": "scatter",
           "x": [
            1,
            2,
            3,
            4,
            5,
            6,
            7,
            8,
            9,
            10,
            11,
            12,
            13,
            14
           ],
           "y": {
            "bdata": "AAAAAAAAAAAAAAAAAAA=",
            "dtype": "i1"
           }
          },
          {
           "mode": "lines+markers",
           "name": "user_22",
           "type": "scatter",
           "x": [
            1,
            2,
            3,
            4,
            5,
            6,
            7,
            8,
            9,
            10,
            11,
            12,
            13,
            14
           ],
           "y": {
            "bdata": "AAAAAAAAAAAAAAAAAAA=",
            "dtype": "i1"
           }
          },
          {
           "mode": "lines+markers",
           "name": "user_24",
           "type": "scatter",
           "x": [
            1,
            2,
            3,
            4,
            5,
            6,
            7,
            8,
            9,
            10,
            11,
            12,
            13,
            14
           ],
           "y": {
            "bdata": "AAAAAAAAAAAAAAAAAAA=",
            "dtype": "i1"
           }
          },
          {
           "mode": "lines+markers",
           "name": "user_25",
           "type": "scatter",
           "x": [
            1,
            2,
            3,
            4,
            5,
            6,
            7,
            8,
            9,
            10,
            11,
            12,
            13,
            14
           ],
           "y": {
            "bdata": "AAAAAAAAAAAAAAAAAAA=",
            "dtype": "i1"
           }
          },
          {
           "mode": "lines+markers",
           "name": "user_26",
           "type": "scatter",
           "x": [
            1,
            2,
            3,
            4,
            5,
            6,
            7,
            8,
            9,
            10,
            11,
            12,
            13,
            14
           ],
           "y": {
            "bdata": "AAAAAAAAAAAAAAAAAAA=",
            "dtype": "i1"
           }
          },
          {
           "mode": "lines+markers",
           "name": "user_27",
           "type": "scatter",
           "x": [
            1,
            2,
            3,
            4,
            5,
            6,
            7,
            8,
            9,
            10,
            11,
            12,
            13,
            14
           ],
           "y": {
            "bdata": "AAAAAAAAAAAAAAAAAAA=",
            "dtype": "i1"
           }
          },
          {
           "mode": "lines+markers",
           "name": "user_28",
           "type": "scatter",
           "x": [
            1,
            2,
            3,
            4,
            5,
            6,
            7,
            8,
            9,
            10,
            11,
            12,
            13,
            14
           ],
           "y": {
            "bdata": "AAAAAAAAAAAAAAAAAAA=",
            "dtype": "i1"
           }
          },
          {
           "mode": "lines+markers",
           "name": "user_29",
           "type": "scatter",
           "x": [
            1,
            2,
            3,
            4,
            5,
            6,
            7,
            8,
            9,
            10,
            11,
            12,
            13,
            14
           ],
           "y": {
            "bdata": "AAAAAAAAAAAAAAAAAAA=",
            "dtype": "i1"
           }
          },
          {
           "mode": "lines+markers",
           "name": "user_3",
           "type": "scatter",
           "x": [
            1,
            2,
            3,
            4,
            5,
            6,
            7,
            8,
            9,
            10,
            11,
            12,
            13,
            14
           ],
           "y": {
            "bdata": "AAAAAAAAAAAAAAAAAAA=",
            "dtype": "i1"
           }
          },
          {
           "mode": "lines+markers",
           "name": "user_30",
           "type": "scatter",
           "x": [
            1,
            2,
            3,
            4,
            5,
            6,
            7,
            8,
            9,
            10,
            11,
            12,
            13,
            14
           ],
           "y": {
            "bdata": "AAAAAAABAgAAAAAAAAA=",
            "dtype": "i1"
           }
          },
          {
           "mode": "lines+markers",
           "name": "user_31",
           "type": "scatter",
           "x": [
            1,
            2,
            3,
            4,
            5,
            6,
            7,
            8,
            9,
            10,
            11,
            12,
            13,
            14
           ],
           "y": {
            "bdata": "AAAAAAAAAAAAAAAAAAA=",
            "dtype": "i1"
           }
          },
          {
           "mode": "lines+markers",
           "name": "user_4",
           "type": "scatter",
           "x": [
            1,
            2,
            3,
            4,
            5,
            6,
            7,
            8,
            9,
            10,
            11,
            12,
            13,
            14
           ],
           "y": {
            "bdata": "BwALAAAAFBsAAAAAAAA=",
            "dtype": "i1"
           }
          },
          {
           "mode": "lines+markers",
           "name": "user_6",
           "type": "scatter",
           "x": [
            1,
            2,
            3,
            4,
            5,
            6,
            7,
            8,
            9,
            10,
            11,
            12,
            13,
            14
           ],
           "y": {
            "bdata": "AAAAAAAAAAAAAAAAAAA=",
            "dtype": "i1"
           }
          },
          {
           "mode": "lines+markers",
           "name": "user_8",
           "type": "scatter",
           "x": [
            1,
            2,
            3,
            4,
            5,
            6,
            7,
            8,
            9,
            10,
            11,
            12,
            13,
            14
           ],
           "y": {
            "bdata": "AAAAAAAAAAAAAAAAAAA=",
            "dtype": "i1"
           }
          }
         ],
         "name": "13"
        },
        {
         "data": [
          {
           "mode": "lines+markers",
           "name": "user_1",
           "type": "scatter",
           "x": [
            1,
            2,
            3,
            4,
            5,
            6,
            7,
            8,
            9,
            10,
            11,
            12,
            13,
            14,
            15
           ],
           "y": {
            "bdata": "AAAAAAAAAAAAAAAAAAAA",
            "dtype": "i1"
           }
          },
          {
           "mode": "lines+markers",
           "name": "user_10",
           "type": "scatter",
           "x": [
            1,
            2,
            3,
            4,
            5,
            6,
            7,
            8,
            9,
            10,
            11,
            12,
            13,
            14,
            15
           ],
           "y": {
            "bdata": "AAAAAAAAAAAAAAAAAAAA",
            "dtype": "i1"
           }
          },
          {
           "mode": "lines+markers",
           "name": "user_11",
           "type": "scatter",
           "x": [
            1,
            2,
            3,
            4,
            5,
            6,
            7,
            8,
            9,
            10,
            11,
            12,
            13,
            14,
            15
           ],
           "y": {
            "bdata": "AAAAAAAAAAAAAAAAAAAA",
            "dtype": "i1"
           }
          },
          {
           "mode": "lines+markers",
           "name": "user_12",
           "type": "scatter",
           "x": [
            1,
            2,
            3,
            4,
            5,
            6,
            7,
            8,
            9,
            10,
            11,
            12,
            13,
            14,
            15
           ],
           "y": {
            "bdata": "AAAAAAAAAAAAAAAAAAAA",
            "dtype": "i1"
           }
          },
          {
           "mode": "lines+markers",
           "name": "user_13",
           "type": "scatter",
           "x": [
            1,
            2,
            3,
            4,
            5,
            6,
            7,
            8,
            9,
            10,
            11,
            12,
            13,
            14,
            15
           ],
           "y": {
            "bdata": "AAAAAAAAAAAAAAAAAAAA",
            "dtype": "i1"
           }
          },
          {
           "mode": "lines+markers",
           "name": "user_14",
           "type": "scatter",
           "x": [
            1,
            2,
            3,
            4,
            5,
            6,
            7,
            8,
            9,
            10,
            11,
            12,
            13,
            14,
            15
           ],
           "y": {
            "bdata": "AAAAAAAAAAAAAAAAAAAA",
            "dtype": "i1"
           }
          },
          {
           "mode": "lines+markers",
           "name": "user_15",
           "type": "scatter",
           "x": [
            1,
            2,
            3,
            4,
            5,
            6,
            7,
            8,
            9,
            10,
            11,
            12,
            13,
            14,
            15
           ],
           "y": {
            "bdata": "AAAAAAAAAAAAAAAAAAAA",
            "dtype": "i1"
           }
          },
          {
           "mode": "lines+markers",
           "name": "user_16",
           "type": "scatter",
           "x": [
            1,
            2,
            3,
            4,
            5,
            6,
            7,
            8,
            9,
            10,
            11,
            12,
            13,
            14,
            15
           ],
           "y": {
            "bdata": "AAAAAAAAAAAAAAAAAAAA",
            "dtype": "i1"
           }
          },
          {
           "mode": "lines+markers",
           "name": "user_17",
           "type": "scatter",
           "x": [
            1,
            2,
            3,
            4,
            5,
            6,
            7,
            8,
            9,
            10,
            11,
            12,
            13,
            14,
            15
           ],
           "y": {
            "bdata": "AAEAAAAAAAAAAAAAAAAA",
            "dtype": "i1"
           }
          },
          {
           "mode": "lines+markers",
           "name": "user_18",
           "type": "scatter",
           "x": [
            1,
            2,
            3,
            4,
            5,
            6,
            7,
            8,
            9,
            10,
            11,
            12,
            13,
            14,
            15
           ],
           "y": {
            "bdata": "AAAAAAAAAAAAAAAAAAAA",
            "dtype": "i1"
           }
          },
          {
           "mode": "lines+markers",
           "name": "user_19",
           "type": "scatter",
           "x": [
            1,
            2,
            3,
            4,
            5,
            6,
            7,
            8,
            9,
            10,
            11,
            12,
            13,
            14,
            15
           ],
           "y": {
            "bdata": "AAAAAAAAAAAAAAAAAAAA",
            "dtype": "i1"
           }
          },
          {
           "mode": "lines+markers",
           "name": "user_2",
           "type": "scatter",
           "x": [
            1,
            2,
            3,
            4,
            5,
            6,
            7,
            8,
            9,
            10,
            11,
            12,
            13,
            14,
            15
           ],
           "y": {
            "bdata": "AAAAAAAAAAAAAAAAAAAA",
            "dtype": "i1"
           }
          },
          {
           "mode": "lines+markers",
           "name": "user_20",
           "type": "scatter",
           "x": [
            1,
            2,
            3,
            4,
            5,
            6,
            7,
            8,
            9,
            10,
            11,
            12,
            13,
            14,
            15
           ],
           "y": {
            "bdata": "AAAAAAAAAAAAAAAAAAAA",
            "dtype": "i1"
           }
          },
          {
           "mode": "lines+markers",
           "name": "user_21",
           "type": "scatter",
           "x": [
            1,
            2,
            3,
            4,
            5,
            6,
            7,
            8,
            9,
            10,
            11,
            12,
            13,
            14,
            15
           ],
           "y": {
            "bdata": "AAAAAAAAAAAAAAAAAAAA",
            "dtype": "i1"
           }
          },
          {
           "mode": "lines+markers",
           "name": "user_22",
           "type": "scatter",
           "x": [
            1,
            2,
            3,
            4,
            5,
            6,
            7,
            8,
            9,
            10,
            11,
            12,
            13,
            14,
            15
           ],
           "y": {
            "bdata": "AAAAAAAAAAAAAAAAAAAA",
            "dtype": "i1"
           }
          },
          {
           "mode": "lines+markers",
           "name": "user_24",
           "type": "scatter",
           "x": [
            1,
            2,
            3,
            4,
            5,
            6,
            7,
            8,
            9,
            10,
            11,
            12,
            13,
            14,
            15
           ],
           "y": {
            "bdata": "AAAAAAAAAAAAAAAAAAAA",
            "dtype": "i1"
           }
          },
          {
           "mode": "lines+markers",
           "name": "user_25",
           "type": "scatter",
           "x": [
            1,
            2,
            3,
            4,
            5,
            6,
            7,
            8,
            9,
            10,
            11,
            12,
            13,
            14,
            15
           ],
           "y": {
            "bdata": "AAAAAAAAAAAAAAAAAAAA",
            "dtype": "i1"
           }
          },
          {
           "mode": "lines+markers",
           "name": "user_26",
           "type": "scatter",
           "x": [
            1,
            2,
            3,
            4,
            5,
            6,
            7,
            8,
            9,
            10,
            11,
            12,
            13,
            14,
            15
           ],
           "y": {
            "bdata": "AAAAAAAAAAAAAAAAAAAA",
            "dtype": "i1"
           }
          },
          {
           "mode": "lines+markers",
           "name": "user_27",
           "type": "scatter",
           "x": [
            1,
            2,
            3,
            4,
            5,
            6,
            7,
            8,
            9,
            10,
            11,
            12,
            13,
            14,
            15
           ],
           "y": {
            "bdata": "AAAAAAAAAAAAAAAAAAAA",
            "dtype": "i1"
           }
          },
          {
           "mode": "lines+markers",
           "name": "user_28",
           "type": "scatter",
           "x": [
            1,
            2,
            3,
            4,
            5,
            6,
            7,
            8,
            9,
            10,
            11,
            12,
            13,
            14,
            15
           ],
           "y": {
            "bdata": "AAAAAAAAAAAAAAAAAAAA",
            "dtype": "i1"
           }
          },
          {
           "mode": "lines+markers",
           "name": "user_29",
           "type": "scatter",
           "x": [
            1,
            2,
            3,
            4,
            5,
            6,
            7,
            8,
            9,
            10,
            11,
            12,
            13,
            14,
            15
           ],
           "y": {
            "bdata": "AAAAAAAAAAAAAAAAAAAA",
            "dtype": "i1"
           }
          },
          {
           "mode": "lines+markers",
           "name": "user_3",
           "type": "scatter",
           "x": [
            1,
            2,
            3,
            4,
            5,
            6,
            7,
            8,
            9,
            10,
            11,
            12,
            13,
            14,
            15
           ],
           "y": {
            "bdata": "AAAAAAAAAAAAAAAAAAAA",
            "dtype": "i1"
           }
          },
          {
           "mode": "lines+markers",
           "name": "user_30",
           "type": "scatter",
           "x": [
            1,
            2,
            3,
            4,
            5,
            6,
            7,
            8,
            9,
            10,
            11,
            12,
            13,
            14,
            15
           ],
           "y": {
            "bdata": "AAAAAAABAgAAAAAAAAAA",
            "dtype": "i1"
           }
          },
          {
           "mode": "lines+markers",
           "name": "user_31",
           "type": "scatter",
           "x": [
            1,
            2,
            3,
            4,
            5,
            6,
            7,
            8,
            9,
            10,
            11,
            12,
            13,
            14,
            15
           ],
           "y": {
            "bdata": "AAAAAAAAAAAAAAAAAAAA",
            "dtype": "i1"
           }
          },
          {
           "mode": "lines+markers",
           "name": "user_4",
           "type": "scatter",
           "x": [
            1,
            2,
            3,
            4,
            5,
            6,
            7,
            8,
            9,
            10,
            11,
            12,
            13,
            14,
            15
           ],
           "y": {
            "bdata": "BwALAAAAFBsAAAAAAAAA",
            "dtype": "i1"
           }
          },
          {
           "mode": "lines+markers",
           "name": "user_6",
           "type": "scatter",
           "x": [
            1,
            2,
            3,
            4,
            5,
            6,
            7,
            8,
            9,
            10,
            11,
            12,
            13,
            14,
            15
           ],
           "y": {
            "bdata": "AAAAAAAAAAAAAAAAAAAA",
            "dtype": "i1"
           }
          },
          {
           "mode": "lines+markers",
           "name": "user_8",
           "type": "scatter",
           "x": [
            1,
            2,
            3,
            4,
            5,
            6,
            7,
            8,
            9,
            10,
            11,
            12,
            13,
            14,
            15
           ],
           "y": {
            "bdata": "AAAAAAAAAAAAAAAAAAAA",
            "dtype": "i1"
           }
          }
         ],
         "name": "14"
        },
        {
         "data": [
          {
           "mode": "lines+markers",
           "name": "user_1",
           "type": "scatter",
           "x": [
            1,
            2,
            3,
            4,
            5,
            6,
            7,
            8,
            9,
            10,
            11,
            12,
            13,
            14,
            15,
            16
           ],
           "y": {
            "bdata": "AAAAAAAAAAAAAAAAAAAAAA==",
            "dtype": "i1"
           }
          },
          {
           "mode": "lines+markers",
           "name": "user_10",
           "type": "scatter",
           "x": [
            1,
            2,
            3,
            4,
            5,
            6,
            7,
            8,
            9,
            10,
            11,
            12,
            13,
            14,
            15,
            16
           ],
           "y": {
            "bdata": "AAAAAAAAAAAAAAAAAAAAAA==",
            "dtype": "i1"
           }
          },
          {
           "mode": "lines+markers",
           "name": "user_11",
           "type": "scatter",
           "x": [
            1,
            2,
            3,
            4,
            5,
            6,
            7,
            8,
            9,
            10,
            11,
            12,
            13,
            14,
            15,
            16
           ],
           "y": {
            "bdata": "AAAAAAAAAAAAAAAAAAAAAA==",
            "dtype": "i1"
           }
          },
          {
           "mode": "lines+markers",
           "name": "user_12",
           "type": "scatter",
           "x": [
            1,
            2,
            3,
            4,
            5,
            6,
            7,
            8,
            9,
            10,
            11,
            12,
            13,
            14,
            15,
            16
           ],
           "y": {
            "bdata": "AAAAAAAAAAAAAAAAAAAAAA==",
            "dtype": "i1"
           }
          },
          {
           "mode": "lines+markers",
           "name": "user_13",
           "type": "scatter",
           "x": [
            1,
            2,
            3,
            4,
            5,
            6,
            7,
            8,
            9,
            10,
            11,
            12,
            13,
            14,
            15,
            16
           ],
           "y": {
            "bdata": "AAAAAAAAAAAAAAAAAAAAAA==",
            "dtype": "i1"
           }
          },
          {
           "mode": "lines+markers",
           "name": "user_14",
           "type": "scatter",
           "x": [
            1,
            2,
            3,
            4,
            5,
            6,
            7,
            8,
            9,
            10,
            11,
            12,
            13,
            14,
            15,
            16
           ],
           "y": {
            "bdata": "AAAAAAAAAAAAAAAAAAAAAA==",
            "dtype": "i1"
           }
          },
          {
           "mode": "lines+markers",
           "name": "user_15",
           "type": "scatter",
           "x": [
            1,
            2,
            3,
            4,
            5,
            6,
            7,
            8,
            9,
            10,
            11,
            12,
            13,
            14,
            15,
            16
           ],
           "y": {
            "bdata": "AAAAAAAAAAAAAAAAAAAAAA==",
            "dtype": "i1"
           }
          },
          {
           "mode": "lines+markers",
           "name": "user_16",
           "type": "scatter",
           "x": [
            1,
            2,
            3,
            4,
            5,
            6,
            7,
            8,
            9,
            10,
            11,
            12,
            13,
            14,
            15,
            16
           ],
           "y": {
            "bdata": "AAAAAAAAAAAAAAAAAAAAAA==",
            "dtype": "i1"
           }
          },
          {
           "mode": "lines+markers",
           "name": "user_17",
           "type": "scatter",
           "x": [
            1,
            2,
            3,
            4,
            5,
            6,
            7,
            8,
            9,
            10,
            11,
            12,
            13,
            14,
            15,
            16
           ],
           "y": {
            "bdata": "AAEAAAAAAAAAAAAAAAAAAA==",
            "dtype": "i1"
           }
          },
          {
           "mode": "lines+markers",
           "name": "user_18",
           "type": "scatter",
           "x": [
            1,
            2,
            3,
            4,
            5,
            6,
            7,
            8,
            9,
            10,
            11,
            12,
            13,
            14,
            15,
            16
           ],
           "y": {
            "bdata": "AAAAAAAAAAAAAAAAAAAAAA==",
            "dtype": "i1"
           }
          },
          {
           "mode": "lines+markers",
           "name": "user_19",
           "type": "scatter",
           "x": [
            1,
            2,
            3,
            4,
            5,
            6,
            7,
            8,
            9,
            10,
            11,
            12,
            13,
            14,
            15,
            16
           ],
           "y": {
            "bdata": "AAAAAAAAAAAAAAAAAAAAAA==",
            "dtype": "i1"
           }
          },
          {
           "mode": "lines+markers",
           "name": "user_2",
           "type": "scatter",
           "x": [
            1,
            2,
            3,
            4,
            5,
            6,
            7,
            8,
            9,
            10,
            11,
            12,
            13,
            14,
            15,
            16
           ],
           "y": {
            "bdata": "AAAAAAAAAAAAAAAAAAAAAA==",
            "dtype": "i1"
           }
          },
          {
           "mode": "lines+markers",
           "name": "user_20",
           "type": "scatter",
           "x": [
            1,
            2,
            3,
            4,
            5,
            6,
            7,
            8,
            9,
            10,
            11,
            12,
            13,
            14,
            15,
            16
           ],
           "y": {
            "bdata": "AAAAAAAAAAAAAAAAAAAAAA==",
            "dtype": "i1"
           }
          },
          {
           "mode": "lines+markers",
           "name": "user_21",
           "type": "scatter",
           "x": [
            1,
            2,
            3,
            4,
            5,
            6,
            7,
            8,
            9,
            10,
            11,
            12,
            13,
            14,
            15,
            16
           ],
           "y": {
            "bdata": "AAAAAAAAAAAAAAAAAAAAAA==",
            "dtype": "i1"
           }
          },
          {
           "mode": "lines+markers",
           "name": "user_22",
           "type": "scatter",
           "x": [
            1,
            2,
            3,
            4,
            5,
            6,
            7,
            8,
            9,
            10,
            11,
            12,
            13,
            14,
            15,
            16
           ],
           "y": {
            "bdata": "AAAAAAAAAAAAAAAAAAAAAA==",
            "dtype": "i1"
           }
          },
          {
           "mode": "lines+markers",
           "name": "user_24",
           "type": "scatter",
           "x": [
            1,
            2,
            3,
            4,
            5,
            6,
            7,
            8,
            9,
            10,
            11,
            12,
            13,
            14,
            15,
            16
           ],
           "y": {
            "bdata": "AAAAAAAAAAAAAAAAAAAAAA==",
            "dtype": "i1"
           }
          },
          {
           "mode": "lines+markers",
           "name": "user_25",
           "type": "scatter",
           "x": [
            1,
            2,
            3,
            4,
            5,
            6,
            7,
            8,
            9,
            10,
            11,
            12,
            13,
            14,
            15,
            16
           ],
           "y": {
            "bdata": "AAAAAAAAAAAAAAAAAAAAAA==",
            "dtype": "i1"
           }
          },
          {
           "mode": "lines+markers",
           "name": "user_26",
           "type": "scatter",
           "x": [
            1,
            2,
            3,
            4,
            5,
            6,
            7,
            8,
            9,
            10,
            11,
            12,
            13,
            14,
            15,
            16
           ],
           "y": {
            "bdata": "AAAAAAAAAAAAAAAAAAAAAA==",
            "dtype": "i1"
           }
          },
          {
           "mode": "lines+markers",
           "name": "user_27",
           "type": "scatter",
           "x": [
            1,
            2,
            3,
            4,
            5,
            6,
            7,
            8,
            9,
            10,
            11,
            12,
            13,
            14,
            15,
            16
           ],
           "y": {
            "bdata": "AAAAAAAAAAAAAAAAAAAAAA==",
            "dtype": "i1"
           }
          },
          {
           "mode": "lines+markers",
           "name": "user_28",
           "type": "scatter",
           "x": [
            1,
            2,
            3,
            4,
            5,
            6,
            7,
            8,
            9,
            10,
            11,
            12,
            13,
            14,
            15,
            16
           ],
           "y": {
            "bdata": "AAAAAAAAAAAAAAAAAAAAAA==",
            "dtype": "i1"
           }
          },
          {
           "mode": "lines+markers",
           "name": "user_29",
           "type": "scatter",
           "x": [
            1,
            2,
            3,
            4,
            5,
            6,
            7,
            8,
            9,
            10,
            11,
            12,
            13,
            14,
            15,
            16
           ],
           "y": {
            "bdata": "AAAAAAAAAAAAAAAAAAAAAA==",
            "dtype": "i1"
           }
          },
          {
           "mode": "lines+markers",
           "name": "user_3",
           "type": "scatter",
           "x": [
            1,
            2,
            3,
            4,
            5,
            6,
            7,
            8,
            9,
            10,
            11,
            12,
            13,
            14,
            15,
            16
           ],
           "y": {
            "bdata": "AAAAAAAAAAAAAAAAAAAAAA==",
            "dtype": "i1"
           }
          },
          {
           "mode": "lines+markers",
           "name": "user_30",
           "type": "scatter",
           "x": [
            1,
            2,
            3,
            4,
            5,
            6,
            7,
            8,
            9,
            10,
            11,
            12,
            13,
            14,
            15,
            16
           ],
           "y": {
            "bdata": "AAAAAAABAgAAAAAAAAAAAA==",
            "dtype": "i1"
           }
          },
          {
           "mode": "lines+markers",
           "name": "user_31",
           "type": "scatter",
           "x": [
            1,
            2,
            3,
            4,
            5,
            6,
            7,
            8,
            9,
            10,
            11,
            12,
            13,
            14,
            15,
            16
           ],
           "y": {
            "bdata": "AAAAAAAAAAAAAAAAAAAAAA==",
            "dtype": "i1"
           }
          },
          {
           "mode": "lines+markers",
           "name": "user_4",
           "type": "scatter",
           "x": [
            1,
            2,
            3,
            4,
            5,
            6,
            7,
            8,
            9,
            10,
            11,
            12,
            13,
            14,
            15,
            16
           ],
           "y": {
            "bdata": "BwALAAAAFBsAAAAAAAAAAA==",
            "dtype": "i1"
           }
          },
          {
           "mode": "lines+markers",
           "name": "user_6",
           "type": "scatter",
           "x": [
            1,
            2,
            3,
            4,
            5,
            6,
            7,
            8,
            9,
            10,
            11,
            12,
            13,
            14,
            15,
            16
           ],
           "y": {
            "bdata": "AAAAAAAAAAAAAAAAAAAAAA==",
            "dtype": "i1"
           }
          },
          {
           "mode": "lines+markers",
           "name": "user_8",
           "type": "scatter",
           "x": [
            1,
            2,
            3,
            4,
            5,
            6,
            7,
            8,
            9,
            10,
            11,
            12,
            13,
            14,
            15,
            16
           ],
           "y": {
            "bdata": "AAAAAAAAAAAAAAAAAAAAAA==",
            "dtype": "i1"
           }
          }
         ],
         "name": "15"
        },
        {
         "data": [
          {
           "mode": "lines+markers",
           "name": "user_1",
           "type": "scatter",
           "x": [
            1,
            2,
            3,
            4,
            5,
            6,
            7,
            8,
            9,
            10,
            11,
            12,
            13,
            14,
            15,
            16,
            17
           ],
           "y": {
            "bdata": "AAAAAAAAAAAAAAAAAAAAAAA=",
            "dtype": "i1"
           }
          },
          {
           "mode": "lines+markers",
           "name": "user_10",
           "type": "scatter",
           "x": [
            1,
            2,
            3,
            4,
            5,
            6,
            7,
            8,
            9,
            10,
            11,
            12,
            13,
            14,
            15,
            16,
            17
           ],
           "y": {
            "bdata": "AAAAAAAAAAAAAAAAAAAAAAA=",
            "dtype": "i1"
           }
          },
          {
           "mode": "lines+markers",
           "name": "user_11",
           "type": "scatter",
           "x": [
            1,
            2,
            3,
            4,
            5,
            6,
            7,
            8,
            9,
            10,
            11,
            12,
            13,
            14,
            15,
            16,
            17
           ],
           "y": {
            "bdata": "AAAAAAAAAAAAAAAAAAAAAAE=",
            "dtype": "i1"
           }
          },
          {
           "mode": "lines+markers",
           "name": "user_12",
           "type": "scatter",
           "x": [
            1,
            2,
            3,
            4,
            5,
            6,
            7,
            8,
            9,
            10,
            11,
            12,
            13,
            14,
            15,
            16,
            17
           ],
           "y": {
            "bdata": "AAAAAAAAAAAAAAAAAAAAAAA=",
            "dtype": "i1"
           }
          },
          {
           "mode": "lines+markers",
           "name": "user_13",
           "type": "scatter",
           "x": [
            1,
            2,
            3,
            4,
            5,
            6,
            7,
            8,
            9,
            10,
            11,
            12,
            13,
            14,
            15,
            16,
            17
           ],
           "y": {
            "bdata": "AAAAAAAAAAAAAAAAAAAAAAA=",
            "dtype": "i1"
           }
          },
          {
           "mode": "lines+markers",
           "name": "user_14",
           "type": "scatter",
           "x": [
            1,
            2,
            3,
            4,
            5,
            6,
            7,
            8,
            9,
            10,
            11,
            12,
            13,
            14,
            15,
            16,
            17
           ],
           "y": {
            "bdata": "AAAAAAAAAAAAAAAAAAAAAAA=",
            "dtype": "i1"
           }
          },
          {
           "mode": "lines+markers",
           "name": "user_15",
           "type": "scatter",
           "x": [
            1,
            2,
            3,
            4,
            5,
            6,
            7,
            8,
            9,
            10,
            11,
            12,
            13,
            14,
            15,
            16,
            17
           ],
           "y": {
            "bdata": "AAAAAAAAAAAAAAAAAAAAAAA=",
            "dtype": "i1"
           }
          },
          {
           "mode": "lines+markers",
           "name": "user_16",
           "type": "scatter",
           "x": [
            1,
            2,
            3,
            4,
            5,
            6,
            7,
            8,
            9,
            10,
            11,
            12,
            13,
            14,
            15,
            16,
            17
           ],
           "y": {
            "bdata": "AAAAAAAAAAAAAAAAAAAAAAA=",
            "dtype": "i1"
           }
          },
          {
           "mode": "lines+markers",
           "name": "user_17",
           "type": "scatter",
           "x": [
            1,
            2,
            3,
            4,
            5,
            6,
            7,
            8,
            9,
            10,
            11,
            12,
            13,
            14,
            15,
            16,
            17
           ],
           "y": {
            "bdata": "AAEAAAAAAAAAAAAAAAAAAAA=",
            "dtype": "i1"
           }
          },
          {
           "mode": "lines+markers",
           "name": "user_18",
           "type": "scatter",
           "x": [
            1,
            2,
            3,
            4,
            5,
            6,
            7,
            8,
            9,
            10,
            11,
            12,
            13,
            14,
            15,
            16,
            17
           ],
           "y": {
            "bdata": "AAAAAAAAAAAAAAAAAAAAAAA=",
            "dtype": "i1"
           }
          },
          {
           "mode": "lines+markers",
           "name": "user_19",
           "type": "scatter",
           "x": [
            1,
            2,
            3,
            4,
            5,
            6,
            7,
            8,
            9,
            10,
            11,
            12,
            13,
            14,
            15,
            16,
            17
           ],
           "y": {
            "bdata": "AAAAAAAAAAAAAAAAAAAAAAA=",
            "dtype": "i1"
           }
          },
          {
           "mode": "lines+markers",
           "name": "user_2",
           "type": "scatter",
           "x": [
            1,
            2,
            3,
            4,
            5,
            6,
            7,
            8,
            9,
            10,
            11,
            12,
            13,
            14,
            15,
            16,
            17
           ],
           "y": {
            "bdata": "AAAAAAAAAAAAAAAAAAAAAAA=",
            "dtype": "i1"
           }
          },
          {
           "mode": "lines+markers",
           "name": "user_20",
           "type": "scatter",
           "x": [
            1,
            2,
            3,
            4,
            5,
            6,
            7,
            8,
            9,
            10,
            11,
            12,
            13,
            14,
            15,
            16,
            17
           ],
           "y": {
            "bdata": "AAAAAAAAAAAAAAAAAAAAAAA=",
            "dtype": "i1"
           }
          },
          {
           "mode": "lines+markers",
           "name": "user_21",
           "type": "scatter",
           "x": [
            1,
            2,
            3,
            4,
            5,
            6,
            7,
            8,
            9,
            10,
            11,
            12,
            13,
            14,
            15,
            16,
            17
           ],
           "y": {
            "bdata": "AAAAAAAAAAAAAAAAAAAAAAA=",
            "dtype": "i1"
           }
          },
          {
           "mode": "lines+markers",
           "name": "user_22",
           "type": "scatter",
           "x": [
            1,
            2,
            3,
            4,
            5,
            6,
            7,
            8,
            9,
            10,
            11,
            12,
            13,
            14,
            15,
            16,
            17
           ],
           "y": {
            "bdata": "AAAAAAAAAAAAAAAAAAAAAAE=",
            "dtype": "i1"
           }
          },
          {
           "mode": "lines+markers",
           "name": "user_24",
           "type": "scatter",
           "x": [
            1,
            2,
            3,
            4,
            5,
            6,
            7,
            8,
            9,
            10,
            11,
            12,
            13,
            14,
            15,
            16,
            17
           ],
           "y": {
            "bdata": "AAAAAAAAAAAAAAAAAAAAAAA=",
            "dtype": "i1"
           }
          },
          {
           "mode": "lines+markers",
           "name": "user_25",
           "type": "scatter",
           "x": [
            1,
            2,
            3,
            4,
            5,
            6,
            7,
            8,
            9,
            10,
            11,
            12,
            13,
            14,
            15,
            16,
            17
           ],
           "y": {
            "bdata": "AAAAAAAAAAAAAAAAAAAAAAA=",
            "dtype": "i1"
           }
          },
          {
           "mode": "lines+markers",
           "name": "user_26",
           "type": "scatter",
           "x": [
            1,
            2,
            3,
            4,
            5,
            6,
            7,
            8,
            9,
            10,
            11,
            12,
            13,
            14,
            15,
            16,
            17
           ],
           "y": {
            "bdata": "AAAAAAAAAAAAAAAAAAAAAAA=",
            "dtype": "i1"
           }
          },
          {
           "mode": "lines+markers",
           "name": "user_27",
           "type": "scatter",
           "x": [
            1,
            2,
            3,
            4,
            5,
            6,
            7,
            8,
            9,
            10,
            11,
            12,
            13,
            14,
            15,
            16,
            17
           ],
           "y": {
            "bdata": "AAAAAAAAAAAAAAAAAAAAAAA=",
            "dtype": "i1"
           }
          },
          {
           "mode": "lines+markers",
           "name": "user_28",
           "type": "scatter",
           "x": [
            1,
            2,
            3,
            4,
            5,
            6,
            7,
            8,
            9,
            10,
            11,
            12,
            13,
            14,
            15,
            16,
            17
           ],
           "y": {
            "bdata": "AAAAAAAAAAAAAAAAAAAAAAA=",
            "dtype": "i1"
           }
          },
          {
           "mode": "lines+markers",
           "name": "user_29",
           "type": "scatter",
           "x": [
            1,
            2,
            3,
            4,
            5,
            6,
            7,
            8,
            9,
            10,
            11,
            12,
            13,
            14,
            15,
            16,
            17
           ],
           "y": {
            "bdata": "AAAAAAAAAAAAAAAAAAAAAAA=",
            "dtype": "i1"
           }
          },
          {
           "mode": "lines+markers",
           "name": "user_3",
           "type": "scatter",
           "x": [
            1,
            2,
            3,
            4,
            5,
            6,
            7,
            8,
            9,
            10,
            11,
            12,
            13,
            14,
            15,
            16,
            17
           ],
           "y": {
            "bdata": "AAAAAAAAAAAAAAAAAAAAAAA=",
            "dtype": "i1"
           }
          },
          {
           "mode": "lines+markers",
           "name": "user_30",
           "type": "scatter",
           "x": [
            1,
            2,
            3,
            4,
            5,
            6,
            7,
            8,
            9,
            10,
            11,
            12,
            13,
            14,
            15,
            16,
            17
           ],
           "y": {
            "bdata": "AAAAAAABAgAAAAAAAAAAAAQ=",
            "dtype": "i1"
           }
          },
          {
           "mode": "lines+markers",
           "name": "user_31",
           "type": "scatter",
           "x": [
            1,
            2,
            3,
            4,
            5,
            6,
            7,
            8,
            9,
            10,
            11,
            12,
            13,
            14,
            15,
            16,
            17
           ],
           "y": {
            "bdata": "AAAAAAAAAAAAAAAAAAAAAAA=",
            "dtype": "i1"
           }
          },
          {
           "mode": "lines+markers",
           "name": "user_4",
           "type": "scatter",
           "x": [
            1,
            2,
            3,
            4,
            5,
            6,
            7,
            8,
            9,
            10,
            11,
            12,
            13,
            14,
            15,
            16,
            17
           ],
           "y": {
            "bdata": "BwALAAAAFBsAAAAAAAAAACM=",
            "dtype": "i1"
           }
          },
          {
           "mode": "lines+markers",
           "name": "user_6",
           "type": "scatter",
           "x": [
            1,
            2,
            3,
            4,
            5,
            6,
            7,
            8,
            9,
            10,
            11,
            12,
            13,
            14,
            15,
            16,
            17
           ],
           "y": {
            "bdata": "AAAAAAAAAAAAAAAAAAAAAAA=",
            "dtype": "i1"
           }
          },
          {
           "mode": "lines+markers",
           "name": "user_8",
           "type": "scatter",
           "x": [
            1,
            2,
            3,
            4,
            5,
            6,
            7,
            8,
            9,
            10,
            11,
            12,
            13,
            14,
            15,
            16,
            17
           ],
           "y": {
            "bdata": "AAAAAAAAAAAAAAAAAAAAAAA=",
            "dtype": "i1"
           }
          }
         ],
         "name": "16"
        },
        {
         "data": [
          {
           "mode": "lines+markers",
           "name": "user_1",
           "type": "scatter",
           "x": [
            1,
            2,
            3,
            4,
            5,
            6,
            7,
            8,
            9,
            10,
            11,
            12,
            13,
            14,
            15,
            16,
            17,
            18
           ],
           "y": {
            "bdata": "AAAAAAAAAAAAAAAAAAAAAAAA",
            "dtype": "i1"
           }
          },
          {
           "mode": "lines+markers",
           "name": "user_10",
           "type": "scatter",
           "x": [
            1,
            2,
            3,
            4,
            5,
            6,
            7,
            8,
            9,
            10,
            11,
            12,
            13,
            14,
            15,
            16,
            17,
            18
           ],
           "y": {
            "bdata": "AAAAAAAAAAAAAAAAAAAAAAAA",
            "dtype": "i1"
           }
          },
          {
           "mode": "lines+markers",
           "name": "user_11",
           "type": "scatter",
           "x": [
            1,
            2,
            3,
            4,
            5,
            6,
            7,
            8,
            9,
            10,
            11,
            12,
            13,
            14,
            15,
            16,
            17,
            18
           ],
           "y": {
            "bdata": "AAAAAAAAAAAAAAAAAAAAAAEA",
            "dtype": "i1"
           }
          },
          {
           "mode": "lines+markers",
           "name": "user_12",
           "type": "scatter",
           "x": [
            1,
            2,
            3,
            4,
            5,
            6,
            7,
            8,
            9,
            10,
            11,
            12,
            13,
            14,
            15,
            16,
            17,
            18
           ],
           "y": {
            "bdata": "AAAAAAAAAAAAAAAAAAAAAAAA",
            "dtype": "i1"
           }
          },
          {
           "mode": "lines+markers",
           "name": "user_13",
           "type": "scatter",
           "x": [
            1,
            2,
            3,
            4,
            5,
            6,
            7,
            8,
            9,
            10,
            11,
            12,
            13,
            14,
            15,
            16,
            17,
            18
           ],
           "y": {
            "bdata": "AAAAAAAAAAAAAAAAAAAAAAAA",
            "dtype": "i1"
           }
          },
          {
           "mode": "lines+markers",
           "name": "user_14",
           "type": "scatter",
           "x": [
            1,
            2,
            3,
            4,
            5,
            6,
            7,
            8,
            9,
            10,
            11,
            12,
            13,
            14,
            15,
            16,
            17,
            18
           ],
           "y": {
            "bdata": "AAAAAAAAAAAAAAAAAAAAAAAA",
            "dtype": "i1"
           }
          },
          {
           "mode": "lines+markers",
           "name": "user_15",
           "type": "scatter",
           "x": [
            1,
            2,
            3,
            4,
            5,
            6,
            7,
            8,
            9,
            10,
            11,
            12,
            13,
            14,
            15,
            16,
            17,
            18
           ],
           "y": {
            "bdata": "AAAAAAAAAAAAAAAAAAAAAAAA",
            "dtype": "i1"
           }
          },
          {
           "mode": "lines+markers",
           "name": "user_16",
           "type": "scatter",
           "x": [
            1,
            2,
            3,
            4,
            5,
            6,
            7,
            8,
            9,
            10,
            11,
            12,
            13,
            14,
            15,
            16,
            17,
            18
           ],
           "y": {
            "bdata": "AAAAAAAAAAAAAAAAAAAAAAAA",
            "dtype": "i1"
           }
          },
          {
           "mode": "lines+markers",
           "name": "user_17",
           "type": "scatter",
           "x": [
            1,
            2,
            3,
            4,
            5,
            6,
            7,
            8,
            9,
            10,
            11,
            12,
            13,
            14,
            15,
            16,
            17,
            18
           ],
           "y": {
            "bdata": "AAEAAAAAAAAAAAAAAAAAAAAA",
            "dtype": "i1"
           }
          },
          {
           "mode": "lines+markers",
           "name": "user_18",
           "type": "scatter",
           "x": [
            1,
            2,
            3,
            4,
            5,
            6,
            7,
            8,
            9,
            10,
            11,
            12,
            13,
            14,
            15,
            16,
            17,
            18
           ],
           "y": {
            "bdata": "AAAAAAAAAAAAAAAAAAAAAAAA",
            "dtype": "i1"
           }
          },
          {
           "mode": "lines+markers",
           "name": "user_19",
           "type": "scatter",
           "x": [
            1,
            2,
            3,
            4,
            5,
            6,
            7,
            8,
            9,
            10,
            11,
            12,
            13,
            14,
            15,
            16,
            17,
            18
           ],
           "y": {
            "bdata": "AAAAAAAAAAAAAAAAAAAAAAAA",
            "dtype": "i1"
           }
          },
          {
           "mode": "lines+markers",
           "name": "user_2",
           "type": "scatter",
           "x": [
            1,
            2,
            3,
            4,
            5,
            6,
            7,
            8,
            9,
            10,
            11,
            12,
            13,
            14,
            15,
            16,
            17,
            18
           ],
           "y": {
            "bdata": "AAAAAAAAAAAAAAAAAAAAAAAA",
            "dtype": "i1"
           }
          },
          {
           "mode": "lines+markers",
           "name": "user_20",
           "type": "scatter",
           "x": [
            1,
            2,
            3,
            4,
            5,
            6,
            7,
            8,
            9,
            10,
            11,
            12,
            13,
            14,
            15,
            16,
            17,
            18
           ],
           "y": {
            "bdata": "AAAAAAAAAAAAAAAAAAAAAAAA",
            "dtype": "i1"
           }
          },
          {
           "mode": "lines+markers",
           "name": "user_21",
           "type": "scatter",
           "x": [
            1,
            2,
            3,
            4,
            5,
            6,
            7,
            8,
            9,
            10,
            11,
            12,
            13,
            14,
            15,
            16,
            17,
            18
           ],
           "y": {
            "bdata": "AAAAAAAAAAAAAAAAAAAAAAAA",
            "dtype": "i1"
           }
          },
          {
           "mode": "lines+markers",
           "name": "user_22",
           "type": "scatter",
           "x": [
            1,
            2,
            3,
            4,
            5,
            6,
            7,
            8,
            9,
            10,
            11,
            12,
            13,
            14,
            15,
            16,
            17,
            18
           ],
           "y": {
            "bdata": "AAAAAAAAAAAAAAAAAAAAAAEA",
            "dtype": "i1"
           }
          },
          {
           "mode": "lines+markers",
           "name": "user_24",
           "type": "scatter",
           "x": [
            1,
            2,
            3,
            4,
            5,
            6,
            7,
            8,
            9,
            10,
            11,
            12,
            13,
            14,
            15,
            16,
            17,
            18
           ],
           "y": {
            "bdata": "AAAAAAAAAAAAAAAAAAAAAAAA",
            "dtype": "i1"
           }
          },
          {
           "mode": "lines+markers",
           "name": "user_25",
           "type": "scatter",
           "x": [
            1,
            2,
            3,
            4,
            5,
            6,
            7,
            8,
            9,
            10,
            11,
            12,
            13,
            14,
            15,
            16,
            17,
            18
           ],
           "y": {
            "bdata": "AAAAAAAAAAAAAAAAAAAAAAAA",
            "dtype": "i1"
           }
          },
          {
           "mode": "lines+markers",
           "name": "user_26",
           "type": "scatter",
           "x": [
            1,
            2,
            3,
            4,
            5,
            6,
            7,
            8,
            9,
            10,
            11,
            12,
            13,
            14,
            15,
            16,
            17,
            18
           ],
           "y": {
            "bdata": "AAAAAAAAAAAAAAAAAAAAAAAA",
            "dtype": "i1"
           }
          },
          {
           "mode": "lines+markers",
           "name": "user_27",
           "type": "scatter",
           "x": [
            1,
            2,
            3,
            4,
            5,
            6,
            7,
            8,
            9,
            10,
            11,
            12,
            13,
            14,
            15,
            16,
            17,
            18
           ],
           "y": {
            "bdata": "AAAAAAAAAAAAAAAAAAAAAAAA",
            "dtype": "i1"
           }
          },
          {
           "mode": "lines+markers",
           "name": "user_28",
           "type": "scatter",
           "x": [
            1,
            2,
            3,
            4,
            5,
            6,
            7,
            8,
            9,
            10,
            11,
            12,
            13,
            14,
            15,
            16,
            17,
            18
           ],
           "y": {
            "bdata": "AAAAAAAAAAAAAAAAAAAAAAAA",
            "dtype": "i1"
           }
          },
          {
           "mode": "lines+markers",
           "name": "user_29",
           "type": "scatter",
           "x": [
            1,
            2,
            3,
            4,
            5,
            6,
            7,
            8,
            9,
            10,
            11,
            12,
            13,
            14,
            15,
            16,
            17,
            18
           ],
           "y": {
            "bdata": "AAAAAAAAAAAAAAAAAAAAAAAA",
            "dtype": "i1"
           }
          },
          {
           "mode": "lines+markers",
           "name": "user_3",
           "type": "scatter",
           "x": [
            1,
            2,
            3,
            4,
            5,
            6,
            7,
            8,
            9,
            10,
            11,
            12,
            13,
            14,
            15,
            16,
            17,
            18
           ],
           "y": {
            "bdata": "AAAAAAAAAAAAAAAAAAAAAAAA",
            "dtype": "i1"
           }
          },
          {
           "mode": "lines+markers",
           "name": "user_30",
           "type": "scatter",
           "x": [
            1,
            2,
            3,
            4,
            5,
            6,
            7,
            8,
            9,
            10,
            11,
            12,
            13,
            14,
            15,
            16,
            17,
            18
           ],
           "y": {
            "bdata": "AAAAAAABAgAAAAAAAAAAAAQF",
            "dtype": "i1"
           }
          },
          {
           "mode": "lines+markers",
           "name": "user_31",
           "type": "scatter",
           "x": [
            1,
            2,
            3,
            4,
            5,
            6,
            7,
            8,
            9,
            10,
            11,
            12,
            13,
            14,
            15,
            16,
            17,
            18
           ],
           "y": {
            "bdata": "AAAAAAAAAAAAAAAAAAAAAAAA",
            "dtype": "i1"
           }
          },
          {
           "mode": "lines+markers",
           "name": "user_4",
           "type": "scatter",
           "x": [
            1,
            2,
            3,
            4,
            5,
            6,
            7,
            8,
            9,
            10,
            11,
            12,
            13,
            14,
            15,
            16,
            17,
            18
           ],
           "y": {
            "bdata": "BwALAAAAFBsAAAAAAAAAACMw",
            "dtype": "i1"
           }
          },
          {
           "mode": "lines+markers",
           "name": "user_6",
           "type": "scatter",
           "x": [
            1,
            2,
            3,
            4,
            5,
            6,
            7,
            8,
            9,
            10,
            11,
            12,
            13,
            14,
            15,
            16,
            17,
            18
           ],
           "y": {
            "bdata": "AAAAAAAAAAAAAAAAAAAAAAAA",
            "dtype": "i1"
           }
          },
          {
           "mode": "lines+markers",
           "name": "user_8",
           "type": "scatter",
           "x": [
            1,
            2,
            3,
            4,
            5,
            6,
            7,
            8,
            9,
            10,
            11,
            12,
            13,
            14,
            15,
            16,
            17,
            18
           ],
           "y": {
            "bdata": "AAAAAAAAAAAAAAAAAAAAAAAA",
            "dtype": "i1"
           }
          }
         ],
         "name": "17"
        },
        {
         "data": [
          {
           "mode": "lines+markers",
           "name": "user_1",
           "type": "scatter",
           "x": [
            1,
            2,
            3,
            4,
            5,
            6,
            7,
            8,
            9,
            10,
            11,
            12,
            13,
            14,
            15,
            16,
            17,
            18,
            19
           ],
           "y": {
            "bdata": "AAAAAAAAAAAAAAAAAAAAAAAAAA==",
            "dtype": "i1"
           }
          },
          {
           "mode": "lines+markers",
           "name": "user_10",
           "type": "scatter",
           "x": [
            1,
            2,
            3,
            4,
            5,
            6,
            7,
            8,
            9,
            10,
            11,
            12,
            13,
            14,
            15,
            16,
            17,
            18,
            19
           ],
           "y": {
            "bdata": "AAAAAAAAAAAAAAAAAAAAAAAAAA==",
            "dtype": "i1"
           }
          },
          {
           "mode": "lines+markers",
           "name": "user_11",
           "type": "scatter",
           "x": [
            1,
            2,
            3,
            4,
            5,
            6,
            7,
            8,
            9,
            10,
            11,
            12,
            13,
            14,
            15,
            16,
            17,
            18,
            19
           ],
           "y": {
            "bdata": "AAAAAAAAAAAAAAAAAAAAAAEAAA==",
            "dtype": "i1"
           }
          },
          {
           "mode": "lines+markers",
           "name": "user_12",
           "type": "scatter",
           "x": [
            1,
            2,
            3,
            4,
            5,
            6,
            7,
            8,
            9,
            10,
            11,
            12,
            13,
            14,
            15,
            16,
            17,
            18,
            19
           ],
           "y": {
            "bdata": "AAAAAAAAAAAAAAAAAAAAAAAAAA==",
            "dtype": "i1"
           }
          },
          {
           "mode": "lines+markers",
           "name": "user_13",
           "type": "scatter",
           "x": [
            1,
            2,
            3,
            4,
            5,
            6,
            7,
            8,
            9,
            10,
            11,
            12,
            13,
            14,
            15,
            16,
            17,
            18,
            19
           ],
           "y": {
            "bdata": "AAAAAAAAAAAAAAAAAAAAAAAAAA==",
            "dtype": "i1"
           }
          },
          {
           "mode": "lines+markers",
           "name": "user_14",
           "type": "scatter",
           "x": [
            1,
            2,
            3,
            4,
            5,
            6,
            7,
            8,
            9,
            10,
            11,
            12,
            13,
            14,
            15,
            16,
            17,
            18,
            19
           ],
           "y": {
            "bdata": "AAAAAAAAAAAAAAAAAAAAAAAAAQ==",
            "dtype": "i1"
           }
          },
          {
           "mode": "lines+markers",
           "name": "user_15",
           "type": "scatter",
           "x": [
            1,
            2,
            3,
            4,
            5,
            6,
            7,
            8,
            9,
            10,
            11,
            12,
            13,
            14,
            15,
            16,
            17,
            18,
            19
           ],
           "y": {
            "bdata": "AAAAAAAAAAAAAAAAAAAAAAAAAA==",
            "dtype": "i1"
           }
          },
          {
           "mode": "lines+markers",
           "name": "user_16",
           "type": "scatter",
           "x": [
            1,
            2,
            3,
            4,
            5,
            6,
            7,
            8,
            9,
            10,
            11,
            12,
            13,
            14,
            15,
            16,
            17,
            18,
            19
           ],
           "y": {
            "bdata": "AAAAAAAAAAAAAAAAAAAAAAAAAA==",
            "dtype": "i1"
           }
          },
          {
           "mode": "lines+markers",
           "name": "user_17",
           "type": "scatter",
           "x": [
            1,
            2,
            3,
            4,
            5,
            6,
            7,
            8,
            9,
            10,
            11,
            12,
            13,
            14,
            15,
            16,
            17,
            18,
            19
           ],
           "y": {
            "bdata": "AAEAAAAAAAAAAAAAAAAAAAAAAA==",
            "dtype": "i1"
           }
          },
          {
           "mode": "lines+markers",
           "name": "user_18",
           "type": "scatter",
           "x": [
            1,
            2,
            3,
            4,
            5,
            6,
            7,
            8,
            9,
            10,
            11,
            12,
            13,
            14,
            15,
            16,
            17,
            18,
            19
           ],
           "y": {
            "bdata": "AAAAAAAAAAAAAAAAAAAAAAAAAA==",
            "dtype": "i1"
           }
          },
          {
           "mode": "lines+markers",
           "name": "user_19",
           "type": "scatter",
           "x": [
            1,
            2,
            3,
            4,
            5,
            6,
            7,
            8,
            9,
            10,
            11,
            12,
            13,
            14,
            15,
            16,
            17,
            18,
            19
           ],
           "y": {
            "bdata": "AAAAAAAAAAAAAAAAAAAAAAAAAA==",
            "dtype": "i1"
           }
          },
          {
           "mode": "lines+markers",
           "name": "user_2",
           "type": "scatter",
           "x": [
            1,
            2,
            3,
            4,
            5,
            6,
            7,
            8,
            9,
            10,
            11,
            12,
            13,
            14,
            15,
            16,
            17,
            18,
            19
           ],
           "y": {
            "bdata": "AAAAAAAAAAAAAAAAAAAAAAAAOQ==",
            "dtype": "i1"
           }
          },
          {
           "mode": "lines+markers",
           "name": "user_20",
           "type": "scatter",
           "x": [
            1,
            2,
            3,
            4,
            5,
            6,
            7,
            8,
            9,
            10,
            11,
            12,
            13,
            14,
            15,
            16,
            17,
            18,
            19
           ],
           "y": {
            "bdata": "AAAAAAAAAAAAAAAAAAAAAAAAAA==",
            "dtype": "i1"
           }
          },
          {
           "mode": "lines+markers",
           "name": "user_21",
           "type": "scatter",
           "x": [
            1,
            2,
            3,
            4,
            5,
            6,
            7,
            8,
            9,
            10,
            11,
            12,
            13,
            14,
            15,
            16,
            17,
            18,
            19
           ],
           "y": {
            "bdata": "AAAAAAAAAAAAAAAAAAAAAAAAAA==",
            "dtype": "i1"
           }
          },
          {
           "mode": "lines+markers",
           "name": "user_22",
           "type": "scatter",
           "x": [
            1,
            2,
            3,
            4,
            5,
            6,
            7,
            8,
            9,
            10,
            11,
            12,
            13,
            14,
            15,
            16,
            17,
            18,
            19
           ],
           "y": {
            "bdata": "AAAAAAAAAAAAAAAAAAAAAAEAAA==",
            "dtype": "i1"
           }
          },
          {
           "mode": "lines+markers",
           "name": "user_24",
           "type": "scatter",
           "x": [
            1,
            2,
            3,
            4,
            5,
            6,
            7,
            8,
            9,
            10,
            11,
            12,
            13,
            14,
            15,
            16,
            17,
            18,
            19
           ],
           "y": {
            "bdata": "AAAAAAAAAAAAAAAAAAAAAAAAAA==",
            "dtype": "i1"
           }
          },
          {
           "mode": "lines+markers",
           "name": "user_25",
           "type": "scatter",
           "x": [
            1,
            2,
            3,
            4,
            5,
            6,
            7,
            8,
            9,
            10,
            11,
            12,
            13,
            14,
            15,
            16,
            17,
            18,
            19
           ],
           "y": {
            "bdata": "AAAAAAAAAAAAAAAAAAAAAAAAAA==",
            "dtype": "i1"
           }
          },
          {
           "mode": "lines+markers",
           "name": "user_26",
           "type": "scatter",
           "x": [
            1,
            2,
            3,
            4,
            5,
            6,
            7,
            8,
            9,
            10,
            11,
            12,
            13,
            14,
            15,
            16,
            17,
            18,
            19
           ],
           "y": {
            "bdata": "AAAAAAAAAAAAAAAAAAAAAAAAAA==",
            "dtype": "i1"
           }
          },
          {
           "mode": "lines+markers",
           "name": "user_27",
           "type": "scatter",
           "x": [
            1,
            2,
            3,
            4,
            5,
            6,
            7,
            8,
            9,
            10,
            11,
            12,
            13,
            14,
            15,
            16,
            17,
            18,
            19
           ],
           "y": {
            "bdata": "AAAAAAAAAAAAAAAAAAAAAAAAAA==",
            "dtype": "i1"
           }
          },
          {
           "mode": "lines+markers",
           "name": "user_28",
           "type": "scatter",
           "x": [
            1,
            2,
            3,
            4,
            5,
            6,
            7,
            8,
            9,
            10,
            11,
            12,
            13,
            14,
            15,
            16,
            17,
            18,
            19
           ],
           "y": {
            "bdata": "AAAAAAAAAAAAAAAAAAAAAAAAAA==",
            "dtype": "i1"
           }
          },
          {
           "mode": "lines+markers",
           "name": "user_29",
           "type": "scatter",
           "x": [
            1,
            2,
            3,
            4,
            5,
            6,
            7,
            8,
            9,
            10,
            11,
            12,
            13,
            14,
            15,
            16,
            17,
            18,
            19
           ],
           "y": {
            "bdata": "AAAAAAAAAAAAAAAAAAAAAAAAAA==",
            "dtype": "i1"
           }
          },
          {
           "mode": "lines+markers",
           "name": "user_3",
           "type": "scatter",
           "x": [
            1,
            2,
            3,
            4,
            5,
            6,
            7,
            8,
            9,
            10,
            11,
            12,
            13,
            14,
            15,
            16,
            17,
            18,
            19
           ],
           "y": {
            "bdata": "AAAAAAAAAAAAAAAAAAAAAAAAAA==",
            "dtype": "i1"
           }
          },
          {
           "mode": "lines+markers",
           "name": "user_30",
           "type": "scatter",
           "x": [
            1,
            2,
            3,
            4,
            5,
            6,
            7,
            8,
            9,
            10,
            11,
            12,
            13,
            14,
            15,
            16,
            17,
            18,
            19
           ],
           "y": {
            "bdata": "AAAAAAABAgAAAAAAAAAAAAQFAA==",
            "dtype": "i1"
           }
          },
          {
           "mode": "lines+markers",
           "name": "user_31",
           "type": "scatter",
           "x": [
            1,
            2,
            3,
            4,
            5,
            6,
            7,
            8,
            9,
            10,
            11,
            12,
            13,
            14,
            15,
            16,
            17,
            18,
            19
           ],
           "y": {
            "bdata": "AAAAAAAAAAAAAAAAAAAAAAAAAA==",
            "dtype": "i1"
           }
          },
          {
           "mode": "lines+markers",
           "name": "user_4",
           "type": "scatter",
           "x": [
            1,
            2,
            3,
            4,
            5,
            6,
            7,
            8,
            9,
            10,
            11,
            12,
            13,
            14,
            15,
            16,
            17,
            18,
            19
           ],
           "y": {
            "bdata": "BwALAAAAFBsAAAAAAAAAACMwNQ==",
            "dtype": "i1"
           }
          },
          {
           "mode": "lines+markers",
           "name": "user_6",
           "type": "scatter",
           "x": [
            1,
            2,
            3,
            4,
            5,
            6,
            7,
            8,
            9,
            10,
            11,
            12,
            13,
            14,
            15,
            16,
            17,
            18,
            19
           ],
           "y": {
            "bdata": "AAAAAAAAAAAAAAAAAAAAAAAAAA==",
            "dtype": "i1"
           }
          },
          {
           "mode": "lines+markers",
           "name": "user_8",
           "type": "scatter",
           "x": [
            1,
            2,
            3,
            4,
            5,
            6,
            7,
            8,
            9,
            10,
            11,
            12,
            13,
            14,
            15,
            16,
            17,
            18,
            19
           ],
           "y": {
            "bdata": "AAAAAAAAAAAAAAAAAAAAAAAAAA==",
            "dtype": "i1"
           }
          }
         ],
         "name": "18"
        },
        {
         "data": [
          {
           "mode": "lines+markers",
           "name": "user_1",
           "type": "scatter",
           "x": [
            1,
            2,
            3,
            4,
            5,
            6,
            7,
            8,
            9,
            10,
            11,
            12,
            13,
            14,
            15,
            16,
            17,
            18,
            19,
            20
           ],
           "y": {
            "bdata": "AAAAAAAAAAAAAAAAAAAAAAAAAAA=",
            "dtype": "i1"
           }
          },
          {
           "mode": "lines+markers",
           "name": "user_10",
           "type": "scatter",
           "x": [
            1,
            2,
            3,
            4,
            5,
            6,
            7,
            8,
            9,
            10,
            11,
            12,
            13,
            14,
            15,
            16,
            17,
            18,
            19,
            20
           ],
           "y": {
            "bdata": "AAAAAAAAAAAAAAAAAAAAAAAAAAA=",
            "dtype": "i1"
           }
          },
          {
           "mode": "lines+markers",
           "name": "user_11",
           "type": "scatter",
           "x": [
            1,
            2,
            3,
            4,
            5,
            6,
            7,
            8,
            9,
            10,
            11,
            12,
            13,
            14,
            15,
            16,
            17,
            18,
            19,
            20
           ],
           "y": {
            "bdata": "AAAAAAAAAAAAAAAAAAAAAAEAAAA=",
            "dtype": "i1"
           }
          },
          {
           "mode": "lines+markers",
           "name": "user_12",
           "type": "scatter",
           "x": [
            1,
            2,
            3,
            4,
            5,
            6,
            7,
            8,
            9,
            10,
            11,
            12,
            13,
            14,
            15,
            16,
            17,
            18,
            19,
            20
           ],
           "y": {
            "bdata": "AAAAAAAAAAAAAAAAAAAAAAAAAAA=",
            "dtype": "i1"
           }
          },
          {
           "mode": "lines+markers",
           "name": "user_13",
           "type": "scatter",
           "x": [
            1,
            2,
            3,
            4,
            5,
            6,
            7,
            8,
            9,
            10,
            11,
            12,
            13,
            14,
            15,
            16,
            17,
            18,
            19,
            20
           ],
           "y": {
            "bdata": "AAAAAAAAAAAAAAAAAAAAAAAAAAA=",
            "dtype": "i1"
           }
          },
          {
           "mode": "lines+markers",
           "name": "user_14",
           "type": "scatter",
           "x": [
            1,
            2,
            3,
            4,
            5,
            6,
            7,
            8,
            9,
            10,
            11,
            12,
            13,
            14,
            15,
            16,
            17,
            18,
            19,
            20
           ],
           "y": {
            "bdata": "AAAAAAAAAAAAAAAAAAAAAAAAAQA=",
            "dtype": "i1"
           }
          },
          {
           "mode": "lines+markers",
           "name": "user_15",
           "type": "scatter",
           "x": [
            1,
            2,
            3,
            4,
            5,
            6,
            7,
            8,
            9,
            10,
            11,
            12,
            13,
            14,
            15,
            16,
            17,
            18,
            19,
            20
           ],
           "y": {
            "bdata": "AAAAAAAAAAAAAAAAAAAAAAAAAAA=",
            "dtype": "i1"
           }
          },
          {
           "mode": "lines+markers",
           "name": "user_16",
           "type": "scatter",
           "x": [
            1,
            2,
            3,
            4,
            5,
            6,
            7,
            8,
            9,
            10,
            11,
            12,
            13,
            14,
            15,
            16,
            17,
            18,
            19,
            20
           ],
           "y": {
            "bdata": "AAAAAAAAAAAAAAAAAAAAAAAAAAA=",
            "dtype": "i1"
           }
          },
          {
           "mode": "lines+markers",
           "name": "user_17",
           "type": "scatter",
           "x": [
            1,
            2,
            3,
            4,
            5,
            6,
            7,
            8,
            9,
            10,
            11,
            12,
            13,
            14,
            15,
            16,
            17,
            18,
            19,
            20
           ],
           "y": {
            "bdata": "AAEAAAAAAAAAAAAAAAAAAAAAAAA=",
            "dtype": "i1"
           }
          },
          {
           "mode": "lines+markers",
           "name": "user_18",
           "type": "scatter",
           "x": [
            1,
            2,
            3,
            4,
            5,
            6,
            7,
            8,
            9,
            10,
            11,
            12,
            13,
            14,
            15,
            16,
            17,
            18,
            19,
            20
           ],
           "y": {
            "bdata": "AAAAAAAAAAAAAAAAAAAAAAAAAAA=",
            "dtype": "i1"
           }
          },
          {
           "mode": "lines+markers",
           "name": "user_19",
           "type": "scatter",
           "x": [
            1,
            2,
            3,
            4,
            5,
            6,
            7,
            8,
            9,
            10,
            11,
            12,
            13,
            14,
            15,
            16,
            17,
            18,
            19,
            20
           ],
           "y": {
            "bdata": "AAAAAAAAAAAAAAAAAAAAAAAAAAA=",
            "dtype": "i1"
           }
          },
          {
           "mode": "lines+markers",
           "name": "user_2",
           "type": "scatter",
           "x": [
            1,
            2,
            3,
            4,
            5,
            6,
            7,
            8,
            9,
            10,
            11,
            12,
            13,
            14,
            15,
            16,
            17,
            18,
            19,
            20
           ],
           "y": {
            "bdata": "AAAAAAAAAAAAAAAAAAAAAAAAOTo=",
            "dtype": "i1"
           }
          },
          {
           "mode": "lines+markers",
           "name": "user_20",
           "type": "scatter",
           "x": [
            1,
            2,
            3,
            4,
            5,
            6,
            7,
            8,
            9,
            10,
            11,
            12,
            13,
            14,
            15,
            16,
            17,
            18,
            19,
            20
           ],
           "y": {
            "bdata": "AAAAAAAAAAAAAAAAAAAAAAAAAAA=",
            "dtype": "i1"
           }
          },
          {
           "mode": "lines+markers",
           "name": "user_21",
           "type": "scatter",
           "x": [
            1,
            2,
            3,
            4,
            5,
            6,
            7,
            8,
            9,
            10,
            11,
            12,
            13,
            14,
            15,
            16,
            17,
            18,
            19,
            20
           ],
           "y": {
            "bdata": "AAAAAAAAAAAAAAAAAAAAAAAAAAA=",
            "dtype": "i1"
           }
          },
          {
           "mode": "lines+markers",
           "name": "user_22",
           "type": "scatter",
           "x": [
            1,
            2,
            3,
            4,
            5,
            6,
            7,
            8,
            9,
            10,
            11,
            12,
            13,
            14,
            15,
            16,
            17,
            18,
            19,
            20
           ],
           "y": {
            "bdata": "AAAAAAAAAAAAAAAAAAAAAAEAAAA=",
            "dtype": "i1"
           }
          },
          {
           "mode": "lines+markers",
           "name": "user_24",
           "type": "scatter",
           "x": [
            1,
            2,
            3,
            4,
            5,
            6,
            7,
            8,
            9,
            10,
            11,
            12,
            13,
            14,
            15,
            16,
            17,
            18,
            19,
            20
           ],
           "y": {
            "bdata": "AAAAAAAAAAAAAAAAAAAAAAAAAAA=",
            "dtype": "i1"
           }
          },
          {
           "mode": "lines+markers",
           "name": "user_25",
           "type": "scatter",
           "x": [
            1,
            2,
            3,
            4,
            5,
            6,
            7,
            8,
            9,
            10,
            11,
            12,
            13,
            14,
            15,
            16,
            17,
            18,
            19,
            20
           ],
           "y": {
            "bdata": "AAAAAAAAAAAAAAAAAAAAAAAAAAA=",
            "dtype": "i1"
           }
          },
          {
           "mode": "lines+markers",
           "name": "user_26",
           "type": "scatter",
           "x": [
            1,
            2,
            3,
            4,
            5,
            6,
            7,
            8,
            9,
            10,
            11,
            12,
            13,
            14,
            15,
            16,
            17,
            18,
            19,
            20
           ],
           "y": {
            "bdata": "AAAAAAAAAAAAAAAAAAAAAAAAAAA=",
            "dtype": "i1"
           }
          },
          {
           "mode": "lines+markers",
           "name": "user_27",
           "type": "scatter",
           "x": [
            1,
            2,
            3,
            4,
            5,
            6,
            7,
            8,
            9,
            10,
            11,
            12,
            13,
            14,
            15,
            16,
            17,
            18,
            19,
            20
           ],
           "y": {
            "bdata": "AAAAAAAAAAAAAAAAAAAAAAAAAAA=",
            "dtype": "i1"
           }
          },
          {
           "mode": "lines+markers",
           "name": "user_28",
           "type": "scatter",
           "x": [
            1,
            2,
            3,
            4,
            5,
            6,
            7,
            8,
            9,
            10,
            11,
            12,
            13,
            14,
            15,
            16,
            17,
            18,
            19,
            20
           ],
           "y": {
            "bdata": "AAAAAAAAAAAAAAAAAAAAAAAAAAA=",
            "dtype": "i1"
           }
          },
          {
           "mode": "lines+markers",
           "name": "user_29",
           "type": "scatter",
           "x": [
            1,
            2,
            3,
            4,
            5,
            6,
            7,
            8,
            9,
            10,
            11,
            12,
            13,
            14,
            15,
            16,
            17,
            18,
            19,
            20
           ],
           "y": {
            "bdata": "AAAAAAAAAAAAAAAAAAAAAAAAAAA=",
            "dtype": "i1"
           }
          },
          {
           "mode": "lines+markers",
           "name": "user_3",
           "type": "scatter",
           "x": [
            1,
            2,
            3,
            4,
            5,
            6,
            7,
            8,
            9,
            10,
            11,
            12,
            13,
            14,
            15,
            16,
            17,
            18,
            19,
            20
           ],
           "y": {
            "bdata": "AAAAAAAAAAAAAAAAAAAAAAAAAAA=",
            "dtype": "i1"
           }
          },
          {
           "mode": "lines+markers",
           "name": "user_30",
           "type": "scatter",
           "x": [
            1,
            2,
            3,
            4,
            5,
            6,
            7,
            8,
            9,
            10,
            11,
            12,
            13,
            14,
            15,
            16,
            17,
            18,
            19,
            20
           ],
           "y": {
            "bdata": "AAAAAAABAgAAAAAAAAAAAAQFAAA=",
            "dtype": "i1"
           }
          },
          {
           "mode": "lines+markers",
           "name": "user_31",
           "type": "scatter",
           "x": [
            1,
            2,
            3,
            4,
            5,
            6,
            7,
            8,
            9,
            10,
            11,
            12,
            13,
            14,
            15,
            16,
            17,
            18,
            19,
            20
           ],
           "y": {
            "bdata": "AAAAAAAAAAAAAAAAAAAAAAAAAAA=",
            "dtype": "i1"
           }
          },
          {
           "mode": "lines+markers",
           "name": "user_4",
           "type": "scatter",
           "x": [
            1,
            2,
            3,
            4,
            5,
            6,
            7,
            8,
            9,
            10,
            11,
            12,
            13,
            14,
            15,
            16,
            17,
            18,
            19,
            20
           ],
           "y": {
            "bdata": "BwALAAAAFBsAAAAAAAAAACMwNQA=",
            "dtype": "i1"
           }
          },
          {
           "mode": "lines+markers",
           "name": "user_6",
           "type": "scatter",
           "x": [
            1,
            2,
            3,
            4,
            5,
            6,
            7,
            8,
            9,
            10,
            11,
            12,
            13,
            14,
            15,
            16,
            17,
            18,
            19,
            20
           ],
           "y": {
            "bdata": "AAAAAAAAAAAAAAAAAAAAAAAAAAA=",
            "dtype": "i1"
           }
          },
          {
           "mode": "lines+markers",
           "name": "user_8",
           "type": "scatter",
           "x": [
            1,
            2,
            3,
            4,
            5,
            6,
            7,
            8,
            9,
            10,
            11,
            12,
            13,
            14,
            15,
            16,
            17,
            18,
            19,
            20
           ],
           "y": {
            "bdata": "AAAAAAAAAAAAAAAAAAAAAAAAAAA=",
            "dtype": "i1"
           }
          }
         ],
         "name": "19"
        },
        {
         "data": [
          {
           "mode": "lines+markers",
           "name": "user_1",
           "type": "scatter",
           "x": [
            1,
            2,
            3,
            4,
            5,
            6,
            7,
            8,
            9,
            10,
            11,
            12,
            13,
            14,
            15,
            16,
            17,
            18,
            19,
            20,
            21
           ],
           "y": {
            "bdata": "AAAAAAAAAAAAAAAAAAAAAAAAAAAA",
            "dtype": "i1"
           }
          },
          {
           "mode": "lines+markers",
           "name": "user_10",
           "type": "scatter",
           "x": [
            1,
            2,
            3,
            4,
            5,
            6,
            7,
            8,
            9,
            10,
            11,
            12,
            13,
            14,
            15,
            16,
            17,
            18,
            19,
            20,
            21
           ],
           "y": {
            "bdata": "AAAAAAAAAAAAAAAAAAAAAAAAAAAA",
            "dtype": "i1"
           }
          },
          {
           "mode": "lines+markers",
           "name": "user_11",
           "type": "scatter",
           "x": [
            1,
            2,
            3,
            4,
            5,
            6,
            7,
            8,
            9,
            10,
            11,
            12,
            13,
            14,
            15,
            16,
            17,
            18,
            19,
            20,
            21
           ],
           "y": {
            "bdata": "AAAAAAAAAAAAAAAAAAAAAAEAAAAA",
            "dtype": "i1"
           }
          },
          {
           "mode": "lines+markers",
           "name": "user_12",
           "type": "scatter",
           "x": [
            1,
            2,
            3,
            4,
            5,
            6,
            7,
            8,
            9,
            10,
            11,
            12,
            13,
            14,
            15,
            16,
            17,
            18,
            19,
            20,
            21
           ],
           "y": {
            "bdata": "AAAAAAAAAAAAAAAAAAAAAAAAAAAA",
            "dtype": "i1"
           }
          },
          {
           "mode": "lines+markers",
           "name": "user_13",
           "type": "scatter",
           "x": [
            1,
            2,
            3,
            4,
            5,
            6,
            7,
            8,
            9,
            10,
            11,
            12,
            13,
            14,
            15,
            16,
            17,
            18,
            19,
            20,
            21
           ],
           "y": {
            "bdata": "AAAAAAAAAAAAAAAAAAAAAAAAAAAA",
            "dtype": "i1"
           }
          },
          {
           "mode": "lines+markers",
           "name": "user_14",
           "type": "scatter",
           "x": [
            1,
            2,
            3,
            4,
            5,
            6,
            7,
            8,
            9,
            10,
            11,
            12,
            13,
            14,
            15,
            16,
            17,
            18,
            19,
            20,
            21
           ],
           "y": {
            "bdata": "AAAAAAAAAAAAAAAAAAAAAAAAAQAA",
            "dtype": "i1"
           }
          },
          {
           "mode": "lines+markers",
           "name": "user_15",
           "type": "scatter",
           "x": [
            1,
            2,
            3,
            4,
            5,
            6,
            7,
            8,
            9,
            10,
            11,
            12,
            13,
            14,
            15,
            16,
            17,
            18,
            19,
            20,
            21
           ],
           "y": {
            "bdata": "AAAAAAAAAAAAAAAAAAAAAAAAAAAA",
            "dtype": "i1"
           }
          },
          {
           "mode": "lines+markers",
           "name": "user_16",
           "type": "scatter",
           "x": [
            1,
            2,
            3,
            4,
            5,
            6,
            7,
            8,
            9,
            10,
            11,
            12,
            13,
            14,
            15,
            16,
            17,
            18,
            19,
            20,
            21
           ],
           "y": {
            "bdata": "AAAAAAAAAAAAAAAAAAAAAAAAAAAA",
            "dtype": "i1"
           }
          },
          {
           "mode": "lines+markers",
           "name": "user_17",
           "type": "scatter",
           "x": [
            1,
            2,
            3,
            4,
            5,
            6,
            7,
            8,
            9,
            10,
            11,
            12,
            13,
            14,
            15,
            16,
            17,
            18,
            19,
            20,
            21
           ],
           "y": {
            "bdata": "AAEAAAAAAAAAAAAAAAAAAAAAAAAA",
            "dtype": "i1"
           }
          },
          {
           "mode": "lines+markers",
           "name": "user_18",
           "type": "scatter",
           "x": [
            1,
            2,
            3,
            4,
            5,
            6,
            7,
            8,
            9,
            10,
            11,
            12,
            13,
            14,
            15,
            16,
            17,
            18,
            19,
            20,
            21
           ],
           "y": {
            "bdata": "AAAAAAAAAAAAAAAAAAAAAAAAAAAA",
            "dtype": "i1"
           }
          },
          {
           "mode": "lines+markers",
           "name": "user_19",
           "type": "scatter",
           "x": [
            1,
            2,
            3,
            4,
            5,
            6,
            7,
            8,
            9,
            10,
            11,
            12,
            13,
            14,
            15,
            16,
            17,
            18,
            19,
            20,
            21
           ],
           "y": {
            "bdata": "AAAAAAAAAAAAAAAAAAAAAAAAAAAA",
            "dtype": "i1"
           }
          },
          {
           "mode": "lines+markers",
           "name": "user_2",
           "type": "scatter",
           "x": [
            1,
            2,
            3,
            4,
            5,
            6,
            7,
            8,
            9,
            10,
            11,
            12,
            13,
            14,
            15,
            16,
            17,
            18,
            19,
            20,
            21
           ],
           "y": {
            "bdata": "AAAAAAAAAAAAAAAAAAAAAAAAOToA",
            "dtype": "i1"
           }
          },
          {
           "mode": "lines+markers",
           "name": "user_20",
           "type": "scatter",
           "x": [
            1,
            2,
            3,
            4,
            5,
            6,
            7,
            8,
            9,
            10,
            11,
            12,
            13,
            14,
            15,
            16,
            17,
            18,
            19,
            20,
            21
           ],
           "y": {
            "bdata": "AAAAAAAAAAAAAAAAAAAAAAAAAAAA",
            "dtype": "i1"
           }
          },
          {
           "mode": "lines+markers",
           "name": "user_21",
           "type": "scatter",
           "x": [
            1,
            2,
            3,
            4,
            5,
            6,
            7,
            8,
            9,
            10,
            11,
            12,
            13,
            14,
            15,
            16,
            17,
            18,
            19,
            20,
            21
           ],
           "y": {
            "bdata": "AAAAAAAAAAAAAAAAAAAAAAAAAAAA",
            "dtype": "i1"
           }
          },
          {
           "mode": "lines+markers",
           "name": "user_22",
           "type": "scatter",
           "x": [
            1,
            2,
            3,
            4,
            5,
            6,
            7,
            8,
            9,
            10,
            11,
            12,
            13,
            14,
            15,
            16,
            17,
            18,
            19,
            20,
            21
           ],
           "y": {
            "bdata": "AAAAAAAAAAAAAAAAAAAAAAEAAAAA",
            "dtype": "i1"
           }
          },
          {
           "mode": "lines+markers",
           "name": "user_24",
           "type": "scatter",
           "x": [
            1,
            2,
            3,
            4,
            5,
            6,
            7,
            8,
            9,
            10,
            11,
            12,
            13,
            14,
            15,
            16,
            17,
            18,
            19,
            20,
            21
           ],
           "y": {
            "bdata": "AAAAAAAAAAAAAAAAAAAAAAAAAAAA",
            "dtype": "i1"
           }
          },
          {
           "mode": "lines+markers",
           "name": "user_25",
           "type": "scatter",
           "x": [
            1,
            2,
            3,
            4,
            5,
            6,
            7,
            8,
            9,
            10,
            11,
            12,
            13,
            14,
            15,
            16,
            17,
            18,
            19,
            20,
            21
           ],
           "y": {
            "bdata": "AAAAAAAAAAAAAAAAAAAAAAAAAAAA",
            "dtype": "i1"
           }
          },
          {
           "mode": "lines+markers",
           "name": "user_26",
           "type": "scatter",
           "x": [
            1,
            2,
            3,
            4,
            5,
            6,
            7,
            8,
            9,
            10,
            11,
            12,
            13,
            14,
            15,
            16,
            17,
            18,
            19,
            20,
            21
           ],
           "y": {
            "bdata": "AAAAAAAAAAAAAAAAAAAAAAAAAAAA",
            "dtype": "i1"
           }
          },
          {
           "mode": "lines+markers",
           "name": "user_27",
           "type": "scatter",
           "x": [
            1,
            2,
            3,
            4,
            5,
            6,
            7,
            8,
            9,
            10,
            11,
            12,
            13,
            14,
            15,
            16,
            17,
            18,
            19,
            20,
            21
           ],
           "y": {
            "bdata": "AAAAAAAAAAAAAAAAAAAAAAAAAAAA",
            "dtype": "i1"
           }
          },
          {
           "mode": "lines+markers",
           "name": "user_28",
           "type": "scatter",
           "x": [
            1,
            2,
            3,
            4,
            5,
            6,
            7,
            8,
            9,
            10,
            11,
            12,
            13,
            14,
            15,
            16,
            17,
            18,
            19,
            20,
            21
           ],
           "y": {
            "bdata": "AAAAAAAAAAAAAAAAAAAAAAAAAAAA",
            "dtype": "i1"
           }
          },
          {
           "mode": "lines+markers",
           "name": "user_29",
           "type": "scatter",
           "x": [
            1,
            2,
            3,
            4,
            5,
            6,
            7,
            8,
            9,
            10,
            11,
            12,
            13,
            14,
            15,
            16,
            17,
            18,
            19,
            20,
            21
           ],
           "y": {
            "bdata": "AAAAAAAAAAAAAAAAAAAAAAAAAAAA",
            "dtype": "i1"
           }
          },
          {
           "mode": "lines+markers",
           "name": "user_3",
           "type": "scatter",
           "x": [
            1,
            2,
            3,
            4,
            5,
            6,
            7,
            8,
            9,
            10,
            11,
            12,
            13,
            14,
            15,
            16,
            17,
            18,
            19,
            20,
            21
           ],
           "y": {
            "bdata": "AAAAAAAAAAAAAAAAAAAAAAAAAAAB",
            "dtype": "i1"
           }
          },
          {
           "mode": "lines+markers",
           "name": "user_30",
           "type": "scatter",
           "x": [
            1,
            2,
            3,
            4,
            5,
            6,
            7,
            8,
            9,
            10,
            11,
            12,
            13,
            14,
            15,
            16,
            17,
            18,
            19,
            20,
            21
           ],
           "y": {
            "bdata": "AAAAAAABAgAAAAAAAAAAAAQFAAAM",
            "dtype": "i1"
           }
          },
          {
           "mode": "lines+markers",
           "name": "user_31",
           "type": "scatter",
           "x": [
            1,
            2,
            3,
            4,
            5,
            6,
            7,
            8,
            9,
            10,
            11,
            12,
            13,
            14,
            15,
            16,
            17,
            18,
            19,
            20,
            21
           ],
           "y": {
            "bdata": "AAAAAAAAAAAAAAAAAAAAAAAAAAAB",
            "dtype": "i1"
           }
          },
          {
           "mode": "lines+markers",
           "name": "user_4",
           "type": "scatter",
           "x": [
            1,
            2,
            3,
            4,
            5,
            6,
            7,
            8,
            9,
            10,
            11,
            12,
            13,
            14,
            15,
            16,
            17,
            18,
            19,
            20,
            21
           ],
           "y": {
            "bdata": "BwALAAAAFBsAAAAAAAAAACMwNQBH",
            "dtype": "i1"
           }
          },
          {
           "mode": "lines+markers",
           "name": "user_6",
           "type": "scatter",
           "x": [
            1,
            2,
            3,
            4,
            5,
            6,
            7,
            8,
            9,
            10,
            11,
            12,
            13,
            14,
            15,
            16,
            17,
            18,
            19,
            20,
            21
           ],
           "y": {
            "bdata": "AAAAAAAAAAAAAAAAAAAAAAAAAAAA",
            "dtype": "i1"
           }
          },
          {
           "mode": "lines+markers",
           "name": "user_8",
           "type": "scatter",
           "x": [
            1,
            2,
            3,
            4,
            5,
            6,
            7,
            8,
            9,
            10,
            11,
            12,
            13,
            14,
            15,
            16,
            17,
            18,
            19,
            20,
            21
           ],
           "y": {
            "bdata": "AAAAAAAAAAAAAAAAAAAAAAAAAAAA",
            "dtype": "i1"
           }
          }
         ],
         "name": "20"
        },
        {
         "data": [
          {
           "mode": "lines+markers",
           "name": "user_1",
           "type": "scatter",
           "x": [
            1,
            2,
            3,
            4,
            5,
            6,
            7,
            8,
            9,
            10,
            11,
            12,
            13,
            14,
            15,
            16,
            17,
            18,
            19,
            20,
            21,
            22
           ],
           "y": {
            "bdata": "AAAAAAAAAAAAAAAAAAAAAAAAAAAAAA==",
            "dtype": "i1"
           }
          },
          {
           "mode": "lines+markers",
           "name": "user_10",
           "type": "scatter",
           "x": [
            1,
            2,
            3,
            4,
            5,
            6,
            7,
            8,
            9,
            10,
            11,
            12,
            13,
            14,
            15,
            16,
            17,
            18,
            19,
            20,
            21,
            22
           ],
           "y": {
            "bdata": "AAAAAAAAAAAAAAAAAAAAAAAAAAAAAA==",
            "dtype": "i1"
           }
          },
          {
           "mode": "lines+markers",
           "name": "user_11",
           "type": "scatter",
           "x": [
            1,
            2,
            3,
            4,
            5,
            6,
            7,
            8,
            9,
            10,
            11,
            12,
            13,
            14,
            15,
            16,
            17,
            18,
            19,
            20,
            21,
            22
           ],
           "y": {
            "bdata": "AAAAAAAAAAAAAAAAAAAAAAEAAAAAAA==",
            "dtype": "i1"
           }
          },
          {
           "mode": "lines+markers",
           "name": "user_12",
           "type": "scatter",
           "x": [
            1,
            2,
            3,
            4,
            5,
            6,
            7,
            8,
            9,
            10,
            11,
            12,
            13,
            14,
            15,
            16,
            17,
            18,
            19,
            20,
            21,
            22
           ],
           "y": {
            "bdata": "AAAAAAAAAAAAAAAAAAAAAAAAAAAAAA==",
            "dtype": "i1"
           }
          },
          {
           "mode": "lines+markers",
           "name": "user_13",
           "type": "scatter",
           "x": [
            1,
            2,
            3,
            4,
            5,
            6,
            7,
            8,
            9,
            10,
            11,
            12,
            13,
            14,
            15,
            16,
            17,
            18,
            19,
            20,
            21,
            22
           ],
           "y": {
            "bdata": "AAAAAAAAAAAAAAAAAAAAAAAAAAAAAA==",
            "dtype": "i1"
           }
          },
          {
           "mode": "lines+markers",
           "name": "user_14",
           "type": "scatter",
           "x": [
            1,
            2,
            3,
            4,
            5,
            6,
            7,
            8,
            9,
            10,
            11,
            12,
            13,
            14,
            15,
            16,
            17,
            18,
            19,
            20,
            21,
            22
           ],
           "y": {
            "bdata": "AAAAAAAAAAAAAAAAAAAAAAAAAQAAAA==",
            "dtype": "i1"
           }
          },
          {
           "mode": "lines+markers",
           "name": "user_15",
           "type": "scatter",
           "x": [
            1,
            2,
            3,
            4,
            5,
            6,
            7,
            8,
            9,
            10,
            11,
            12,
            13,
            14,
            15,
            16,
            17,
            18,
            19,
            20,
            21,
            22
           ],
           "y": {
            "bdata": "AAAAAAAAAAAAAAAAAAAAAAAAAAAAAA==",
            "dtype": "i1"
           }
          },
          {
           "mode": "lines+markers",
           "name": "user_16",
           "type": "scatter",
           "x": [
            1,
            2,
            3,
            4,
            5,
            6,
            7,
            8,
            9,
            10,
            11,
            12,
            13,
            14,
            15,
            16,
            17,
            18,
            19,
            20,
            21,
            22
           ],
           "y": {
            "bdata": "AAAAAAAAAAAAAAAAAAAAAAAAAAAAAA==",
            "dtype": "i1"
           }
          },
          {
           "mode": "lines+markers",
           "name": "user_17",
           "type": "scatter",
           "x": [
            1,
            2,
            3,
            4,
            5,
            6,
            7,
            8,
            9,
            10,
            11,
            12,
            13,
            14,
            15,
            16,
            17,
            18,
            19,
            20,
            21,
            22
           ],
           "y": {
            "bdata": "AAEAAAAAAAAAAAAAAAAAAAAAAAAAAA==",
            "dtype": "i1"
           }
          },
          {
           "mode": "lines+markers",
           "name": "user_18",
           "type": "scatter",
           "x": [
            1,
            2,
            3,
            4,
            5,
            6,
            7,
            8,
            9,
            10,
            11,
            12,
            13,
            14,
            15,
            16,
            17,
            18,
            19,
            20,
            21,
            22
           ],
           "y": {
            "bdata": "AAAAAAAAAAAAAAAAAAAAAAAAAAAAAA==",
            "dtype": "i1"
           }
          },
          {
           "mode": "lines+markers",
           "name": "user_19",
           "type": "scatter",
           "x": [
            1,
            2,
            3,
            4,
            5,
            6,
            7,
            8,
            9,
            10,
            11,
            12,
            13,
            14,
            15,
            16,
            17,
            18,
            19,
            20,
            21,
            22
           ],
           "y": {
            "bdata": "AAAAAAAAAAAAAAAAAAAAAAAAAAAAAA==",
            "dtype": "i1"
           }
          },
          {
           "mode": "lines+markers",
           "name": "user_2",
           "type": "scatter",
           "x": [
            1,
            2,
            3,
            4,
            5,
            6,
            7,
            8,
            9,
            10,
            11,
            12,
            13,
            14,
            15,
            16,
            17,
            18,
            19,
            20,
            21,
            22
           ],
           "y": {
            "bdata": "AAAAAAAAAAAAAAAAAAAAAAAAOToAAA==",
            "dtype": "i1"
           }
          },
          {
           "mode": "lines+markers",
           "name": "user_20",
           "type": "scatter",
           "x": [
            1,
            2,
            3,
            4,
            5,
            6,
            7,
            8,
            9,
            10,
            11,
            12,
            13,
            14,
            15,
            16,
            17,
            18,
            19,
            20,
            21,
            22
           ],
           "y": {
            "bdata": "AAAAAAAAAAAAAAAAAAAAAAAAAAAAAA==",
            "dtype": "i1"
           }
          },
          {
           "mode": "lines+markers",
           "name": "user_21",
           "type": "scatter",
           "x": [
            1,
            2,
            3,
            4,
            5,
            6,
            7,
            8,
            9,
            10,
            11,
            12,
            13,
            14,
            15,
            16,
            17,
            18,
            19,
            20,
            21,
            22
           ],
           "y": {
            "bdata": "AAAAAAAAAAAAAAAAAAAAAAAAAAAAAA==",
            "dtype": "i1"
           }
          },
          {
           "mode": "lines+markers",
           "name": "user_22",
           "type": "scatter",
           "x": [
            1,
            2,
            3,
            4,
            5,
            6,
            7,
            8,
            9,
            10,
            11,
            12,
            13,
            14,
            15,
            16,
            17,
            18,
            19,
            20,
            21,
            22
           ],
           "y": {
            "bdata": "AAAAAAAAAAAAAAAAAAAAAAEAAAAAAA==",
            "dtype": "i1"
           }
          },
          {
           "mode": "lines+markers",
           "name": "user_24",
           "type": "scatter",
           "x": [
            1,
            2,
            3,
            4,
            5,
            6,
            7,
            8,
            9,
            10,
            11,
            12,
            13,
            14,
            15,
            16,
            17,
            18,
            19,
            20,
            21,
            22
           ],
           "y": {
            "bdata": "AAAAAAAAAAAAAAAAAAAAAAAAAAAAAA==",
            "dtype": "i1"
           }
          },
          {
           "mode": "lines+markers",
           "name": "user_25",
           "type": "scatter",
           "x": [
            1,
            2,
            3,
            4,
            5,
            6,
            7,
            8,
            9,
            10,
            11,
            12,
            13,
            14,
            15,
            16,
            17,
            18,
            19,
            20,
            21,
            22
           ],
           "y": {
            "bdata": "AAAAAAAAAAAAAAAAAAAAAAAAAAAABQ==",
            "dtype": "i1"
           }
          },
          {
           "mode": "lines+markers",
           "name": "user_26",
           "type": "scatter",
           "x": [
            1,
            2,
            3,
            4,
            5,
            6,
            7,
            8,
            9,
            10,
            11,
            12,
            13,
            14,
            15,
            16,
            17,
            18,
            19,
            20,
            21,
            22
           ],
           "y": {
            "bdata": "AAAAAAAAAAAAAAAAAAAAAAAAAAAAAA==",
            "dtype": "i1"
           }
          },
          {
           "mode": "lines+markers",
           "name": "user_27",
           "type": "scatter",
           "x": [
            1,
            2,
            3,
            4,
            5,
            6,
            7,
            8,
            9,
            10,
            11,
            12,
            13,
            14,
            15,
            16,
            17,
            18,
            19,
            20,
            21,
            22
           ],
           "y": {
            "bdata": "AAAAAAAAAAAAAAAAAAAAAAAAAAAAAA==",
            "dtype": "i1"
           }
          },
          {
           "mode": "lines+markers",
           "name": "user_28",
           "type": "scatter",
           "x": [
            1,
            2,
            3,
            4,
            5,
            6,
            7,
            8,
            9,
            10,
            11,
            12,
            13,
            14,
            15,
            16,
            17,
            18,
            19,
            20,
            21,
            22
           ],
           "y": {
            "bdata": "AAAAAAAAAAAAAAAAAAAAAAAAAAAAAA==",
            "dtype": "i1"
           }
          },
          {
           "mode": "lines+markers",
           "name": "user_29",
           "type": "scatter",
           "x": [
            1,
            2,
            3,
            4,
            5,
            6,
            7,
            8,
            9,
            10,
            11,
            12,
            13,
            14,
            15,
            16,
            17,
            18,
            19,
            20,
            21,
            22
           ],
           "y": {
            "bdata": "AAAAAAAAAAAAAAAAAAAAAAAAAAAAAA==",
            "dtype": "i1"
           }
          },
          {
           "mode": "lines+markers",
           "name": "user_3",
           "type": "scatter",
           "x": [
            1,
            2,
            3,
            4,
            5,
            6,
            7,
            8,
            9,
            10,
            11,
            12,
            13,
            14,
            15,
            16,
            17,
            18,
            19,
            20,
            21,
            22
           ],
           "y": {
            "bdata": "AAAAAAAAAAAAAAAAAAAAAAAAAAABHA==",
            "dtype": "i1"
           }
          },
          {
           "mode": "lines+markers",
           "name": "user_30",
           "type": "scatter",
           "x": [
            1,
            2,
            3,
            4,
            5,
            6,
            7,
            8,
            9,
            10,
            11,
            12,
            13,
            14,
            15,
            16,
            17,
            18,
            19,
            20,
            21,
            22
           ],
           "y": {
            "bdata": "AAAAAAABAgAAAAAAAAAAAAQFAAAMAA==",
            "dtype": "i1"
           }
          },
          {
           "mode": "lines+markers",
           "name": "user_31",
           "type": "scatter",
           "x": [
            1,
            2,
            3,
            4,
            5,
            6,
            7,
            8,
            9,
            10,
            11,
            12,
            13,
            14,
            15,
            16,
            17,
            18,
            19,
            20,
            21,
            22
           ],
           "y": {
            "bdata": "AAAAAAAAAAAAAAAAAAAAAAAAAAABAA==",
            "dtype": "i1"
           }
          },
          {
           "mode": "lines+markers",
           "name": "user_4",
           "type": "scatter",
           "x": [
            1,
            2,
            3,
            4,
            5,
            6,
            7,
            8,
            9,
            10,
            11,
            12,
            13,
            14,
            15,
            16,
            17,
            18,
            19,
            20,
            21,
            22
           ],
           "y": {
            "bdata": "BwALAAAAFBsAAAAAAAAAACMwNQBHUw==",
            "dtype": "i1"
           }
          },
          {
           "mode": "lines+markers",
           "name": "user_6",
           "type": "scatter",
           "x": [
            1,
            2,
            3,
            4,
            5,
            6,
            7,
            8,
            9,
            10,
            11,
            12,
            13,
            14,
            15,
            16,
            17,
            18,
            19,
            20,
            21,
            22
           ],
           "y": {
            "bdata": "AAAAAAAAAAAAAAAAAAAAAAAAAAAAAA==",
            "dtype": "i1"
           }
          },
          {
           "mode": "lines+markers",
           "name": "user_8",
           "type": "scatter",
           "x": [
            1,
            2,
            3,
            4,
            5,
            6,
            7,
            8,
            9,
            10,
            11,
            12,
            13,
            14,
            15,
            16,
            17,
            18,
            19,
            20,
            21,
            22
           ],
           "y": {
            "bdata": "AAAAAAAAAAAAAAAAAAAAAAAAAAAAAA==",
            "dtype": "i1"
           }
          }
         ],
         "name": "21"
        },
        {
         "data": [
          {
           "mode": "lines+markers",
           "name": "user_1",
           "type": "scatter",
           "x": [
            1,
            2,
            3,
            4,
            5,
            6,
            7,
            8,
            9,
            10,
            11,
            12,
            13,
            14,
            15,
            16,
            17,
            18,
            19,
            20,
            21,
            22,
            23
           ],
           "y": {
            "bdata": "AAAAAAAAAAAAAAAAAAAAAAAAAAAAAAA=",
            "dtype": "i1"
           }
          },
          {
           "mode": "lines+markers",
           "name": "user_10",
           "type": "scatter",
           "x": [
            1,
            2,
            3,
            4,
            5,
            6,
            7,
            8,
            9,
            10,
            11,
            12,
            13,
            14,
            15,
            16,
            17,
            18,
            19,
            20,
            21,
            22,
            23
           ],
           "y": {
            "bdata": "AAAAAAAAAAAAAAAAAAAAAAAAAAAAAAA=",
            "dtype": "i1"
           }
          },
          {
           "mode": "lines+markers",
           "name": "user_11",
           "type": "scatter",
           "x": [
            1,
            2,
            3,
            4,
            5,
            6,
            7,
            8,
            9,
            10,
            11,
            12,
            13,
            14,
            15,
            16,
            17,
            18,
            19,
            20,
            21,
            22,
            23
           ],
           "y": {
            "bdata": "AAAAAAAAAAAAAAAAAAAAAAEAAAAAAAA=",
            "dtype": "i1"
           }
          },
          {
           "mode": "lines+markers",
           "name": "user_12",
           "type": "scatter",
           "x": [
            1,
            2,
            3,
            4,
            5,
            6,
            7,
            8,
            9,
            10,
            11,
            12,
            13,
            14,
            15,
            16,
            17,
            18,
            19,
            20,
            21,
            22,
            23
           ],
           "y": {
            "bdata": "AAAAAAAAAAAAAAAAAAAAAAAAAAAAAAA=",
            "dtype": "i1"
           }
          },
          {
           "mode": "lines+markers",
           "name": "user_13",
           "type": "scatter",
           "x": [
            1,
            2,
            3,
            4,
            5,
            6,
            7,
            8,
            9,
            10,
            11,
            12,
            13,
            14,
            15,
            16,
            17,
            18,
            19,
            20,
            21,
            22,
            23
           ],
           "y": {
            "bdata": "AAAAAAAAAAAAAAAAAAAAAAAAAAAAAAA=",
            "dtype": "i1"
           }
          },
          {
           "mode": "lines+markers",
           "name": "user_14",
           "type": "scatter",
           "x": [
            1,
            2,
            3,
            4,
            5,
            6,
            7,
            8,
            9,
            10,
            11,
            12,
            13,
            14,
            15,
            16,
            17,
            18,
            19,
            20,
            21,
            22,
            23
           ],
           "y": {
            "bdata": "AAAAAAAAAAAAAAAAAAAAAAAAAQAAABI=",
            "dtype": "i1"
           }
          },
          {
           "mode": "lines+markers",
           "name": "user_15",
           "type": "scatter",
           "x": [
            1,
            2,
            3,
            4,
            5,
            6,
            7,
            8,
            9,
            10,
            11,
            12,
            13,
            14,
            15,
            16,
            17,
            18,
            19,
            20,
            21,
            22,
            23
           ],
           "y": {
            "bdata": "AAAAAAAAAAAAAAAAAAAAAAAAAAAAAAA=",
            "dtype": "i1"
           }
          },
          {
           "mode": "lines+markers",
           "name": "user_16",
           "type": "scatter",
           "x": [
            1,
            2,
            3,
            4,
            5,
            6,
            7,
            8,
            9,
            10,
            11,
            12,
            13,
            14,
            15,
            16,
            17,
            18,
            19,
            20,
            21,
            22,
            23
           ],
           "y": {
            "bdata": "AAAAAAAAAAAAAAAAAAAAAAAAAAAAAAA=",
            "dtype": "i1"
           }
          },
          {
           "mode": "lines+markers",
           "name": "user_17",
           "type": "scatter",
           "x": [
            1,
            2,
            3,
            4,
            5,
            6,
            7,
            8,
            9,
            10,
            11,
            12,
            13,
            14,
            15,
            16,
            17,
            18,
            19,
            20,
            21,
            22,
            23
           ],
           "y": {
            "bdata": "AAEAAAAAAAAAAAAAAAAAAAAAAAAAAAA=",
            "dtype": "i1"
           }
          },
          {
           "mode": "lines+markers",
           "name": "user_18",
           "type": "scatter",
           "x": [
            1,
            2,
            3,
            4,
            5,
            6,
            7,
            8,
            9,
            10,
            11,
            12,
            13,
            14,
            15,
            16,
            17,
            18,
            19,
            20,
            21,
            22,
            23
           ],
           "y": {
            "bdata": "AAAAAAAAAAAAAAAAAAAAAAAAAAAAAAA=",
            "dtype": "i1"
           }
          },
          {
           "mode": "lines+markers",
           "name": "user_19",
           "type": "scatter",
           "x": [
            1,
            2,
            3,
            4,
            5,
            6,
            7,
            8,
            9,
            10,
            11,
            12,
            13,
            14,
            15,
            16,
            17,
            18,
            19,
            20,
            21,
            22,
            23
           ],
           "y": {
            "bdata": "AAAAAAAAAAAAAAAAAAAAAAAAAAAAAAA=",
            "dtype": "i1"
           }
          },
          {
           "mode": "lines+markers",
           "name": "user_2",
           "type": "scatter",
           "x": [
            1,
            2,
            3,
            4,
            5,
            6,
            7,
            8,
            9,
            10,
            11,
            12,
            13,
            14,
            15,
            16,
            17,
            18,
            19,
            20,
            21,
            22,
            23
           ],
           "y": {
            "bdata": "AAAAAAAAAAAAAAAAAAAAAAAAOToAAAA=",
            "dtype": "i1"
           }
          },
          {
           "mode": "lines+markers",
           "name": "user_20",
           "type": "scatter",
           "x": [
            1,
            2,
            3,
            4,
            5,
            6,
            7,
            8,
            9,
            10,
            11,
            12,
            13,
            14,
            15,
            16,
            17,
            18,
            19,
            20,
            21,
            22,
            23
           ],
           "y": {
            "bdata": "AAAAAAAAAAAAAAAAAAAAAAAAAAAAAAA=",
            "dtype": "i1"
           }
          },
          {
           "mode": "lines+markers",
           "name": "user_21",
           "type": "scatter",
           "x": [
            1,
            2,
            3,
            4,
            5,
            6,
            7,
            8,
            9,
            10,
            11,
            12,
            13,
            14,
            15,
            16,
            17,
            18,
            19,
            20,
            21,
            22,
            23
           ],
           "y": {
            "bdata": "AAAAAAAAAAAAAAAAAAAAAAAAAAAAAAA=",
            "dtype": "i1"
           }
          },
          {
           "mode": "lines+markers",
           "name": "user_22",
           "type": "scatter",
           "x": [
            1,
            2,
            3,
            4,
            5,
            6,
            7,
            8,
            9,
            10,
            11,
            12,
            13,
            14,
            15,
            16,
            17,
            18,
            19,
            20,
            21,
            22,
            23
           ],
           "y": {
            "bdata": "AAAAAAAAAAAAAAAAAAAAAAEAAAAAAAA=",
            "dtype": "i1"
           }
          },
          {
           "mode": "lines+markers",
           "name": "user_24",
           "type": "scatter",
           "x": [
            1,
            2,
            3,
            4,
            5,
            6,
            7,
            8,
            9,
            10,
            11,
            12,
            13,
            14,
            15,
            16,
            17,
            18,
            19,
            20,
            21,
            22,
            23
           ],
           "y": {
            "bdata": "AAAAAAAAAAAAAAAAAAAAAAAAAAAAAAA=",
            "dtype": "i1"
           }
          },
          {
           "mode": "lines+markers",
           "name": "user_25",
           "type": "scatter",
           "x": [
            1,
            2,
            3,
            4,
            5,
            6,
            7,
            8,
            9,
            10,
            11,
            12,
            13,
            14,
            15,
            16,
            17,
            18,
            19,
            20,
            21,
            22,
            23
           ],
           "y": {
            "bdata": "AAAAAAAAAAAAAAAAAAAAAAAAAAAABRs=",
            "dtype": "i1"
           }
          },
          {
           "mode": "lines+markers",
           "name": "user_26",
           "type": "scatter",
           "x": [
            1,
            2,
            3,
            4,
            5,
            6,
            7,
            8,
            9,
            10,
            11,
            12,
            13,
            14,
            15,
            16,
            17,
            18,
            19,
            20,
            21,
            22,
            23
           ],
           "y": {
            "bdata": "AAAAAAAAAAAAAAAAAAAAAAAAAAAAAAA=",
            "dtype": "i1"
           }
          },
          {
           "mode": "lines+markers",
           "name": "user_27",
           "type": "scatter",
           "x": [
            1,
            2,
            3,
            4,
            5,
            6,
            7,
            8,
            9,
            10,
            11,
            12,
            13,
            14,
            15,
            16,
            17,
            18,
            19,
            20,
            21,
            22,
            23
           ],
           "y": {
            "bdata": "AAAAAAAAAAAAAAAAAAAAAAAAAAAAAAA=",
            "dtype": "i1"
           }
          },
          {
           "mode": "lines+markers",
           "name": "user_28",
           "type": "scatter",
           "x": [
            1,
            2,
            3,
            4,
            5,
            6,
            7,
            8,
            9,
            10,
            11,
            12,
            13,
            14,
            15,
            16,
            17,
            18,
            19,
            20,
            21,
            22,
            23
           ],
           "y": {
            "bdata": "AAAAAAAAAAAAAAAAAAAAAAAAAAAAAAA=",
            "dtype": "i1"
           }
          },
          {
           "mode": "lines+markers",
           "name": "user_29",
           "type": "scatter",
           "x": [
            1,
            2,
            3,
            4,
            5,
            6,
            7,
            8,
            9,
            10,
            11,
            12,
            13,
            14,
            15,
            16,
            17,
            18,
            19,
            20,
            21,
            22,
            23
           ],
           "y": {
            "bdata": "AAAAAAAAAAAAAAAAAAAAAAAAAAAAAAA=",
            "dtype": "i1"
           }
          },
          {
           "mode": "lines+markers",
           "name": "user_3",
           "type": "scatter",
           "x": [
            1,
            2,
            3,
            4,
            5,
            6,
            7,
            8,
            9,
            10,
            11,
            12,
            13,
            14,
            15,
            16,
            17,
            18,
            19,
            20,
            21,
            22,
            23
           ],
           "y": {
            "bdata": "AAAAAAAAAAAAAAAAAAAAAAAAAAABHB0=",
            "dtype": "i1"
           }
          },
          {
           "mode": "lines+markers",
           "name": "user_30",
           "type": "scatter",
           "x": [
            1,
            2,
            3,
            4,
            5,
            6,
            7,
            8,
            9,
            10,
            11,
            12,
            13,
            14,
            15,
            16,
            17,
            18,
            19,
            20,
            21,
            22,
            23
           ],
           "y": {
            "bdata": "AAAAAAABAgAAAAAAAAAAAAQFAAAMAAA=",
            "dtype": "i1"
           }
          },
          {
           "mode": "lines+markers",
           "name": "user_31",
           "type": "scatter",
           "x": [
            1,
            2,
            3,
            4,
            5,
            6,
            7,
            8,
            9,
            10,
            11,
            12,
            13,
            14,
            15,
            16,
            17,
            18,
            19,
            20,
            21,
            22,
            23
           ],
           "y": {
            "bdata": "AAAAAAAAAAAAAAAAAAAAAAAAAAABAAQ=",
            "dtype": "i1"
           }
          },
          {
           "mode": "lines+markers",
           "name": "user_4",
           "type": "scatter",
           "x": [
            1,
            2,
            3,
            4,
            5,
            6,
            7,
            8,
            9,
            10,
            11,
            12,
            13,
            14,
            15,
            16,
            17,
            18,
            19,
            20,
            21,
            22,
            23
           ],
           "y": {
            "bdata": "BwALAAAAFBsAAAAAAAAAACMwNQBHUwA=",
            "dtype": "i1"
           }
          },
          {
           "mode": "lines+markers",
           "name": "user_6",
           "type": "scatter",
           "x": [
            1,
            2,
            3,
            4,
            5,
            6,
            7,
            8,
            9,
            10,
            11,
            12,
            13,
            14,
            15,
            16,
            17,
            18,
            19,
            20,
            21,
            22,
            23
           ],
           "y": {
            "bdata": "AAAAAAAAAAAAAAAAAAAAAAAAAAAAAAA=",
            "dtype": "i1"
           }
          },
          {
           "mode": "lines+markers",
           "name": "user_8",
           "type": "scatter",
           "x": [
            1,
            2,
            3,
            4,
            5,
            6,
            7,
            8,
            9,
            10,
            11,
            12,
            13,
            14,
            15,
            16,
            17,
            18,
            19,
            20,
            21,
            22,
            23
           ],
           "y": {
            "bdata": "AAAAAAAAAAAAAAAAAAAAAAAAAAAAAAA=",
            "dtype": "i1"
           }
          }
         ],
         "name": "22"
        },
        {
         "data": [
          {
           "mode": "lines+markers",
           "name": "user_1",
           "type": "scatter",
           "x": [
            1,
            2,
            3,
            4,
            5,
            6,
            7,
            8,
            9,
            10,
            11,
            12,
            13,
            14,
            15,
            16,
            17,
            18,
            19,
            20,
            21,
            22,
            23,
            24
           ],
           "y": {
            "bdata": "AAAAAAAAAAAAAAAAAAAAAAAAAAAAAAAA",
            "dtype": "i1"
           }
          },
          {
           "mode": "lines+markers",
           "name": "user_10",
           "type": "scatter",
           "x": [
            1,
            2,
            3,
            4,
            5,
            6,
            7,
            8,
            9,
            10,
            11,
            12,
            13,
            14,
            15,
            16,
            17,
            18,
            19,
            20,
            21,
            22,
            23,
            24
           ],
           "y": {
            "bdata": "AAAAAAAAAAAAAAAAAAAAAAAAAAAAAAAA",
            "dtype": "i1"
           }
          },
          {
           "mode": "lines+markers",
           "name": "user_11",
           "type": "scatter",
           "x": [
            1,
            2,
            3,
            4,
            5,
            6,
            7,
            8,
            9,
            10,
            11,
            12,
            13,
            14,
            15,
            16,
            17,
            18,
            19,
            20,
            21,
            22,
            23,
            24
           ],
           "y": {
            "bdata": "AAAAAAAAAAAAAAAAAAAAAAEAAAAAAAAA",
            "dtype": "i1"
           }
          },
          {
           "mode": "lines+markers",
           "name": "user_12",
           "type": "scatter",
           "x": [
            1,
            2,
            3,
            4,
            5,
            6,
            7,
            8,
            9,
            10,
            11,
            12,
            13,
            14,
            15,
            16,
            17,
            18,
            19,
            20,
            21,
            22,
            23,
            24
           ],
           "y": {
            "bdata": "AAAAAAAAAAAAAAAAAAAAAAAAAAAAAAAA",
            "dtype": "i1"
           }
          },
          {
           "mode": "lines+markers",
           "name": "user_13",
           "type": "scatter",
           "x": [
            1,
            2,
            3,
            4,
            5,
            6,
            7,
            8,
            9,
            10,
            11,
            12,
            13,
            14,
            15,
            16,
            17,
            18,
            19,
            20,
            21,
            22,
            23,
            24
           ],
           "y": {
            "bdata": "AAAAAAAAAAAAAAAAAAAAAAAAAAAAAAAA",
            "dtype": "i1"
           }
          },
          {
           "mode": "lines+markers",
           "name": "user_14",
           "type": "scatter",
           "x": [
            1,
            2,
            3,
            4,
            5,
            6,
            7,
            8,
            9,
            10,
            11,
            12,
            13,
            14,
            15,
            16,
            17,
            18,
            19,
            20,
            21,
            22,
            23,
            24
           ],
           "y": {
            "bdata": "AAAAAAAAAAAAAAAAAAAAAAAAAQAAABIZ",
            "dtype": "i1"
           }
          },
          {
           "mode": "lines+markers",
           "name": "user_15",
           "type": "scatter",
           "x": [
            1,
            2,
            3,
            4,
            5,
            6,
            7,
            8,
            9,
            10,
            11,
            12,
            13,
            14,
            15,
            16,
            17,
            18,
            19,
            20,
            21,
            22,
            23,
            24
           ],
           "y": {
            "bdata": "AAAAAAAAAAAAAAAAAAAAAAAAAAAAAAAA",
            "dtype": "i1"
           }
          },
          {
           "mode": "lines+markers",
           "name": "user_16",
           "type": "scatter",
           "x": [
            1,
            2,
            3,
            4,
            5,
            6,
            7,
            8,
            9,
            10,
            11,
            12,
            13,
            14,
            15,
            16,
            17,
            18,
            19,
            20,
            21,
            22,
            23,
            24
           ],
           "y": {
            "bdata": "AAAAAAAAAAAAAAAAAAAAAAAAAAAAAAAA",
            "dtype": "i1"
           }
          },
          {
           "mode": "lines+markers",
           "name": "user_17",
           "type": "scatter",
           "x": [
            1,
            2,
            3,
            4,
            5,
            6,
            7,
            8,
            9,
            10,
            11,
            12,
            13,
            14,
            15,
            16,
            17,
            18,
            19,
            20,
            21,
            22,
            23,
            24
           ],
           "y": {
            "bdata": "AAEAAAAAAAAAAAAAAAAAAAAAAAAAAAAA",
            "dtype": "i1"
           }
          },
          {
           "mode": "lines+markers",
           "name": "user_18",
           "type": "scatter",
           "x": [
            1,
            2,
            3,
            4,
            5,
            6,
            7,
            8,
            9,
            10,
            11,
            12,
            13,
            14,
            15,
            16,
            17,
            18,
            19,
            20,
            21,
            22,
            23,
            24
           ],
           "y": {
            "bdata": "AAAAAAAAAAAAAAAAAAAAAAAAAAAAAAAA",
            "dtype": "i1"
           }
          },
          {
           "mode": "lines+markers",
           "name": "user_19",
           "type": "scatter",
           "x": [
            1,
            2,
            3,
            4,
            5,
            6,
            7,
            8,
            9,
            10,
            11,
            12,
            13,
            14,
            15,
            16,
            17,
            18,
            19,
            20,
            21,
            22,
            23,
            24
           ],
           "y": {
            "bdata": "AAAAAAAAAAAAAAAAAAAAAAAAAAAAAAAA",
            "dtype": "i1"
           }
          },
          {
           "mode": "lines+markers",
           "name": "user_2",
           "type": "scatter",
           "x": [
            1,
            2,
            3,
            4,
            5,
            6,
            7,
            8,
            9,
            10,
            11,
            12,
            13,
            14,
            15,
            16,
            17,
            18,
            19,
            20,
            21,
            22,
            23,
            24
           ],
           "y": {
            "bdata": "AAAAAAAAAAAAAAAAAAAAAAAAOToAAAA+",
            "dtype": "i1"
           }
          },
          {
           "mode": "lines+markers",
           "name": "user_20",
           "type": "scatter",
           "x": [
            1,
            2,
            3,
            4,
            5,
            6,
            7,
            8,
            9,
            10,
            11,
            12,
            13,
            14,
            15,
            16,
            17,
            18,
            19,
            20,
            21,
            22,
            23,
            24
           ],
           "y": {
            "bdata": "AAAAAAAAAAAAAAAAAAAAAAAAAAAAAAAA",
            "dtype": "i1"
           }
          },
          {
           "mode": "lines+markers",
           "name": "user_21",
           "type": "scatter",
           "x": [
            1,
            2,
            3,
            4,
            5,
            6,
            7,
            8,
            9,
            10,
            11,
            12,
            13,
            14,
            15,
            16,
            17,
            18,
            19,
            20,
            21,
            22,
            23,
            24
           ],
           "y": {
            "bdata": "AAAAAAAAAAAAAAAAAAAAAAAAAAAAAAAH",
            "dtype": "i1"
           }
          },
          {
           "mode": "lines+markers",
           "name": "user_22",
           "type": "scatter",
           "x": [
            1,
            2,
            3,
            4,
            5,
            6,
            7,
            8,
            9,
            10,
            11,
            12,
            13,
            14,
            15,
            16,
            17,
            18,
            19,
            20,
            21,
            22,
            23,
            24
           ],
           "y": {
            "bdata": "AAAAAAAAAAAAAAAAAAAAAAEAAAAAAAAA",
            "dtype": "i1"
           }
          },
          {
           "mode": "lines+markers",
           "name": "user_24",
           "type": "scatter",
           "x": [
            1,
            2,
            3,
            4,
            5,
            6,
            7,
            8,
            9,
            10,
            11,
            12,
            13,
            14,
            15,
            16,
            17,
            18,
            19,
            20,
            21,
            22,
            23,
            24
           ],
           "y": {
            "bdata": "AAAAAAAAAAAAAAAAAAAAAAAAAAAAAAAA",
            "dtype": "i1"
           }
          },
          {
           "mode": "lines+markers",
           "name": "user_25",
           "type": "scatter",
           "x": [
            1,
            2,
            3,
            4,
            5,
            6,
            7,
            8,
            9,
            10,
            11,
            12,
            13,
            14,
            15,
            16,
            17,
            18,
            19,
            20,
            21,
            22,
            23,
            24
           ],
           "y": {
            "bdata": "AAAAAAAAAAAAAAAAAAAAAAAAAAAABRsd",
            "dtype": "i1"
           }
          },
          {
           "mode": "lines+markers",
           "name": "user_26",
           "type": "scatter",
           "x": [
            1,
            2,
            3,
            4,
            5,
            6,
            7,
            8,
            9,
            10,
            11,
            12,
            13,
            14,
            15,
            16,
            17,
            18,
            19,
            20,
            21,
            22,
            23,
            24
           ],
           "y": {
            "bdata": "AAAAAAAAAAAAAAAAAAAAAAAAAAAAAAAj",
            "dtype": "i1"
           }
          },
          {
           "mode": "lines+markers",
           "name": "user_27",
           "type": "scatter",
           "x": [
            1,
            2,
            3,
            4,
            5,
            6,
            7,
            8,
            9,
            10,
            11,
            12,
            13,
            14,
            15,
            16,
            17,
            18,
            19,
            20,
            21,
            22,
            23,
            24
           ],
           "y": {
            "bdata": "AAAAAAAAAAAAAAAAAAAAAAAAAAAAAAAA",
            "dtype": "i1"
           }
          },
          {
           "mode": "lines+markers",
           "name": "user_28",
           "type": "scatter",
           "x": [
            1,
            2,
            3,
            4,
            5,
            6,
            7,
            8,
            9,
            10,
            11,
            12,
            13,
            14,
            15,
            16,
            17,
            18,
            19,
            20,
            21,
            22,
            23,
            24
           ],
           "y": {
            "bdata": "AAAAAAAAAAAAAAAAAAAAAAAAAAAAAAAA",
            "dtype": "i1"
           }
          },
          {
           "mode": "lines+markers",
           "name": "user_29",
           "type": "scatter",
           "x": [
            1,
            2,
            3,
            4,
            5,
            6,
            7,
            8,
            9,
            10,
            11,
            12,
            13,
            14,
            15,
            16,
            17,
            18,
            19,
            20,
            21,
            22,
            23,
            24
           ],
           "y": {
            "bdata": "AAAAAAAAAAAAAAAAAAAAAAAAAAAAAAAA",
            "dtype": "i1"
           }
          },
          {
           "mode": "lines+markers",
           "name": "user_3",
           "type": "scatter",
           "x": [
            1,
            2,
            3,
            4,
            5,
            6,
            7,
            8,
            9,
            10,
            11,
            12,
            13,
            14,
            15,
            16,
            17,
            18,
            19,
            20,
            21,
            22,
            23,
            24
           ],
           "y": {
            "bdata": "AAAAAAAAAAAAAAAAAAAAAAAAAAABHB0f",
            "dtype": "i1"
           }
          },
          {
           "mode": "lines+markers",
           "name": "user_30",
           "type": "scatter",
           "x": [
            1,
            2,
            3,
            4,
            5,
            6,
            7,
            8,
            9,
            10,
            11,
            12,
            13,
            14,
            15,
            16,
            17,
            18,
            19,
            20,
            21,
            22,
            23,
            24
           ],
           "y": {
            "bdata": "AAAAAAABAgAAAAAAAAAAAAQFAAAMAAAR",
            "dtype": "i1"
           }
          },
          {
           "mode": "lines+markers",
           "name": "user_31",
           "type": "scatter",
           "x": [
            1,
            2,
            3,
            4,
            5,
            6,
            7,
            8,
            9,
            10,
            11,
            12,
            13,
            14,
            15,
            16,
            17,
            18,
            19,
            20,
            21,
            22,
            23,
            24
           ],
           "y": {
            "bdata": "AAAAAAAAAAAAAAAAAAAAAAAAAAABAAQA",
            "dtype": "i1"
           }
          },
          {
           "mode": "lines+markers",
           "name": "user_4",
           "type": "scatter",
           "x": [
            1,
            2,
            3,
            4,
            5,
            6,
            7,
            8,
            9,
            10,
            11,
            12,
            13,
            14,
            15,
            16,
            17,
            18,
            19,
            20,
            21,
            22,
            23,
            24
           ],
           "y": {
            "bdata": "BwALAAAAFBsAAAAAAAAAACMwNQBHUwAA",
            "dtype": "i1"
           }
          },
          {
           "mode": "lines+markers",
           "name": "user_6",
           "type": "scatter",
           "x": [
            1,
            2,
            3,
            4,
            5,
            6,
            7,
            8,
            9,
            10,
            11,
            12,
            13,
            14,
            15,
            16,
            17,
            18,
            19,
            20,
            21,
            22,
            23,
            24
           ],
           "y": {
            "bdata": "AAAAAAAAAAAAAAAAAAAAAAAAAAAAAAAA",
            "dtype": "i1"
           }
          },
          {
           "mode": "lines+markers",
           "name": "user_8",
           "type": "scatter",
           "x": [
            1,
            2,
            3,
            4,
            5,
            6,
            7,
            8,
            9,
            10,
            11,
            12,
            13,
            14,
            15,
            16,
            17,
            18,
            19,
            20,
            21,
            22,
            23,
            24
           ],
           "y": {
            "bdata": "AAAAAAAAAAAAAAAAAAAAAAAAAAAAAAAA",
            "dtype": "i1"
           }
          }
         ],
         "name": "23"
        },
        {
         "data": [
          {
           "mode": "lines+markers",
           "name": "user_1",
           "type": "scatter",
           "x": [
            1,
            2,
            3,
            4,
            5,
            6,
            7,
            8,
            9,
            10,
            11,
            12,
            13,
            14,
            15,
            16,
            17,
            18,
            19,
            20,
            21,
            22,
            23,
            24,
            25
           ],
           "y": {
            "bdata": "AAAAAAAAAAAAAAAAAAAAAAAAAAAAAAAAAA==",
            "dtype": "i1"
           }
          },
          {
           "mode": "lines+markers",
           "name": "user_10",
           "type": "scatter",
           "x": [
            1,
            2,
            3,
            4,
            5,
            6,
            7,
            8,
            9,
            10,
            11,
            12,
            13,
            14,
            15,
            16,
            17,
            18,
            19,
            20,
            21,
            22,
            23,
            24,
            25
           ],
           "y": {
            "bdata": "AAAAAAAAAAAAAAAAAAAAAAAAAAAAAAAAAA==",
            "dtype": "i1"
           }
          },
          {
           "mode": "lines+markers",
           "name": "user_11",
           "type": "scatter",
           "x": [
            1,
            2,
            3,
            4,
            5,
            6,
            7,
            8,
            9,
            10,
            11,
            12,
            13,
            14,
            15,
            16,
            17,
            18,
            19,
            20,
            21,
            22,
            23,
            24,
            25
           ],
           "y": {
            "bdata": "AAAAAAAAAAAAAAAAAAAAAAEAAAAAAAAAAA==",
            "dtype": "i1"
           }
          },
          {
           "mode": "lines+markers",
           "name": "user_12",
           "type": "scatter",
           "x": [
            1,
            2,
            3,
            4,
            5,
            6,
            7,
            8,
            9,
            10,
            11,
            12,
            13,
            14,
            15,
            16,
            17,
            18,
            19,
            20,
            21,
            22,
            23,
            24,
            25
           ],
           "y": {
            "bdata": "AAAAAAAAAAAAAAAAAAAAAAAAAAAAAAAAAA==",
            "dtype": "i1"
           }
          },
          {
           "mode": "lines+markers",
           "name": "user_13",
           "type": "scatter",
           "x": [
            1,
            2,
            3,
            4,
            5,
            6,
            7,
            8,
            9,
            10,
            11,
            12,
            13,
            14,
            15,
            16,
            17,
            18,
            19,
            20,
            21,
            22,
            23,
            24,
            25
           ],
           "y": {
            "bdata": "AAAAAAAAAAAAAAAAAAAAAAAAAAAAAAAAAg==",
            "dtype": "i1"
           }
          },
          {
           "mode": "lines+markers",
           "name": "user_14",
           "type": "scatter",
           "x": [
            1,
            2,
            3,
            4,
            5,
            6,
            7,
            8,
            9,
            10,
            11,
            12,
            13,
            14,
            15,
            16,
            17,
            18,
            19,
            20,
            21,
            22,
            23,
            24,
            25
           ],
           "y": {
            "bdata": "AAAAAAAAAAAAAAAAAAAAAAAAAQAAABIZMQ==",
            "dtype": "i1"
           }
          },
          {
           "mode": "lines+markers",
           "name": "user_15",
           "type": "scatter",
           "x": [
            1,
            2,
            3,
            4,
            5,
            6,
            7,
            8,
            9,
            10,
            11,
            12,
            13,
            14,
            15,
            16,
            17,
            18,
            19,
            20,
            21,
            22,
            23,
            24,
            25
           ],
           "y": {
            "bdata": "AAAAAAAAAAAAAAAAAAAAAAAAAAAAAAAAAA==",
            "dtype": "i1"
           }
          },
          {
           "mode": "lines+markers",
           "name": "user_16",
           "type": "scatter",
           "x": [
            1,
            2,
            3,
            4,
            5,
            6,
            7,
            8,
            9,
            10,
            11,
            12,
            13,
            14,
            15,
            16,
            17,
            18,
            19,
            20,
            21,
            22,
            23,
            24,
            25
           ],
           "y": {
            "bdata": "AAAAAAAAAAAAAAAAAAAAAAAAAAAAAAAAAA==",
            "dtype": "i1"
           }
          },
          {
           "mode": "lines+markers",
           "name": "user_17",
           "type": "scatter",
           "x": [
            1,
            2,
            3,
            4,
            5,
            6,
            7,
            8,
            9,
            10,
            11,
            12,
            13,
            14,
            15,
            16,
            17,
            18,
            19,
            20,
            21,
            22,
            23,
            24,
            25
           ],
           "y": {
            "bdata": "AAEAAAAAAAAAAAAAAAAAAAAAAAAAAAAAAA==",
            "dtype": "i1"
           }
          },
          {
           "mode": "lines+markers",
           "name": "user_18",
           "type": "scatter",
           "x": [
            1,
            2,
            3,
            4,
            5,
            6,
            7,
            8,
            9,
            10,
            11,
            12,
            13,
            14,
            15,
            16,
            17,
            18,
            19,
            20,
            21,
            22,
            23,
            24,
            25
           ],
           "y": {
            "bdata": "AAAAAAAAAAAAAAAAAAAAAAAAAAAAAAAABw==",
            "dtype": "i1"
           }
          },
          {
           "mode": "lines+markers",
           "name": "user_19",
           "type": "scatter",
           "x": [
            1,
            2,
            3,
            4,
            5,
            6,
            7,
            8,
            9,
            10,
            11,
            12,
            13,
            14,
            15,
            16,
            17,
            18,
            19,
            20,
            21,
            22,
            23,
            24,
            25
           ],
           "y": {
            "bdata": "AAAAAAAAAAAAAAAAAAAAAAAAAAAAAAAAAA==",
            "dtype": "i1"
           }
          },
          {
           "mode": "lines+markers",
           "name": "user_2",
           "type": "scatter",
           "x": [
            1,
            2,
            3,
            4,
            5,
            6,
            7,
            8,
            9,
            10,
            11,
            12,
            13,
            14,
            15,
            16,
            17,
            18,
            19,
            20,
            21,
            22,
            23,
            24,
            25
           ],
           "y": {
            "bdata": "AAAAAAAAAAAAAAAAAAAAAAAAOToAAAA+Sg==",
            "dtype": "i1"
           }
          },
          {
           "mode": "lines+markers",
           "name": "user_20",
           "type": "scatter",
           "x": [
            1,
            2,
            3,
            4,
            5,
            6,
            7,
            8,
            9,
            10,
            11,
            12,
            13,
            14,
            15,
            16,
            17,
            18,
            19,
            20,
            21,
            22,
            23,
            24,
            25
           ],
           "y": {
            "bdata": "AAAAAAAAAAAAAAAAAAAAAAAAAAAAAAAACw==",
            "dtype": "i1"
           }
          },
          {
           "mode": "lines+markers",
           "name": "user_21",
           "type": "scatter",
           "x": [
            1,
            2,
            3,
            4,
            5,
            6,
            7,
            8,
            9,
            10,
            11,
            12,
            13,
            14,
            15,
            16,
            17,
            18,
            19,
            20,
            21,
            22,
            23,
            24,
            25
           ],
           "y": {
            "bdata": "AAAAAAAAAAAAAAAAAAAAAAAAAAAAAAAHAA==",
            "dtype": "i1"
           }
          },
          {
           "mode": "lines+markers",
           "name": "user_22",
           "type": "scatter",
           "x": [
            1,
            2,
            3,
            4,
            5,
            6,
            7,
            8,
            9,
            10,
            11,
            12,
            13,
            14,
            15,
            16,
            17,
            18,
            19,
            20,
            21,
            22,
            23,
            24,
            25
           ],
           "y": {
            "bdata": "AAAAAAAAAAAAAAAAAAAAAAEAAAAAAAAAAA==",
            "dtype": "i1"
           }
          },
          {
           "mode": "lines+markers",
           "name": "user_24",
           "type": "scatter",
           "x": [
            1,
            2,
            3,
            4,
            5,
            6,
            7,
            8,
            9,
            10,
            11,
            12,
            13,
            14,
            15,
            16,
            17,
            18,
            19,
            20,
            21,
            22,
            23,
            24,
            25
           ],
           "y": {
            "bdata": "AAAAAAAAAAAAAAAAAAAAAAAAAAAAAAAAAA==",
            "dtype": "i1"
           }
          },
          {
           "mode": "lines+markers",
           "name": "user_25",
           "type": "scatter",
           "x": [
            1,
            2,
            3,
            4,
            5,
            6,
            7,
            8,
            9,
            10,
            11,
            12,
            13,
            14,
            15,
            16,
            17,
            18,
            19,
            20,
            21,
            22,
            23,
            24,
            25
           ],
           "y": {
            "bdata": "AAAAAAAAAAAAAAAAAAAAAAAAAAAABRsdIQ==",
            "dtype": "i1"
           }
          },
          {
           "mode": "lines+markers",
           "name": "user_26",
           "type": "scatter",
           "x": [
            1,
            2,
            3,
            4,
            5,
            6,
            7,
            8,
            9,
            10,
            11,
            12,
            13,
            14,
            15,
            16,
            17,
            18,
            19,
            20,
            21,
            22,
            23,
            24,
            25
           ],
           "y": {
            "bdata": "AAAAAAAAAAAAAAAAAAAAAAAAAAAAAAAjAA==",
            "dtype": "i1"
           }
          },
          {
           "mode": "lines+markers",
           "name": "user_27",
           "type": "scatter",
           "x": [
            1,
            2,
            3,
            4,
            5,
            6,
            7,
            8,
            9,
            10,
            11,
            12,
            13,
            14,
            15,
            16,
            17,
            18,
            19,
            20,
            21,
            22,
            23,
            24,
            25
           ],
           "y": {
            "bdata": "AAAAAAAAAAAAAAAAAAAAAAAAAAAAAAAAAA==",
            "dtype": "i1"
           }
          },
          {
           "mode": "lines+markers",
           "name": "user_28",
           "type": "scatter",
           "x": [
            1,
            2,
            3,
            4,
            5,
            6,
            7,
            8,
            9,
            10,
            11,
            12,
            13,
            14,
            15,
            16,
            17,
            18,
            19,
            20,
            21,
            22,
            23,
            24,
            25
           ],
           "y": {
            "bdata": "AAAAAAAAAAAAAAAAAAAAAAAAAAAAAAAAAA==",
            "dtype": "i1"
           }
          },
          {
           "mode": "lines+markers",
           "name": "user_29",
           "type": "scatter",
           "x": [
            1,
            2,
            3,
            4,
            5,
            6,
            7,
            8,
            9,
            10,
            11,
            12,
            13,
            14,
            15,
            16,
            17,
            18,
            19,
            20,
            21,
            22,
            23,
            24,
            25
           ],
           "y": {
            "bdata": "AAAAAAAAAAAAAAAAAAAAAAAAAAAAAAAABQ==",
            "dtype": "i1"
           }
          },
          {
           "mode": "lines+markers",
           "name": "user_3",
           "type": "scatter",
           "x": [
            1,
            2,
            3,
            4,
            5,
            6,
            7,
            8,
            9,
            10,
            11,
            12,
            13,
            14,
            15,
            16,
            17,
            18,
            19,
            20,
            21,
            22,
            23,
            24,
            25
           ],
           "y": {
            "bdata": "AAAAAAAAAAAAAAAAAAAAAAAAAAABHB0fNg==",
            "dtype": "i1"
           }
          },
          {
           "mode": "lines+markers",
           "name": "user_30",
           "type": "scatter",
           "x": [
            1,
            2,
            3,
            4,
            5,
            6,
            7,
            8,
            9,
            10,
            11,
            12,
            13,
            14,
            15,
            16,
            17,
            18,
            19,
            20,
            21,
            22,
            23,
            24,
            25
           ],
           "y": {
            "bdata": "AAAAAAABAgAAAAAAAAAAAAQFAAAMAAARAA==",
            "dtype": "i1"
           }
          },
          {
           "mode": "lines+markers",
           "name": "user_31",
           "type": "scatter",
           "x": [
            1,
            2,
            3,
            4,
            5,
            6,
            7,
            8,
            9,
            10,
            11,
            12,
            13,
            14,
            15,
            16,
            17,
            18,
            19,
            20,
            21,
            22,
            23,
            24,
            25
           ],
           "y": {
            "bdata": "AAAAAAAAAAAAAAAAAAAAAAAAAAABAAQABg==",
            "dtype": "i1"
           }
          },
          {
           "mode": "lines+markers",
           "name": "user_4",
           "type": "scatter",
           "x": [
            1,
            2,
            3,
            4,
            5,
            6,
            7,
            8,
            9,
            10,
            11,
            12,
            13,
            14,
            15,
            16,
            17,
            18,
            19,
            20,
            21,
            22,
            23,
            24,
            25
           ],
           "y": {
            "bdata": "BwALAAAAFBsAAAAAAAAAACMwNQBHUwAAVw==",
            "dtype": "i1"
           }
          },
          {
           "mode": "lines+markers",
           "name": "user_6",
           "type": "scatter",
           "x": [
            1,
            2,
            3,
            4,
            5,
            6,
            7,
            8,
            9,
            10,
            11,
            12,
            13,
            14,
            15,
            16,
            17,
            18,
            19,
            20,
            21,
            22,
            23,
            24,
            25
           ],
           "y": {
            "bdata": "AAAAAAAAAAAAAAAAAAAAAAAAAAAAAAAAAA==",
            "dtype": "i1"
           }
          },
          {
           "mode": "lines+markers",
           "name": "user_8",
           "type": "scatter",
           "x": [
            1,
            2,
            3,
            4,
            5,
            6,
            7,
            8,
            9,
            10,
            11,
            12,
            13,
            14,
            15,
            16,
            17,
            18,
            19,
            20,
            21,
            22,
            23,
            24,
            25
           ],
           "y": {
            "bdata": "AAAAAAAAAAAAAAAAAAAAAAAAAAAAAAAAAA==",
            "dtype": "i1"
           }
          }
         ],
         "name": "24"
        },
        {
         "data": [
          {
           "mode": "lines+markers",
           "name": "user_1",
           "type": "scatter",
           "x": [
            1,
            2,
            3,
            4,
            5,
            6,
            7,
            8,
            9,
            10,
            11,
            12,
            13,
            14,
            15,
            16,
            17,
            18,
            19,
            20,
            21,
            22,
            23,
            24,
            25,
            26
           ],
           "y": {
            "bdata": "AAAAAAAAAAAAAAAAAAAAAAAAAAAAAAAAAAA=",
            "dtype": "i1"
           }
          },
          {
           "mode": "lines+markers",
           "name": "user_10",
           "type": "scatter",
           "x": [
            1,
            2,
            3,
            4,
            5,
            6,
            7,
            8,
            9,
            10,
            11,
            12,
            13,
            14,
            15,
            16,
            17,
            18,
            19,
            20,
            21,
            22,
            23,
            24,
            25,
            26
           ],
           "y": {
            "bdata": "AAAAAAAAAAAAAAAAAAAAAAAAAAAAAAAAAAc=",
            "dtype": "i1"
           }
          },
          {
           "mode": "lines+markers",
           "name": "user_11",
           "type": "scatter",
           "x": [
            1,
            2,
            3,
            4,
            5,
            6,
            7,
            8,
            9,
            10,
            11,
            12,
            13,
            14,
            15,
            16,
            17,
            18,
            19,
            20,
            21,
            22,
            23,
            24,
            25,
            26
           ],
           "y": {
            "bdata": "AAAAAAAAAAAAAAAAAAAAAAEAAAAAAAAAAAA=",
            "dtype": "i1"
           }
          },
          {
           "mode": "lines+markers",
           "name": "user_12",
           "type": "scatter",
           "x": [
            1,
            2,
            3,
            4,
            5,
            6,
            7,
            8,
            9,
            10,
            11,
            12,
            13,
            14,
            15,
            16,
            17,
            18,
            19,
            20,
            21,
            22,
            23,
            24,
            25,
            26
           ],
           "y": {
            "bdata": "AAAAAAAAAAAAAAAAAAAAAAAAAAAAAAAAAAA=",
            "dtype": "i1"
           }
          },
          {
           "mode": "lines+markers",
           "name": "user_13",
           "type": "scatter",
           "x": [
            1,
            2,
            3,
            4,
            5,
            6,
            7,
            8,
            9,
            10,
            11,
            12,
            13,
            14,
            15,
            16,
            17,
            18,
            19,
            20,
            21,
            22,
            23,
            24,
            25,
            26
           ],
           "y": {
            "bdata": "AAAAAAAAAAAAAAAAAAAAAAAAAAAAAAAAAh4=",
            "dtype": "i1"
           }
          },
          {
           "mode": "lines+markers",
           "name": "user_14",
           "type": "scatter",
           "x": [
            1,
            2,
            3,
            4,
            5,
            6,
            7,
            8,
            9,
            10,
            11,
            12,
            13,
            14,
            15,
            16,
            17,
            18,
            19,
            20,
            21,
            22,
            23,
            24,
            25,
            26
           ],
           "y": {
            "bdata": "AAAAAAAAAAAAAAAAAAAAAAAAAQAAABIZMVw=",
            "dtype": "i1"
           }
          },
          {
           "mode": "lines+markers",
           "name": "user_15",
           "type": "scatter",
           "x": [
            1,
            2,
            3,
            4,
            5,
            6,
            7,
            8,
            9,
            10,
            11,
            12,
            13,
            14,
            15,
            16,
            17,
            18,
            19,
            20,
            21,
            22,
            23,
            24,
            25,
            26
           ],
           "y": {
            "bdata": "AAAAAAAAAAAAAAAAAAAAAAAAAAAAAAAAAAA=",
            "dtype": "i1"
           }
          },
          {
           "mode": "lines+markers",
           "name": "user_16",
           "type": "scatter",
           "x": [
            1,
            2,
            3,
            4,
            5,
            6,
            7,
            8,
            9,
            10,
            11,
            12,
            13,
            14,
            15,
            16,
            17,
            18,
            19,
            20,
            21,
            22,
            23,
            24,
            25,
            26
           ],
           "y": {
            "bdata": "AAAAAAAAAAAAAAAAAAAAAAAAAAAAAAAAAAM=",
            "dtype": "i1"
           }
          },
          {
           "mode": "lines+markers",
           "name": "user_17",
           "type": "scatter",
           "x": [
            1,
            2,
            3,
            4,
            5,
            6,
            7,
            8,
            9,
            10,
            11,
            12,
            13,
            14,
            15,
            16,
            17,
            18,
            19,
            20,
            21,
            22,
            23,
            24,
            25,
            26
           ],
           "y": {
            "bdata": "AAEAAAAAAAAAAAAAAAAAAAAAAAAAAAAAAAM=",
            "dtype": "i1"
           }
          },
          {
           "mode": "lines+markers",
           "name": "user_18",
           "type": "scatter",
           "x": [
            1,
            2,
            3,
            4,
            5,
            6,
            7,
            8,
            9,
            10,
            11,
            12,
            13,
            14,
            15,
            16,
            17,
            18,
            19,
            20,
            21,
            22,
            23,
            24,
            25,
            26
           ],
           "y": {
            "bdata": "AAAAAAAAAAAAAAAAAAAAAAAAAAAAAAAABwA=",
            "dtype": "i1"
           }
          },
          {
           "mode": "lines+markers",
           "name": "user_19",
           "type": "scatter",
           "x": [
            1,
            2,
            3,
            4,
            5,
            6,
            7,
            8,
            9,
            10,
            11,
            12,
            13,
            14,
            15,
            16,
            17,
            18,
            19,
            20,
            21,
            22,
            23,
            24,
            25,
            26
           ],
           "y": {
            "bdata": "AAAAAAAAAAAAAAAAAAAAAAAAAAAAAAAAAAA=",
            "dtype": "i1"
           }
          },
          {
           "mode": "lines+markers",
           "name": "user_2",
           "type": "scatter",
           "x": [
            1,
            2,
            3,
            4,
            5,
            6,
            7,
            8,
            9,
            10,
            11,
            12,
            13,
            14,
            15,
            16,
            17,
            18,
            19,
            20,
            21,
            22,
            23,
            24,
            25,
            26
           ],
           "y": {
            "bdata": "AAAAAAAAAAAAAAAAAAAAAAAAOToAAAA+Sk4=",
            "dtype": "i1"
           }
          },
          {
           "mode": "lines+markers",
           "name": "user_20",
           "type": "scatter",
           "x": [
            1,
            2,
            3,
            4,
            5,
            6,
            7,
            8,
            9,
            10,
            11,
            12,
            13,
            14,
            15,
            16,
            17,
            18,
            19,
            20,
            21,
            22,
            23,
            24,
            25,
            26
           ],
           "y": {
            "bdata": "AAAAAAAAAAAAAAAAAAAAAAAAAAAAAAAACwA=",
            "dtype": "i1"
           }
          },
          {
           "mode": "lines+markers",
           "name": "user_21",
           "type": "scatter",
           "x": [
            1,
            2,
            3,
            4,
            5,
            6,
            7,
            8,
            9,
            10,
            11,
            12,
            13,
            14,
            15,
            16,
            17,
            18,
            19,
            20,
            21,
            22,
            23,
            24,
            25,
            26
           ],
           "y": {
            "bdata": "AAAAAAAAAAAAAAAAAAAAAAAAAAAAAAAHAAA=",
            "dtype": "i1"
           }
          },
          {
           "mode": "lines+markers",
           "name": "user_22",
           "type": "scatter",
           "x": [
            1,
            2,
            3,
            4,
            5,
            6,
            7,
            8,
            9,
            10,
            11,
            12,
            13,
            14,
            15,
            16,
            17,
            18,
            19,
            20,
            21,
            22,
            23,
            24,
            25,
            26
           ],
           "y": {
            "bdata": "AAAAAAAAAAAAAAAAAAAAAAEAAAAAAAAAAAA=",
            "dtype": "i1"
           }
          },
          {
           "mode": "lines+markers",
           "name": "user_24",
           "type": "scatter",
           "x": [
            1,
            2,
            3,
            4,
            5,
            6,
            7,
            8,
            9,
            10,
            11,
            12,
            13,
            14,
            15,
            16,
            17,
            18,
            19,
            20,
            21,
            22,
            23,
            24,
            25,
            26
           ],
           "y": {
            "bdata": "AAAAAAAAAAAAAAAAAAAAAAAAAAAAAAAAAAA=",
            "dtype": "i1"
           }
          },
          {
           "mode": "lines+markers",
           "name": "user_25",
           "type": "scatter",
           "x": [
            1,
            2,
            3,
            4,
            5,
            6,
            7,
            8,
            9,
            10,
            11,
            12,
            13,
            14,
            15,
            16,
            17,
            18,
            19,
            20,
            21,
            22,
            23,
            24,
            25,
            26
           ],
           "y": {
            "bdata": "AAAAAAAAAAAAAAAAAAAAAAAAAAAABRsdITY=",
            "dtype": "i1"
           }
          },
          {
           "mode": "lines+markers",
           "name": "user_26",
           "type": "scatter",
           "x": [
            1,
            2,
            3,
            4,
            5,
            6,
            7,
            8,
            9,
            10,
            11,
            12,
            13,
            14,
            15,
            16,
            17,
            18,
            19,
            20,
            21,
            22,
            23,
            24,
            25,
            26
           ],
           "y": {
            "bdata": "AAAAAAAAAAAAAAAAAAAAAAAAAAAAAAAjAAA=",
            "dtype": "i1"
           }
          },
          {
           "mode": "lines+markers",
           "name": "user_27",
           "type": "scatter",
           "x": [
            1,
            2,
            3,
            4,
            5,
            6,
            7,
            8,
            9,
            10,
            11,
            12,
            13,
            14,
            15,
            16,
            17,
            18,
            19,
            20,
            21,
            22,
            23,
            24,
            25,
            26
           ],
           "y": {
            "bdata": "AAAAAAAAAAAAAAAAAAAAAAAAAAAAAAAAAAA=",
            "dtype": "i1"
           }
          },
          {
           "mode": "lines+markers",
           "name": "user_28",
           "type": "scatter",
           "x": [
            1,
            2,
            3,
            4,
            5,
            6,
            7,
            8,
            9,
            10,
            11,
            12,
            13,
            14,
            15,
            16,
            17,
            18,
            19,
            20,
            21,
            22,
            23,
            24,
            25,
            26
           ],
           "y": {
            "bdata": "AAAAAAAAAAAAAAAAAAAAAAAAAAAAAAAAAAI=",
            "dtype": "i1"
           }
          },
          {
           "mode": "lines+markers",
           "name": "user_29",
           "type": "scatter",
           "x": [
            1,
            2,
            3,
            4,
            5,
            6,
            7,
            8,
            9,
            10,
            11,
            12,
            13,
            14,
            15,
            16,
            17,
            18,
            19,
            20,
            21,
            22,
            23,
            24,
            25,
            26
           ],
           "y": {
            "bdata": "AAAAAAAAAAAAAAAAAAAAAAAAAAAAAAAABRI=",
            "dtype": "i1"
           }
          },
          {
           "mode": "lines+markers",
           "name": "user_3",
           "type": "scatter",
           "x": [
            1,
            2,
            3,
            4,
            5,
            6,
            7,
            8,
            9,
            10,
            11,
            12,
            13,
            14,
            15,
            16,
            17,
            18,
            19,
            20,
            21,
            22,
            23,
            24,
            25,
            26
           ],
           "y": {
            "bdata": "AAAAAAAAAAAAAAAAAAAAAAAAAAABHB0fNjg=",
            "dtype": "i1"
           }
          },
          {
           "mode": "lines+markers",
           "name": "user_30",
           "type": "scatter",
           "x": [
            1,
            2,
            3,
            4,
            5,
            6,
            7,
            8,
            9,
            10,
            11,
            12,
            13,
            14,
            15,
            16,
            17,
            18,
            19,
            20,
            21,
            22,
            23,
            24,
            25,
            26
           ],
           "y": {
            "bdata": "AAAAAAABAgAAAAAAAAAAAAQFAAAMAAARAAA=",
            "dtype": "i1"
           }
          },
          {
           "mode": "lines+markers",
           "name": "user_31",
           "type": "scatter",
           "x": [
            1,
            2,
            3,
            4,
            5,
            6,
            7,
            8,
            9,
            10,
            11,
            12,
            13,
            14,
            15,
            16,
            17,
            18,
            19,
            20,
            21,
            22,
            23,
            24,
            25,
            26
           ],
           "y": {
            "bdata": "AAAAAAAAAAAAAAAAAAAAAAAAAAABAAQABgA=",
            "dtype": "i1"
           }
          },
          {
           "mode": "lines+markers",
           "name": "user_4",
           "type": "scatter",
           "x": [
            1,
            2,
            3,
            4,
            5,
            6,
            7,
            8,
            9,
            10,
            11,
            12,
            13,
            14,
            15,
            16,
            17,
            18,
            19,
            20,
            21,
            22,
            23,
            24,
            25,
            26
           ],
           "y": {
            "bdata": "BwALAAAAFBsAAAAAAAAAACMwNQBHUwAAV30=",
            "dtype": "i1"
           }
          },
          {
           "mode": "lines+markers",
           "name": "user_6",
           "type": "scatter",
           "x": [
            1,
            2,
            3,
            4,
            5,
            6,
            7,
            8,
            9,
            10,
            11,
            12,
            13,
            14,
            15,
            16,
            17,
            18,
            19,
            20,
            21,
            22,
            23,
            24,
            25,
            26
           ],
           "y": {
            "bdata": "AAAAAAAAAAAAAAAAAAAAAAAAAAAAAAAAAAA=",
            "dtype": "i1"
           }
          },
          {
           "mode": "lines+markers",
           "name": "user_8",
           "type": "scatter",
           "x": [
            1,
            2,
            3,
            4,
            5,
            6,
            7,
            8,
            9,
            10,
            11,
            12,
            13,
            14,
            15,
            16,
            17,
            18,
            19,
            20,
            21,
            22,
            23,
            24,
            25,
            26
           ],
           "y": {
            "bdata": "AAAAAAAAAAAAAAAAAAAAAAAAAAAAAAAAAAA=",
            "dtype": "i1"
           }
          }
         ],
         "name": "25"
        },
        {
         "data": [
          {
           "mode": "lines+markers",
           "name": "user_1",
           "type": "scatter",
           "x": [
            1,
            2,
            3,
            4,
            5,
            6,
            7,
            8,
            9,
            10,
            11,
            12,
            13,
            14,
            15,
            16,
            17,
            18,
            19,
            20,
            21,
            22,
            23,
            24,
            25,
            26,
            27
           ],
           "y": {
            "bdata": "AAAAAAAAAAAAAAAAAAAAAAAAAAAAAAAAAAAA",
            "dtype": "i1"
           }
          },
          {
           "mode": "lines+markers",
           "name": "user_10",
           "type": "scatter",
           "x": [
            1,
            2,
            3,
            4,
            5,
            6,
            7,
            8,
            9,
            10,
            11,
            12,
            13,
            14,
            15,
            16,
            17,
            18,
            19,
            20,
            21,
            22,
            23,
            24,
            25,
            26,
            27
           ],
           "y": {
            "bdata": "AAAAAAAAAAAAAAAAAAAAAAAAAAAAAAAAAAcV",
            "dtype": "i1"
           }
          },
          {
           "mode": "lines+markers",
           "name": "user_11",
           "type": "scatter",
           "x": [
            1,
            2,
            3,
            4,
            5,
            6,
            7,
            8,
            9,
            10,
            11,
            12,
            13,
            14,
            15,
            16,
            17,
            18,
            19,
            20,
            21,
            22,
            23,
            24,
            25,
            26,
            27
           ],
           "y": {
            "bdata": "AAAAAAAAAAAAAAAAAAAAAAEAAAAAAAAAAAAA",
            "dtype": "i1"
           }
          },
          {
           "mode": "lines+markers",
           "name": "user_12",
           "type": "scatter",
           "x": [
            1,
            2,
            3,
            4,
            5,
            6,
            7,
            8,
            9,
            10,
            11,
            12,
            13,
            14,
            15,
            16,
            17,
            18,
            19,
            20,
            21,
            22,
            23,
            24,
            25,
            26,
            27
           ],
           "y": {
            "bdata": "AAAAAAAAAAAAAAAAAAAAAAAAAAAAAAAAAAAA",
            "dtype": "i1"
           }
          },
          {
           "mode": "lines+markers",
           "name": "user_13",
           "type": "scatter",
           "x": [
            1,
            2,
            3,
            4,
            5,
            6,
            7,
            8,
            9,
            10,
            11,
            12,
            13,
            14,
            15,
            16,
            17,
            18,
            19,
            20,
            21,
            22,
            23,
            24,
            25,
            26,
            27
           ],
           "y": {
            "bdata": "AAAAAAAAAAAAAAAAAAAAAAAAAAAAAAAAAh4A",
            "dtype": "i1"
           }
          },
          {
           "mode": "lines+markers",
           "name": "user_14",
           "type": "scatter",
           "x": [
            1,
            2,
            3,
            4,
            5,
            6,
            7,
            8,
            9,
            10,
            11,
            12,
            13,
            14,
            15,
            16,
            17,
            18,
            19,
            20,
            21,
            22,
            23,
            24,
            25,
            26,
            27
           ],
           "y": {
            "bdata": "AAAAAAAAAAAAAAAAAAAAAAAAAQAAABIZMVwA",
            "dtype": "i1"
           }
          },
          {
           "mode": "lines+markers",
           "name": "user_15",
           "type": "scatter",
           "x": [
            1,
            2,
            3,
            4,
            5,
            6,
            7,
            8,
            9,
            10,
            11,
            12,
            13,
            14,
            15,
            16,
            17,
            18,
            19,
            20,
            21,
            22,
            23,
            24,
            25,
            26,
            27
           ],
           "y": {
            "bdata": "AAAAAAAAAAAAAAAAAAAAAAAAAAAAAAAAAAAA",
            "dtype": "i1"
           }
          },
          {
           "mode": "lines+markers",
           "name": "user_16",
           "type": "scatter",
           "x": [
            1,
            2,
            3,
            4,
            5,
            6,
            7,
            8,
            9,
            10,
            11,
            12,
            13,
            14,
            15,
            16,
            17,
            18,
            19,
            20,
            21,
            22,
            23,
            24,
            25,
            26,
            27
           ],
           "y": {
            "bdata": "AAAAAAAAAAAAAAAAAAAAAAAAAAAAAAAAAAMA",
            "dtype": "i1"
           }
          },
          {
           "mode": "lines+markers",
           "name": "user_17",
           "type": "scatter",
           "x": [
            1,
            2,
            3,
            4,
            5,
            6,
            7,
            8,
            9,
            10,
            11,
            12,
            13,
            14,
            15,
            16,
            17,
            18,
            19,
            20,
            21,
            22,
            23,
            24,
            25,
            26,
            27
           ],
           "y": {
            "bdata": "AAEAAAAAAAAAAAAAAAAAAAAAAAAAAAAAAAMA",
            "dtype": "i1"
           }
          },
          {
           "mode": "lines+markers",
           "name": "user_18",
           "type": "scatter",
           "x": [
            1,
            2,
            3,
            4,
            5,
            6,
            7,
            8,
            9,
            10,
            11,
            12,
            13,
            14,
            15,
            16,
            17,
            18,
            19,
            20,
            21,
            22,
            23,
            24,
            25,
            26,
            27
           ],
           "y": {
            "bdata": "AAAAAAAAAAAAAAAAAAAAAAAAAAAAAAAABwAI",
            "dtype": "i1"
           }
          },
          {
           "mode": "lines+markers",
           "name": "user_19",
           "type": "scatter",
           "x": [
            1,
            2,
            3,
            4,
            5,
            6,
            7,
            8,
            9,
            10,
            11,
            12,
            13,
            14,
            15,
            16,
            17,
            18,
            19,
            20,
            21,
            22,
            23,
            24,
            25,
            26,
            27
           ],
           "y": {
            "bdata": "AAAAAAAAAAAAAAAAAAAAAAAAAAAAAAAAAAAA",
            "dtype": "i1"
           }
          },
          {
           "mode": "lines+markers",
           "name": "user_2",
           "type": "scatter",
           "x": [
            1,
            2,
            3,
            4,
            5,
            6,
            7,
            8,
            9,
            10,
            11,
            12,
            13,
            14,
            15,
            16,
            17,
            18,
            19,
            20,
            21,
            22,
            23,
            24,
            25,
            26,
            27
           ],
           "y": {
            "bdata": "AAAAAAAAAAAAAAAAAAAAAAAAOToAAAA+Sk5d",
            "dtype": "i1"
           }
          },
          {
           "mode": "lines+markers",
           "name": "user_20",
           "type": "scatter",
           "x": [
            1,
            2,
            3,
            4,
            5,
            6,
            7,
            8,
            9,
            10,
            11,
            12,
            13,
            14,
            15,
            16,
            17,
            18,
            19,
            20,
            21,
            22,
            23,
            24,
            25,
            26,
            27
           ],
           "y": {
            "bdata": "AAAAAAAAAAAAAAAAAAAAAAAAAAAAAAAACwAA",
            "dtype": "i1"
           }
          },
          {
           "mode": "lines+markers",
           "name": "user_21",
           "type": "scatter",
           "x": [
            1,
            2,
            3,
            4,
            5,
            6,
            7,
            8,
            9,
            10,
            11,
            12,
            13,
            14,
            15,
            16,
            17,
            18,
            19,
            20,
            21,
            22,
            23,
            24,
            25,
            26,
            27
           ],
           "y": {
            "bdata": "AAAAAAAAAAAAAAAAAAAAAAAAAAAAAAAHAAAA",
            "dtype": "i1"
           }
          },
          {
           "mode": "lines+markers",
           "name": "user_22",
           "type": "scatter",
           "x": [
            1,
            2,
            3,
            4,
            5,
            6,
            7,
            8,
            9,
            10,
            11,
            12,
            13,
            14,
            15,
            16,
            17,
            18,
            19,
            20,
            21,
            22,
            23,
            24,
            25,
            26,
            27
           ],
           "y": {
            "bdata": "AAAAAAAAAAAAAAAAAAAAAAEAAAAAAAAAAAAA",
            "dtype": "i1"
           }
          },
          {
           "mode": "lines+markers",
           "name": "user_24",
           "type": "scatter",
           "x": [
            1,
            2,
            3,
            4,
            5,
            6,
            7,
            8,
            9,
            10,
            11,
            12,
            13,
            14,
            15,
            16,
            17,
            18,
            19,
            20,
            21,
            22,
            23,
            24,
            25,
            26,
            27
           ],
           "y": {
            "bdata": "AAAAAAAAAAAAAAAAAAAAAAAAAAAAAAAAAAAJ",
            "dtype": "i1"
           }
          },
          {
           "mode": "lines+markers",
           "name": "user_25",
           "type": "scatter",
           "x": [
            1,
            2,
            3,
            4,
            5,
            6,
            7,
            8,
            9,
            10,
            11,
            12,
            13,
            14,
            15,
            16,
            17,
            18,
            19,
            20,
            21,
            22,
            23,
            24,
            25,
            26,
            27
           ],
           "y": {
            "bdata": "AAAAAAAAAAAAAAAAAAAAAAAAAAAABRsdITY5",
            "dtype": "i1"
           }
          },
          {
           "mode": "lines+markers",
           "name": "user_26",
           "type": "scatter",
           "x": [
            1,
            2,
            3,
            4,
            5,
            6,
            7,
            8,
            9,
            10,
            11,
            12,
            13,
            14,
            15,
            16,
            17,
            18,
            19,
            20,
            21,
            22,
            23,
            24,
            25,
            26,
            27
           ],
           "y": {
            "bdata": "AAAAAAAAAAAAAAAAAAAAAAAAAAAAAAAjAAA0",
            "dtype": "i1"
           }
          },
          {
           "mode": "lines+markers",
           "name": "user_27",
           "type": "scatter",
           "x": [
            1,
            2,
            3,
            4,
            5,
            6,
            7,
            8,
            9,
            10,
            11,
            12,
            13,
            14,
            15,
            16,
            17,
            18,
            19,
            20,
            21,
            22,
            23,
            24,
            25,
            26,
            27
           ],
           "y": {
            "bdata": "AAAAAAAAAAAAAAAAAAAAAAAAAAAAAAAAAAAA",
            "dtype": "i1"
           }
          },
          {
           "mode": "lines+markers",
           "name": "user_28",
           "type": "scatter",
           "x": [
            1,
            2,
            3,
            4,
            5,
            6,
            7,
            8,
            9,
            10,
            11,
            12,
            13,
            14,
            15,
            16,
            17,
            18,
            19,
            20,
            21,
            22,
            23,
            24,
            25,
            26,
            27
           ],
           "y": {
            "bdata": "AAAAAAAAAAAAAAAAAAAAAAAAAAAAAAAAAAIU",
            "dtype": "i1"
           }
          },
          {
           "mode": "lines+markers",
           "name": "user_29",
           "type": "scatter",
           "x": [
            1,
            2,
            3,
            4,
            5,
            6,
            7,
            8,
            9,
            10,
            11,
            12,
            13,
            14,
            15,
            16,
            17,
            18,
            19,
            20,
            21,
            22,
            23,
            24,
            25,
            26,
            27
           ],
           "y": {
            "bdata": "AAAAAAAAAAAAAAAAAAAAAAAAAAAAAAAABRIi",
            "dtype": "i1"
           }
          },
          {
           "mode": "lines+markers",
           "name": "user_3",
           "type": "scatter",
           "x": [
            1,
            2,
            3,
            4,
            5,
            6,
            7,
            8,
            9,
            10,
            11,
            12,
            13,
            14,
            15,
            16,
            17,
            18,
            19,
            20,
            21,
            22,
            23,
            24,
            25,
            26,
            27
           ],
           "y": {
            "bdata": "AAAAAAAAAAAAAAAAAAAAAAAAAAABHB0fNjgA",
            "dtype": "i1"
           }
          },
          {
           "mode": "lines+markers",
           "name": "user_30",
           "type": "scatter",
           "x": [
            1,
            2,
            3,
            4,
            5,
            6,
            7,
            8,
            9,
            10,
            11,
            12,
            13,
            14,
            15,
            16,
            17,
            18,
            19,
            20,
            21,
            22,
            23,
            24,
            25,
            26,
            27
           ],
           "y": {
            "bdata": "AAAAAAABAgAAAAAAAAAAAAQFAAAMAAARAAAA",
            "dtype": "i1"
           }
          },
          {
           "mode": "lines+markers",
           "name": "user_31",
           "type": "scatter",
           "x": [
            1,
            2,
            3,
            4,
            5,
            6,
            7,
            8,
            9,
            10,
            11,
            12,
            13,
            14,
            15,
            16,
            17,
            18,
            19,
            20,
            21,
            22,
            23,
            24,
            25,
            26,
            27
           ],
           "y": {
            "bdata": "AAAAAAAAAAAAAAAAAAAAAAAAAAABAAQABgAA",
            "dtype": "i1"
           }
          },
          {
           "mode": "lines+markers",
           "name": "user_4",
           "type": "scatter",
           "x": [
            1,
            2,
            3,
            4,
            5,
            6,
            7,
            8,
            9,
            10,
            11,
            12,
            13,
            14,
            15,
            16,
            17,
            18,
            19,
            20,
            21,
            22,
            23,
            24,
            25,
            26,
            27
           ],
           "y": {
            "bdata": "BwAAAAsAAAAAAAAAFAAbAAAAAAAAAAAAAAAAAAAAAAAjADAANQAAAEcAUwAAAAAAVwB9AIkA",
            "dtype": "i2"
           }
          },
          {
           "mode": "lines+markers",
           "name": "user_6",
           "type": "scatter",
           "x": [
            1,
            2,
            3,
            4,
            5,
            6,
            7,
            8,
            9,
            10,
            11,
            12,
            13,
            14,
            15,
            16,
            17,
            18,
            19,
            20,
            21,
            22,
            23,
            24,
            25,
            26,
            27
           ],
           "y": {
            "bdata": "AAAAAAAAAAAAAAAAAAAAAAAAAAAAAAAAAAAB",
            "dtype": "i1"
           }
          },
          {
           "mode": "lines+markers",
           "name": "user_8",
           "type": "scatter",
           "x": [
            1,
            2,
            3,
            4,
            5,
            6,
            7,
            8,
            9,
            10,
            11,
            12,
            13,
            14,
            15,
            16,
            17,
            18,
            19,
            20,
            21,
            22,
            23,
            24,
            25,
            26,
            27
           ],
           "y": {
            "bdata": "AAAAAAAAAAAAAAAAAAAAAAAAAAAAAAAAAAAA",
            "dtype": "i1"
           }
          }
         ],
         "name": "26"
        },
        {
         "data": [
          {
           "mode": "lines+markers",
           "name": "user_1",
           "type": "scatter",
           "x": [
            1,
            2,
            3,
            4,
            5,
            6,
            7,
            8,
            9,
            10,
            11,
            12,
            13,
            14,
            15,
            16,
            17,
            18,
            19,
            20,
            21,
            22,
            23,
            24,
            25,
            26,
            27,
            28
           ],
           "y": {
            "bdata": "AAAAAAAAAAAAAAAAAAAAAAAAAAAAAAAAAAAACw==",
            "dtype": "i1"
           }
          },
          {
           "mode": "lines+markers",
           "name": "user_10",
           "type": "scatter",
           "x": [
            1,
            2,
            3,
            4,
            5,
            6,
            7,
            8,
            9,
            10,
            11,
            12,
            13,
            14,
            15,
            16,
            17,
            18,
            19,
            20,
            21,
            22,
            23,
            24,
            25,
            26,
            27,
            28
           ],
           "y": {
            "bdata": "AAAAAAAAAAAAAAAAAAAAAAAAAAAAAAAAAAcVOw==",
            "dtype": "i1"
           }
          },
          {
           "mode": "lines+markers",
           "name": "user_11",
           "type": "scatter",
           "x": [
            1,
            2,
            3,
            4,
            5,
            6,
            7,
            8,
            9,
            10,
            11,
            12,
            13,
            14,
            15,
            16,
            17,
            18,
            19,
            20,
            21,
            22,
            23,
            24,
            25,
            26,
            27,
            28
           ],
           "y": {
            "bdata": "AAAAAAAAAAAAAAAAAAAAAAEAAAAAAAAAAAAAAA==",
            "dtype": "i1"
           }
          },
          {
           "mode": "lines+markers",
           "name": "user_12",
           "type": "scatter",
           "x": [
            1,
            2,
            3,
            4,
            5,
            6,
            7,
            8,
            9,
            10,
            11,
            12,
            13,
            14,
            15,
            16,
            17,
            18,
            19,
            20,
            21,
            22,
            23,
            24,
            25,
            26,
            27,
            28
           ],
           "y": {
            "bdata": "AAAAAAAAAAAAAAAAAAAAAAAAAAAAAAAAAAAABA==",
            "dtype": "i1"
           }
          },
          {
           "mode": "lines+markers",
           "name": "user_13",
           "type": "scatter",
           "x": [
            1,
            2,
            3,
            4,
            5,
            6,
            7,
            8,
            9,
            10,
            11,
            12,
            13,
            14,
            15,
            16,
            17,
            18,
            19,
            20,
            21,
            22,
            23,
            24,
            25,
            26,
            27,
            28
           ],
           "y": {
            "bdata": "AAAAAAAAAAAAAAAAAAAAAAAAAAAAAAAAAh4AIA==",
            "dtype": "i1"
           }
          },
          {
           "mode": "lines+markers",
           "name": "user_14",
           "type": "scatter",
           "x": [
            1,
            2,
            3,
            4,
            5,
            6,
            7,
            8,
            9,
            10,
            11,
            12,
            13,
            14,
            15,
            16,
            17,
            18,
            19,
            20,
            21,
            22,
            23,
            24,
            25,
            26,
            27,
            28
           ],
           "y": {
            "bdata": "AAAAAAAAAAAAAAAAAAAAAAAAAQAAABIZMVwAYw==",
            "dtype": "i1"
           }
          },
          {
           "mode": "lines+markers",
           "name": "user_15",
           "type": "scatter",
           "x": [
            1,
            2,
            3,
            4,
            5,
            6,
            7,
            8,
            9,
            10,
            11,
            12,
            13,
            14,
            15,
            16,
            17,
            18,
            19,
            20,
            21,
            22,
            23,
            24,
            25,
            26,
            27,
            28
           ],
           "y": {
            "bdata": "AAAAAAAAAAAAAAAAAAAAAAAAAAAAAAAAAAAAAw==",
            "dtype": "i1"
           }
          },
          {
           "mode": "lines+markers",
           "name": "user_16",
           "type": "scatter",
           "x": [
            1,
            2,
            3,
            4,
            5,
            6,
            7,
            8,
            9,
            10,
            11,
            12,
            13,
            14,
            15,
            16,
            17,
            18,
            19,
            20,
            21,
            22,
            23,
            24,
            25,
            26,
            27,
            28
           ],
           "y": {
            "bdata": "AAAAAAAAAAAAAAAAAAAAAAAAAAAAAAAAAAMACg==",
            "dtype": "i1"
           }
          },
          {
           "mode": "lines+markers",
           "name": "user_17",
           "type": "scatter",
           "x": [
            1,
            2,
            3,
            4,
            5,
            6,
            7,
            8,
            9,
            10,
            11,
            12,
            13,
            14,
            15,
            16,
            17,
            18,
            19,
            20,
            21,
            22,
            23,
            24,
            25,
            26,
            27,
            28
           ],
           "y": {
            "bdata": "AAEAAAAAAAAAAAAAAAAAAAAAAAAAAAAAAAMABg==",
            "dtype": "i1"
           }
          },
          {
           "mode": "lines+markers",
           "name": "user_18",
           "type": "scatter",
           "x": [
            1,
            2,
            3,
            4,
            5,
            6,
            7,
            8,
            9,
            10,
            11,
            12,
            13,
            14,
            15,
            16,
            17,
            18,
            19,
            20,
            21,
            22,
            23,
            24,
            25,
            26,
            27,
            28
           ],
           "y": {
            "bdata": "AAAAAAAAAAAAAAAAAAAAAAAAAAAAAAAABwAIHw==",
            "dtype": "i1"
           }
          },
          {
           "mode": "lines+markers",
           "name": "user_19",
           "type": "scatter",
           "x": [
            1,
            2,
            3,
            4,
            5,
            6,
            7,
            8,
            9,
            10,
            11,
            12,
            13,
            14,
            15,
            16,
            17,
            18,
            19,
            20,
            21,
            22,
            23,
            24,
            25,
            26,
            27,
            28
           ],
           "y": {
            "bdata": "AAAAAAAAAAAAAAAAAAAAAAAAAAAAAAAAAAAAGQ==",
            "dtype": "i1"
           }
          },
          {
           "mode": "lines+markers",
           "name": "user_2",
           "type": "scatter",
           "x": [
            1,
            2,
            3,
            4,
            5,
            6,
            7,
            8,
            9,
            10,
            11,
            12,
            13,
            14,
            15,
            16,
            17,
            18,
            19,
            20,
            21,
            22,
            23,
            24,
            25,
            26,
            27,
            28
           ],
           "y": {
            "bdata": "AAAAAAAAAAAAAAAAAAAAAAAAOToAAAA+Sk5dXw==",
            "dtype": "i1"
           }
          },
          {
           "mode": "lines+markers",
           "name": "user_20",
           "type": "scatter",
           "x": [
            1,
            2,
            3,
            4,
            5,
            6,
            7,
            8,
            9,
            10,
            11,
            12,
            13,
            14,
            15,
            16,
            17,
            18,
            19,
            20,
            21,
            22,
            23,
            24,
            25,
            26,
            27,
            28
           ],
           "y": {
            "bdata": "AAAAAAAAAAAAAAAAAAAAAAAAAAAAAAAACwAANg==",
            "dtype": "i1"
           }
          },
          {
           "mode": "lines+markers",
           "name": "user_21",
           "type": "scatter",
           "x": [
            1,
            2,
            3,
            4,
            5,
            6,
            7,
            8,
            9,
            10,
            11,
            12,
            13,
            14,
            15,
            16,
            17,
            18,
            19,
            20,
            21,
            22,
            23,
            24,
            25,
            26,
            27,
            28
           ],
           "y": {
            "bdata": "AAAAAAAAAAAAAAAAAAAAAAAAAAAAAAAHAAAACQ==",
            "dtype": "i1"
           }
          },
          {
           "mode": "lines+markers",
           "name": "user_22",
           "type": "scatter",
           "x": [
            1,
            2,
            3,
            4,
            5,
            6,
            7,
            8,
            9,
            10,
            11,
            12,
            13,
            14,
            15,
            16,
            17,
            18,
            19,
            20,
            21,
            22,
            23,
            24,
            25,
            26,
            27,
            28
           ],
           "y": {
            "bdata": "AAAAAAAAAAAAAAAAAAAAAAEAAAAAAAAAAAAAAg==",
            "dtype": "i1"
           }
          },
          {
           "mode": "lines+markers",
           "name": "user_24",
           "type": "scatter",
           "x": [
            1,
            2,
            3,
            4,
            5,
            6,
            7,
            8,
            9,
            10,
            11,
            12,
            13,
            14,
            15,
            16,
            17,
            18,
            19,
            20,
            21,
            22,
            23,
            24,
            25,
            26,
            27,
            28
           ],
           "y": {
            "bdata": "AAAAAAAAAAAAAAAAAAAAAAAAAAAAAAAAAAAJIg==",
            "dtype": "i1"
           }
          },
          {
           "mode": "lines+markers",
           "name": "user_25",
           "type": "scatter",
           "x": [
            1,
            2,
            3,
            4,
            5,
            6,
            7,
            8,
            9,
            10,
            11,
            12,
            13,
            14,
            15,
            16,
            17,
            18,
            19,
            20,
            21,
            22,
            23,
            24,
            25,
            26,
            27,
            28
           ],
           "y": {
            "bdata": "AAAAAAAAAAAAAAAAAAAAAAAAAAAABRsdITY5TQ==",
            "dtype": "i1"
           }
          },
          {
           "mode": "lines+markers",
           "name": "user_26",
           "type": "scatter",
           "x": [
            1,
            2,
            3,
            4,
            5,
            6,
            7,
            8,
            9,
            10,
            11,
            12,
            13,
            14,
            15,
            16,
            17,
            18,
            19,
            20,
            21,
            22,
            23,
            24,
            25,
            26,
            27,
            28
           ],
           "y": {
            "bdata": "AAAAAAAAAAAAAAAAAAAAAAAAAAAAAAAjAAA0Qw==",
            "dtype": "i1"
           }
          },
          {
           "mode": "lines+markers",
           "name": "user_27",
           "type": "scatter",
           "x": [
            1,
            2,
            3,
            4,
            5,
            6,
            7,
            8,
            9,
            10,
            11,
            12,
            13,
            14,
            15,
            16,
            17,
            18,
            19,
            20,
            21,
            22,
            23,
            24,
            25,
            26,
            27,
            28
           ],
           "y": {
            "bdata": "AAAAAAAAAAAAAAAAAAAAAAAAAAAAAAAAAAAACA==",
            "dtype": "i1"
           }
          },
          {
           "mode": "lines+markers",
           "name": "user_28",
           "type": "scatter",
           "x": [
            1,
            2,
            3,
            4,
            5,
            6,
            7,
            8,
            9,
            10,
            11,
            12,
            13,
            14,
            15,
            16,
            17,
            18,
            19,
            20,
            21,
            22,
            23,
            24,
            25,
            26,
            27,
            28
           ],
           "y": {
            "bdata": "AAAAAAAAAAAAAAAAAAAAAAAAAAAAAAAAAAIUGg==",
            "dtype": "i1"
           }
          },
          {
           "mode": "lines+markers",
           "name": "user_29",
           "type": "scatter",
           "x": [
            1,
            2,
            3,
            4,
            5,
            6,
            7,
            8,
            9,
            10,
            11,
            12,
            13,
            14,
            15,
            16,
            17,
            18,
            19,
            20,
            21,
            22,
            23,
            24,
            25,
            26,
            27,
            28
           ],
           "y": {
            "bdata": "AAAAAAAAAAAAAAAAAAAAAAAAAAAAAAAABRIiIw==",
            "dtype": "i1"
           }
          },
          {
           "mode": "lines+markers",
           "name": "user_3",
           "type": "scatter",
           "x": [
            1,
            2,
            3,
            4,
            5,
            6,
            7,
            8,
            9,
            10,
            11,
            12,
            13,
            14,
            15,
            16,
            17,
            18,
            19,
            20,
            21,
            22,
            23,
            24,
            25,
            26,
            27,
            28
           ],
           "y": {
            "bdata": "AAAAAAAAAAAAAAAAAAAAAAAAAAABHB0fNjgAOg==",
            "dtype": "i1"
           }
          },
          {
           "mode": "lines+markers",
           "name": "user_30",
           "type": "scatter",
           "x": [
            1,
            2,
            3,
            4,
            5,
            6,
            7,
            8,
            9,
            10,
            11,
            12,
            13,
            14,
            15,
            16,
            17,
            18,
            19,
            20,
            21,
            22,
            23,
            24,
            25,
            26,
            27,
            28
           ],
           "y": {
            "bdata": "AAAAAAABAgAAAAAAAAAAAAQFAAAMAAARAAAAEw==",
            "dtype": "i1"
           }
          },
          {
           "mode": "lines+markers",
           "name": "user_31",
           "type": "scatter",
           "x": [
            1,
            2,
            3,
            4,
            5,
            6,
            7,
            8,
            9,
            10,
            11,
            12,
            13,
            14,
            15,
            16,
            17,
            18,
            19,
            20,
            21,
            22,
            23,
            24,
            25,
            26,
            27,
            28
           ],
           "y": {
            "bdata": "AAAAAAAAAAAAAAAAAAAAAAAAAAABAAQABgAACA==",
            "dtype": "i1"
           }
          },
          {
           "mode": "lines+markers",
           "name": "user_4",
           "type": "scatter",
           "x": [
            1,
            2,
            3,
            4,
            5,
            6,
            7,
            8,
            9,
            10,
            11,
            12,
            13,
            14,
            15,
            16,
            17,
            18,
            19,
            20,
            21,
            22,
            23,
            24,
            25,
            26,
            27,
            28
           ],
           "y": {
            "bdata": "BwAAAAsAAAAAAAAAFAAbAAAAAAAAAAAAAAAAAAAAAAAjADAANQAAAEcAUwAAAAAAVwB9AIkApAA=",
            "dtype": "i2"
           }
          },
          {
           "mode": "lines+markers",
           "name": "user_6",
           "type": "scatter",
           "x": [
            1,
            2,
            3,
            4,
            5,
            6,
            7,
            8,
            9,
            10,
            11,
            12,
            13,
            14,
            15,
            16,
            17,
            18,
            19,
            20,
            21,
            22,
            23,
            24,
            25,
            26,
            27,
            28
           ],
           "y": {
            "bdata": "AAAAAAAAAAAAAAAAAAAAAAAAAAAAAAAAAAABAg==",
            "dtype": "i1"
           }
          },
          {
           "mode": "lines+markers",
           "name": "user_8",
           "type": "scatter",
           "x": [
            1,
            2,
            3,
            4,
            5,
            6,
            7,
            8,
            9,
            10,
            11,
            12,
            13,
            14,
            15,
            16,
            17,
            18,
            19,
            20,
            21,
            22,
            23,
            24,
            25,
            26,
            27,
            28
           ],
           "y": {
            "bdata": "AAAAAAAAAAAAAAAAAAAAAAAAAAAAAAAAAAAACA==",
            "dtype": "i1"
           }
          }
         ],
         "name": "27"
        },
        {
         "data": [
          {
           "mode": "lines+markers",
           "name": "user_1",
           "type": "scatter",
           "x": [
            1,
            2,
            3,
            4,
            5,
            6,
            7,
            8,
            9,
            10,
            11,
            12,
            13,
            14,
            15,
            16,
            17,
            18,
            19,
            20,
            21,
            22,
            23,
            24,
            25,
            26,
            27,
            28,
            29
           ],
           "y": {
            "bdata": "AAAAAAAAAAAAAAAAAAAAAAAAAAAAAAAAAAAACwA=",
            "dtype": "i1"
           }
          },
          {
           "mode": "lines+markers",
           "name": "user_10",
           "type": "scatter",
           "x": [
            1,
            2,
            3,
            4,
            5,
            6,
            7,
            8,
            9,
            10,
            11,
            12,
            13,
            14,
            15,
            16,
            17,
            18,
            19,
            20,
            21,
            22,
            23,
            24,
            25,
            26,
            27,
            28,
            29
           ],
           "y": {
            "bdata": "AAAAAAAAAAAAAAAAAAAAAAAAAAAAAAAAAAcVOwA=",
            "dtype": "i1"
           }
          },
          {
           "mode": "lines+markers",
           "name": "user_11",
           "type": "scatter",
           "x": [
            1,
            2,
            3,
            4,
            5,
            6,
            7,
            8,
            9,
            10,
            11,
            12,
            13,
            14,
            15,
            16,
            17,
            18,
            19,
            20,
            21,
            22,
            23,
            24,
            25,
            26,
            27,
            28,
            29
           ],
           "y": {
            "bdata": "AAAAAAAAAAAAAAAAAAAAAAEAAAAAAAAAAAAAAAA=",
            "dtype": "i1"
           }
          },
          {
           "mode": "lines+markers",
           "name": "user_12",
           "type": "scatter",
           "x": [
            1,
            2,
            3,
            4,
            5,
            6,
            7,
            8,
            9,
            10,
            11,
            12,
            13,
            14,
            15,
            16,
            17,
            18,
            19,
            20,
            21,
            22,
            23,
            24,
            25,
            26,
            27,
            28,
            29
           ],
           "y": {
            "bdata": "AAAAAAAAAAAAAAAAAAAAAAAAAAAAAAAAAAAABAA=",
            "dtype": "i1"
           }
          },
          {
           "mode": "lines+markers",
           "name": "user_13",
           "type": "scatter",
           "x": [
            1,
            2,
            3,
            4,
            5,
            6,
            7,
            8,
            9,
            10,
            11,
            12,
            13,
            14,
            15,
            16,
            17,
            18,
            19,
            20,
            21,
            22,
            23,
            24,
            25,
            26,
            27,
            28,
            29
           ],
           "y": {
            "bdata": "AAAAAAAAAAAAAAAAAAAAAAAAAAAAAAAAAh4AIAA=",
            "dtype": "i1"
           }
          },
          {
           "mode": "lines+markers",
           "name": "user_14",
           "type": "scatter",
           "x": [
            1,
            2,
            3,
            4,
            5,
            6,
            7,
            8,
            9,
            10,
            11,
            12,
            13,
            14,
            15,
            16,
            17,
            18,
            19,
            20,
            21,
            22,
            23,
            24,
            25,
            26,
            27,
            28,
            29
           ],
           "y": {
            "bdata": "AAAAAAAAAAAAAAAAAAAAAAAAAQAAABIZMVwAYwA=",
            "dtype": "i1"
           }
          },
          {
           "mode": "lines+markers",
           "name": "user_15",
           "type": "scatter",
           "x": [
            1,
            2,
            3,
            4,
            5,
            6,
            7,
            8,
            9,
            10,
            11,
            12,
            13,
            14,
            15,
            16,
            17,
            18,
            19,
            20,
            21,
            22,
            23,
            24,
            25,
            26,
            27,
            28,
            29
           ],
           "y": {
            "bdata": "AAAAAAAAAAAAAAAAAAAAAAAAAAAAAAAAAAAAAwA=",
            "dtype": "i1"
           }
          },
          {
           "mode": "lines+markers",
           "name": "user_16",
           "type": "scatter",
           "x": [
            1,
            2,
            3,
            4,
            5,
            6,
            7,
            8,
            9,
            10,
            11,
            12,
            13,
            14,
            15,
            16,
            17,
            18,
            19,
            20,
            21,
            22,
            23,
            24,
            25,
            26,
            27,
            28,
            29
           ],
           "y": {
            "bdata": "AAAAAAAAAAAAAAAAAAAAAAAAAAAAAAAAAAMACgA=",
            "dtype": "i1"
           }
          },
          {
           "mode": "lines+markers",
           "name": "user_17",
           "type": "scatter",
           "x": [
            1,
            2,
            3,
            4,
            5,
            6,
            7,
            8,
            9,
            10,
            11,
            12,
            13,
            14,
            15,
            16,
            17,
            18,
            19,
            20,
            21,
            22,
            23,
            24,
            25,
            26,
            27,
            28,
            29
           ],
           "y": {
            "bdata": "AAEAAAAAAAAAAAAAAAAAAAAAAAAAAAAAAAMABgA=",
            "dtype": "i1"
           }
          },
          {
           "mode": "lines+markers",
           "name": "user_18",
           "type": "scatter",
           "x": [
            1,
            2,
            3,
            4,
            5,
            6,
            7,
            8,
            9,
            10,
            11,
            12,
            13,
            14,
            15,
            16,
            17,
            18,
            19,
            20,
            21,
            22,
            23,
            24,
            25,
            26,
            27,
            28,
            29
           ],
           "y": {
            "bdata": "AAAAAAAAAAAAAAAAAAAAAAAAAAAAAAAABwAIHwA=",
            "dtype": "i1"
           }
          },
          {
           "mode": "lines+markers",
           "name": "user_19",
           "type": "scatter",
           "x": [
            1,
            2,
            3,
            4,
            5,
            6,
            7,
            8,
            9,
            10,
            11,
            12,
            13,
            14,
            15,
            16,
            17,
            18,
            19,
            20,
            21,
            22,
            23,
            24,
            25,
            26,
            27,
            28,
            29
           ],
           "y": {
            "bdata": "AAAAAAAAAAAAAAAAAAAAAAAAAAAAAAAAAAAAGR0=",
            "dtype": "i1"
           }
          },
          {
           "mode": "lines+markers",
           "name": "user_2",
           "type": "scatter",
           "x": [
            1,
            2,
            3,
            4,
            5,
            6,
            7,
            8,
            9,
            10,
            11,
            12,
            13,
            14,
            15,
            16,
            17,
            18,
            19,
            20,
            21,
            22,
            23,
            24,
            25,
            26,
            27,
            28,
            29
           ],
           "y": {
            "bdata": "AAAAAAAAAAAAAAAAAAAAAAAAOToAAAA+Sk5dXwA=",
            "dtype": "i1"
           }
          },
          {
           "mode": "lines+markers",
           "name": "user_20",
           "type": "scatter",
           "x": [
            1,
            2,
            3,
            4,
            5,
            6,
            7,
            8,
            9,
            10,
            11,
            12,
            13,
            14,
            15,
            16,
            17,
            18,
            19,
            20,
            21,
            22,
            23,
            24,
            25,
            26,
            27,
            28,
            29
           ],
           "y": {
            "bdata": "AAAAAAAAAAAAAAAAAAAAAAAAAAAAAAAACwAANgA=",
            "dtype": "i1"
           }
          },
          {
           "mode": "lines+markers",
           "name": "user_21",
           "type": "scatter",
           "x": [
            1,
            2,
            3,
            4,
            5,
            6,
            7,
            8,
            9,
            10,
            11,
            12,
            13,
            14,
            15,
            16,
            17,
            18,
            19,
            20,
            21,
            22,
            23,
            24,
            25,
            26,
            27,
            28,
            29
           ],
           "y": {
            "bdata": "AAAAAAAAAAAAAAAAAAAAAAAAAAAAAAAHAAAACQA=",
            "dtype": "i1"
           }
          },
          {
           "mode": "lines+markers",
           "name": "user_22",
           "type": "scatter",
           "x": [
            1,
            2,
            3,
            4,
            5,
            6,
            7,
            8,
            9,
            10,
            11,
            12,
            13,
            14,
            15,
            16,
            17,
            18,
            19,
            20,
            21,
            22,
            23,
            24,
            25,
            26,
            27,
            28,
            29
           ],
           "y": {
            "bdata": "AAAAAAAAAAAAAAAAAAAAAAEAAAAAAAAAAAAAAgA=",
            "dtype": "i1"
           }
          },
          {
           "mode": "lines+markers",
           "name": "user_24",
           "type": "scatter",
           "x": [
            1,
            2,
            3,
            4,
            5,
            6,
            7,
            8,
            9,
            10,
            11,
            12,
            13,
            14,
            15,
            16,
            17,
            18,
            19,
            20,
            21,
            22,
            23,
            24,
            25,
            26,
            27,
            28,
            29
           ],
           "y": {
            "bdata": "AAAAAAAAAAAAAAAAAAAAAAAAAAAAAAAAAAAJIgA=",
            "dtype": "i1"
           }
          },
          {
           "mode": "lines+markers",
           "name": "user_25",
           "type": "scatter",
           "x": [
            1,
            2,
            3,
            4,
            5,
            6,
            7,
            8,
            9,
            10,
            11,
            12,
            13,
            14,
            15,
            16,
            17,
            18,
            19,
            20,
            21,
            22,
            23,
            24,
            25,
            26,
            27,
            28,
            29
           ],
           "y": {
            "bdata": "AAAAAAAAAAAAAAAAAAAAAAAAAAAABRsdITY5TQA=",
            "dtype": "i1"
           }
          },
          {
           "mode": "lines+markers",
           "name": "user_26",
           "type": "scatter",
           "x": [
            1,
            2,
            3,
            4,
            5,
            6,
            7,
            8,
            9,
            10,
            11,
            12,
            13,
            14,
            15,
            16,
            17,
            18,
            19,
            20,
            21,
            22,
            23,
            24,
            25,
            26,
            27,
            28,
            29
           ],
           "y": {
            "bdata": "AAAAAAAAAAAAAAAAAAAAAAAAAAAAAAAjAAA0QwA=",
            "dtype": "i1"
           }
          },
          {
           "mode": "lines+markers",
           "name": "user_27",
           "type": "scatter",
           "x": [
            1,
            2,
            3,
            4,
            5,
            6,
            7,
            8,
            9,
            10,
            11,
            12,
            13,
            14,
            15,
            16,
            17,
            18,
            19,
            20,
            21,
            22,
            23,
            24,
            25,
            26,
            27,
            28,
            29
           ],
           "y": {
            "bdata": "AAAAAAAAAAAAAAAAAAAAAAAAAAAAAAAAAAAACAA=",
            "dtype": "i1"
           }
          },
          {
           "mode": "lines+markers",
           "name": "user_28",
           "type": "scatter",
           "x": [
            1,
            2,
            3,
            4,
            5,
            6,
            7,
            8,
            9,
            10,
            11,
            12,
            13,
            14,
            15,
            16,
            17,
            18,
            19,
            20,
            21,
            22,
            23,
            24,
            25,
            26,
            27,
            28,
            29
           ],
           "y": {
            "bdata": "AAAAAAAAAAAAAAAAAAAAAAAAAAAAAAAAAAIUGhs=",
            "dtype": "i1"
           }
          },
          {
           "mode": "lines+markers",
           "name": "user_29",
           "type": "scatter",
           "x": [
            1,
            2,
            3,
            4,
            5,
            6,
            7,
            8,
            9,
            10,
            11,
            12,
            13,
            14,
            15,
            16,
            17,
            18,
            19,
            20,
            21,
            22,
            23,
            24,
            25,
            26,
            27,
            28,
            29
           ],
           "y": {
            "bdata": "AAAAAAAAAAAAAAAAAAAAAAAAAAAAAAAABRIiIwA=",
            "dtype": "i1"
           }
          },
          {
           "mode": "lines+markers",
           "name": "user_3",
           "type": "scatter",
           "x": [
            1,
            2,
            3,
            4,
            5,
            6,
            7,
            8,
            9,
            10,
            11,
            12,
            13,
            14,
            15,
            16,
            17,
            18,
            19,
            20,
            21,
            22,
            23,
            24,
            25,
            26,
            27,
            28,
            29
           ],
           "y": {
            "bdata": "AAAAAAAAAAAAAAAAAAAAAAAAAAABHB0fNjgAOgA=",
            "dtype": "i1"
           }
          },
          {
           "mode": "lines+markers",
           "name": "user_30",
           "type": "scatter",
           "x": [
            1,
            2,
            3,
            4,
            5,
            6,
            7,
            8,
            9,
            10,
            11,
            12,
            13,
            14,
            15,
            16,
            17,
            18,
            19,
            20,
            21,
            22,
            23,
            24,
            25,
            26,
            27,
            28,
            29
           ],
           "y": {
            "bdata": "AAAAAAABAgAAAAAAAAAAAAQFAAAMAAARAAAAEwA=",
            "dtype": "i1"
           }
          },
          {
           "mode": "lines+markers",
           "name": "user_31",
           "type": "scatter",
           "x": [
            1,
            2,
            3,
            4,
            5,
            6,
            7,
            8,
            9,
            10,
            11,
            12,
            13,
            14,
            15,
            16,
            17,
            18,
            19,
            20,
            21,
            22,
            23,
            24,
            25,
            26,
            27,
            28,
            29
           ],
           "y": {
            "bdata": "AAAAAAAAAAAAAAAAAAAAAAAAAAABAAQABgAACAA=",
            "dtype": "i1"
           }
          },
          {
           "mode": "lines+markers",
           "name": "user_4",
           "type": "scatter",
           "x": [
            1,
            2,
            3,
            4,
            5,
            6,
            7,
            8,
            9,
            10,
            11,
            12,
            13,
            14,
            15,
            16,
            17,
            18,
            19,
            20,
            21,
            22,
            23,
            24,
            25,
            26,
            27,
            28,
            29
           ],
           "y": {
            "bdata": "BwAAAAsAAAAAAAAAFAAbAAAAAAAAAAAAAAAAAAAAAAAjADAANQAAAEcAUwAAAAAAVwB9AIkApAAAAA==",
            "dtype": "i2"
           }
          },
          {
           "mode": "lines+markers",
           "name": "user_6",
           "type": "scatter",
           "x": [
            1,
            2,
            3,
            4,
            5,
            6,
            7,
            8,
            9,
            10,
            11,
            12,
            13,
            14,
            15,
            16,
            17,
            18,
            19,
            20,
            21,
            22,
            23,
            24,
            25,
            26,
            27,
            28,
            29
           ],
           "y": {
            "bdata": "AAAAAAAAAAAAAAAAAAAAAAAAAAAAAAAAAAABAgA=",
            "dtype": "i1"
           }
          },
          {
           "mode": "lines+markers",
           "name": "user_8",
           "type": "scatter",
           "x": [
            1,
            2,
            3,
            4,
            5,
            6,
            7,
            8,
            9,
            10,
            11,
            12,
            13,
            14,
            15,
            16,
            17,
            18,
            19,
            20,
            21,
            22,
            23,
            24,
            25,
            26,
            27,
            28,
            29
           ],
           "y": {
            "bdata": "AAAAAAAAAAAAAAAAAAAAAAAAAAAAAAAAAAAACAA=",
            "dtype": "i1"
           }
          }
         ],
         "name": "28"
        }
       ],
       "layout": {
        "showlegend": true,
        "template": {
         "data": {
          "bar": [
           {
            "error_x": {
             "color": "#2a3f5f"
            },
            "error_y": {
             "color": "#2a3f5f"
            },
            "marker": {
             "line": {
              "color": "#E5ECF6",
              "width": 0.5
             },
             "pattern": {
              "fillmode": "overlay",
              "size": 10,
              "solidity": 0.2
             }
            },
            "type": "bar"
           }
          ],
          "barpolar": [
           {
            "marker": {
             "line": {
              "color": "#E5ECF6",
              "width": 0.5
             },
             "pattern": {
              "fillmode": "overlay",
              "size": 10,
              "solidity": 0.2
             }
            },
            "type": "barpolar"
           }
          ],
          "carpet": [
           {
            "aaxis": {
             "endlinecolor": "#2a3f5f",
             "gridcolor": "white",
             "linecolor": "white",
             "minorgridcolor": "white",
             "startlinecolor": "#2a3f5f"
            },
            "baxis": {
             "endlinecolor": "#2a3f5f",
             "gridcolor": "white",
             "linecolor": "white",
             "minorgridcolor": "white",
             "startlinecolor": "#2a3f5f"
            },
            "type": "carpet"
           }
          ],
          "choropleth": [
           {
            "colorbar": {
             "outlinewidth": 0,
             "ticks": ""
            },
            "type": "choropleth"
           }
          ],
          "contour": [
           {
            "colorbar": {
             "outlinewidth": 0,
             "ticks": ""
            },
            "colorscale": [
             [
              0,
              "#0d0887"
             ],
             [
              0.1111111111111111,
              "#46039f"
             ],
             [
              0.2222222222222222,
              "#7201a8"
             ],
             [
              0.3333333333333333,
              "#9c179e"
             ],
             [
              0.4444444444444444,
              "#bd3786"
             ],
             [
              0.5555555555555556,
              "#d8576b"
             ],
             [
              0.6666666666666666,
              "#ed7953"
             ],
             [
              0.7777777777777778,
              "#fb9f3a"
             ],
             [
              0.8888888888888888,
              "#fdca26"
             ],
             [
              1,
              "#f0f921"
             ]
            ],
            "type": "contour"
           }
          ],
          "contourcarpet": [
           {
            "colorbar": {
             "outlinewidth": 0,
             "ticks": ""
            },
            "type": "contourcarpet"
           }
          ],
          "heatmap": [
           {
            "colorbar": {
             "outlinewidth": 0,
             "ticks": ""
            },
            "colorscale": [
             [
              0,
              "#0d0887"
             ],
             [
              0.1111111111111111,
              "#46039f"
             ],
             [
              0.2222222222222222,
              "#7201a8"
             ],
             [
              0.3333333333333333,
              "#9c179e"
             ],
             [
              0.4444444444444444,
              "#bd3786"
             ],
             [
              0.5555555555555556,
              "#d8576b"
             ],
             [
              0.6666666666666666,
              "#ed7953"
             ],
             [
              0.7777777777777778,
              "#fb9f3a"
             ],
             [
              0.8888888888888888,
              "#fdca26"
             ],
             [
              1,
              "#f0f921"
             ]
            ],
            "type": "heatmap"
           }
          ],
          "histogram": [
           {
            "marker": {
             "pattern": {
              "fillmode": "overlay",
              "size": 10,
              "solidity": 0.2
             }
            },
            "type": "histogram"
           }
          ],
          "histogram2d": [
           {
            "colorbar": {
             "outlinewidth": 0,
             "ticks": ""
            },
            "colorscale": [
             [
              0,
              "#0d0887"
             ],
             [
              0.1111111111111111,
              "#46039f"
             ],
             [
              0.2222222222222222,
              "#7201a8"
             ],
             [
              0.3333333333333333,
              "#9c179e"
             ],
             [
              0.4444444444444444,
              "#bd3786"
             ],
             [
              0.5555555555555556,
              "#d8576b"
             ],
             [
              0.6666666666666666,
              "#ed7953"
             ],
             [
              0.7777777777777778,
              "#fb9f3a"
             ],
             [
              0.8888888888888888,
              "#fdca26"
             ],
             [
              1,
              "#f0f921"
             ]
            ],
            "type": "histogram2d"
           }
          ],
          "histogram2dcontour": [
           {
            "colorbar": {
             "outlinewidth": 0,
             "ticks": ""
            },
            "colorscale": [
             [
              0,
              "#0d0887"
             ],
             [
              0.1111111111111111,
              "#46039f"
             ],
             [
              0.2222222222222222,
              "#7201a8"
             ],
             [
              0.3333333333333333,
              "#9c179e"
             ],
             [
              0.4444444444444444,
              "#bd3786"
             ],
             [
              0.5555555555555556,
              "#d8576b"
             ],
             [
              0.6666666666666666,
              "#ed7953"
             ],
             [
              0.7777777777777778,
              "#fb9f3a"
             ],
             [
              0.8888888888888888,
              "#fdca26"
             ],
             [
              1,
              "#f0f921"
             ]
            ],
            "type": "histogram2dcontour"
           }
          ],
          "mesh3d": [
           {
            "colorbar": {
             "outlinewidth": 0,
             "ticks": ""
            },
            "type": "mesh3d"
           }
          ],
          "parcoords": [
           {
            "line": {
             "colorbar": {
              "outlinewidth": 0,
              "ticks": ""
             }
            },
            "type": "parcoords"
           }
          ],
          "pie": [
           {
            "automargin": true,
            "type": "pie"
           }
          ],
          "scatter": [
           {
            "fillpattern": {
             "fillmode": "overlay",
             "size": 10,
             "solidity": 0.2
            },
            "type": "scatter"
           }
          ],
          "scatter3d": [
           {
            "line": {
             "colorbar": {
              "outlinewidth": 0,
              "ticks": ""
             }
            },
            "marker": {
             "colorbar": {
              "outlinewidth": 0,
              "ticks": ""
             }
            },
            "type": "scatter3d"
           }
          ],
          "scattercarpet": [
           {
            "marker": {
             "colorbar": {
              "outlinewidth": 0,
              "ticks": ""
             }
            },
            "type": "scattercarpet"
           }
          ],
          "scattergeo": [
           {
            "marker": {
             "colorbar": {
              "outlinewidth": 0,
              "ticks": ""
             }
            },
            "type": "scattergeo"
           }
          ],
          "scattergl": [
           {
            "marker": {
             "colorbar": {
              "outlinewidth": 0,
              "ticks": ""
             }
            },
            "type": "scattergl"
           }
          ],
          "scattermap": [
           {
            "marker": {
             "colorbar": {
              "outlinewidth": 0,
              "ticks": ""
             }
            },
            "type": "scattermap"
           }
          ],
          "scattermapbox": [
           {
            "marker": {
             "colorbar": {
              "outlinewidth": 0,
              "ticks": ""
             }
            },
            "type": "scattermapbox"
           }
          ],
          "scatterpolar": [
           {
            "marker": {
             "colorbar": {
              "outlinewidth": 0,
              "ticks": ""
             }
            },
            "type": "scatterpolar"
           }
          ],
          "scatterpolargl": [
           {
            "marker": {
             "colorbar": {
              "outlinewidth": 0,
              "ticks": ""
             }
            },
            "type": "scatterpolargl"
           }
          ],
          "scatterternary": [
           {
            "marker": {
             "colorbar": {
              "outlinewidth": 0,
              "ticks": ""
             }
            },
            "type": "scatterternary"
           }
          ],
          "surface": [
           {
            "colorbar": {
             "outlinewidth": 0,
             "ticks": ""
            },
            "colorscale": [
             [
              0,
              "#0d0887"
             ],
             [
              0.1111111111111111,
              "#46039f"
             ],
             [
              0.2222222222222222,
              "#7201a8"
             ],
             [
              0.3333333333333333,
              "#9c179e"
             ],
             [
              0.4444444444444444,
              "#bd3786"
             ],
             [
              0.5555555555555556,
              "#d8576b"
             ],
             [
              0.6666666666666666,
              "#ed7953"
             ],
             [
              0.7777777777777778,
              "#fb9f3a"
             ],
             [
              0.8888888888888888,
              "#fdca26"
             ],
             [
              1,
              "#f0f921"
             ]
            ],
            "type": "surface"
           }
          ],
          "table": [
           {
            "cells": {
             "fill": {
              "color": "#EBF0F8"
             },
             "line": {
              "color": "white"
             }
            },
            "header": {
             "fill": {
              "color": "#C8D4E3"
             },
             "line": {
              "color": "white"
             }
            },
            "type": "table"
           }
          ]
         },
         "layout": {
          "annotationdefaults": {
           "arrowcolor": "#2a3f5f",
           "arrowhead": 0,
           "arrowwidth": 1
          },
          "autotypenumbers": "strict",
          "coloraxis": {
           "colorbar": {
            "outlinewidth": 0,
            "ticks": ""
           }
          },
          "colorscale": {
           "diverging": [
            [
             0,
             "#8e0152"
            ],
            [
             0.1,
             "#c51b7d"
            ],
            [
             0.2,
             "#de77ae"
            ],
            [
             0.3,
             "#f1b6da"
            ],
            [
             0.4,
             "#fde0ef"
            ],
            [
             0.5,
             "#f7f7f7"
            ],
            [
             0.6,
             "#e6f5d0"
            ],
            [
             0.7,
             "#b8e186"
            ],
            [
             0.8,
             "#7fbc41"
            ],
            [
             0.9,
             "#4d9221"
            ],
            [
             1,
             "#276419"
            ]
           ],
           "sequential": [
            [
             0,
             "#0d0887"
            ],
            [
             0.1111111111111111,
             "#46039f"
            ],
            [
             0.2222222222222222,
             "#7201a8"
            ],
            [
             0.3333333333333333,
             "#9c179e"
            ],
            [
             0.4444444444444444,
             "#bd3786"
            ],
            [
             0.5555555555555556,
             "#d8576b"
            ],
            [
             0.6666666666666666,
             "#ed7953"
            ],
            [
             0.7777777777777778,
             "#fb9f3a"
            ],
            [
             0.8888888888888888,
             "#fdca26"
            ],
            [
             1,
             "#f0f921"
            ]
           ],
           "sequentialminus": [
            [
             0,
             "#0d0887"
            ],
            [
             0.1111111111111111,
             "#46039f"
            ],
            [
             0.2222222222222222,
             "#7201a8"
            ],
            [
             0.3333333333333333,
             "#9c179e"
            ],
            [
             0.4444444444444444,
             "#bd3786"
            ],
            [
             0.5555555555555556,
             "#d8576b"
            ],
            [
             0.6666666666666666,
             "#ed7953"
            ],
            [
             0.7777777777777778,
             "#fb9f3a"
            ],
            [
             0.8888888888888888,
             "#fdca26"
            ],
            [
             1,
             "#f0f921"
            ]
           ]
          },
          "colorway": [
           "#636efa",
           "#EF553B",
           "#00cc96",
           "#ab63fa",
           "#FFA15A",
           "#19d3f3",
           "#FF6692",
           "#B6E880",
           "#FF97FF",
           "#FECB52"
          ],
          "font": {
           "color": "#2a3f5f"
          },
          "geo": {
           "bgcolor": "white",
           "lakecolor": "white",
           "landcolor": "#E5ECF6",
           "showlakes": true,
           "showland": true,
           "subunitcolor": "white"
          },
          "hoverlabel": {
           "align": "left"
          },
          "hovermode": "closest",
          "mapbox": {
           "style": "light"
          },
          "paper_bgcolor": "white",
          "plot_bgcolor": "#E5ECF6",
          "polar": {
           "angularaxis": {
            "gridcolor": "white",
            "linecolor": "white",
            "ticks": ""
           },
           "bgcolor": "#E5ECF6",
           "radialaxis": {
            "gridcolor": "white",
            "linecolor": "white",
            "ticks": ""
           }
          },
          "scene": {
           "xaxis": {
            "backgroundcolor": "#E5ECF6",
            "gridcolor": "white",
            "gridwidth": 2,
            "linecolor": "white",
            "showbackground": true,
            "ticks": "",
            "zerolinecolor": "white"
           },
           "yaxis": {
            "backgroundcolor": "#E5ECF6",
            "gridcolor": "white",
            "gridwidth": 2,
            "linecolor": "white",
            "showbackground": true,
            "ticks": "",
            "zerolinecolor": "white"
           },
           "zaxis": {
            "backgroundcolor": "#E5ECF6",
            "gridcolor": "white",
            "gridwidth": 2,
            "linecolor": "white",
            "showbackground": true,
            "ticks": "",
            "zerolinecolor": "white"
           }
          },
          "shapedefaults": {
           "line": {
            "color": "#2a3f5f"
           }
          },
          "ternary": {
           "aaxis": {
            "gridcolor": "white",
            "linecolor": "white",
            "ticks": ""
           },
           "baxis": {
            "gridcolor": "white",
            "linecolor": "white",
            "ticks": ""
           },
           "bgcolor": "#E5ECF6",
           "caxis": {
            "gridcolor": "white",
            "linecolor": "white",
            "ticks": ""
           }
          },
          "title": {
           "x": 0.05
          },
          "xaxis": {
           "automargin": true,
           "gridcolor": "white",
           "linecolor": "white",
           "ticks": "",
           "title": {
            "standoff": 15
           },
           "zerolinecolor": "white",
           "zerolinewidth": 2
          },
          "yaxis": {
           "automargin": true,
           "gridcolor": "white",
           "linecolor": "white",
           "ticks": "",
           "title": {
            "standoff": 15
           },
           "zerolinecolor": "white",
           "zerolinewidth": 2
          }
         }
        },
        "title": {
         "text": "Dynamic of commits per user in project1"
        },
        "updatemenus": [
         {
          "buttons": [
           {
            "args": [
             null,
             {
              "frame": {
               "duration": 500,
               "redraw": true
              },
              "fromcurrent": true
             }
            ],
            "label": "play",
            "method": "animate"
           }
          ],
          "type": "buttons"
         }
        ],
        "xaxis": {
         "range": [
          0,
          30
         ],
         "title": {
          "text": ""
         }
        },
        "yaxis": {
         "range": [
          0,
          174
         ],
         "title": {
          "text": ""
         }
        }
       }
      }
     },
     "metadata": {},
     "output_type": "display_data"
    }
   ],
   "source": [
    "fig = go.Figure(\n",
    "    data=initial_data,\n",
    "    layout=go.Layout(\n",
    "        title = \"Dynamic of commits per user in project1\",\n",
    "        xaxis = dict(title =\"\",range= [0,len(x_values)+1]),\n",
    "        yaxis = dict(title =\"\", range=[0,pivot.max().max() + 10]),\n",
    "        updatemenus = [{\n",
    "            \"type\": \"buttons\",\n",
    "            \"buttons\": [{\n",
    "                \"label\":\"play\",\n",
    "                \"method\":\"animate\",\n",
    "                \"args\":[None,{\"frame\":{\"duration\":500,\"redraw\":True},\"fromcurrent\": True}]\n",
    "            }]\n",
    "        }],\n",
    "        showlegend=True\n",
    "    ),\n",
    "    frames=frames\n",
    ")\n",
    "fig.show()"
   ]
  }
 ],
 "metadata": {
  "kernelspec": {
   "display_name": ".venv",
   "language": "python",
   "name": "python3"
  },
  "language_info": {
   "codemirror_mode": {
    "name": "ipython",
    "version": 3
   },
   "file_extension": ".py",
   "mimetype": "text/x-python",
   "name": "python",
   "nbconvert_exporter": "python",
   "pygments_lexer": "ipython3",
   "version": "3.12.3"
  }
 },
 "nbformat": 4,
 "nbformat_minor": 2
}
