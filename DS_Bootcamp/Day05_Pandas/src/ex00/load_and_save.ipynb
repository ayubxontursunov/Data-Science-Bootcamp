{
 "cells": [
  {
   "cell_type": "code",
   "execution_count": 9,
   "metadata": {},
   "outputs": [],
   "source": [
    "import pandas as pd\n",
    "\n",
    "\n",
    "df = pd.read_csv(\n",
    "    '../data/feed-views.log',\n",
    "    sep='\\t',\n",
    "    skiprows=2,\n",
    "    skipfooter=2,\n",
    "    engine='python',\n",
    "    names=['datetime', 'user'],\n",
    "    index_col='datetime'\n",
    ")\n",
    "\n",
    "\n",
    "df.index.name = 'date_time'\n",
    "\n"
   ]
  },
  {
   "cell_type": "code",
   "execution_count": 10,
   "metadata": {},
   "outputs": [
    {
     "data": {
      "text/html": [
       "<div>\n",
       "<style scoped>\n",
       "    .dataframe tbody tr th:only-of-type {\n",
       "        vertical-align: middle;\n",
       "    }\n",
       "\n",
       "    .dataframe tbody tr th {\n",
       "        vertical-align: top;\n",
       "    }\n",
       "\n",
       "    .dataframe thead th {\n",
       "        text-align: right;\n",
       "    }\n",
       "</style>\n",
       "<table border=\"1\" class=\"dataframe\">\n",
       "  <thead>\n",
       "    <tr style=\"text-align: right;\">\n",
       "      <th></th>\n",
       "      <th>user</th>\n",
       "    </tr>\n",
       "    <tr>\n",
       "      <th>date_time</th>\n",
       "      <th></th>\n",
       "    </tr>\n",
       "  </thead>\n",
       "  <tbody>\n",
       "    <tr>\n",
       "      <th>2020-04-17 12:27:30.646665</th>\n",
       "      <td>artem</td>\n",
       "    </tr>\n",
       "    <tr>\n",
       "      <th>2020-04-17 12:35:44.884757</th>\n",
       "      <td>artem</td>\n",
       "    </tr>\n",
       "    <tr>\n",
       "      <th>2020-04-17 12:35:52.735016</th>\n",
       "      <td>artem</td>\n",
       "    </tr>\n",
       "    <tr>\n",
       "      <th>2020-04-17 12:36:21.401412</th>\n",
       "      <td>oksana</td>\n",
       "    </tr>\n",
       "    <tr>\n",
       "      <th>2020-04-17 12:36:22.023355</th>\n",
       "      <td>oksana</td>\n",
       "    </tr>\n",
       "  </tbody>\n",
       "</table>\n",
       "</div>"
      ],
      "text/plain": [
       "                              user\n",
       "date_time                         \n",
       "2020-04-17 12:27:30.646665   artem\n",
       "2020-04-17 12:35:44.884757   artem\n",
       "2020-04-17 12:35:52.735016   artem\n",
       "2020-04-17 12:36:21.401412  oksana\n",
       "2020-04-17 12:36:22.023355  oksana"
      ]
     },
     "execution_count": 10,
     "metadata": {},
     "output_type": "execute_result"
    }
   ],
   "source": [
    "df.head()"
   ]
  },
  {
   "cell_type": "code",
   "execution_count": 13,
   "metadata": {},
   "outputs": [
    {
     "data": {
      "text/html": [
       "<div>\n",
       "<style scoped>\n",
       "    .dataframe tbody tr th:only-of-type {\n",
       "        vertical-align: middle;\n",
       "    }\n",
       "\n",
       "    .dataframe tbody tr th {\n",
       "        vertical-align: top;\n",
       "    }\n",
       "\n",
       "    .dataframe thead th {\n",
       "        text-align: right;\n",
       "    }\n",
       "</style>\n",
       "<table border=\"1\" class=\"dataframe\">\n",
       "  <thead>\n",
       "    <tr style=\"text-align: right;\">\n",
       "      <th></th>\n",
       "      <th>user</th>\n",
       "    </tr>\n",
       "    <tr>\n",
       "      <th>date_time</th>\n",
       "      <th></th>\n",
       "    </tr>\n",
       "  </thead>\n",
       "  <tbody>\n",
       "    <tr>\n",
       "      <th>2020-05-21 01:46:08.730098</th>\n",
       "      <td>valentina</td>\n",
       "    </tr>\n",
       "    <tr>\n",
       "      <th>2020-05-21 01:57:58.652380</th>\n",
       "      <td>pavel</td>\n",
       "    </tr>\n",
       "    <tr>\n",
       "      <th>2020-05-21 12:33:32.521770</th>\n",
       "      <td>maxim</td>\n",
       "    </tr>\n",
       "    <tr>\n",
       "      <th>2020-05-21 12:33:32.812265</th>\n",
       "      <td>maxim</td>\n",
       "    </tr>\n",
       "    <tr>\n",
       "      <th>2020-05-21 16:28:28.217529</th>\n",
       "      <td>ekaterina</td>\n",
       "    </tr>\n",
       "    <tr>\n",
       "      <th>2020-05-21 16:36:40.915488</th>\n",
       "      <td>ekaterina</td>\n",
       "    </tr>\n",
       "    <tr>\n",
       "      <th>2020-05-21 17:49:36.429237</th>\n",
       "      <td>maxim</td>\n",
       "    </tr>\n",
       "    <tr>\n",
       "      <th>2020-05-21 18:45:20.441142</th>\n",
       "      <td>valentina</td>\n",
       "    </tr>\n",
       "    <tr>\n",
       "      <th>2020-05-21 23:03:06.457819</th>\n",
       "      <td>maxim</td>\n",
       "    </tr>\n",
       "    <tr>\n",
       "      <th>2020-05-21 23:23:49.995349</th>\n",
       "      <td>pavel</td>\n",
       "    </tr>\n",
       "  </tbody>\n",
       "</table>\n",
       "</div>"
      ],
      "text/plain": [
       "                                 user\n",
       "date_time                            \n",
       "2020-05-21 01:46:08.730098  valentina\n",
       "2020-05-21 01:57:58.652380      pavel\n",
       "2020-05-21 12:33:32.521770      maxim\n",
       "2020-05-21 12:33:32.812265      maxim\n",
       "2020-05-21 16:28:28.217529  ekaterina\n",
       "2020-05-21 16:36:40.915488  ekaterina\n",
       "2020-05-21 17:49:36.429237      maxim\n",
       "2020-05-21 18:45:20.441142  valentina\n",
       "2020-05-21 23:03:06.457819      maxim\n",
       "2020-05-21 23:23:49.995349      pavel"
      ]
     },
     "execution_count": 13,
     "metadata": {},
     "output_type": "execute_result"
    }
   ],
   "source": [
    "df.tail(10)"
   ]
  },
  {
   "cell_type": "code",
   "execution_count": 12,
   "metadata": {},
   "outputs": [],
   "source": [
    "df.to_csv('../data/feed-views-semicolon.log', sep=';')\n"
   ]
  }
 ],
 "metadata": {
  "kernelspec": {
   "display_name": ".venv",
   "language": "python",
   "name": "python3"
  },
  "language_info": {
   "codemirror_mode": {
    "name": "ipython",
    "version": 3
   },
   "file_extension": ".py",
   "mimetype": "text/x-python",
   "name": "python",
   "nbconvert_exporter": "python",
   "pygments_lexer": "ipython3",
   "version": "3.12.3"
  }
 },
 "nbformat": 4,
 "nbformat_minor": 2
}
