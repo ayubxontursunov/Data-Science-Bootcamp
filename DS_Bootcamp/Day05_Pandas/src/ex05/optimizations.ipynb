{
 "cells": [
  {
   "cell_type": "code",
   "execution_count": 1,
   "id": "2ee395f9",
   "metadata": {},
   "outputs": [
    {
     "data": {
      "text/html": [
       "<div>\n",
       "<style scoped>\n",
       "    .dataframe tbody tr th:only-of-type {\n",
       "        vertical-align: middle;\n",
       "    }\n",
       "\n",
       "    .dataframe tbody tr th {\n",
       "        vertical-align: top;\n",
       "    }\n",
       "\n",
       "    .dataframe thead th {\n",
       "        text-align: right;\n",
       "    }\n",
       "</style>\n",
       "<table border=\"1\" class=\"dataframe\">\n",
       "  <thead>\n",
       "    <tr style=\"text-align: right;\">\n",
       "      <th></th>\n",
       "      <th>CarNumber</th>\n",
       "      <th>Make</th>\n",
       "      <th>Model</th>\n",
       "      <th>Refund</th>\n",
       "      <th>Fines</th>\n",
       "      <th>Year</th>\n",
       "    </tr>\n",
       "  </thead>\n",
       "  <tbody>\n",
       "    <tr>\n",
       "      <th>0</th>\n",
       "      <td>Y163O8161RUS</td>\n",
       "      <td>Ford</td>\n",
       "      <td>Focus</td>\n",
       "      <td>2</td>\n",
       "      <td>3200.0</td>\n",
       "      <td>1989</td>\n",
       "    </tr>\n",
       "    <tr>\n",
       "      <th>1</th>\n",
       "      <td>E432XX77RUS</td>\n",
       "      <td>Toyota</td>\n",
       "      <td>Camry</td>\n",
       "      <td>1</td>\n",
       "      <td>6500.0</td>\n",
       "      <td>1995</td>\n",
       "    </tr>\n",
       "    <tr>\n",
       "      <th>2</th>\n",
       "      <td>7184TT36RUS</td>\n",
       "      <td>Ford</td>\n",
       "      <td>Focus</td>\n",
       "      <td>1</td>\n",
       "      <td>2100.0</td>\n",
       "      <td>1984</td>\n",
       "    </tr>\n",
       "    <tr>\n",
       "      <th>3</th>\n",
       "      <td>X582HE161RUS</td>\n",
       "      <td>Ford</td>\n",
       "      <td>Focus</td>\n",
       "      <td>2</td>\n",
       "      <td>2000.0</td>\n",
       "      <td>2015</td>\n",
       "    </tr>\n",
       "    <tr>\n",
       "      <th>4</th>\n",
       "      <td>92918M178RUS</td>\n",
       "      <td>Ford</td>\n",
       "      <td>Focus</td>\n",
       "      <td>1</td>\n",
       "      <td>5700.0</td>\n",
       "      <td>2014</td>\n",
       "    </tr>\n",
       "    <tr>\n",
       "      <th>...</th>\n",
       "      <td>...</td>\n",
       "      <td>...</td>\n",
       "      <td>...</td>\n",
       "      <td>...</td>\n",
       "      <td>...</td>\n",
       "      <td>...</td>\n",
       "    </tr>\n",
       "    <tr>\n",
       "      <th>925</th>\n",
       "      <td>X2K321EE32R</td>\n",
       "      <td>BMW</td>\n",
       "      <td>M5</td>\n",
       "      <td>1</td>\n",
       "      <td>2400.0</td>\n",
       "      <td>2010</td>\n",
       "    </tr>\n",
       "    <tr>\n",
       "      <th>926</th>\n",
       "      <td>C5K3212d32R</td>\n",
       "      <td>Toyota</td>\n",
       "      <td>Corolla</td>\n",
       "      <td>2</td>\n",
       "      <td>4200.0</td>\n",
       "      <td>2014</td>\n",
       "    </tr>\n",
       "    <tr>\n",
       "      <th>927</th>\n",
       "      <td>32FGE325HCV</td>\n",
       "      <td>Honda</td>\n",
       "      <td>Civic</td>\n",
       "      <td>4</td>\n",
       "      <td>1200.0</td>\n",
       "      <td>2012</td>\n",
       "    </tr>\n",
       "    <tr>\n",
       "      <th>928</th>\n",
       "      <td>5DK3212d32R</td>\n",
       "      <td>Chevrolet</td>\n",
       "      <td>Malibu</td>\n",
       "      <td>3</td>\n",
       "      <td>6000.0</td>\n",
       "      <td>2018</td>\n",
       "    </tr>\n",
       "    <tr>\n",
       "      <th>929</th>\n",
       "      <td>GR33212d32R</td>\n",
       "      <td>Nissan</td>\n",
       "      <td>Altima</td>\n",
       "      <td>2</td>\n",
       "      <td>5600.0</td>\n",
       "      <td>2001</td>\n",
       "    </tr>\n",
       "  </tbody>\n",
       "</table>\n",
       "<p>930 rows × 6 columns</p>\n",
       "</div>"
      ],
      "text/plain": [
       "        CarNumber       Make    Model  Refund   Fines  Year\n",
       "0    Y163O8161RUS       Ford    Focus       2  3200.0  1989\n",
       "1     E432XX77RUS     Toyota    Camry       1  6500.0  1995\n",
       "2     7184TT36RUS       Ford    Focus       1  2100.0  1984\n",
       "3    X582HE161RUS       Ford    Focus       2  2000.0  2015\n",
       "4    92918M178RUS       Ford    Focus       1  5700.0  2014\n",
       "..            ...        ...      ...     ...     ...   ...\n",
       "925   X2K321EE32R        BMW       M5       1  2400.0  2010\n",
       "926   C5K3212d32R     Toyota  Corolla       2  4200.0  2014\n",
       "927   32FGE325HCV      Honda    Civic       4  1200.0  2012\n",
       "928   5DK3212d32R  Chevrolet   Malibu       3  6000.0  2018\n",
       "929   GR33212d32R     Nissan   Altima       2  5600.0  2001\n",
       "\n",
       "[930 rows x 6 columns]"
      ]
     },
     "execution_count": 1,
     "metadata": {},
     "output_type": "execute_result"
    }
   ],
   "source": [
    "import pandas as pd\n",
    "import gc\n",
    "\n",
    "fines = pd.read_csv('../data/fines.csv')\n",
    "fines"
   ]
  },
  {
   "cell_type": "code",
   "execution_count": 2,
   "id": "03fc6e68",
   "metadata": {},
   "outputs": [],
   "source": [
    "def calculate_with_loop(df):\n",
    "    results = []\n",
    "    for i in range(len(df)):\n",
    "        fines = df.iloc[i]['Fines']\n",
    "        refund = df.iloc[i]['Refund']\n",
    "        year = df.iloc[i]['Year']\n",
    "        value = (fines / refund) * year\n",
    "        results.append(value)\n",
    "    return results\n"
   ]
  },
  {
   "cell_type": "code",
   "execution_count": 3,
   "id": "041e1fa3",
   "metadata": {},
   "outputs": [],
   "source": [
    "def calculate_with_iterrows(df):\n",
    "    results = []\n",
    "    for index, row in df.iterrows():\n",
    "        fines = row['Fines']\n",
    "        refund = row['Refund']\n",
    "        year = row['Year']\n",
    "        value = (fines / refund) * year\n",
    "        results.append(value)\n",
    "    return results\n"
   ]
  },
  {
   "cell_type": "code",
   "execution_count": 4,
   "id": "2df0a829",
   "metadata": {},
   "outputs": [
    {
     "name": "stdout",
     "output_type": "stream",
     "text": [
      "42.7 ms ± 4.73 ms per loop (mean ± std. dev. of 7 runs, 10 loops each)\n"
     ]
    }
   ],
   "source": [
    "%%timeit\n",
    "fines['calc_loop'] = calculate_with_loop(fines)\n"
   ]
  },
  {
   "cell_type": "code",
   "execution_count": 5,
   "id": "7a01b4e2",
   "metadata": {},
   "outputs": [
    {
     "name": "stdout",
     "output_type": "stream",
     "text": [
      "13.7 ms ± 93.8 μs per loop (mean ± std. dev. of 7 runs, 100 loops each)\n"
     ]
    }
   ],
   "source": [
    "%%timeit\n",
    "fines['calc_iterrows'] = calculate_with_iterrows(fines)\n"
   ]
  },
  {
   "cell_type": "code",
   "execution_count": 6,
   "id": "cd87664b",
   "metadata": {},
   "outputs": [
    {
     "name": "stdout",
     "output_type": "stream",
     "text": [
      "3.79 ms ± 55 μs per loop (mean ± std. dev. of 7 runs, 100 loops each)\n"
     ]
    }
   ],
   "source": [
    "%%timeit\n",
    "fines['calc_apply'] = fines.apply(lambda row: row['Fines'] / row['Refund'] * row['Year'],axis=1)"
   ]
  },
  {
   "cell_type": "code",
   "execution_count": 7,
   "id": "df6708b6",
   "metadata": {},
   "outputs": [
    {
     "data": {
      "text/html": [
       "<div>\n",
       "<style scoped>\n",
       "    .dataframe tbody tr th:only-of-type {\n",
       "        vertical-align: middle;\n",
       "    }\n",
       "\n",
       "    .dataframe tbody tr th {\n",
       "        vertical-align: top;\n",
       "    }\n",
       "\n",
       "    .dataframe thead th {\n",
       "        text-align: right;\n",
       "    }\n",
       "</style>\n",
       "<table border=\"1\" class=\"dataframe\">\n",
       "  <thead>\n",
       "    <tr style=\"text-align: right;\">\n",
       "      <th></th>\n",
       "      <th>CarNumber</th>\n",
       "      <th>Make</th>\n",
       "      <th>Model</th>\n",
       "      <th>Refund</th>\n",
       "      <th>Fines</th>\n",
       "      <th>Year</th>\n",
       "      <th>calc_loop</th>\n",
       "      <th>calc_iterrows</th>\n",
       "      <th>calc_apply</th>\n",
       "    </tr>\n",
       "  </thead>\n",
       "  <tbody>\n",
       "    <tr>\n",
       "      <th>0</th>\n",
       "      <td>Y163O8161RUS</td>\n",
       "      <td>Ford</td>\n",
       "      <td>Focus</td>\n",
       "      <td>2</td>\n",
       "      <td>3200.0</td>\n",
       "      <td>1989</td>\n",
       "      <td>3182400.0</td>\n",
       "      <td>3182400.0</td>\n",
       "      <td>3182400.0</td>\n",
       "    </tr>\n",
       "    <tr>\n",
       "      <th>1</th>\n",
       "      <td>E432XX77RUS</td>\n",
       "      <td>Toyota</td>\n",
       "      <td>Camry</td>\n",
       "      <td>1</td>\n",
       "      <td>6500.0</td>\n",
       "      <td>1995</td>\n",
       "      <td>12967500.0</td>\n",
       "      <td>12967500.0</td>\n",
       "      <td>12967500.0</td>\n",
       "    </tr>\n",
       "    <tr>\n",
       "      <th>2</th>\n",
       "      <td>7184TT36RUS</td>\n",
       "      <td>Ford</td>\n",
       "      <td>Focus</td>\n",
       "      <td>1</td>\n",
       "      <td>2100.0</td>\n",
       "      <td>1984</td>\n",
       "      <td>4166400.0</td>\n",
       "      <td>4166400.0</td>\n",
       "      <td>4166400.0</td>\n",
       "    </tr>\n",
       "    <tr>\n",
       "      <th>3</th>\n",
       "      <td>X582HE161RUS</td>\n",
       "      <td>Ford</td>\n",
       "      <td>Focus</td>\n",
       "      <td>2</td>\n",
       "      <td>2000.0</td>\n",
       "      <td>2015</td>\n",
       "      <td>2015000.0</td>\n",
       "      <td>2015000.0</td>\n",
       "      <td>2015000.0</td>\n",
       "    </tr>\n",
       "    <tr>\n",
       "      <th>4</th>\n",
       "      <td>92918M178RUS</td>\n",
       "      <td>Ford</td>\n",
       "      <td>Focus</td>\n",
       "      <td>1</td>\n",
       "      <td>5700.0</td>\n",
       "      <td>2014</td>\n",
       "      <td>11479800.0</td>\n",
       "      <td>11479800.0</td>\n",
       "      <td>11479800.0</td>\n",
       "    </tr>\n",
       "    <tr>\n",
       "      <th>...</th>\n",
       "      <td>...</td>\n",
       "      <td>...</td>\n",
       "      <td>...</td>\n",
       "      <td>...</td>\n",
       "      <td>...</td>\n",
       "      <td>...</td>\n",
       "      <td>...</td>\n",
       "      <td>...</td>\n",
       "      <td>...</td>\n",
       "    </tr>\n",
       "    <tr>\n",
       "      <th>925</th>\n",
       "      <td>X2K321EE32R</td>\n",
       "      <td>BMW</td>\n",
       "      <td>M5</td>\n",
       "      <td>1</td>\n",
       "      <td>2400.0</td>\n",
       "      <td>2010</td>\n",
       "      <td>4824000.0</td>\n",
       "      <td>4824000.0</td>\n",
       "      <td>4824000.0</td>\n",
       "    </tr>\n",
       "    <tr>\n",
       "      <th>926</th>\n",
       "      <td>C5K3212d32R</td>\n",
       "      <td>Toyota</td>\n",
       "      <td>Corolla</td>\n",
       "      <td>2</td>\n",
       "      <td>4200.0</td>\n",
       "      <td>2014</td>\n",
       "      <td>4229400.0</td>\n",
       "      <td>4229400.0</td>\n",
       "      <td>4229400.0</td>\n",
       "    </tr>\n",
       "    <tr>\n",
       "      <th>927</th>\n",
       "      <td>32FGE325HCV</td>\n",
       "      <td>Honda</td>\n",
       "      <td>Civic</td>\n",
       "      <td>4</td>\n",
       "      <td>1200.0</td>\n",
       "      <td>2012</td>\n",
       "      <td>603600.0</td>\n",
       "      <td>603600.0</td>\n",
       "      <td>603600.0</td>\n",
       "    </tr>\n",
       "    <tr>\n",
       "      <th>928</th>\n",
       "      <td>5DK3212d32R</td>\n",
       "      <td>Chevrolet</td>\n",
       "      <td>Malibu</td>\n",
       "      <td>3</td>\n",
       "      <td>6000.0</td>\n",
       "      <td>2018</td>\n",
       "      <td>4036000.0</td>\n",
       "      <td>4036000.0</td>\n",
       "      <td>4036000.0</td>\n",
       "    </tr>\n",
       "    <tr>\n",
       "      <th>929</th>\n",
       "      <td>GR33212d32R</td>\n",
       "      <td>Nissan</td>\n",
       "      <td>Altima</td>\n",
       "      <td>2</td>\n",
       "      <td>5600.0</td>\n",
       "      <td>2001</td>\n",
       "      <td>5602800.0</td>\n",
       "      <td>5602800.0</td>\n",
       "      <td>5602800.0</td>\n",
       "    </tr>\n",
       "  </tbody>\n",
       "</table>\n",
       "<p>930 rows × 9 columns</p>\n",
       "</div>"
      ],
      "text/plain": [
       "        CarNumber       Make    Model  Refund   Fines  Year   calc_loop  \\\n",
       "0    Y163O8161RUS       Ford    Focus       2  3200.0  1989   3182400.0   \n",
       "1     E432XX77RUS     Toyota    Camry       1  6500.0  1995  12967500.0   \n",
       "2     7184TT36RUS       Ford    Focus       1  2100.0  1984   4166400.0   \n",
       "3    X582HE161RUS       Ford    Focus       2  2000.0  2015   2015000.0   \n",
       "4    92918M178RUS       Ford    Focus       1  5700.0  2014  11479800.0   \n",
       "..            ...        ...      ...     ...     ...   ...         ...   \n",
       "925   X2K321EE32R        BMW       M5       1  2400.0  2010   4824000.0   \n",
       "926   C5K3212d32R     Toyota  Corolla       2  4200.0  2014   4229400.0   \n",
       "927   32FGE325HCV      Honda    Civic       4  1200.0  2012    603600.0   \n",
       "928   5DK3212d32R  Chevrolet   Malibu       3  6000.0  2018   4036000.0   \n",
       "929   GR33212d32R     Nissan   Altima       2  5600.0  2001   5602800.0   \n",
       "\n",
       "     calc_iterrows  calc_apply  \n",
       "0        3182400.0   3182400.0  \n",
       "1       12967500.0  12967500.0  \n",
       "2        4166400.0   4166400.0  \n",
       "3        2015000.0   2015000.0  \n",
       "4       11479800.0  11479800.0  \n",
       "..             ...         ...  \n",
       "925      4824000.0   4824000.0  \n",
       "926      4229400.0   4229400.0  \n",
       "927       603600.0    603600.0  \n",
       "928      4036000.0   4036000.0  \n",
       "929      5602800.0   5602800.0  \n",
       "\n",
       "[930 rows x 9 columns]"
      ]
     },
     "execution_count": 7,
     "metadata": {},
     "output_type": "execute_result"
    }
   ],
   "source": [
    "fines"
   ]
  },
  {
   "cell_type": "code",
   "execution_count": 8,
   "id": "44614a6c",
   "metadata": {},
   "outputs": [],
   "source": [
    "data = {\n",
    "    'Fines':[100.0,200.0,300.0],\n",
    "    'Refund':[2,4,6],\n",
    "    'Year': [2000,2010,2015]\n",
    "}\n",
    "new_fines = pd.DataFrame(data)\n"
   ]
  },
  {
   "cell_type": "code",
   "execution_count": 9,
   "id": "a2e0d63e",
   "metadata": {},
   "outputs": [
    {
     "name": "stdout",
     "output_type": "stream",
     "text": [
      "86.2 μs ± 4.38 μs per loop (mean ± std. dev. of 7 runs, 10,000 loops each)\n"
     ]
    }
   ],
   "source": [
    "%%timeit\n",
    "new_fines['calc_series'] = new_fines['Fines']/new_fines['Refund'] * new_fines['Year']\n"
   ]
  },
  {
   "cell_type": "code",
   "execution_count": 10,
   "id": "53e72901",
   "metadata": {},
   "outputs": [
    {
     "name": "stdout",
     "output_type": "stream",
     "text": [
      "41.7 μs ± 844 ns per loop (mean ± std. dev. of 7 runs, 10,000 loops each)\n"
     ]
    }
   ],
   "source": [
    "%%timeit\n",
    "fines['calc_values'] = fines['Fines'].values / fines['Refund'].values * fines['Year'].values "
   ]
  },
  {
   "cell_type": "code",
   "execution_count": 11,
   "id": "1a47793e",
   "metadata": {},
   "outputs": [
    {
     "name": "stdout",
     "output_type": "stream",
     "text": [
      "519 μs ± 7.27 μs per loop (mean ± std. dev. of 7 runs, 1,000 loops each)\n"
     ]
    }
   ],
   "source": [
    "%%timeit\n",
    "fines[fines['CarNumber'] =='O136HO197RUS']\n",
    "# print(x)\n",
    "fines.set_index('CarNumber')\n",
    "fines[fines['CarNumber'] =='O136HO197RUS']\n",
    "\n"
   ]
  },
  {
   "cell_type": "code",
   "execution_count": 12,
   "id": "7501a03c",
   "metadata": {},
   "outputs": [
    {
     "name": "stdout",
     "output_type": "stream",
     "text": [
      "<class 'pandas.core.frame.DataFrame'>\n",
      "RangeIndex: 930 entries, 0 to 929\n",
      "Data columns (total 10 columns):\n",
      " #   Column         Non-Null Count  Dtype  \n",
      "---  ------         --------------  -----  \n",
      " 0   CarNumber      930 non-null    object \n",
      " 1   Make           930 non-null    object \n",
      " 2   Model          918 non-null    object \n",
      " 3   Refund         930 non-null    int64  \n",
      " 4   Fines          930 non-null    float64\n",
      " 5   Year           930 non-null    int64  \n",
      " 6   calc_loop      930 non-null    float64\n",
      " 7   calc_iterrows  930 non-null    float64\n",
      " 8   calc_apply     930 non-null    float64\n",
      " 9   calc_values    930 non-null    float64\n",
      "dtypes: float64(5), int64(2), object(3)\n",
      "memory usage: 203.9 KB\n"
     ]
    }
   ],
   "source": [
    "fines.info(memory_usage='deep')"
   ]
  },
  {
   "cell_type": "code",
   "execution_count": 13,
   "id": "b09c36f3",
   "metadata": {},
   "outputs": [
    {
     "name": "stdout",
     "output_type": "stream",
     "text": [
      "CarNumber         object\n",
      "Make              object\n",
      "Model             object\n",
      "Refund              int8\n",
      "Fines            float32\n",
      "Year                int8\n",
      "calc_loop        float32\n",
      "calc_iterrows    float32\n",
      "calc_apply       float32\n",
      "calc_values      float32\n",
      "dtype: object\n"
     ]
    }
   ],
   "source": [
    "df_optimized = fines.copy(deep=True)\n",
    "\n",
    "\n",
    "float_cols = df_optimized.select_dtypes(include=['float64']).columns\n",
    "df_optimized[float_cols] = df_optimized[float_cols].astype('float32')\n",
    "\n",
    "\n",
    "int_cols = df_optimized.select_dtypes(include=['int64']).columns\n",
    "df_optimized[int_cols] = df_optimized[int_cols].astype('int8')\n",
    "\n",
    "print(df_optimized.dtypes)\n",
    "\n"
   ]
  },
  {
   "cell_type": "code",
   "execution_count": 14,
   "id": "55482d59",
   "metadata": {},
   "outputs": [
    {
     "name": "stdout",
     "output_type": "stream",
     "text": [
      "<class 'pandas.core.frame.DataFrame'>\n",
      "RangeIndex: 930 entries, 0 to 929\n",
      "Data columns (total 10 columns):\n",
      " #   Column         Non-Null Count  Dtype  \n",
      "---  ------         --------------  -----  \n",
      " 0   CarNumber      930 non-null    object \n",
      " 1   Make           930 non-null    object \n",
      " 2   Model          918 non-null    object \n",
      " 3   Refund         930 non-null    int8   \n",
      " 4   Fines          930 non-null    float32\n",
      " 5   Year           930 non-null    int8   \n",
      " 6   calc_loop      930 non-null    float32\n",
      " 7   calc_iterrows  930 non-null    float32\n",
      " 8   calc_apply     930 non-null    float32\n",
      " 9   calc_values    930 non-null    float32\n",
      "dtypes: float32(5), int8(2), object(3)\n",
      "memory usage: 173.0 KB\n"
     ]
    }
   ],
   "source": [
    "df_optimized.info(memory_usage='deep')"
   ]
  },
  {
   "cell_type": "code",
   "execution_count": 15,
   "id": "45043c2a",
   "metadata": {},
   "outputs": [
    {
     "name": "stdout",
     "output_type": "stream",
     "text": [
      "<class 'pandas.core.frame.DataFrame'>\n",
      "RangeIndex: 930 entries, 0 to 929\n",
      "Data columns (total 10 columns):\n",
      " #   Column         Non-Null Count  Dtype   \n",
      "---  ------         --------------  -----   \n",
      " 0   CarNumber      930 non-null    category\n",
      " 1   Make           930 non-null    category\n",
      " 2   Model          918 non-null    category\n",
      " 3   Refund         930 non-null    int8    \n",
      " 4   Fines          930 non-null    float32 \n",
      " 5   Year           930 non-null    int8    \n",
      " 6   calc_loop      930 non-null    float32 \n",
      " 7   calc_iterrows  930 non-null    float32 \n",
      " 8   calc_apply     930 non-null    float32 \n",
      " 9   calc_values    930 non-null    float32 \n",
      "dtypes: category(3), float32(5), int8(2)\n",
      "memory usage: 73.8 KB\n"
     ]
    }
   ],
   "source": [
    "object_col = df_optimized.select_dtypes(include='object').columns\n",
    "df_optimized[object_col] = df_optimized[object_col].astype('category')\n",
    "df_optimized.info(memory_usage='deep')"
   ]
  },
  {
   "cell_type": "code",
   "execution_count": 17,
   "id": "cbb0ba8b",
   "metadata": {},
   "outputs": [
    {
     "ename": "NameError",
     "evalue": "name 'fines' is not defined",
     "output_type": "error",
     "traceback": [
      "\u001b[31m---------------------------------------------------------------------------\u001b[39m",
      "\u001b[31mNameError\u001b[39m                                 Traceback (most recent call last)",
      "\u001b[36mCell\u001b[39m\u001b[36m \u001b[39m\u001b[32mIn[17]\u001b[39m\u001b[32m, line 4\u001b[39m\n\u001b[32m      1\u001b[39m get_ipython().run_line_magic(\u001b[33m'\u001b[39m\u001b[33mreset_selective\u001b[39m\u001b[33m'\u001b[39m, \u001b[33m'\u001b[39m\u001b[33m-f fines\u001b[39m\u001b[33m'\u001b[39m)\n\u001b[32m      3\u001b[39m gc.collect\n\u001b[32m----> \u001b[39m\u001b[32m4\u001b[39m \u001b[43mfines\u001b[49m\n",
      "\u001b[31mNameError\u001b[39m: name 'fines' is not defined"
     ]
    }
   ],
   "source": [
    "%reset_selective -f fines\n",
    "\n",
    "gc.collect\n"
   ]
  }
 ],
 "metadata": {
  "kernelspec": {
   "display_name": ".venv",
   "language": "python",
   "name": "python3"
  },
  "language_info": {
   "codemirror_mode": {
    "name": "ipython",
    "version": 3
   },
   "file_extension": ".py",
   "mimetype": "text/x-python",
   "name": "python",
   "nbconvert_exporter": "python",
   "pygments_lexer": "ipython3",
   "version": "3.12.3"
  }
 },
 "nbformat": 4,
 "nbformat_minor": 5
}
